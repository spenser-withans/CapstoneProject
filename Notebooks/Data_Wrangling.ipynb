{
  "nbformat": 4,
  "nbformat_minor": 0,
  "metadata": {
    "colab": {
      "provenance": []
    },
    "kernelspec": {
      "name": "python3",
      "display_name": "Python 3"
    },
    "language_info": {
      "name": "python"
    }
  },
  "cells": [
    {
      "cell_type": "markdown",
      "source": [
        "#Description\n",
        "This data wrangling will be broken up into many parts.\n",
        "1. PCPAO_SalesDATA\n",
        "\n",
        "*   [Import Data](https://colab.research.google.com/drive/1f6dAlQb4MGhezrfQXVxswkWafBDRJg_v#scrollTo=bhFix5o66a2r&line=1&uniqifier=1)\n",
        "*   [Drop data that isn't single-family home(or condos in the future)](https://colab.research.google.com/drive/1f6dAlQb4MGhezrfQXVxswkWafBDRJg_v#scrollTo=m_76SnpKLHBW&line=1&uniqifier=1).\n",
        "*   [Convert sales_date into datetime type](https://colab.research.google.com/drive/1f6dAlQb4MGhezrfQXVxswkWafBDRJg_v#scrollTo=ny5FtX-3MdPm&line=1&uniqifier=1)\n",
        "*   [Limit data to most recent sale of each property](https://colab.research.google.com/drive/1f6dAlQb4MGhezrfQXVxswkWafBDRJg_v#scrollTo=B4DNHYVou_eY&line=1&uniqifier=1)\n",
        "*   [Drop repeated address data and owner names](https://colab.research.google.com/drive/1f6dAlQb4MGhezrfQXVxswkWafBDRJg_v#scrollTo=xHe6LbEo7vTJ&line=1&uniqifier=1)\n",
        "*   [Frontage, View, Landsize, Acreage, and QU_FLG are dropped](https://colab.research.google.com/drive/1f6dAlQb4MGhezrfQXVxswkWafBDRJg_v#scrollTo=ZMQPKQcvG9kB&line=1&uniqifier=1)\n",
        "*   [House Features are cleaned and converted to categories](https://colab.research.google.com/drive/1f6dAlQb4MGhezrfQXVxswkWafBDRJg_v#scrollTo=-uujdrVuGqjW&line=1&uniqifier=1)\n",
        "*   [County Designations are converted to categories or dropped](https://colab.research.google.com/drive/1f6dAlQb4MGhezrfQXVxswkWafBDRJg_v#scrollTo=n6_yayeoHrOz&line=1&uniqifier=1)\n",
        "*   [Subdivisions are examined and dropped](https://colab.research.google.com/drive/1f6dAlQb4MGhezrfQXVxswkWafBDRJg_v#scrollTo=LXGKW5FRIn4N&line=1&uniqifier=1)\n",
        "*   [Examining dataset and dropping rows with missing values](https://colab.research.google.com/drive/1f6dAlQb4MGhezrfQXVxswkWafBDRJg_v#scrollTo=7Gkodmd6IxlK&line=1&uniqifier=1)\n",
        "*   [Dropping Parcel Number and Site Address Columns](https://colab.research.google.com/drive/1f6dAlQb4MGhezrfQXVxswkWafBDRJg_v#scrollTo=BJ9QVzyAI-5J&line=1&uniqifier=1)\n",
        "*   [Converting Site_Cityzip and remaining object columns to categories](https://colab.research.google.com/drive/1f6dAlQb4MGhezrfQXVxswkWafBDRJg_v#scrollTo=VbUcsxenJRqY&line=1&uniqifier=1)\n",
        "*   [Dropping sales data prior to 1970](https://colab.research.google.com/drive/1f6dAlQb4MGhezrfQXVxswkWafBDRJg_v#scrollTo=WUSNh7bDE299&line=1&uniqifier=1)\n",
        "*   [Making a dataframe of 2016-to-present sales](https://colab.research.google.com/drive/1f6dAlQb4MGhezrfQXVxswkWafBDRJg_v#scrollTo=qxGQjv88JqpM&line=1&uniqifier=1)\n",
        "\n",
        "Future steps will be done to this data set involve its pairing with the data sets below.\n",
        "\n",
        "2. PinellasCrimeDATA\n",
        "\n",
        "This data is a collection of csv files downloaded from FILL IN LOCATION HERE. The goal with this data is to generate totals and average yearly crime stats relative to each ZIP code and possibly neighborhood code.\n",
        "\n",
        "3. School_gradeDATA\n",
        "\n",
        "This data is yet to be collected from the FL DOE website.\n",
        "\n",
        "\n",
        "[4. Export the data](https://colab.research.google.com/drive/1f6dAlQb4MGhezrfQXVxswkWafBDRJg_v#scrollTo=AyfXeiJD1ZZ7&line=1&uniqifier=1)"
      ],
      "metadata": {
        "id": "Oj-WjqKDHJIv"
      }
    },
    {
      "cell_type": "code",
      "source": [
        "import pandas as pd\n",
        "import numpy as np\n",
        "import matplotlib.pyplot as plt\n",
        "import seaborn as sns"
      ],
      "metadata": {
        "id": "rJSIWzscKWUV"
      },
      "execution_count": 1,
      "outputs": []
    },
    {
      "cell_type": "markdown",
      "source": [
        "#1. PCPAO_SalesDATA\n"
      ],
      "metadata": {
        "id": "RiaN_FbuKFGY"
      }
    },
    {
      "cell_type": "markdown",
      "source": [
        "###Importing Data"
      ],
      "metadata": {
        "id": "bhFix5o66a2r"
      }
    },
    {
      "cell_type": "markdown",
      "source": [
        "Import the data from the csv."
      ],
      "metadata": {
        "id": "H5WLDJfhKOsl"
      }
    },
    {
      "cell_type": "code",
      "source": [
        "PCPAO_SalesDATA = pd.read_csv('/content/drive/MyDrive/Data Science Course/Capstone Work/Raw_Data/PCPAOSalesDATA.csv',low_memory=False)"
      ],
      "metadata": {
        "id": "URlgZgj2KEa7"
      },
      "execution_count": 2,
      "outputs": []
    },
    {
      "cell_type": "code",
      "source": [
        "PCPAO_SalesDATA.info()"
      ],
      "metadata": {
        "colab": {
          "base_uri": "https://localhost:8080/"
        },
        "collapsed": true,
        "id": "YWxbm6wlLI8Y",
        "outputId": "ce79f46c-0a51-4051-bc64-142d86026114"
      },
      "execution_count": 3,
      "outputs": [
        {
          "output_type": "stream",
          "name": "stdout",
          "text": [
            "<class 'pandas.core.frame.DataFrame'>\n",
            "RangeIndex: 1155164 entries, 0 to 1155163\n",
            "Data columns (total 54 columns):\n",
            " #   Column               Non-Null Count    Dtype  \n",
            "---  ------               --------------    -----  \n",
            " 0   PARCEL_NUMBER        1155164 non-null  object \n",
            " 1   OWNER1               1155134 non-null  object \n",
            " 2   OWNER2               624705 non-null   object \n",
            " 3   SITE_ADDRESS         1155160 non-null  object \n",
            " 4   SITE_CITYZIP         1155164 non-null  object \n",
            " 5   SUBDIVISION          1147546 non-null  object \n",
            " 6   LAND_SIZE            760559 non-null   object \n",
            " 7   TOTAL_LIVING_SQFT    1155156 non-null  float64\n",
            " 8   TOTAL_GROSS_SQFT     1155156 non-null  float64\n",
            " 9   NBORHOOD_CD          1155164 non-null  float64\n",
            " 10  YEAR_BUILT_BLD1      1155098 non-null  float64\n",
            " 11  TOTAL_LIVING_UNITS   1155156 non-null  float64\n",
            " 12  ACREAGE              1155164 non-null  float64\n",
            " 13  CNTY_JST_VALUE       1155164 non-null  int64  \n",
            " 14  CNTY_ASD_VALUE       1155164 non-null  int64  \n",
            " 15  CNTY_TAXABLE_VALUE   1155164 non-null  int64  \n",
            " 16  TAX_DIST_DSCR        1155079 non-null  object \n",
            " 17  SPECIAL_ASSESSMENT   1155079 non-null  float64\n",
            " 18  JUST_LAND            1155164 non-null  int64  \n",
            " 19  JUST_BUILDING        1155164 non-null  int64  \n",
            " 20  JUST_EXTRA_FEATURES  1155164 non-null  int64  \n",
            " 21  PROPERTY_USE         1155164 non-null  object \n",
            " 22  SALES_DATE           1155164 non-null  object \n",
            " 23  PRICE                1155164 non-null  int64  \n",
            " 24  QU_FLG               1155164 non-null  object \n",
            " 25  SEAWALL              1152774 non-null  object \n",
            " 26  FRONTAGE             151205 non-null   object \n",
            " 27  VIEWS                23763 non-null    object \n",
            " 28  CONTAMINATION_YN     1155164 non-null  object \n",
            " 29  SUBSIDENCE_YN        1155164 non-null  object \n",
            " 30  DLHL_YN              1155164 non-null  object \n",
            " 31  EVAC_ZONE            1155164 non-null  object \n",
            " 32  STR_PFX              40900 non-null    object \n",
            " 33  LAND_AREA_SF         1155164 non-null  int64  \n",
            " 34  POOL                 1155164 non-null  object \n",
            " 35  WATERFRONT_YN        1155164 non-null  object \n",
            " 36  STR_NUM              1155164 non-null  int64  \n",
            " 37  STR_NAME             1155160 non-null  object \n",
            " 38  STR_SFX              1133155 non-null  object \n",
            " 39  STR_SFX_DIR          468208 non-null   object \n",
            " 40  STR_CITY             1155160 non-null  object \n",
            " 41  STR_ZIP              1155160 non-null  object \n",
            " 42  EFFECTIVE_AGE        762490 non-null   float64\n",
            " 43  COOLING              737738 non-null   object \n",
            " 44  EXTERIOR_WALLS       1155156 non-null  object \n",
            " 45  RCN                  1155156 non-null  float64\n",
            " 46  FLOOR_FINISH         760565 non-null   object \n",
            " 47  FLOOR_SYSTEM         760565 non-null   object \n",
            " 48  FOUNDATION           760561 non-null   object \n",
            " 49  INTERIOR_FINISH      760565 non-null   object \n",
            " 50  LIVING_UNITS         1153175 non-null  float64\n",
            " 51  ROOF_COVER           760565 non-null   object \n",
            " 52  ROOF_FRAME           760565 non-null   object \n",
            " 53  PARCEL_TYPE          1155164 non-null  object \n",
            "dtypes: float64(10), int64(9), object(35)\n",
            "memory usage: 475.9+ MB\n"
          ]
        }
      ]
    },
    {
      "cell_type": "markdown",
      "source": [
        "###Dropping data that isn't about '0110 Single Family Home's.\n",
        "\n",
        "Since all of the data is '0110 Single Family Home', dropping the PROPERTY_USE and PARCEL_TYPE columns."
      ],
      "metadata": {
        "id": "m_76SnpKLHBW"
      }
    },
    {
      "cell_type": "code",
      "execution_count": 4,
      "metadata": {
        "id": "OeccGbXLHAjO"
      },
      "outputs": [],
      "source": [
        "PCPAO_SalesDATA = PCPAO_SalesDATA[PCPAO_SalesDATA['PROPERTY_USE'] == '0110 Single Family Home']\n",
        "PCPAO_SalesDATA = PCPAO_SalesDATA.drop(['PROPERTY_USE','PARCEL_TYPE'],axis=1)"
      ]
    },
    {
      "cell_type": "markdown",
      "source": [
        "###Converting the SALES_DATE to a datetime data type."
      ],
      "metadata": {
        "id": "ny5FtX-3MdPm"
      }
    },
    {
      "cell_type": "code",
      "source": [
        "PCPAO_SalesDATA['SALES_DATE'] = pd.to_datetime(PCPAO_SalesDATA['SALES_DATE'],format='%m/%d/%Y %I:%M:%S %p')\n"
      ],
      "metadata": {
        "collapsed": true,
        "id": "1oJKXsgQMZyX"
      },
      "execution_count": 5,
      "outputs": []
    },
    {
      "cell_type": "markdown",
      "source": [
        "###Limiting the data to the most recent sale of each Parcel\n",
        "\n",
        "I want to keep the sales data for only the most recent sale of each property."
      ],
      "metadata": {
        "id": "B4DNHYVou_eY"
      }
    },
    {
      "cell_type": "code",
      "source": [
        "PCPAO_SalesDATA.sort_values(by='SALES_DATE',inplace=True)\n",
        "PCPAO_SalesDATA.drop_duplicates(subset='PARCEL_NUMBER',keep='last',inplace=True)\n",
        "PCPAO_SalesDATA.reset_index(drop=True,inplace=True)"
      ],
      "metadata": {
        "id": "YwUKZoC7u-qi"
      },
      "execution_count": 6,
      "outputs": []
    },
    {
      "cell_type": "code",
      "source": [
        "PCPAO_SalesDATA.head().T"
      ],
      "metadata": {
        "colab": {
          "base_uri": "https://localhost:8080/",
          "height": 1000
        },
        "id": "TZxCuh_-zoaJ",
        "outputId": "1c2426f2-ac99-4e19-9dee-470975ea0484"
      },
      "execution_count": 7,
      "outputs": [
        {
          "output_type": "execute_result",
          "data": {
            "text/plain": [
              "                                             0                          1  \\\n",
              "PARCEL_NUMBER          05-31-16-46116-020-0030    13-31-16-72504-001-0160   \n",
              "OWNER1                  PENTTINEN, GERALDINE L       VOGT, RONALD CHARLES   \n",
              "OWNER2                                     NaN           VOGT, TINA MARIE   \n",
              "SITE_ADDRESS                   6146 51ST AVE N              737 11TH ST N   \n",
              "SITE_CITYZIP            KENNETH CITY, FL 33709    ST PETERSBURG, FL 33705   \n",
              "SUBDIVISION                KENNETH CITY UNIT 7        POMEROY'S ADD, J.B.   \n",
              "LAND_SIZE                               75x100                     40x125   \n",
              "TOTAL_LIVING_SQFT                       1281.0                      920.0   \n",
              "TOTAL_GROSS_SQFT                        2403.0                     1238.0   \n",
              "NBORHOOD_CD                              407.0                     1106.0   \n",
              "YEAR_BUILT_BLD1                         1957.0                     1928.0   \n",
              "TOTAL_LIVING_UNITS                         1.0                        1.0   \n",
              "ACREAGE                                 0.1722                     0.1148   \n",
              "CNTY_JST_VALUE                          311414                     272881   \n",
              "CNTY_ASD_VALUE                           97361                     267853   \n",
              "CNTY_TAXABLE_VALUE                       42361                     267853   \n",
              "TAX_DIST_DSCR                     KENNETH CITY              ST PETERSBURG   \n",
              "SPECIAL_ASSESSMENT                       217.0                        0.0   \n",
              "JUST_LAND                               144478                     196833   \n",
              "JUST_BUILDING                           150187                      73143   \n",
              "JUST_EXTRA_FEATURES                      16749                       2905   \n",
              "SALES_DATE                 1899-01-01 00:00:00        1899-01-01 00:00:00   \n",
              "PRICE                                    13800                      52900   \n",
              "QU_FLG                                       Q                          Q   \n",
              "SEAWALL                                     No                         No   \n",
              "FRONTAGE                                   NaN                        NaN   \n",
              "VIEWS                                      NaN                        NaN   \n",
              "CONTAMINATION_YN                             N                          N   \n",
              "SUBSIDENCE_YN                                N                          N   \n",
              "DLHL_YN                                      N                          N   \n",
              "EVAC_ZONE                                    E                   NON EVAC   \n",
              "STR_PFX                                    NaN                        NaN   \n",
              "LAND_AREA_SF                              7501                       5000   \n",
              "POOL                                         Y                          N   \n",
              "WATERFRONT_YN                                N                          N   \n",
              "STR_NUM                                   6146                        737   \n",
              "STR_NAME                                  51ST                       11TH   \n",
              "STR_SFX                                    AVE                         ST   \n",
              "STR_SFX_DIR                                  N                          N   \n",
              "STR_CITY                          KENNETH CITY              ST PETERSBURG   \n",
              "STR_ZIP                                  33709                      33705   \n",
              "EFFECTIVE_AGE                             35.0                       46.0   \n",
              "COOLING                                    NaN                        NaN   \n",
              "EXTERIOR_WALLS                  Concrete Block          Frame/Custom Wood   \n",
              "RCN                                   316454.0                   266172.0   \n",
              "FLOOR_FINISH             Carpet/ Vinyl/Asphalt   Carpet/Hardtile/Hardwood   \n",
              "FLOOR_SYSTEM                     Slab On Grade                       Wood   \n",
              "FOUNDATION           Continuous Footing Poured  Continuous Footing Poured   \n",
              "INTERIOR_FINISH                Drywall/Plaster                    Upgrade   \n",
              "LIVING_UNITS                               1.0                        1.0   \n",
              "ROOF_COVER                 Shingle Composition        Shingle Composition   \n",
              "ROOF_FRAME                        Gable Or Hip               Gable Or Hip   \n",
              "\n",
              "                                                 2                          3  \\\n",
              "PARCEL_NUMBER              28-31-16-67338-026-0130    19-30-15-99342-006-0110   \n",
              "OWNER1                            COONEY, ANN SHAW         BRUSKO, RYAN DAVID   \n",
              "OWNER2                                         NaN                        NaN   \n",
              "SITE_ADDRESS                       5521 20TH AVE S         14066 STARBOARD DR   \n",
              "SITE_CITYZIP                    GULFPORT, FL 33707         SEMINOLE, FL 33776   \n",
              "SUBDIVISION          PASADENA GARDENS GULFVIEW SEC  YACHT CLUB ESTATES UNIT 6   \n",
              "LAND_SIZE                                  100x127                     82x105   \n",
              "TOTAL_LIVING_SQFT                            768.0                     1658.0   \n",
              "TOTAL_GROSS_SQFT                            1514.0                     2180.0   \n",
              "NBORHOOD_CD                                 1304.0                      608.0   \n",
              "YEAR_BUILT_BLD1                             1951.0                     1966.0   \n",
              "TOTAL_LIVING_UNITS                             1.0                        1.0   \n",
              "ACREAGE                                     0.2916                     0.1977   \n",
              "CNTY_JST_VALUE                              410611                     328322   \n",
              "CNTY_ASD_VALUE                               85065                     274144   \n",
              "CNTY_TAXABLE_VALUE                           30065                     224144   \n",
              "TAX_DIST_DSCR                             GULFPORT               SEMINOLE REC   \n",
              "SPECIAL_ASSESSMENT                             0.0                      481.0   \n",
              "JUST_LAND                                   300386                     200272   \n",
              "JUST_BUILDING                               108394                     122436   \n",
              "JUST_EXTRA_FEATURES                           1830                       5613   \n",
              "SALES_DATE                     1899-01-01 00:00:00        1899-01-01 00:00:00   \n",
              "PRICE                                        15000                          0   \n",
              "QU_FLG                                           Q                          Q   \n",
              "SEAWALL                                         No                         No   \n",
              "FRONTAGE                                       NaN                        NaN   \n",
              "VIEWS                                          NaN                        NaN   \n",
              "CONTAMINATION_YN                                 N                          N   \n",
              "SUBSIDENCE_YN                                    N                          N   \n",
              "DLHL_YN                                          N                          N   \n",
              "EVAC_ZONE                                        D                   NON EVAC   \n",
              "STR_PFX                                        NaN                        NaN   \n",
              "LAND_AREA_SF                                 12702                       8611   \n",
              "POOL                                             N                          Y   \n",
              "WATERFRONT_YN                                    N                          N   \n",
              "STR_NUM                                       5521                      14066   \n",
              "STR_NAME                                      20TH                  STARBOARD   \n",
              "STR_SFX                                        AVE                         DR   \n",
              "STR_SFX_DIR                                      S                        NaN   \n",
              "STR_CITY                                  GULFPORT                   SEMINOLE   \n",
              "STR_ZIP                                      33707                      33776   \n",
              "EFFECTIVE_AGE                                 41.0                       43.0   \n",
              "COOLING                          Cooling (Central)          Cooling (Central)   \n",
              "EXTERIOR_WALLS                   Frame/Custom Wood        Cb Stucco/Cb Reclad   \n",
              "RCN                                       299661.0                   360538.0   \n",
              "FLOOR_FINISH              Carpet/Hardtile/Hardwood      Carpet/ Vinyl/Asphalt   \n",
              "FLOOR_SYSTEM                                  Wood              Slab On Grade   \n",
              "FOUNDATION               Continuous Footing Poured  Continuous Footing Poured   \n",
              "INTERIOR_FINISH                    Drywall/Plaster            Drywall/Plaster   \n",
              "LIVING_UNITS                                   1.0                        1.0   \n",
              "ROOF_COVER                     Shingle Composition        Concrete Tile/Metal   \n",
              "ROOF_FRAME                            Gable Or Hip               Gable Or Hip   \n",
              "\n",
              "                                                  4  \n",
              "PARCEL_NUMBER               36-27-15-89334-000-0090  \n",
              "OWNER1                       LYON, YVONNE EYNON TRE  \n",
              "OWNER2                      LYON, MARLENE ADELE TRE  \n",
              "SITE_ADDRESS                     3025 LEPRECHAUN LN  \n",
              "SITE_CITYZIP                  PALM HARBOR, FL 34683  \n",
              "SUBDIVISION          TAMPA & TARPON SPRINGS LAND CO  \n",
              "LAND_SIZE                                       0x0  \n",
              "TOTAL_LIVING_SQFT                            2721.0  \n",
              "TOTAL_GROSS_SQFT                             3519.0  \n",
              "NBORHOOD_CD                                  1914.0  \n",
              "YEAR_BUILT_BLD1                              1979.0  \n",
              "TOTAL_LIVING_UNITS                              1.0  \n",
              "ACREAGE                                      7.7211  \n",
              "CNTY_JST_VALUE                               989800  \n",
              "CNTY_ASD_VALUE                               749717  \n",
              "CNTY_TAXABLE_VALUE                           694717  \n",
              "TAX_DIST_DSCR                   PALM HARBOR COM SVC  \n",
              "SPECIAL_ASSESSMENT                            279.0  \n",
              "JUST_LAND                                    673184  \n",
              "JUST_BUILDING                                297644  \n",
              "JUST_EXTRA_FEATURES                           18972  \n",
              "SALES_DATE                      1899-01-01 00:00:00  \n",
              "PRICE                                          7500  \n",
              "QU_FLG                                            Q  \n",
              "SEAWALL                                          No  \n",
              "FRONTAGE                                        NaN  \n",
              "VIEWS                                           NaN  \n",
              "CONTAMINATION_YN                                  N  \n",
              "SUBSIDENCE_YN                                     N  \n",
              "DLHL_YN                                           N  \n",
              "EVAC_ZONE                                  NON EVAC  \n",
              "STR_PFX                                         NaN  \n",
              "LAND_AREA_SF                                 336331  \n",
              "POOL                                              N  \n",
              "WATERFRONT_YN                                     N  \n",
              "STR_NUM                                        3025  \n",
              "STR_NAME                                 LEPRECHAUN  \n",
              "STR_SFX                                          LN  \n",
              "STR_SFX_DIR                                     NaN  \n",
              "STR_CITY                                PALM HARBOR  \n",
              "STR_ZIP                                       34683  \n",
              "EFFECTIVE_AGE                                  28.0  \n",
              "COOLING                           Cooling (Central)  \n",
              "EXTERIOR_WALLS                        Frame  Siding  \n",
              "RCN                                        511434.0  \n",
              "FLOOR_FINISH               Carpet/Hardtile/Hardwood  \n",
              "FLOOR_SYSTEM                          Slab On Grade  \n",
              "FOUNDATION                Continuous Footing Poured  \n",
              "INTERIOR_FINISH                     Drywall/Plaster  \n",
              "LIVING_UNITS                                    1.0  \n",
              "ROOF_COVER                      Shingle Composition  \n",
              "ROOF_FRAME                             Gable Or Hip  "
            ],
            "text/html": [
              "\n",
              "  <div id=\"df-2816a005-d8df-40ad-87c6-db90ab5ca080\" class=\"colab-df-container\">\n",
              "    <div>\n",
              "<style scoped>\n",
              "    .dataframe tbody tr th:only-of-type {\n",
              "        vertical-align: middle;\n",
              "    }\n",
              "\n",
              "    .dataframe tbody tr th {\n",
              "        vertical-align: top;\n",
              "    }\n",
              "\n",
              "    .dataframe thead th {\n",
              "        text-align: right;\n",
              "    }\n",
              "</style>\n",
              "<table border=\"1\" class=\"dataframe\">\n",
              "  <thead>\n",
              "    <tr style=\"text-align: right;\">\n",
              "      <th></th>\n",
              "      <th>0</th>\n",
              "      <th>1</th>\n",
              "      <th>2</th>\n",
              "      <th>3</th>\n",
              "      <th>4</th>\n",
              "    </tr>\n",
              "  </thead>\n",
              "  <tbody>\n",
              "    <tr>\n",
              "      <th>PARCEL_NUMBER</th>\n",
              "      <td>05-31-16-46116-020-0030</td>\n",
              "      <td>13-31-16-72504-001-0160</td>\n",
              "      <td>28-31-16-67338-026-0130</td>\n",
              "      <td>19-30-15-99342-006-0110</td>\n",
              "      <td>36-27-15-89334-000-0090</td>\n",
              "    </tr>\n",
              "    <tr>\n",
              "      <th>OWNER1</th>\n",
              "      <td>PENTTINEN, GERALDINE L</td>\n",
              "      <td>VOGT, RONALD CHARLES</td>\n",
              "      <td>COONEY, ANN SHAW</td>\n",
              "      <td>BRUSKO, RYAN DAVID</td>\n",
              "      <td>LYON, YVONNE EYNON TRE</td>\n",
              "    </tr>\n",
              "    <tr>\n",
              "      <th>OWNER2</th>\n",
              "      <td>NaN</td>\n",
              "      <td>VOGT, TINA MARIE</td>\n",
              "      <td>NaN</td>\n",
              "      <td>NaN</td>\n",
              "      <td>LYON, MARLENE ADELE TRE</td>\n",
              "    </tr>\n",
              "    <tr>\n",
              "      <th>SITE_ADDRESS</th>\n",
              "      <td>6146 51ST AVE N</td>\n",
              "      <td>737 11TH ST N</td>\n",
              "      <td>5521 20TH AVE S</td>\n",
              "      <td>14066 STARBOARD DR</td>\n",
              "      <td>3025 LEPRECHAUN LN</td>\n",
              "    </tr>\n",
              "    <tr>\n",
              "      <th>SITE_CITYZIP</th>\n",
              "      <td>KENNETH CITY, FL 33709</td>\n",
              "      <td>ST PETERSBURG, FL 33705</td>\n",
              "      <td>GULFPORT, FL 33707</td>\n",
              "      <td>SEMINOLE, FL 33776</td>\n",
              "      <td>PALM HARBOR, FL 34683</td>\n",
              "    </tr>\n",
              "    <tr>\n",
              "      <th>SUBDIVISION</th>\n",
              "      <td>KENNETH CITY UNIT 7</td>\n",
              "      <td>POMEROY'S ADD, J.B.</td>\n",
              "      <td>PASADENA GARDENS GULFVIEW SEC</td>\n",
              "      <td>YACHT CLUB ESTATES UNIT 6</td>\n",
              "      <td>TAMPA &amp; TARPON SPRINGS LAND CO</td>\n",
              "    </tr>\n",
              "    <tr>\n",
              "      <th>LAND_SIZE</th>\n",
              "      <td>75x100</td>\n",
              "      <td>40x125</td>\n",
              "      <td>100x127</td>\n",
              "      <td>82x105</td>\n",
              "      <td>0x0</td>\n",
              "    </tr>\n",
              "    <tr>\n",
              "      <th>TOTAL_LIVING_SQFT</th>\n",
              "      <td>1281.0</td>\n",
              "      <td>920.0</td>\n",
              "      <td>768.0</td>\n",
              "      <td>1658.0</td>\n",
              "      <td>2721.0</td>\n",
              "    </tr>\n",
              "    <tr>\n",
              "      <th>TOTAL_GROSS_SQFT</th>\n",
              "      <td>2403.0</td>\n",
              "      <td>1238.0</td>\n",
              "      <td>1514.0</td>\n",
              "      <td>2180.0</td>\n",
              "      <td>3519.0</td>\n",
              "    </tr>\n",
              "    <tr>\n",
              "      <th>NBORHOOD_CD</th>\n",
              "      <td>407.0</td>\n",
              "      <td>1106.0</td>\n",
              "      <td>1304.0</td>\n",
              "      <td>608.0</td>\n",
              "      <td>1914.0</td>\n",
              "    </tr>\n",
              "    <tr>\n",
              "      <th>YEAR_BUILT_BLD1</th>\n",
              "      <td>1957.0</td>\n",
              "      <td>1928.0</td>\n",
              "      <td>1951.0</td>\n",
              "      <td>1966.0</td>\n",
              "      <td>1979.0</td>\n",
              "    </tr>\n",
              "    <tr>\n",
              "      <th>TOTAL_LIVING_UNITS</th>\n",
              "      <td>1.0</td>\n",
              "      <td>1.0</td>\n",
              "      <td>1.0</td>\n",
              "      <td>1.0</td>\n",
              "      <td>1.0</td>\n",
              "    </tr>\n",
              "    <tr>\n",
              "      <th>ACREAGE</th>\n",
              "      <td>0.1722</td>\n",
              "      <td>0.1148</td>\n",
              "      <td>0.2916</td>\n",
              "      <td>0.1977</td>\n",
              "      <td>7.7211</td>\n",
              "    </tr>\n",
              "    <tr>\n",
              "      <th>CNTY_JST_VALUE</th>\n",
              "      <td>311414</td>\n",
              "      <td>272881</td>\n",
              "      <td>410611</td>\n",
              "      <td>328322</td>\n",
              "      <td>989800</td>\n",
              "    </tr>\n",
              "    <tr>\n",
              "      <th>CNTY_ASD_VALUE</th>\n",
              "      <td>97361</td>\n",
              "      <td>267853</td>\n",
              "      <td>85065</td>\n",
              "      <td>274144</td>\n",
              "      <td>749717</td>\n",
              "    </tr>\n",
              "    <tr>\n",
              "      <th>CNTY_TAXABLE_VALUE</th>\n",
              "      <td>42361</td>\n",
              "      <td>267853</td>\n",
              "      <td>30065</td>\n",
              "      <td>224144</td>\n",
              "      <td>694717</td>\n",
              "    </tr>\n",
              "    <tr>\n",
              "      <th>TAX_DIST_DSCR</th>\n",
              "      <td>KENNETH CITY</td>\n",
              "      <td>ST PETERSBURG</td>\n",
              "      <td>GULFPORT</td>\n",
              "      <td>SEMINOLE REC</td>\n",
              "      <td>PALM HARBOR COM SVC</td>\n",
              "    </tr>\n",
              "    <tr>\n",
              "      <th>SPECIAL_ASSESSMENT</th>\n",
              "      <td>217.0</td>\n",
              "      <td>0.0</td>\n",
              "      <td>0.0</td>\n",
              "      <td>481.0</td>\n",
              "      <td>279.0</td>\n",
              "    </tr>\n",
              "    <tr>\n",
              "      <th>JUST_LAND</th>\n",
              "      <td>144478</td>\n",
              "      <td>196833</td>\n",
              "      <td>300386</td>\n",
              "      <td>200272</td>\n",
              "      <td>673184</td>\n",
              "    </tr>\n",
              "    <tr>\n",
              "      <th>JUST_BUILDING</th>\n",
              "      <td>150187</td>\n",
              "      <td>73143</td>\n",
              "      <td>108394</td>\n",
              "      <td>122436</td>\n",
              "      <td>297644</td>\n",
              "    </tr>\n",
              "    <tr>\n",
              "      <th>JUST_EXTRA_FEATURES</th>\n",
              "      <td>16749</td>\n",
              "      <td>2905</td>\n",
              "      <td>1830</td>\n",
              "      <td>5613</td>\n",
              "      <td>18972</td>\n",
              "    </tr>\n",
              "    <tr>\n",
              "      <th>SALES_DATE</th>\n",
              "      <td>1899-01-01 00:00:00</td>\n",
              "      <td>1899-01-01 00:00:00</td>\n",
              "      <td>1899-01-01 00:00:00</td>\n",
              "      <td>1899-01-01 00:00:00</td>\n",
              "      <td>1899-01-01 00:00:00</td>\n",
              "    </tr>\n",
              "    <tr>\n",
              "      <th>PRICE</th>\n",
              "      <td>13800</td>\n",
              "      <td>52900</td>\n",
              "      <td>15000</td>\n",
              "      <td>0</td>\n",
              "      <td>7500</td>\n",
              "    </tr>\n",
              "    <tr>\n",
              "      <th>QU_FLG</th>\n",
              "      <td>Q</td>\n",
              "      <td>Q</td>\n",
              "      <td>Q</td>\n",
              "      <td>Q</td>\n",
              "      <td>Q</td>\n",
              "    </tr>\n",
              "    <tr>\n",
              "      <th>SEAWALL</th>\n",
              "      <td>No</td>\n",
              "      <td>No</td>\n",
              "      <td>No</td>\n",
              "      <td>No</td>\n",
              "      <td>No</td>\n",
              "    </tr>\n",
              "    <tr>\n",
              "      <th>FRONTAGE</th>\n",
              "      <td>NaN</td>\n",
              "      <td>NaN</td>\n",
              "      <td>NaN</td>\n",
              "      <td>NaN</td>\n",
              "      <td>NaN</td>\n",
              "    </tr>\n",
              "    <tr>\n",
              "      <th>VIEWS</th>\n",
              "      <td>NaN</td>\n",
              "      <td>NaN</td>\n",
              "      <td>NaN</td>\n",
              "      <td>NaN</td>\n",
              "      <td>NaN</td>\n",
              "    </tr>\n",
              "    <tr>\n",
              "      <th>CONTAMINATION_YN</th>\n",
              "      <td>N</td>\n",
              "      <td>N</td>\n",
              "      <td>N</td>\n",
              "      <td>N</td>\n",
              "      <td>N</td>\n",
              "    </tr>\n",
              "    <tr>\n",
              "      <th>SUBSIDENCE_YN</th>\n",
              "      <td>N</td>\n",
              "      <td>N</td>\n",
              "      <td>N</td>\n",
              "      <td>N</td>\n",
              "      <td>N</td>\n",
              "    </tr>\n",
              "    <tr>\n",
              "      <th>DLHL_YN</th>\n",
              "      <td>N</td>\n",
              "      <td>N</td>\n",
              "      <td>N</td>\n",
              "      <td>N</td>\n",
              "      <td>N</td>\n",
              "    </tr>\n",
              "    <tr>\n",
              "      <th>EVAC_ZONE</th>\n",
              "      <td>E</td>\n",
              "      <td>NON EVAC</td>\n",
              "      <td>D</td>\n",
              "      <td>NON EVAC</td>\n",
              "      <td>NON EVAC</td>\n",
              "    </tr>\n",
              "    <tr>\n",
              "      <th>STR_PFX</th>\n",
              "      <td>NaN</td>\n",
              "      <td>NaN</td>\n",
              "      <td>NaN</td>\n",
              "      <td>NaN</td>\n",
              "      <td>NaN</td>\n",
              "    </tr>\n",
              "    <tr>\n",
              "      <th>LAND_AREA_SF</th>\n",
              "      <td>7501</td>\n",
              "      <td>5000</td>\n",
              "      <td>12702</td>\n",
              "      <td>8611</td>\n",
              "      <td>336331</td>\n",
              "    </tr>\n",
              "    <tr>\n",
              "      <th>POOL</th>\n",
              "      <td>Y</td>\n",
              "      <td>N</td>\n",
              "      <td>N</td>\n",
              "      <td>Y</td>\n",
              "      <td>N</td>\n",
              "    </tr>\n",
              "    <tr>\n",
              "      <th>WATERFRONT_YN</th>\n",
              "      <td>N</td>\n",
              "      <td>N</td>\n",
              "      <td>N</td>\n",
              "      <td>N</td>\n",
              "      <td>N</td>\n",
              "    </tr>\n",
              "    <tr>\n",
              "      <th>STR_NUM</th>\n",
              "      <td>6146</td>\n",
              "      <td>737</td>\n",
              "      <td>5521</td>\n",
              "      <td>14066</td>\n",
              "      <td>3025</td>\n",
              "    </tr>\n",
              "    <tr>\n",
              "      <th>STR_NAME</th>\n",
              "      <td>51ST</td>\n",
              "      <td>11TH</td>\n",
              "      <td>20TH</td>\n",
              "      <td>STARBOARD</td>\n",
              "      <td>LEPRECHAUN</td>\n",
              "    </tr>\n",
              "    <tr>\n",
              "      <th>STR_SFX</th>\n",
              "      <td>AVE</td>\n",
              "      <td>ST</td>\n",
              "      <td>AVE</td>\n",
              "      <td>DR</td>\n",
              "      <td>LN</td>\n",
              "    </tr>\n",
              "    <tr>\n",
              "      <th>STR_SFX_DIR</th>\n",
              "      <td>N</td>\n",
              "      <td>N</td>\n",
              "      <td>S</td>\n",
              "      <td>NaN</td>\n",
              "      <td>NaN</td>\n",
              "    </tr>\n",
              "    <tr>\n",
              "      <th>STR_CITY</th>\n",
              "      <td>KENNETH CITY</td>\n",
              "      <td>ST PETERSBURG</td>\n",
              "      <td>GULFPORT</td>\n",
              "      <td>SEMINOLE</td>\n",
              "      <td>PALM HARBOR</td>\n",
              "    </tr>\n",
              "    <tr>\n",
              "      <th>STR_ZIP</th>\n",
              "      <td>33709</td>\n",
              "      <td>33705</td>\n",
              "      <td>33707</td>\n",
              "      <td>33776</td>\n",
              "      <td>34683</td>\n",
              "    </tr>\n",
              "    <tr>\n",
              "      <th>EFFECTIVE_AGE</th>\n",
              "      <td>35.0</td>\n",
              "      <td>46.0</td>\n",
              "      <td>41.0</td>\n",
              "      <td>43.0</td>\n",
              "      <td>28.0</td>\n",
              "    </tr>\n",
              "    <tr>\n",
              "      <th>COOLING</th>\n",
              "      <td>NaN</td>\n",
              "      <td>NaN</td>\n",
              "      <td>Cooling (Central)</td>\n",
              "      <td>Cooling (Central)</td>\n",
              "      <td>Cooling (Central)</td>\n",
              "    </tr>\n",
              "    <tr>\n",
              "      <th>EXTERIOR_WALLS</th>\n",
              "      <td>Concrete Block</td>\n",
              "      <td>Frame/Custom Wood</td>\n",
              "      <td>Frame/Custom Wood</td>\n",
              "      <td>Cb Stucco/Cb Reclad</td>\n",
              "      <td>Frame  Siding</td>\n",
              "    </tr>\n",
              "    <tr>\n",
              "      <th>RCN</th>\n",
              "      <td>316454.0</td>\n",
              "      <td>266172.0</td>\n",
              "      <td>299661.0</td>\n",
              "      <td>360538.0</td>\n",
              "      <td>511434.0</td>\n",
              "    </tr>\n",
              "    <tr>\n",
              "      <th>FLOOR_FINISH</th>\n",
              "      <td>Carpet/ Vinyl/Asphalt</td>\n",
              "      <td>Carpet/Hardtile/Hardwood</td>\n",
              "      <td>Carpet/Hardtile/Hardwood</td>\n",
              "      <td>Carpet/ Vinyl/Asphalt</td>\n",
              "      <td>Carpet/Hardtile/Hardwood</td>\n",
              "    </tr>\n",
              "    <tr>\n",
              "      <th>FLOOR_SYSTEM</th>\n",
              "      <td>Slab On Grade</td>\n",
              "      <td>Wood</td>\n",
              "      <td>Wood</td>\n",
              "      <td>Slab On Grade</td>\n",
              "      <td>Slab On Grade</td>\n",
              "    </tr>\n",
              "    <tr>\n",
              "      <th>FOUNDATION</th>\n",
              "      <td>Continuous Footing Poured</td>\n",
              "      <td>Continuous Footing Poured</td>\n",
              "      <td>Continuous Footing Poured</td>\n",
              "      <td>Continuous Footing Poured</td>\n",
              "      <td>Continuous Footing Poured</td>\n",
              "    </tr>\n",
              "    <tr>\n",
              "      <th>INTERIOR_FINISH</th>\n",
              "      <td>Drywall/Plaster</td>\n",
              "      <td>Upgrade</td>\n",
              "      <td>Drywall/Plaster</td>\n",
              "      <td>Drywall/Plaster</td>\n",
              "      <td>Drywall/Plaster</td>\n",
              "    </tr>\n",
              "    <tr>\n",
              "      <th>LIVING_UNITS</th>\n",
              "      <td>1.0</td>\n",
              "      <td>1.0</td>\n",
              "      <td>1.0</td>\n",
              "      <td>1.0</td>\n",
              "      <td>1.0</td>\n",
              "    </tr>\n",
              "    <tr>\n",
              "      <th>ROOF_COVER</th>\n",
              "      <td>Shingle Composition</td>\n",
              "      <td>Shingle Composition</td>\n",
              "      <td>Shingle Composition</td>\n",
              "      <td>Concrete Tile/Metal</td>\n",
              "      <td>Shingle Composition</td>\n",
              "    </tr>\n",
              "    <tr>\n",
              "      <th>ROOF_FRAME</th>\n",
              "      <td>Gable Or Hip</td>\n",
              "      <td>Gable Or Hip</td>\n",
              "      <td>Gable Or Hip</td>\n",
              "      <td>Gable Or Hip</td>\n",
              "      <td>Gable Or Hip</td>\n",
              "    </tr>\n",
              "  </tbody>\n",
              "</table>\n",
              "</div>\n",
              "    <div class=\"colab-df-buttons\">\n",
              "\n",
              "  <div class=\"colab-df-container\">\n",
              "    <button class=\"colab-df-convert\" onclick=\"convertToInteractive('df-2816a005-d8df-40ad-87c6-db90ab5ca080')\"\n",
              "            title=\"Convert this dataframe to an interactive table.\"\n",
              "            style=\"display:none;\">\n",
              "\n",
              "  <svg xmlns=\"http://www.w3.org/2000/svg\" height=\"24px\" viewBox=\"0 -960 960 960\">\n",
              "    <path d=\"M120-120v-720h720v720H120Zm60-500h600v-160H180v160Zm220 220h160v-160H400v160Zm0 220h160v-160H400v160ZM180-400h160v-160H180v160Zm440 0h160v-160H620v160ZM180-180h160v-160H180v160Zm440 0h160v-160H620v160Z\"/>\n",
              "  </svg>\n",
              "    </button>\n",
              "\n",
              "  <style>\n",
              "    .colab-df-container {\n",
              "      display:flex;\n",
              "      gap: 12px;\n",
              "    }\n",
              "\n",
              "    .colab-df-convert {\n",
              "      background-color: #E8F0FE;\n",
              "      border: none;\n",
              "      border-radius: 50%;\n",
              "      cursor: pointer;\n",
              "      display: none;\n",
              "      fill: #1967D2;\n",
              "      height: 32px;\n",
              "      padding: 0 0 0 0;\n",
              "      width: 32px;\n",
              "    }\n",
              "\n",
              "    .colab-df-convert:hover {\n",
              "      background-color: #E2EBFA;\n",
              "      box-shadow: 0px 1px 2px rgba(60, 64, 67, 0.3), 0px 1px 3px 1px rgba(60, 64, 67, 0.15);\n",
              "      fill: #174EA6;\n",
              "    }\n",
              "\n",
              "    .colab-df-buttons div {\n",
              "      margin-bottom: 4px;\n",
              "    }\n",
              "\n",
              "    [theme=dark] .colab-df-convert {\n",
              "      background-color: #3B4455;\n",
              "      fill: #D2E3FC;\n",
              "    }\n",
              "\n",
              "    [theme=dark] .colab-df-convert:hover {\n",
              "      background-color: #434B5C;\n",
              "      box-shadow: 0px 1px 3px 1px rgba(0, 0, 0, 0.15);\n",
              "      filter: drop-shadow(0px 1px 2px rgba(0, 0, 0, 0.3));\n",
              "      fill: #FFFFFF;\n",
              "    }\n",
              "  </style>\n",
              "\n",
              "    <script>\n",
              "      const buttonEl =\n",
              "        document.querySelector('#df-2816a005-d8df-40ad-87c6-db90ab5ca080 button.colab-df-convert');\n",
              "      buttonEl.style.display =\n",
              "        google.colab.kernel.accessAllowed ? 'block' : 'none';\n",
              "\n",
              "      async function convertToInteractive(key) {\n",
              "        const element = document.querySelector('#df-2816a005-d8df-40ad-87c6-db90ab5ca080');\n",
              "        const dataTable =\n",
              "          await google.colab.kernel.invokeFunction('convertToInteractive',\n",
              "                                                    [key], {});\n",
              "        if (!dataTable) return;\n",
              "\n",
              "        const docLinkHtml = 'Like what you see? Visit the ' +\n",
              "          '<a target=\"_blank\" href=https://colab.research.google.com/notebooks/data_table.ipynb>data table notebook</a>'\n",
              "          + ' to learn more about interactive tables.';\n",
              "        element.innerHTML = '';\n",
              "        dataTable['output_type'] = 'display_data';\n",
              "        await google.colab.output.renderOutput(dataTable, element);\n",
              "        const docLink = document.createElement('div');\n",
              "        docLink.innerHTML = docLinkHtml;\n",
              "        element.appendChild(docLink);\n",
              "      }\n",
              "    </script>\n",
              "  </div>\n",
              "\n",
              "\n",
              "<div id=\"df-d9fccb3b-fb0b-4171-b4ac-5b1c4d51ba91\">\n",
              "  <button class=\"colab-df-quickchart\" onclick=\"quickchart('df-d9fccb3b-fb0b-4171-b4ac-5b1c4d51ba91')\"\n",
              "            title=\"Suggest charts\"\n",
              "            style=\"display:none;\">\n",
              "\n",
              "<svg xmlns=\"http://www.w3.org/2000/svg\" height=\"24px\"viewBox=\"0 0 24 24\"\n",
              "     width=\"24px\">\n",
              "    <g>\n",
              "        <path d=\"M19 3H5c-1.1 0-2 .9-2 2v14c0 1.1.9 2 2 2h14c1.1 0 2-.9 2-2V5c0-1.1-.9-2-2-2zM9 17H7v-7h2v7zm4 0h-2V7h2v10zm4 0h-2v-4h2v4z\"/>\n",
              "    </g>\n",
              "</svg>\n",
              "  </button>\n",
              "\n",
              "<style>\n",
              "  .colab-df-quickchart {\n",
              "      --bg-color: #E8F0FE;\n",
              "      --fill-color: #1967D2;\n",
              "      --hover-bg-color: #E2EBFA;\n",
              "      --hover-fill-color: #174EA6;\n",
              "      --disabled-fill-color: #AAA;\n",
              "      --disabled-bg-color: #DDD;\n",
              "  }\n",
              "\n",
              "  [theme=dark] .colab-df-quickchart {\n",
              "      --bg-color: #3B4455;\n",
              "      --fill-color: #D2E3FC;\n",
              "      --hover-bg-color: #434B5C;\n",
              "      --hover-fill-color: #FFFFFF;\n",
              "      --disabled-bg-color: #3B4455;\n",
              "      --disabled-fill-color: #666;\n",
              "  }\n",
              "\n",
              "  .colab-df-quickchart {\n",
              "    background-color: var(--bg-color);\n",
              "    border: none;\n",
              "    border-radius: 50%;\n",
              "    cursor: pointer;\n",
              "    display: none;\n",
              "    fill: var(--fill-color);\n",
              "    height: 32px;\n",
              "    padding: 0;\n",
              "    width: 32px;\n",
              "  }\n",
              "\n",
              "  .colab-df-quickchart:hover {\n",
              "    background-color: var(--hover-bg-color);\n",
              "    box-shadow: 0 1px 2px rgba(60, 64, 67, 0.3), 0 1px 3px 1px rgba(60, 64, 67, 0.15);\n",
              "    fill: var(--button-hover-fill-color);\n",
              "  }\n",
              "\n",
              "  .colab-df-quickchart-complete:disabled,\n",
              "  .colab-df-quickchart-complete:disabled:hover {\n",
              "    background-color: var(--disabled-bg-color);\n",
              "    fill: var(--disabled-fill-color);\n",
              "    box-shadow: none;\n",
              "  }\n",
              "\n",
              "  .colab-df-spinner {\n",
              "    border: 2px solid var(--fill-color);\n",
              "    border-color: transparent;\n",
              "    border-bottom-color: var(--fill-color);\n",
              "    animation:\n",
              "      spin 1s steps(1) infinite;\n",
              "  }\n",
              "\n",
              "  @keyframes spin {\n",
              "    0% {\n",
              "      border-color: transparent;\n",
              "      border-bottom-color: var(--fill-color);\n",
              "      border-left-color: var(--fill-color);\n",
              "    }\n",
              "    20% {\n",
              "      border-color: transparent;\n",
              "      border-left-color: var(--fill-color);\n",
              "      border-top-color: var(--fill-color);\n",
              "    }\n",
              "    30% {\n",
              "      border-color: transparent;\n",
              "      border-left-color: var(--fill-color);\n",
              "      border-top-color: var(--fill-color);\n",
              "      border-right-color: var(--fill-color);\n",
              "    }\n",
              "    40% {\n",
              "      border-color: transparent;\n",
              "      border-right-color: var(--fill-color);\n",
              "      border-top-color: var(--fill-color);\n",
              "    }\n",
              "    60% {\n",
              "      border-color: transparent;\n",
              "      border-right-color: var(--fill-color);\n",
              "    }\n",
              "    80% {\n",
              "      border-color: transparent;\n",
              "      border-right-color: var(--fill-color);\n",
              "      border-bottom-color: var(--fill-color);\n",
              "    }\n",
              "    90% {\n",
              "      border-color: transparent;\n",
              "      border-bottom-color: var(--fill-color);\n",
              "    }\n",
              "  }\n",
              "</style>\n",
              "\n",
              "  <script>\n",
              "    async function quickchart(key) {\n",
              "      const quickchartButtonEl =\n",
              "        document.querySelector('#' + key + ' button');\n",
              "      quickchartButtonEl.disabled = true;  // To prevent multiple clicks.\n",
              "      quickchartButtonEl.classList.add('colab-df-spinner');\n",
              "      try {\n",
              "        const charts = await google.colab.kernel.invokeFunction(\n",
              "            'suggestCharts', [key], {});\n",
              "      } catch (error) {\n",
              "        console.error('Error during call to suggestCharts:', error);\n",
              "      }\n",
              "      quickchartButtonEl.classList.remove('colab-df-spinner');\n",
              "      quickchartButtonEl.classList.add('colab-df-quickchart-complete');\n",
              "    }\n",
              "    (() => {\n",
              "      let quickchartButtonEl =\n",
              "        document.querySelector('#df-d9fccb3b-fb0b-4171-b4ac-5b1c4d51ba91 button');\n",
              "      quickchartButtonEl.style.display =\n",
              "        google.colab.kernel.accessAllowed ? 'block' : 'none';\n",
              "    })();\n",
              "  </script>\n",
              "</div>\n",
              "\n",
              "    </div>\n",
              "  </div>\n"
            ],
            "application/vnd.google.colaboratory.intrinsic+json": {
              "type": "dataframe",
              "variable_name": "PCPAO_SalesDATA"
            }
          },
          "metadata": {},
          "execution_count": 7
        }
      ]
    },
    {
      "cell_type": "markdown",
      "source": [
        "###Dropping repeated address information and owner names"
      ],
      "metadata": {
        "id": "xHe6LbEo7vTJ"
      }
    },
    {
      "cell_type": "markdown",
      "source": [
        "From previous exploration, SITE_ADDRESS and SITE_CITYZIP matchup well enough with all of the STR_PFX, STR_NUM, STR_NAME, STR_SFX, STR_SFX_DIR, STR_CITY, and STR_ZIP, that I will drop all of the address data except for SITE_ADDRESS and SITE_CITYZIP.\n",
        "\n",
        "This step might be undone in the future"
      ],
      "metadata": {
        "id": "2iBt2RNkNgV6"
      }
    },
    {
      "cell_type": "code",
      "source": [
        "PCPAO_SalesDATA = PCPAO_SalesDATA.drop(['STR_PFX','STR_NUM','STR_NAME','STR_SFX','STR_SFX_DIR','STR_CITY','STR_ZIP'],axis=1)"
      ],
      "metadata": {
        "id": "-fehy9OCPAO2"
      },
      "execution_count": 8,
      "outputs": []
    },
    {
      "cell_type": "markdown",
      "source": [
        "Dropping OWNER1 OWNER2"
      ],
      "metadata": {
        "id": "n67_RyCMPPLT"
      }
    },
    {
      "cell_type": "code",
      "source": [
        "PCPAO_SalesDATA = PCPAO_SalesDATA.drop(['OWNER1','OWNER2'],axis=1)"
      ],
      "metadata": {
        "id": "K2rXnKYaPOhJ"
      },
      "execution_count": 9,
      "outputs": []
    },
    {
      "cell_type": "markdown",
      "source": [
        "###"
      ],
      "metadata": {
        "id": "OTrNkg328BXq"
      }
    },
    {
      "cell_type": "code",
      "source": [
        "PCPAO_SalesDATA.reset_index(drop=True,inplace=True)\n",
        "PCPAO_SalesDATA.info()"
      ],
      "metadata": {
        "colab": {
          "base_uri": "https://localhost:8080/"
        },
        "id": "w6h4Q90lL7v3",
        "outputId": "7c91f9c3-eab3-4281-a949-605b9d9c5372"
      },
      "execution_count": 10,
      "outputs": [
        {
          "output_type": "stream",
          "name": "stdout",
          "text": [
            "<class 'pandas.core.frame.DataFrame'>\n",
            "RangeIndex: 219367 entries, 0 to 219366\n",
            "Data columns (total 43 columns):\n",
            " #   Column               Non-Null Count   Dtype         \n",
            "---  ------               --------------   -----         \n",
            " 0   PARCEL_NUMBER        219367 non-null  object        \n",
            " 1   SITE_ADDRESS         219366 non-null  object        \n",
            " 2   SITE_CITYZIP         219367 non-null  object        \n",
            " 3   SUBDIVISION          217182 non-null  object        \n",
            " 4   LAND_SIZE            219356 non-null  object        \n",
            " 5   TOTAL_LIVING_SQFT    219367 non-null  float64       \n",
            " 6   TOTAL_GROSS_SQFT     219367 non-null  float64       \n",
            " 7   NBORHOOD_CD          219367 non-null  float64       \n",
            " 8   YEAR_BUILT_BLD1      219350 non-null  float64       \n",
            " 9   TOTAL_LIVING_UNITS   219367 non-null  float64       \n",
            " 10  ACREAGE              219367 non-null  float64       \n",
            " 11  CNTY_JST_VALUE       219367 non-null  int64         \n",
            " 12  CNTY_ASD_VALUE       219367 non-null  int64         \n",
            " 13  CNTY_TAXABLE_VALUE   219367 non-null  int64         \n",
            " 14  TAX_DIST_DSCR        219352 non-null  object        \n",
            " 15  SPECIAL_ASSESSMENT   219352 non-null  float64       \n",
            " 16  JUST_LAND            219367 non-null  int64         \n",
            " 17  JUST_BUILDING        219367 non-null  int64         \n",
            " 18  JUST_EXTRA_FEATURES  219367 non-null  int64         \n",
            " 19  SALES_DATE           219367 non-null  datetime64[ns]\n",
            " 20  PRICE                219367 non-null  int64         \n",
            " 21  QU_FLG               219367 non-null  object        \n",
            " 22  SEAWALL              219114 non-null  object        \n",
            " 23  FRONTAGE             41435 non-null   object        \n",
            " 24  VIEWS                6364 non-null    object        \n",
            " 25  CONTAMINATION_YN     219367 non-null  object        \n",
            " 26  SUBSIDENCE_YN        219367 non-null  object        \n",
            " 27  DLHL_YN              219367 non-null  object        \n",
            " 28  EVAC_ZONE            219367 non-null  object        \n",
            " 29  LAND_AREA_SF         219367 non-null  int64         \n",
            " 30  POOL                 219367 non-null  object        \n",
            " 31  WATERFRONT_YN        219367 non-null  object        \n",
            " 32  EFFECTIVE_AGE        219367 non-null  float64       \n",
            " 33  COOLING              212965 non-null  object        \n",
            " 34  EXTERIOR_WALLS       219367 non-null  object        \n",
            " 35  RCN                  219367 non-null  float64       \n",
            " 36  FLOOR_FINISH         219367 non-null  object        \n",
            " 37  FLOOR_SYSTEM         219367 non-null  object        \n",
            " 38  FOUNDATION           219367 non-null  object        \n",
            " 39  INTERIOR_FINISH      219367 non-null  object        \n",
            " 40  LIVING_UNITS         219367 non-null  float64       \n",
            " 41  ROOF_COVER           219367 non-null  object        \n",
            " 42  ROOF_FRAME           219367 non-null  object        \n",
            "dtypes: datetime64[ns](1), float64(10), int64(8), object(24)\n",
            "memory usage: 72.0+ MB\n"
          ]
        }
      ]
    },
    {
      "cell_type": "markdown",
      "source": [
        "###Frontage, Views, Landsize, Acreage, and QU_FLG columns are dropped"
      ],
      "metadata": {
        "id": "ZMQPKQcvG9kB"
      }
    },
    {
      "cell_type": "markdown",
      "source": [
        "So far the dataset has been reduced by about 400 MB in terms of memory, and 11 columns gave been dropped."
      ],
      "metadata": {
        "id": "K7vhPnMQQrCe"
      }
    },
    {
      "cell_type": "markdown",
      "source": [
        "FRONTAGE and VIEWS are two columns containing a lot of null data. Going to drop them."
      ],
      "metadata": {
        "id": "xqPVEPn6RUG7"
      }
    },
    {
      "cell_type": "code",
      "source": [
        "PCPAO_SalesDATA = PCPAO_SalesDATA.drop(['FRONTAGE','VIEWS'],axis=1)"
      ],
      "metadata": {
        "id": "rVkQYXDQRfXw"
      },
      "execution_count": 11,
      "outputs": []
    },
    {
      "cell_type": "markdown",
      "source": [
        "LAND_SIZE is the description of each lot's length and width. This might be nice to have in the future to create a measure of the lot's squareness, but for now will be dropped."
      ],
      "metadata": {
        "id": "O37u8sbERlXk"
      }
    },
    {
      "cell_type": "code",
      "source": [
        "PCPAO_SalesDATA = PCPAO_SalesDATA.drop(['LAND_SIZE'],axis=1)"
      ],
      "metadata": {
        "id": "xvPkQJZ8TY7H"
      },
      "execution_count": 12,
      "outputs": []
    },
    {
      "cell_type": "markdown",
      "source": [
        "LAND_AREA_SF and ACREAGE are 100% correlated from previous exploration, so I will just drop the ACREAGE column as the LAND_AREA_SF might be useful if I want to create ratios of total_living_sqft to land_area_sf."
      ],
      "metadata": {
        "id": "ThE6oBXUYTuM"
      }
    },
    {
      "cell_type": "code",
      "source": [
        "PCPAO_SalesDATA = PCPAO_SalesDATA.drop(['ACREAGE'],axis=1)"
      ],
      "metadata": {
        "id": "ceHFhx6bZ_Qw"
      },
      "execution_count": 13,
      "outputs": []
    },
    {
      "cell_type": "markdown",
      "source": [
        "Also going to drop the QU_FLG as all of the sales should be qualified."
      ],
      "metadata": {
        "id": "OeEW5ESZaB3L"
      }
    },
    {
      "cell_type": "code",
      "source": [
        "PCPAO_SalesDATA= PCPAO_SalesDATA.drop(['QU_FLG'],axis=1)"
      ],
      "metadata": {
        "id": "w4_tw8SSadzH"
      },
      "execution_count": 14,
      "outputs": []
    },
    {
      "cell_type": "code",
      "source": [
        "PCPAO_SalesDATA.info()"
      ],
      "metadata": {
        "colab": {
          "base_uri": "https://localhost:8080/"
        },
        "id": "VgkAC2fZa-ZV",
        "outputId": "1250e8de-55c7-437c-a232-533f9a03bff6"
      },
      "execution_count": 15,
      "outputs": [
        {
          "output_type": "stream",
          "name": "stdout",
          "text": [
            "<class 'pandas.core.frame.DataFrame'>\n",
            "RangeIndex: 219367 entries, 0 to 219366\n",
            "Data columns (total 38 columns):\n",
            " #   Column               Non-Null Count   Dtype         \n",
            "---  ------               --------------   -----         \n",
            " 0   PARCEL_NUMBER        219367 non-null  object        \n",
            " 1   SITE_ADDRESS         219366 non-null  object        \n",
            " 2   SITE_CITYZIP         219367 non-null  object        \n",
            " 3   SUBDIVISION          217182 non-null  object        \n",
            " 4   TOTAL_LIVING_SQFT    219367 non-null  float64       \n",
            " 5   TOTAL_GROSS_SQFT     219367 non-null  float64       \n",
            " 6   NBORHOOD_CD          219367 non-null  float64       \n",
            " 7   YEAR_BUILT_BLD1      219350 non-null  float64       \n",
            " 8   TOTAL_LIVING_UNITS   219367 non-null  float64       \n",
            " 9   CNTY_JST_VALUE       219367 non-null  int64         \n",
            " 10  CNTY_ASD_VALUE       219367 non-null  int64         \n",
            " 11  CNTY_TAXABLE_VALUE   219367 non-null  int64         \n",
            " 12  TAX_DIST_DSCR        219352 non-null  object        \n",
            " 13  SPECIAL_ASSESSMENT   219352 non-null  float64       \n",
            " 14  JUST_LAND            219367 non-null  int64         \n",
            " 15  JUST_BUILDING        219367 non-null  int64         \n",
            " 16  JUST_EXTRA_FEATURES  219367 non-null  int64         \n",
            " 17  SALES_DATE           219367 non-null  datetime64[ns]\n",
            " 18  PRICE                219367 non-null  int64         \n",
            " 19  SEAWALL              219114 non-null  object        \n",
            " 20  CONTAMINATION_YN     219367 non-null  object        \n",
            " 21  SUBSIDENCE_YN        219367 non-null  object        \n",
            " 22  DLHL_YN              219367 non-null  object        \n",
            " 23  EVAC_ZONE            219367 non-null  object        \n",
            " 24  LAND_AREA_SF         219367 non-null  int64         \n",
            " 25  POOL                 219367 non-null  object        \n",
            " 26  WATERFRONT_YN        219367 non-null  object        \n",
            " 27  EFFECTIVE_AGE        219367 non-null  float64       \n",
            " 28  COOLING              212965 non-null  object        \n",
            " 29  EXTERIOR_WALLS       219367 non-null  object        \n",
            " 30  RCN                  219367 non-null  float64       \n",
            " 31  FLOOR_FINISH         219367 non-null  object        \n",
            " 32  FLOOR_SYSTEM         219367 non-null  object        \n",
            " 33  FOUNDATION           219367 non-null  object        \n",
            " 34  INTERIOR_FINISH      219367 non-null  object        \n",
            " 35  LIVING_UNITS         219367 non-null  float64       \n",
            " 36  ROOF_COVER           219367 non-null  object        \n",
            " 37  ROOF_FRAME           219367 non-null  object        \n",
            "dtypes: datetime64[ns](1), float64(9), int64(8), object(20)\n",
            "memory usage: 63.6+ MB\n"
          ]
        }
      ]
    },
    {
      "cell_type": "markdown",
      "source": [
        "###House Features are cleaned and converted to categories"
      ],
      "metadata": {
        "id": "-uujdrVuGqjW"
      }
    },
    {
      "cell_type": "markdown",
      "source": [
        "Many features of the physical property are recorded as string objects. Lucky most of them are non-null.\n",
        "\n",
        "\n",
        "Going to convert the following columns to categories.\n",
        "*  COOLING\n",
        "*  EXTERIOR_WALLS\n",
        "*  FLOOR_FINISH\n",
        "*  FLOOR_SYSTEM\n",
        "*  FOUNDATION\n",
        "*  INTERIOR_FINISH\n",
        "*  ROOF_COVER\n",
        "*  ROOF_FRAME\n",
        "\n",
        "COOLING needs some nan values converted into 'No Central Cooling'"
      ],
      "metadata": {
        "id": "xUEGoceidTo7"
      }
    },
    {
      "cell_type": "code",
      "source": [
        "PCPAO_SalesDATA.loc[PCPAO_SalesDATA['COOLING'].isnull(),'COOLING'] = 'No Central Cooling'"
      ],
      "metadata": {
        "id": "KppK5g4GgUVZ"
      },
      "execution_count": 16,
      "outputs": []
    },
    {
      "cell_type": "code",
      "source": [
        "col_to_cat = ['COOLING','EXTERIOR_WALLS','FLOOR_FINISH','FLOOR_SYSTEM','FOUNDATION','INTERIOR_FINISH','ROOF_COVER','ROOF_FRAME']\n",
        "for col in col_to_cat:\n",
        "  PCPAO_SalesDATA[col] = PCPAO_SalesDATA[col].astype('category')"
      ],
      "metadata": {
        "id": "LyZIsW4Hkzka"
      },
      "execution_count": 17,
      "outputs": []
    },
    {
      "cell_type": "markdown",
      "source": [
        "###County Designations(Historic Land, Neighborhood code, Tax District)"
      ],
      "metadata": {
        "id": "n6_yayeoHrOz"
      }
    },
    {
      "cell_type": "markdown",
      "source": [
        "DLHL_YN is for whether the property is a designated local historical landmark. 86 records are for properties that are a designated local historical landmark and 219,281 rows are not. I will make this column to a category type. This column will be dropped if all the 86 records end up removed at the end."
      ],
      "metadata": {
        "id": "1VPuuZuSlUnY"
      }
    },
    {
      "cell_type": "code",
      "source": [
        "PCPAO_SalesDATA['DLHL_YN'].value_counts()"
      ],
      "metadata": {
        "colab": {
          "base_uri": "https://localhost:8080/",
          "height": 178
        },
        "id": "rdRQ74fH0-YJ",
        "outputId": "3c646e82-9aef-4541-d48a-483196775d6e"
      },
      "execution_count": 18,
      "outputs": [
        {
          "output_type": "execute_result",
          "data": {
            "text/plain": [
              "DLHL_YN\n",
              "N    219281\n",
              "Y        86\n",
              "Name: count, dtype: int64"
            ],
            "text/html": [
              "<div>\n",
              "<style scoped>\n",
              "    .dataframe tbody tr th:only-of-type {\n",
              "        vertical-align: middle;\n",
              "    }\n",
              "\n",
              "    .dataframe tbody tr th {\n",
              "        vertical-align: top;\n",
              "    }\n",
              "\n",
              "    .dataframe thead th {\n",
              "        text-align: right;\n",
              "    }\n",
              "</style>\n",
              "<table border=\"1\" class=\"dataframe\">\n",
              "  <thead>\n",
              "    <tr style=\"text-align: right;\">\n",
              "      <th></th>\n",
              "      <th>count</th>\n",
              "    </tr>\n",
              "    <tr>\n",
              "      <th>DLHL_YN</th>\n",
              "      <th></th>\n",
              "    </tr>\n",
              "  </thead>\n",
              "  <tbody>\n",
              "    <tr>\n",
              "      <th>N</th>\n",
              "      <td>219281</td>\n",
              "    </tr>\n",
              "    <tr>\n",
              "      <th>Y</th>\n",
              "      <td>86</td>\n",
              "    </tr>\n",
              "  </tbody>\n",
              "</table>\n",
              "</div><br><label><b>dtype:</b> int64</label>"
            ]
          },
          "metadata": {},
          "execution_count": 18
        }
      ]
    },
    {
      "cell_type": "code",
      "source": [
        "PCPAO_SalesDATA['DLHL_YN'] = PCPAO_SalesDATA['DLHL_YN'].astype('category')"
      ],
      "metadata": {
        "id": "EQNYHOP8miEc"
      },
      "execution_count": 19,
      "outputs": []
    },
    {
      "cell_type": "markdown",
      "source": [
        "NBORHOOD_CD is currently a float when it should be categorical.\n",
        "\n",
        "[Neighborhood Code ](https://www.pcpao.gov/learn-about/glossary-terms/n)- This code identifies the appraisal \"neighborhood\" for purposes of establishing the sales comparison approach to value. It may not correspond with your particular subdivision or geographic neighborhood; it is strictly developed for use in the mass appraisal process. When establishing the sales comparison approach to value we use an appraisal area model to obtain an estimate of value. The model can include hundreds of sales. We then review a subset of sales more closely identified with a particular property, referred to as the appraisal neighborhood. We give the greatest emphasis to sales within the appraisal neighborhood through use of a neighborhood \"factor.\" Through statistical analysis of all of these sales, we establish sales comparison values that account for different property characteristics (such as location, size, amenities, construction quality, view, etc.)."
      ],
      "metadata": {
        "id": "nqoLLci0m2uH"
      }
    },
    {
      "cell_type": "code",
      "source": [
        "PCPAO_SalesDATA['NBORHOOD_CD'] = PCPAO_SalesDATA['NBORHOOD_CD'].astype('category')"
      ],
      "metadata": {
        "id": "_tI6_Yqxm_Q5"
      },
      "execution_count": 20,
      "outputs": []
    },
    {
      "cell_type": "markdown",
      "source": [
        "TAX_DIST_DSCR is the description of the tax district. Going to drop that."
      ],
      "metadata": {
        "id": "5cCxa0feoaoT"
      }
    },
    {
      "cell_type": "code",
      "source": [
        "PCPAO_SalesDATA = PCPAO_SalesDATA.drop(['TAX_DIST_DSCR'],axis=1)"
      ],
      "metadata": {
        "id": "KIN8ftJyomKD"
      },
      "execution_count": 21,
      "outputs": []
    },
    {
      "cell_type": "markdown",
      "source": [
        "###Subdivions are examined and dropped"
      ],
      "metadata": {
        "id": "LXGKW5FRIn4N"
      }
    },
    {
      "cell_type": "markdown",
      "source": [
        "Thinking about SUBDIVISION here. There are 6,114 named subdivisions. These subdivisions cover all but 2185 properties. 377 properties are their own subdivision.\n",
        "\n",
        "Going to drop this column for now. I hoped it would work as a replacement for the neighborhood column. Maybe it could.\n",
        "\n",
        "I could create a subdivision_size column that categorizes the properties by the size of the subdivision. Not sure of the benefit. I am not sure where the NaN subdivision properties would fall, but a 'No listed subdivision' would be the largest subdivision category."
      ],
      "metadata": {
        "id": "CIHOSNut6ez8"
      }
    },
    {
      "cell_type": "code",
      "source": [
        "PCPAO_SalesDATA['SUBDIVISION'].isnull().sum()"
      ],
      "metadata": {
        "colab": {
          "base_uri": "https://localhost:8080/"
        },
        "id": "I3cnYZiv7ns6",
        "outputId": "30aac18d-4c17-4fc1-b288-930f235578c7"
      },
      "execution_count": 22,
      "outputs": [
        {
          "output_type": "execute_result",
          "data": {
            "text/plain": [
              "2185"
            ]
          },
          "metadata": {},
          "execution_count": 22
        }
      ]
    },
    {
      "cell_type": "code",
      "source": [
        "PCPAO_SalesDATA['SUBDIVISION'].value_counts()"
      ],
      "metadata": {
        "colab": {
          "base_uri": "https://localhost:8080/",
          "height": 490
        },
        "id": "OX2xY-ND769o",
        "outputId": "d73319cb-9cdd-4d93-a28a-26b9da989f9c"
      },
      "execution_count": 23,
      "outputs": [
        {
          "output_type": "execute_result",
          "data": {
            "text/plain": [
              "SUBDIVISION\n",
              "NORTH ST PETERSBURG                           777\n",
              "ORANGE LAKE VILLAGE                           691\n",
              "PINELLAS GROVES                               653\n",
              "SUTHERLAND, TOWN OF                           606\n",
              "DUNEDIN ISLES NO. 1                           544\n",
              "                                             ... \n",
              "PORACH'S ADD NO. 3                              1\n",
              "BRUNNER, E. J.                                  1\n",
              "BAHIA VISTA 1ST ADD                             1\n",
              "PASADENA ON THE GULF BLK 83 PARTIAL REPLAT      1\n",
              "PARKEN'S RESUB                                  1\n",
              "Name: count, Length: 6114, dtype: int64"
            ],
            "text/html": [
              "<div>\n",
              "<style scoped>\n",
              "    .dataframe tbody tr th:only-of-type {\n",
              "        vertical-align: middle;\n",
              "    }\n",
              "\n",
              "    .dataframe tbody tr th {\n",
              "        vertical-align: top;\n",
              "    }\n",
              "\n",
              "    .dataframe thead th {\n",
              "        text-align: right;\n",
              "    }\n",
              "</style>\n",
              "<table border=\"1\" class=\"dataframe\">\n",
              "  <thead>\n",
              "    <tr style=\"text-align: right;\">\n",
              "      <th></th>\n",
              "      <th>count</th>\n",
              "    </tr>\n",
              "    <tr>\n",
              "      <th>SUBDIVISION</th>\n",
              "      <th></th>\n",
              "    </tr>\n",
              "  </thead>\n",
              "  <tbody>\n",
              "    <tr>\n",
              "      <th>NORTH ST PETERSBURG</th>\n",
              "      <td>777</td>\n",
              "    </tr>\n",
              "    <tr>\n",
              "      <th>ORANGE LAKE VILLAGE</th>\n",
              "      <td>691</td>\n",
              "    </tr>\n",
              "    <tr>\n",
              "      <th>PINELLAS GROVES</th>\n",
              "      <td>653</td>\n",
              "    </tr>\n",
              "    <tr>\n",
              "      <th>SUTHERLAND, TOWN OF</th>\n",
              "      <td>606</td>\n",
              "    </tr>\n",
              "    <tr>\n",
              "      <th>DUNEDIN ISLES NO. 1</th>\n",
              "      <td>544</td>\n",
              "    </tr>\n",
              "    <tr>\n",
              "      <th>...</th>\n",
              "      <td>...</td>\n",
              "    </tr>\n",
              "    <tr>\n",
              "      <th>PORACH'S ADD NO. 3</th>\n",
              "      <td>1</td>\n",
              "    </tr>\n",
              "    <tr>\n",
              "      <th>BRUNNER, E. J.</th>\n",
              "      <td>1</td>\n",
              "    </tr>\n",
              "    <tr>\n",
              "      <th>BAHIA VISTA 1ST ADD</th>\n",
              "      <td>1</td>\n",
              "    </tr>\n",
              "    <tr>\n",
              "      <th>PASADENA ON THE GULF BLK 83 PARTIAL REPLAT</th>\n",
              "      <td>1</td>\n",
              "    </tr>\n",
              "    <tr>\n",
              "      <th>PARKEN'S RESUB</th>\n",
              "      <td>1</td>\n",
              "    </tr>\n",
              "  </tbody>\n",
              "</table>\n",
              "<p>6114 rows × 1 columns</p>\n",
              "</div><br><label><b>dtype:</b> int64</label>"
            ]
          },
          "metadata": {},
          "execution_count": 23
        }
      ]
    },
    {
      "cell_type": "code",
      "source": [
        "subdivision_counts = PCPAO_SalesDATA['SUBDIVISION'].value_counts()\n",
        "single_subdivisions = subdivision_counts[subdivision_counts <= 1]"
      ],
      "metadata": {
        "id": "iqdHMTvSpJ6k"
      },
      "execution_count": 24,
      "outputs": []
    },
    {
      "cell_type": "code",
      "source": [
        "subdivision_counts.groupby(subdivision_counts.values).size()"
      ],
      "metadata": {
        "colab": {
          "base_uri": "https://localhost:8080/",
          "height": 458
        },
        "collapsed": true,
        "id": "867q1LMmAQ2c",
        "outputId": "9440d986-344b-4bd2-b525-b81120b211d8"
      },
      "execution_count": 25,
      "outputs": [
        {
          "output_type": "execute_result",
          "data": {
            "text/plain": [
              "1      337\n",
              "2      334\n",
              "3      231\n",
              "4      183\n",
              "5      182\n",
              "      ... \n",
              "544      1\n",
              "606      1\n",
              "653      1\n",
              "691      1\n",
              "777      1\n",
              "Name: count, Length: 254, dtype: int64"
            ],
            "text/html": [
              "<div>\n",
              "<style scoped>\n",
              "    .dataframe tbody tr th:only-of-type {\n",
              "        vertical-align: middle;\n",
              "    }\n",
              "\n",
              "    .dataframe tbody tr th {\n",
              "        vertical-align: top;\n",
              "    }\n",
              "\n",
              "    .dataframe thead th {\n",
              "        text-align: right;\n",
              "    }\n",
              "</style>\n",
              "<table border=\"1\" class=\"dataframe\">\n",
              "  <thead>\n",
              "    <tr style=\"text-align: right;\">\n",
              "      <th></th>\n",
              "      <th>count</th>\n",
              "    </tr>\n",
              "  </thead>\n",
              "  <tbody>\n",
              "    <tr>\n",
              "      <th>1</th>\n",
              "      <td>337</td>\n",
              "    </tr>\n",
              "    <tr>\n",
              "      <th>2</th>\n",
              "      <td>334</td>\n",
              "    </tr>\n",
              "    <tr>\n",
              "      <th>3</th>\n",
              "      <td>231</td>\n",
              "    </tr>\n",
              "    <tr>\n",
              "      <th>4</th>\n",
              "      <td>183</td>\n",
              "    </tr>\n",
              "    <tr>\n",
              "      <th>5</th>\n",
              "      <td>182</td>\n",
              "    </tr>\n",
              "    <tr>\n",
              "      <th>...</th>\n",
              "      <td>...</td>\n",
              "    </tr>\n",
              "    <tr>\n",
              "      <th>544</th>\n",
              "      <td>1</td>\n",
              "    </tr>\n",
              "    <tr>\n",
              "      <th>606</th>\n",
              "      <td>1</td>\n",
              "    </tr>\n",
              "    <tr>\n",
              "      <th>653</th>\n",
              "      <td>1</td>\n",
              "    </tr>\n",
              "    <tr>\n",
              "      <th>691</th>\n",
              "      <td>1</td>\n",
              "    </tr>\n",
              "    <tr>\n",
              "      <th>777</th>\n",
              "      <td>1</td>\n",
              "    </tr>\n",
              "  </tbody>\n",
              "</table>\n",
              "<p>254 rows × 1 columns</p>\n",
              "</div><br><label><b>dtype:</b> int64</label>"
            ]
          },
          "metadata": {},
          "execution_count": 25
        }
      ]
    },
    {
      "cell_type": "code",
      "source": [
        "x=subdivision_counts.groupby(subdivision_counts.values).size().index\n",
        "y=subdivision_counts.groupby(subdivision_counts.values).size().values\n",
        "\n",
        "plt.bar(x=x,height=y,width=5)\n",
        "plt.title('Distribution of Subdivisions')\n",
        "plt.xlabel('Number of Properties in Subdivision')\n",
        "plt.ylabel('Number of Subdivisions')\n",
        "plt.show()"
      ],
      "metadata": {
        "colab": {
          "base_uri": "https://localhost:8080/",
          "height": 472
        },
        "id": "bhhPEYuc-bgO",
        "outputId": "fd8797d7-6302-43fe-dbec-a93f7382a7a1"
      },
      "execution_count": 26,
      "outputs": [
        {
          "output_type": "display_data",
          "data": {
            "text/plain": [
              "<Figure size 640x480 with 1 Axes>"
            ],
            "image/png": "[encoded data removed]"
          },
          "metadata": {}
        }
      ]
    },
    {
      "cell_type": "code",
      "source": [
        "single_subdivisions"
      ],
      "metadata": {
        "colab": {
          "base_uri": "https://localhost:8080/",
          "height": 490
        },
        "id": "lwTOydFX6eaO",
        "outputId": "148ac2aa-8902-4423-a266-f57e034a7842"
      },
      "execution_count": 27,
      "outputs": [
        {
          "output_type": "execute_result",
          "data": {
            "text/plain": [
              "SUBDIVISION\n",
              "DONNA'S REPLAT                                1\n",
              "GROVEMONT SUB'N NO. 2 YATES REPLAT            1\n",
              "HUGHES - PEARSON REPLAT                       1\n",
              "LAKE JUDY SUB                                 1\n",
              "MAPLE LEAF FARMS SUB                          1\n",
              "                                             ..\n",
              "PORACH'S ADD NO. 3                            1\n",
              "BRUNNER, E. J.                                1\n",
              "BAHIA VISTA 1ST ADD                           1\n",
              "PASADENA ON THE GULF BLK 83 PARTIAL REPLAT    1\n",
              "PARKEN'S RESUB                                1\n",
              "Name: count, Length: 337, dtype: int64"
            ],
            "text/html": [
              "<div>\n",
              "<style scoped>\n",
              "    .dataframe tbody tr th:only-of-type {\n",
              "        vertical-align: middle;\n",
              "    }\n",
              "\n",
              "    .dataframe tbody tr th {\n",
              "        vertical-align: top;\n",
              "    }\n",
              "\n",
              "    .dataframe thead th {\n",
              "        text-align: right;\n",
              "    }\n",
              "</style>\n",
              "<table border=\"1\" class=\"dataframe\">\n",
              "  <thead>\n",
              "    <tr style=\"text-align: right;\">\n",
              "      <th></th>\n",
              "      <th>count</th>\n",
              "    </tr>\n",
              "    <tr>\n",
              "      <th>SUBDIVISION</th>\n",
              "      <th></th>\n",
              "    </tr>\n",
              "  </thead>\n",
              "  <tbody>\n",
              "    <tr>\n",
              "      <th>DONNA'S REPLAT</th>\n",
              "      <td>1</td>\n",
              "    </tr>\n",
              "    <tr>\n",
              "      <th>GROVEMONT SUB'N NO. 2 YATES REPLAT</th>\n",
              "      <td>1</td>\n",
              "    </tr>\n",
              "    <tr>\n",
              "      <th>HUGHES - PEARSON REPLAT</th>\n",
              "      <td>1</td>\n",
              "    </tr>\n",
              "    <tr>\n",
              "      <th>LAKE JUDY SUB</th>\n",
              "      <td>1</td>\n",
              "    </tr>\n",
              "    <tr>\n",
              "      <th>MAPLE LEAF FARMS SUB</th>\n",
              "      <td>1</td>\n",
              "    </tr>\n",
              "    <tr>\n",
              "      <th>...</th>\n",
              "      <td>...</td>\n",
              "    </tr>\n",
              "    <tr>\n",
              "      <th>PORACH'S ADD NO. 3</th>\n",
              "      <td>1</td>\n",
              "    </tr>\n",
              "    <tr>\n",
              "      <th>BRUNNER, E. J.</th>\n",
              "      <td>1</td>\n",
              "    </tr>\n",
              "    <tr>\n",
              "      <th>BAHIA VISTA 1ST ADD</th>\n",
              "      <td>1</td>\n",
              "    </tr>\n",
              "    <tr>\n",
              "      <th>PASADENA ON THE GULF BLK 83 PARTIAL REPLAT</th>\n",
              "      <td>1</td>\n",
              "    </tr>\n",
              "    <tr>\n",
              "      <th>PARKEN'S RESUB</th>\n",
              "      <td>1</td>\n",
              "    </tr>\n",
              "  </tbody>\n",
              "</table>\n",
              "<p>337 rows × 1 columns</p>\n",
              "</div><br><label><b>dtype:</b> int64</label>"
            ]
          },
          "metadata": {},
          "execution_count": 27
        }
      ]
    },
    {
      "cell_type": "code",
      "source": [
        "PCPAO_SalesDATA = PCPAO_SalesDATA.drop(['SUBDIVISION'],axis=1)"
      ],
      "metadata": {
        "id": "RKvldrhsCMnR"
      },
      "execution_count": 28,
      "outputs": []
    },
    {
      "cell_type": "markdown",
      "source": [
        "###Examining dataset and dropping rows missing values"
      ],
      "metadata": {
        "id": "7Gkodmd6IxlK"
      }
    },
    {
      "cell_type": "code",
      "source": [
        "PCPAO_SalesDATA.info()"
      ],
      "metadata": {
        "colab": {
          "base_uri": "https://localhost:8080/"
        },
        "id": "cAuT_om9lDe7",
        "outputId": "1d091915-be8b-4d96-bcb9-e5a6694bee40"
      },
      "execution_count": 29,
      "outputs": [
        {
          "output_type": "stream",
          "name": "stdout",
          "text": [
            "<class 'pandas.core.frame.DataFrame'>\n",
            "RangeIndex: 219367 entries, 0 to 219366\n",
            "Data columns (total 36 columns):\n",
            " #   Column               Non-Null Count   Dtype         \n",
            "---  ------               --------------   -----         \n",
            " 0   PARCEL_NUMBER        219367 non-null  object        \n",
            " 1   SITE_ADDRESS         219366 non-null  object        \n",
            " 2   SITE_CITYZIP         219367 non-null  object        \n",
            " 3   TOTAL_LIVING_SQFT    219367 non-null  float64       \n",
            " 4   TOTAL_GROSS_SQFT     219367 non-null  float64       \n",
            " 5   NBORHOOD_CD          219367 non-null  category      \n",
            " 6   YEAR_BUILT_BLD1      219350 non-null  float64       \n",
            " 7   TOTAL_LIVING_UNITS   219367 non-null  float64       \n",
            " 8   CNTY_JST_VALUE       219367 non-null  int64         \n",
            " 9   CNTY_ASD_VALUE       219367 non-null  int64         \n",
            " 10  CNTY_TAXABLE_VALUE   219367 non-null  int64         \n",
            " 11  SPECIAL_ASSESSMENT   219352 non-null  float64       \n",
            " 12  JUST_LAND            219367 non-null  int64         \n",
            " 13  JUST_BUILDING        219367 non-null  int64         \n",
            " 14  JUST_EXTRA_FEATURES  219367 non-null  int64         \n",
            " 15  SALES_DATE           219367 non-null  datetime64[ns]\n",
            " 16  PRICE                219367 non-null  int64         \n",
            " 17  SEAWALL              219114 non-null  object        \n",
            " 18  CONTAMINATION_YN     219367 non-null  object        \n",
            " 19  SUBSIDENCE_YN        219367 non-null  object        \n",
            " 20  DLHL_YN              219367 non-null  category      \n",
            " 21  EVAC_ZONE            219367 non-null  object        \n",
            " 22  LAND_AREA_SF         219367 non-null  int64         \n",
            " 23  POOL                 219367 non-null  object        \n",
            " 24  WATERFRONT_YN        219367 non-null  object        \n",
            " 25  EFFECTIVE_AGE        219367 non-null  float64       \n",
            " 26  COOLING              219367 non-null  category      \n",
            " 27  EXTERIOR_WALLS       219367 non-null  category      \n",
            " 28  RCN                  219367 non-null  float64       \n",
            " 29  FLOOR_FINISH         219367 non-null  category      \n",
            " 30  FLOOR_SYSTEM         219367 non-null  category      \n",
            " 31  FOUNDATION           219367 non-null  category      \n",
            " 32  INTERIOR_FINISH      219367 non-null  category      \n",
            " 33  LIVING_UNITS         219367 non-null  float64       \n",
            " 34  ROOF_COVER           219367 non-null  category      \n",
            " 35  ROOF_FRAME           219367 non-null  category      \n",
            "dtypes: category(10), datetime64[ns](1), float64(8), int64(8), object(9)\n",
            "memory usage: 45.8+ MB\n"
          ]
        }
      ]
    },
    {
      "cell_type": "markdown",
      "source": [
        "Looking at the dataset now, I feel like I can drop the rows that are missing any values because most of the data will remain."
      ],
      "metadata": {
        "id": "-0bF16U8C26m"
      }
    },
    {
      "cell_type": "code",
      "source": [
        "PCPAO_SalesDATA.dropna(inplace=True)\n",
        "PCPAO_SalesDATA.reset_index(drop=True,inplace=True)\n",
        "PCPAO_SalesDATA.info()"
      ],
      "metadata": {
        "colab": {
          "base_uri": "https://localhost:8080/"
        },
        "id": "6TcC593FELc8",
        "outputId": "76ac13ae-2d33-45d5-84a7-57e568a0ac51"
      },
      "execution_count": 30,
      "outputs": [
        {
          "output_type": "stream",
          "name": "stdout",
          "text": [
            "<class 'pandas.core.frame.DataFrame'>\n",
            "RangeIndex: 219081 entries, 0 to 219080\n",
            "Data columns (total 36 columns):\n",
            " #   Column               Non-Null Count   Dtype         \n",
            "---  ------               --------------   -----         \n",
            " 0   PARCEL_NUMBER        219081 non-null  object        \n",
            " 1   SITE_ADDRESS         219081 non-null  object        \n",
            " 2   SITE_CITYZIP         219081 non-null  object        \n",
            " 3   TOTAL_LIVING_SQFT    219081 non-null  float64       \n",
            " 4   TOTAL_GROSS_SQFT     219081 non-null  float64       \n",
            " 5   NBORHOOD_CD          219081 non-null  category      \n",
            " 6   YEAR_BUILT_BLD1      219081 non-null  float64       \n",
            " 7   TOTAL_LIVING_UNITS   219081 non-null  float64       \n",
            " 8   CNTY_JST_VALUE       219081 non-null  int64         \n",
            " 9   CNTY_ASD_VALUE       219081 non-null  int64         \n",
            " 10  CNTY_TAXABLE_VALUE   219081 non-null  int64         \n",
            " 11  SPECIAL_ASSESSMENT   219081 non-null  float64       \n",
            " 12  JUST_LAND            219081 non-null  int64         \n",
            " 13  JUST_BUILDING        219081 non-null  int64         \n",
            " 14  JUST_EXTRA_FEATURES  219081 non-null  int64         \n",
            " 15  SALES_DATE           219081 non-null  datetime64[ns]\n",
            " 16  PRICE                219081 non-null  int64         \n",
            " 17  SEAWALL              219081 non-null  object        \n",
            " 18  CONTAMINATION_YN     219081 non-null  object        \n",
            " 19  SUBSIDENCE_YN        219081 non-null  object        \n",
            " 20  DLHL_YN              219081 non-null  category      \n",
            " 21  EVAC_ZONE            219081 non-null  object        \n",
            " 22  LAND_AREA_SF         219081 non-null  int64         \n",
            " 23  POOL                 219081 non-null  object        \n",
            " 24  WATERFRONT_YN        219081 non-null  object        \n",
            " 25  EFFECTIVE_AGE        219081 non-null  float64       \n",
            " 26  COOLING              219081 non-null  category      \n",
            " 27  EXTERIOR_WALLS       219081 non-null  category      \n",
            " 28  RCN                  219081 non-null  float64       \n",
            " 29  FLOOR_FINISH         219081 non-null  category      \n",
            " 30  FLOOR_SYSTEM         219081 non-null  category      \n",
            " 31  FOUNDATION           219081 non-null  category      \n",
            " 32  INTERIOR_FINISH      219081 non-null  category      \n",
            " 33  LIVING_UNITS         219081 non-null  float64       \n",
            " 34  ROOF_COVER           219081 non-null  category      \n",
            " 35  ROOF_FRAME           219081 non-null  category      \n",
            "dtypes: category(10), datetime64[ns](1), float64(8), int64(8), object(9)\n",
            "memory usage: 45.8+ MB\n"
          ]
        }
      ]
    },
    {
      "cell_type": "markdown",
      "source": [
        "###Dropping Parcel Number and Site Address Columns"
      ],
      "metadata": {
        "id": "BJ9QVzyAI-5J"
      }
    },
    {
      "cell_type": "markdown",
      "source": [
        "All the parcel numbers should be unique identifiers since we limited the records to the most recent sale of each parcel. I am not aware of any rules determining parcel numbers, so I will drop them. I will also drop the site address as I don't want to train a model to predict the housing price based on its specific address.\n"
      ],
      "metadata": {
        "id": "K1WlBHBMw9WF"
      }
    },
    {
      "cell_type": "code",
      "source": [
        "PCPAO_SalesDATA.drop(['PARCEL_NUMBER'],axis=1,inplace=True)"
      ],
      "metadata": {
        "id": "myHUh45CyAr5"
      },
      "execution_count": 31,
      "outputs": []
    },
    {
      "cell_type": "code",
      "source": [
        "PCPAO_SalesDATA.drop(['SITE_ADDRESS'],axis=1,inplace=True)"
      ],
      "metadata": {
        "id": "YB89LI8WyQfB"
      },
      "execution_count": 32,
      "outputs": []
    },
    {
      "cell_type": "markdown",
      "source": [
        "###Converting Site_Cityzip and remaining object columns to categories"
      ],
      "metadata": {
        "id": "VbUcsxenJRqY"
      }
    },
    {
      "cell_type": "markdown",
      "source": [
        "The SITE_CITYZIP is currently the best location identifier. There are only 86 unique cityzip combinations. Some cityzips have thousands of parcels while some cityzips have only one parcel. This is a similar situation to the subdivisions but there were never any null cityzips."
      ],
      "metadata": {
        "id": "AQdIkl_ZzRiP"
      }
    },
    {
      "cell_type": "code",
      "source": [
        "PCPAO_SalesDATA['SITE_CITYZIP'].value_counts()"
      ],
      "metadata": {
        "colab": {
          "base_uri": "https://localhost:8080/",
          "height": 490
        },
        "id": "EJFSoKMAyyiY",
        "outputId": "caa30a66-c154-44da-a3de-64b20ab705a9"
      },
      "execution_count": 33,
      "outputs": [
        {
          "output_type": "execute_result",
          "data": {
            "text/plain": [
              "SITE_CITYZIP\n",
              "ST PETERSBURG, FL 33710         11519\n",
              "ST PETERSBURG, FL 33713         10055\n",
              "DUNEDIN, FL 34698                9522\n",
              "PALM HARBOR, FL 34683            9249\n",
              "ST PETERSBURG, FL 33703          8306\n",
              "                                ...  \n",
              "TIERRA VERDE, FL 33773              1\n",
              "OLDSMAR, FL 34695                   1\n",
              "INDIAN ROCKS BEACH, FL 33786        1\n",
              "TARPON SPRINGS, FL 34690            1\n",
              "CLEARWATER, FL 33765-2423           1\n",
              "Name: count, Length: 86, dtype: int64"
            ],
            "text/html": [
              "<div>\n",
              "<style scoped>\n",
              "    .dataframe tbody tr th:only-of-type {\n",
              "        vertical-align: middle;\n",
              "    }\n",
              "\n",
              "    .dataframe tbody tr th {\n",
              "        vertical-align: top;\n",
              "    }\n",
              "\n",
              "    .dataframe thead th {\n",
              "        text-align: right;\n",
              "    }\n",
              "</style>\n",
              "<table border=\"1\" class=\"dataframe\">\n",
              "  <thead>\n",
              "    <tr style=\"text-align: right;\">\n",
              "      <th></th>\n",
              "      <th>count</th>\n",
              "    </tr>\n",
              "    <tr>\n",
              "      <th>SITE_CITYZIP</th>\n",
              "      <th></th>\n",
              "    </tr>\n",
              "  </thead>\n",
              "  <tbody>\n",
              "    <tr>\n",
              "      <th>ST PETERSBURG, FL 33710</th>\n",
              "      <td>11519</td>\n",
              "    </tr>\n",
              "    <tr>\n",
              "      <th>ST PETERSBURG, FL 33713</th>\n",
              "      <td>10055</td>\n",
              "    </tr>\n",
              "    <tr>\n",
              "      <th>DUNEDIN, FL 34698</th>\n",
              "      <td>9522</td>\n",
              "    </tr>\n",
              "    <tr>\n",
              "      <th>PALM HARBOR, FL 34683</th>\n",
              "      <td>9249</td>\n",
              "    </tr>\n",
              "    <tr>\n",
              "      <th>ST PETERSBURG, FL 33703</th>\n",
              "      <td>8306</td>\n",
              "    </tr>\n",
              "    <tr>\n",
              "      <th>...</th>\n",
              "      <td>...</td>\n",
              "    </tr>\n",
              "    <tr>\n",
              "      <th>TIERRA VERDE, FL 33773</th>\n",
              "      <td>1</td>\n",
              "    </tr>\n",
              "    <tr>\n",
              "      <th>OLDSMAR, FL 34695</th>\n",
              "      <td>1</td>\n",
              "    </tr>\n",
              "    <tr>\n",
              "      <th>INDIAN ROCKS BEACH, FL 33786</th>\n",
              "      <td>1</td>\n",
              "    </tr>\n",
              "    <tr>\n",
              "      <th>TARPON SPRINGS, FL 34690</th>\n",
              "      <td>1</td>\n",
              "    </tr>\n",
              "    <tr>\n",
              "      <th>CLEARWATER, FL 33765-2423</th>\n",
              "      <td>1</td>\n",
              "    </tr>\n",
              "  </tbody>\n",
              "</table>\n",
              "<p>86 rows × 1 columns</p>\n",
              "</div><br><label><b>dtype:</b> int64</label>"
            ]
          },
          "metadata": {},
          "execution_count": 33
        }
      ]
    },
    {
      "cell_type": "code",
      "source": [
        "PCPAO_SalesDATA['SITE_CITYZIP']=PCPAO_SalesDATA['SITE_CITYZIP'].astype('category')"
      ],
      "metadata": {
        "id": "ksww0_MVygcN"
      },
      "execution_count": 34,
      "outputs": []
    },
    {
      "cell_type": "markdown",
      "source": [
        "Going to convert any remaining object types into categories."
      ],
      "metadata": {
        "id": "dTWnh5Qa0fvR"
      }
    },
    {
      "cell_type": "code",
      "source": [
        "for col in PCPAO_SalesDATA.columns:\n",
        "  if PCPAO_SalesDATA[col].dtype == 'object':\n",
        "    PCPAO_SalesDATA[col] = PCPAO_SalesDATA[col].astype('category')"
      ],
      "metadata": {
        "id": "PX5sytEY0l_A"
      },
      "execution_count": 35,
      "outputs": []
    },
    {
      "cell_type": "code",
      "source": [
        "PCPAO_SalesDATA.info()"
      ],
      "metadata": {
        "colab": {
          "base_uri": "https://localhost:8080/"
        },
        "id": "rIUd2OeGyUL7",
        "outputId": "d2d4c9e3-df01-48e6-8538-06d7fb8ff580"
      },
      "execution_count": 36,
      "outputs": [
        {
          "output_type": "stream",
          "name": "stdout",
          "text": [
            "<class 'pandas.core.frame.DataFrame'>\n",
            "RangeIndex: 219081 entries, 0 to 219080\n",
            "Data columns (total 34 columns):\n",
            " #   Column               Non-Null Count   Dtype         \n",
            "---  ------               --------------   -----         \n",
            " 0   SITE_CITYZIP         219081 non-null  category      \n",
            " 1   TOTAL_LIVING_SQFT    219081 non-null  float64       \n",
            " 2   TOTAL_GROSS_SQFT     219081 non-null  float64       \n",
            " 3   NBORHOOD_CD          219081 non-null  category      \n",
            " 4   YEAR_BUILT_BLD1      219081 non-null  float64       \n",
            " 5   TOTAL_LIVING_UNITS   219081 non-null  float64       \n",
            " 6   CNTY_JST_VALUE       219081 non-null  int64         \n",
            " 7   CNTY_ASD_VALUE       219081 non-null  int64         \n",
            " 8   CNTY_TAXABLE_VALUE   219081 non-null  int64         \n",
            " 9   SPECIAL_ASSESSMENT   219081 non-null  float64       \n",
            " 10  JUST_LAND            219081 non-null  int64         \n",
            " 11  JUST_BUILDING        219081 non-null  int64         \n",
            " 12  JUST_EXTRA_FEATURES  219081 non-null  int64         \n",
            " 13  SALES_DATE           219081 non-null  datetime64[ns]\n",
            " 14  PRICE                219081 non-null  int64         \n",
            " 15  SEAWALL              219081 non-null  category      \n",
            " 16  CONTAMINATION_YN     219081 non-null  category      \n",
            " 17  SUBSIDENCE_YN        219081 non-null  category      \n",
            " 18  DLHL_YN              219081 non-null  category      \n",
            " 19  EVAC_ZONE            219081 non-null  category      \n",
            " 20  LAND_AREA_SF         219081 non-null  int64         \n",
            " 21  POOL                 219081 non-null  category      \n",
            " 22  WATERFRONT_YN        219081 non-null  category      \n",
            " 23  EFFECTIVE_AGE        219081 non-null  float64       \n",
            " 24  COOLING              219081 non-null  category      \n",
            " 25  EXTERIOR_WALLS       219081 non-null  category      \n",
            " 26  RCN                  219081 non-null  float64       \n",
            " 27  FLOOR_FINISH         219081 non-null  category      \n",
            " 28  FLOOR_SYSTEM         219081 non-null  category      \n",
            " 29  FOUNDATION           219081 non-null  category      \n",
            " 30  INTERIOR_FINISH      219081 non-null  category      \n",
            " 31  LIVING_UNITS         219081 non-null  float64       \n",
            " 32  ROOF_COVER           219081 non-null  category      \n",
            " 33  ROOF_FRAME           219081 non-null  category      \n",
            "dtypes: category(17), datetime64[ns](1), float64(8), int64(8)\n",
            "memory usage: 32.2 MB\n"
          ]
        }
      ]
    },
    {
      "cell_type": "markdown",
      "source": [
        "###Dropping data that has a sales date prior to 1970."
      ],
      "metadata": {
        "id": "WUSNh7bDE299"
      }
    },
    {
      "cell_type": "code",
      "source": [
        "PCPAO_SalesDATA = PCPAO_SalesDATA[PCPAO_SalesDATA['SALES_DATE'].dt.year>=1970].reset_index(drop=True)"
      ],
      "metadata": {
        "id": "yx5nXGWUEmnu"
      },
      "execution_count": 37,
      "outputs": []
    },
    {
      "cell_type": "code",
      "source": [
        "sales_date_count = PCPAO_SalesDATA['SALES_DATE'].dt.year.value_counts().reset_index()\n",
        "x = sales_date_count['SALES_DATE']\n",
        "y = sales_date_count['count']\n",
        "plt.bar(x=x,height=y)\n",
        "plt.show()\n"
      ],
      "metadata": {
        "colab": {
          "base_uri": "https://localhost:8080/",
          "height": 430
        },
        "id": "ibRl_0bwFGSR",
        "outputId": "0e274291-9739-43b7-c287-285230c3f1d6"
      },
      "execution_count": 38,
      "outputs": [
        {
          "output_type": "display_data",
          "data": {
            "text/plain": [
              "<Figure size 640x480 with 1 Axes>"
            ],
            "image/png": "[encoded data removed]"
          },
          "metadata": {}
        }
      ]
    },
    {
      "cell_type": "markdown",
      "source": [
        "This graph matches one seen in earlier data exploration. Now I will just collect sales since 2016"
      ],
      "metadata": {
        "id": "3IuH0njrHi0J"
      }
    },
    {
      "cell_type": "markdown",
      "source": [
        "###Making a dataframe of data from 2016 to present"
      ],
      "metadata": {
        "id": "qxGQjv88JqpM"
      }
    },
    {
      "cell_type": "code",
      "source": [
        "sales16 = PCPAO_SalesDATA[PCPAO_SalesDATA['SALES_DATE'].dt.year>=2016].reset_index(drop=True)\n",
        "sales16.info()"
      ],
      "metadata": {
        "colab": {
          "base_uri": "https://localhost:8080/"
        },
        "id": "j4q_ruldHtGW",
        "outputId": "fb615cf9-0241-46cf-8607-65f8dd4ac45c"
      },
      "execution_count": 39,
      "outputs": [
        {
          "output_type": "stream",
          "name": "stdout",
          "text": [
            "<class 'pandas.core.frame.DataFrame'>\n",
            "RangeIndex: 85396 entries, 0 to 85395\n",
            "Data columns (total 34 columns):\n",
            " #   Column               Non-Null Count  Dtype         \n",
            "---  ------               --------------  -----         \n",
            " 0   SITE_CITYZIP         85396 non-null  category      \n",
            " 1   TOTAL_LIVING_SQFT    85396 non-null  float64       \n",
            " 2   TOTAL_GROSS_SQFT     85396 non-null  float64       \n",
            " 3   NBORHOOD_CD          85396 non-null  category      \n",
            " 4   YEAR_BUILT_BLD1      85396 non-null  float64       \n",
            " 5   TOTAL_LIVING_UNITS   85396 non-null  float64       \n",
            " 6   CNTY_JST_VALUE       85396 non-null  int64         \n",
            " 7   CNTY_ASD_VALUE       85396 non-null  int64         \n",
            " 8   CNTY_TAXABLE_VALUE   85396 non-null  int64         \n",
            " 9   SPECIAL_ASSESSMENT   85396 non-null  float64       \n",
            " 10  JUST_LAND            85396 non-null  int64         \n",
            " 11  JUST_BUILDING        85396 non-null  int64         \n",
            " 12  JUST_EXTRA_FEATURES  85396 non-null  int64         \n",
            " 13  SALES_DATE           85396 non-null  datetime64[ns]\n",
            " 14  PRICE                85396 non-null  int64         \n",
            " 15  SEAWALL              85396 non-null  category      \n",
            " 16  CONTAMINATION_YN     85396 non-null  category      \n",
            " 17  SUBSIDENCE_YN        85396 non-null  category      \n",
            " 18  DLHL_YN              85396 non-null  category      \n",
            " 19  EVAC_ZONE            85396 non-null  category      \n",
            " 20  LAND_AREA_SF         85396 non-null  int64         \n",
            " 21  POOL                 85396 non-null  category      \n",
            " 22  WATERFRONT_YN        85396 non-null  category      \n",
            " 23  EFFECTIVE_AGE        85396 non-null  float64       \n",
            " 24  COOLING              85396 non-null  category      \n",
            " 25  EXTERIOR_WALLS       85396 non-null  category      \n",
            " 26  RCN                  85396 non-null  float64       \n",
            " 27  FLOOR_FINISH         85396 non-null  category      \n",
            " 28  FLOOR_SYSTEM         85396 non-null  category      \n",
            " 29  FOUNDATION           85396 non-null  category      \n",
            " 30  INTERIOR_FINISH      85396 non-null  category      \n",
            " 31  LIVING_UNITS         85396 non-null  float64       \n",
            " 32  ROOF_COVER           85396 non-null  category      \n",
            " 33  ROOF_FRAME           85396 non-null  category      \n",
            "dtypes: category(17), datetime64[ns](1), float64(8), int64(8)\n",
            "memory usage: 12.6 MB\n"
          ]
        }
      ]
    },
    {
      "cell_type": "code",
      "source": [
        "sales16['SALES_DATE'].dt.year.value_counts()"
      ],
      "metadata": {
        "colab": {
          "base_uri": "https://localhost:8080/",
          "height": 398
        },
        "id": "jHa3dbFuIbh3",
        "outputId": "b7dd9546-e073-49fc-93ba-d415c86ae57e"
      },
      "execution_count": 40,
      "outputs": [
        {
          "output_type": "execute_result",
          "data": {
            "text/plain": [
              "SALES_DATE\n",
              "2021    12521\n",
              "2020    11017\n",
              "2022    10364\n",
              "2019    10179\n",
              "2018     9376\n",
              "2023     9323\n",
              "2017     8558\n",
              "2016     7676\n",
              "2024     6382\n",
              "Name: count, dtype: int64"
            ],
            "text/html": [
              "<div>\n",
              "<style scoped>\n",
              "    .dataframe tbody tr th:only-of-type {\n",
              "        vertical-align: middle;\n",
              "    }\n",
              "\n",
              "    .dataframe tbody tr th {\n",
              "        vertical-align: top;\n",
              "    }\n",
              "\n",
              "    .dataframe thead th {\n",
              "        text-align: right;\n",
              "    }\n",
              "</style>\n",
              "<table border=\"1\" class=\"dataframe\">\n",
              "  <thead>\n",
              "    <tr style=\"text-align: right;\">\n",
              "      <th></th>\n",
              "      <th>count</th>\n",
              "    </tr>\n",
              "    <tr>\n",
              "      <th>SALES_DATE</th>\n",
              "      <th></th>\n",
              "    </tr>\n",
              "  </thead>\n",
              "  <tbody>\n",
              "    <tr>\n",
              "      <th>2021</th>\n",
              "      <td>12521</td>\n",
              "    </tr>\n",
              "    <tr>\n",
              "      <th>2020</th>\n",
              "      <td>11017</td>\n",
              "    </tr>\n",
              "    <tr>\n",
              "      <th>2022</th>\n",
              "      <td>10364</td>\n",
              "    </tr>\n",
              "    <tr>\n",
              "      <th>2019</th>\n",
              "      <td>10179</td>\n",
              "    </tr>\n",
              "    <tr>\n",
              "      <th>2018</th>\n",
              "      <td>9376</td>\n",
              "    </tr>\n",
              "    <tr>\n",
              "      <th>2023</th>\n",
              "      <td>9323</td>\n",
              "    </tr>\n",
              "    <tr>\n",
              "      <th>2017</th>\n",
              "      <td>8558</td>\n",
              "    </tr>\n",
              "    <tr>\n",
              "      <th>2016</th>\n",
              "      <td>7676</td>\n",
              "    </tr>\n",
              "    <tr>\n",
              "      <th>2024</th>\n",
              "      <td>6382</td>\n",
              "    </tr>\n",
              "  </tbody>\n",
              "</table>\n",
              "</div><br><label><b>dtype:</b> int64</label>"
            ]
          },
          "metadata": {},
          "execution_count": 40
        }
      ]
    },
    {
      "cell_type": "markdown",
      "source": [
        "#4. Exporting Data"
      ],
      "metadata": {
        "id": "AyfXeiJD1ZZ7"
      }
    },
    {
      "cell_type": "markdown",
      "source": [
        "Here I will export the cleaned data for the PCPAO_SalesDATA and for sales16 into their own csv files."
      ],
      "metadata": {
        "id": "_ncrk02v1iPT"
      }
    },
    {
      "cell_type": "code",
      "source": [
        "PCPAO_SalesDATA.to_csv('/content/drive/MyDrive/Data Science Course/Capstone Work/Cleaned_Data/PCPAO_SalesDATA_cleaned.csv',index=False)"
      ],
      "metadata": {
        "id": "sOSAZ8X53kA3"
      },
      "execution_count": 41,
      "outputs": []
    },
    {
      "cell_type": "code",
      "source": [
        "sales16.to_csv('/content/drive/MyDrive/Data Science Course/Capstone Work/Cleaned_Data/sales16_cleaned.csv',index=False)"
      ],
      "metadata": {
        "id": "_mBOMSpj3tvc"
      },
      "execution_count": 42,
      "outputs": []
    }
  ]
}