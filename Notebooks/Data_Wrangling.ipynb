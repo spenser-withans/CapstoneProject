version https://git-lfs.github.com/spec/v1
oid sha256:e489a65fcb39a5c993ca664515db2c046d4c713cc28336ad7f29a87ba2ff0cf7
size 795975
