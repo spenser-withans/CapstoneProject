{
  "nbformat": 4,
  "nbformat_minor": 0,
  "metadata": {
    "colab": {
      "provenance": [],
      "collapsed_sections": [
        "1JktDfGIUzhM",
        "RiaN_FbuKFGY",
        "MCfIRXX1F0x7",
        "dbfpedwdal2f",
        "t0fMGNtiWDt6",
        "Rg7e1WPd7bEv"
      ]
    },
    "kernelspec": {
      "name": "python3",
      "display_name": "Python 3"
    },
    "language_info": {
      "name": "python"
    }
  },
  "cells": [
    {
      "cell_type": "markdown",
      "source": [
        "#Description\n",
        "This data wrangling will be broken up into many parts.\n",
        "1. PCPAO_SalesDATA\n",
        "\n",
        "*   1.1 Import Data\n",
        "*   1.2 Drop data that isn't single-family home(or condos in the future).\n",
        "*   1.3 Convert sales_date into datetime type\n",
        "*   1.4 Limit data to most recent sale of each property\n",
        "*   1.5 Address Concerns\n",
        "*   1.5.1 Dropping address data except for STR_CITY and STR_ZIP\n",
        "*   1.5.2 Cleaning some city and zip values\n",
        "*   1.5.3 Examining the number of city/zip combinations\n",
        "*   1.5.4 Dropping parcels where the city/zip combination had less than 30 sales\n",
        "*   1.6 Dropping Owner Names and Resetting the index\n",
        "*   1.7 Frontage, View, Landsize, Acreage, and QU_FLG are dropped\n",
        "*   1.8 PCPAO_SalesDATA.info() check and\n",
        "*   1.9 House Features are cleaned and converted to categories\n",
        "*   1.10 County Designations are considered\n",
        "*   1.10.1 Designated Local Historical Landmark records are dropped.\n",
        "*   1.10.2 NBORHOOD_CD is dropped.\n",
        "*   1.10.3 Tax District Description is dropped\n",
        "*   1.11 Subdivisions\n",
        "*   1.11.1 Getting a count of unique subdivisions\n",
        "*   1.11.2 Finding the number of subdivisions with 10 parcels or less\n",
        "*   1.11.3 Thinking About a Subdivision_Size category\n",
        "*   1.11.4 Find the number of parcels with no subdivision info\n",
        "*   1.11.5 Final Subdivision Thoughts\n",
        "*   1.12 Examining dataset and dropping rows with missing values\n",
        "*   Dropping Parcel Number and Site Address Columns\n",
        "*   Converting Site_Cityzip and remaining object columns to categories\n",
        "*   Dropping sales data prior to 1970\n",
        "*   Making a dataframe of 2016-to-present sales\n",
        "\n",
        "Future steps will be done to this data set involve its pairing with the data sets below.\n",
        "\n",
        "2. PinellasCrimeDATA\n",
        "\n",
        "This data is a collection of csv files downloaded from [Pinellas Crime Viewer](https://egis.pinellas.gov/apps/CrimeViewer/). The goal with this data is to generate totals and average yearly crime stats relative to each ZIP code and possibly neighborhood code.\n",
        "\n",
        "3. School_gradeDATA\n",
        "\n",
        "This data is yet to be collected from the FL DOE website.\n",
        "\n",
        "\n",
        "4. Exporting the data"
      ],
      "metadata": {
        "id": "Oj-WjqKDHJIv"
      }
    },
    {
      "cell_type": "markdown",
      "source": [
        "####CHANGES TO MAKE\n",
        "PCPAO_SalesDATA\n",
        "* Renumber the Description above\n",
        "\n",
        "crime_data changes\n",
        "\n",
        "* crime_data was run with all 2016 to 2024 data. How did that go?\n",
        "* IN crime_data, when going to add new data from 2016 to 2020, separate the cleaning process? You will have done the 2020-2024 cleaning. Don't know how that might mess up the 2016-2020 data.\n"
      ],
      "metadata": {
        "id": "1JktDfGIUzhM"
      }
    },
    {
      "cell_type": "code",
      "source": [
        "import pandas as pd\n",
        "import numpy as np\n",
        "import matplotlib.pyplot as plt\n",
        "import seaborn as sns\n",
        "import os\n",
        "from IPython.display import display"
      ],
      "metadata": {
        "id": "rJSIWzscKWUV"
      },
      "execution_count": 1,
      "outputs": []
    },
    {
      "cell_type": "markdown",
      "source": [
        "#1. PCPAO_SalesDATA\n"
      ],
      "metadata": {
        "id": "RiaN_FbuKFGY"
      }
    },
    {
      "cell_type": "markdown",
      "source": [
        "##1.1 Importing Data\n"
      ],
      "metadata": {
        "id": "bhFix5o66a2r"
      }
    },
    {
      "cell_type": "markdown",
      "source": [
        "Import the data from the csv."
      ],
      "metadata": {
        "id": "H5WLDJfhKOsl"
      }
    },
    {
      "cell_type": "code",
      "source": [
        "PCPAO_SalesDATA = pd.read_csv('/content/drive/MyDrive/Data Science Course/Capstone Work/Raw_Data/PCPAOSalesDATA.csv',low_memory=False)"
      ],
      "metadata": {
        "id": "URlgZgj2KEa7"
      },
      "execution_count": 2,
      "outputs": []
    },
    {
      "cell_type": "code",
      "source": [
        "PCPAO_SalesDATA.info()"
      ],
      "metadata": {
        "colab": {
          "base_uri": "https://localhost:8080/"
        },
        "collapsed": true,
        "id": "YWxbm6wlLI8Y",
        "outputId": "1b11fa11-e09e-4964-9373-ccc36769383c"
      },
      "execution_count": 3,
      "outputs": [
        {
          "output_type": "stream",
          "name": "stdout",
          "text": [
            "<class 'pandas.core.frame.DataFrame'>\n",
            "RangeIndex: 1155164 entries, 0 to 1155163\n",
            "Data columns (total 54 columns):\n",
            " #   Column               Non-Null Count    Dtype  \n",
            "---  ------               --------------    -----  \n",
            " 0   PARCEL_NUMBER        1155164 non-null  object \n",
            " 1   OWNER1               1155134 non-null  object \n",
            " 2   OWNER2               624705 non-null   object \n",
            " 3   SITE_ADDRESS         1155160 non-null  object \n",
            " 4   SITE_CITYZIP         1155164 non-null  object \n",
            " 5   SUBDIVISION          1147546 non-null  object \n",
            " 6   LAND_SIZE            760559 non-null   object \n",
            " 7   TOTAL_LIVING_SQFT    1155156 non-null  float64\n",
            " 8   TOTAL_GROSS_SQFT     1155156 non-null  float64\n",
            " 9   NBORHOOD_CD          1155164 non-null  float64\n",
            " 10  YEAR_BUILT_BLD1      1155098 non-null  float64\n",
            " 11  TOTAL_LIVING_UNITS   1155156 non-null  float64\n",
            " 12  ACREAGE              1155164 non-null  float64\n",
            " 13  CNTY_JST_VALUE       1155164 non-null  int64  \n",
            " 14  CNTY_ASD_VALUE       1155164 non-null  int64  \n",
            " 15  CNTY_TAXABLE_VALUE   1155164 non-null  int64  \n",
            " 16  TAX_DIST_DSCR        1155079 non-null  object \n",
            " 17  SPECIAL_ASSESSMENT   1155079 non-null  float64\n",
            " 18  JUST_LAND            1155164 non-null  int64  \n",
            " 19  JUST_BUILDING        1155164 non-null  int64  \n",
            " 20  JUST_EXTRA_FEATURES  1155164 non-null  int64  \n",
            " 21  PROPERTY_USE         1155164 non-null  object \n",
            " 22  SALES_DATE           1155164 non-null  object \n",
            " 23  PRICE                1155164 non-null  int64  \n",
            " 24  QU_FLG               1155164 non-null  object \n",
            " 25  SEAWALL              1152774 non-null  object \n",
            " 26  FRONTAGE             151205 non-null   object \n",
            " 27  VIEWS                23763 non-null    object \n",
            " 28  CONTAMINATION_YN     1155164 non-null  object \n",
            " 29  SUBSIDENCE_YN        1155164 non-null  object \n",
            " 30  DLHL_YN              1155164 non-null  object \n",
            " 31  EVAC_ZONE            1155164 non-null  object \n",
            " 32  STR_PFX              40900 non-null    object \n",
            " 33  LAND_AREA_SF         1155164 non-null  int64  \n",
            " 34  POOL                 1155164 non-null  object \n",
            " 35  WATERFRONT_YN        1155164 non-null  object \n",
            " 36  STR_NUM              1155164 non-null  int64  \n",
            " 37  STR_NAME             1155160 non-null  object \n",
            " 38  STR_SFX              1133155 non-null  object \n",
            " 39  STR_SFX_DIR          468208 non-null   object \n",
            " 40  STR_CITY             1155160 non-null  object \n",
            " 41  STR_ZIP              1155160 non-null  object \n",
            " 42  EFFECTIVE_AGE        762490 non-null   float64\n",
            " 43  COOLING              737738 non-null   object \n",
            " 44  EXTERIOR_WALLS       1155156 non-null  object \n",
            " 45  RCN                  1155156 non-null  float64\n",
            " 46  FLOOR_FINISH         760565 non-null   object \n",
            " 47  FLOOR_SYSTEM         760565 non-null   object \n",
            " 48  FOUNDATION           760561 non-null   object \n",
            " 49  INTERIOR_FINISH      760565 non-null   object \n",
            " 50  LIVING_UNITS         1153175 non-null  float64\n",
            " 51  ROOF_COVER           760565 non-null   object \n",
            " 52  ROOF_FRAME           760565 non-null   object \n",
            " 53  PARCEL_TYPE          1155164 non-null  object \n",
            "dtypes: float64(10), int64(9), object(35)\n",
            "memory usage: 475.9+ MB\n"
          ]
        }
      ]
    },
    {
      "cell_type": "markdown",
      "source": [
        "##1.2 PROPERTY_USE and PARCEL_TYPE\n"
      ],
      "metadata": {
        "id": "m_76SnpKLHBW"
      }
    },
    {
      "cell_type": "code",
      "execution_count": 4,
      "metadata": {
        "id": "OeccGbXLHAjO"
      },
      "outputs": [],
      "source": [
        "PCPAO_SalesDATA = PCPAO_SalesDATA[PCPAO_SalesDATA['PROPERTY_USE'] == '0110 Single Family Home']\n"
      ]
    },
    {
      "cell_type": "code",
      "source": [
        "PCPAO_SalesDATA[['PROPERTY_USE','PARCEL_TYPE']].value_counts(dropna=False)"
      ],
      "metadata": {
        "colab": {
          "base_uri": "https://localhost:8080/",
          "height": 147
        },
        "id": "kLr-3ABWfuW3",
        "outputId": "aea04798-6c91-468f-9ddd-23a1078fb761"
      },
      "execution_count": 5,
      "outputs": [
        {
          "output_type": "execute_result",
          "data": {
            "text/plain": [
              "PROPERTY_USE             PARCEL_TYPE\n",
              "0110 Single Family Home  Residential    703484\n",
              "Name: count, dtype: int64"
            ],
            "text/html": [
              "<div>\n",
              "<style scoped>\n",
              "    .dataframe tbody tr th:only-of-type {\n",
              "        vertical-align: middle;\n",
              "    }\n",
              "\n",
              "    .dataframe tbody tr th {\n",
              "        vertical-align: top;\n",
              "    }\n",
              "\n",
              "    .dataframe thead th {\n",
              "        text-align: right;\n",
              "    }\n",
              "</style>\n",
              "<table border=\"1\" class=\"dataframe\">\n",
              "  <thead>\n",
              "    <tr style=\"text-align: right;\">\n",
              "      <th></th>\n",
              "      <th></th>\n",
              "      <th>count</th>\n",
              "    </tr>\n",
              "    <tr>\n",
              "      <th>PROPERTY_USE</th>\n",
              "      <th>PARCEL_TYPE</th>\n",
              "      <th></th>\n",
              "    </tr>\n",
              "  </thead>\n",
              "  <tbody>\n",
              "    <tr>\n",
              "      <th>0110 Single Family Home</th>\n",
              "      <th>Residential</th>\n",
              "      <td>703484</td>\n",
              "    </tr>\n",
              "  </tbody>\n",
              "</table>\n",
              "</div><br><label><b>dtype:</b> int64</label>"
            ]
          },
          "metadata": {},
          "execution_count": 5
        }
      ]
    },
    {
      "cell_type": "markdown",
      "source": [
        "Since all of the data is '0110 Single Family Home', dropping the PROPERTY_USE and PARCEL_TYPE columns."
      ],
      "metadata": {
        "id": "iy_2ZY1efqcH"
      }
    },
    {
      "cell_type": "code",
      "source": [
        "PCPAO_SalesDATA = PCPAO_SalesDATA.drop(['PROPERTY_USE','PARCEL_TYPE'],axis=1)"
      ],
      "metadata": {
        "id": "3oaddU1mfUxe"
      },
      "execution_count": 6,
      "outputs": []
    },
    {
      "cell_type": "markdown",
      "source": [
        "##1.3 Converting the SALES_DATE to a datetime data type."
      ],
      "metadata": {
        "id": "ny5FtX-3MdPm"
      }
    },
    {
      "cell_type": "code",
      "source": [
        "PCPAO_SalesDATA['SALES_DATE'] = pd.to_datetime(PCPAO_SalesDATA['SALES_DATE'],format='%m/%d/%Y %I:%M:%S %p')\n"
      ],
      "metadata": {
        "collapsed": true,
        "id": "1oJKXsgQMZyX"
      },
      "execution_count": 7,
      "outputs": []
    },
    {
      "cell_type": "markdown",
      "source": [
        "###1.3.2 Creating a SALES_YEAR column"
      ],
      "metadata": {
        "id": "ziiIK2jwFmAR"
      }
    },
    {
      "cell_type": "code",
      "source": [
        "PCPAO_SalesDATA['SALES_YEAR'] = PCPAO_SalesDATA['SALES_DATE'].dt.year"
      ],
      "metadata": {
        "id": "9-038i8VFtIs"
      },
      "execution_count": 8,
      "outputs": []
    },
    {
      "cell_type": "markdown",
      "source": [
        "##1.4 Address Concerns"
      ],
      "metadata": {
        "id": "xHe6LbEo7vTJ"
      }
    },
    {
      "cell_type": "markdown",
      "source": [
        "###1.4.1 Dropping Owner Names\n",
        "Owner Names are too unique and don't inform about the parcel."
      ],
      "metadata": {
        "id": "pBiKe70UauPq"
      }
    },
    {
      "cell_type": "code",
      "source": [
        "PCPAO_SalesDATA = PCPAO_SalesDATA.drop(['OWNER1','OWNER2'],axis=1)"
      ],
      "metadata": {
        "id": "K2rXnKYaPOhJ"
      },
      "execution_count": 9,
      "outputs": []
    },
    {
      "cell_type": "markdown",
      "source": [
        "###1.4.2 Dropping Address columns execept for STR_CITY and STR_ZIP\n",
        "\n",
        "From previous exploration, SITE_ADDRESS and SITE_CITYZIP matchup well enough with all of the STR_PFX, STR_NUM, STR_NAME, STR_SFX, STR_SFX_DIR, STR_CITY, and STR_ZIP, that I am not concerned with address issues. I will drop all of the address data except for STR_CITY and STR_ZIP as those will enable me to merge crime_data to this set later."
      ],
      "metadata": {
        "id": "sFdGk-9tZVPD"
      }
    },
    {
      "cell_type": "code",
      "source": [
        "PCPAO_SalesDATA = PCPAO_SalesDATA.drop(['STR_PFX','STR_NUM','STR_NAME','STR_SFX','STR_SFX_DIR','SITE_ADDRESS','SITE_CITYZIP'],axis=1)"
      ],
      "metadata": {
        "id": "-fehy9OCPAO2"
      },
      "execution_count": 10,
      "outputs": []
    },
    {
      "cell_type": "markdown",
      "source": [
        "###1.4.3 Cleaning Some null STR_ZIP and STR_CITY values\n",
        "Also renaming STR_ZIP to ZIP and STR_CITY to CITY\n"
      ],
      "metadata": {
        "id": "FndDCvbMZmVz"
      }
    },
    {
      "cell_type": "code",
      "source": [
        "PCPAO_SalesDATA.rename(columns={'STR_ZIP':'ZIP','STR_CITY':'CITY'},inplace=True)"
      ],
      "metadata": {
        "id": "9oQAPnmaAOqC"
      },
      "execution_count": 11,
      "outputs": []
    },
    {
      "cell_type": "code",
      "source": [
        "PCPAO_SalesDATA[['ZIP','CITY']].nunique()"
      ],
      "metadata": {
        "colab": {
          "base_uri": "https://localhost:8080/",
          "height": 147
        },
        "id": "l9CY3qfdpYKY",
        "outputId": "1fa35d04-4e94-4524-e62b-1a6bb170d91e"
      },
      "execution_count": 12,
      "outputs": [
        {
          "output_type": "execute_result",
          "data": {
            "text/plain": [
              "ZIP     51\n",
              "CITY    27\n",
              "dtype: int64"
            ],
            "text/html": [
              "<div>\n",
              "<style scoped>\n",
              "    .dataframe tbody tr th:only-of-type {\n",
              "        vertical-align: middle;\n",
              "    }\n",
              "\n",
              "    .dataframe tbody tr th {\n",
              "        vertical-align: top;\n",
              "    }\n",
              "\n",
              "    .dataframe thead th {\n",
              "        text-align: right;\n",
              "    }\n",
              "</style>\n",
              "<table border=\"1\" class=\"dataframe\">\n",
              "  <thead>\n",
              "    <tr style=\"text-align: right;\">\n",
              "      <th></th>\n",
              "      <th>0</th>\n",
              "    </tr>\n",
              "  </thead>\n",
              "  <tbody>\n",
              "    <tr>\n",
              "      <th>ZIP</th>\n",
              "      <td>51</td>\n",
              "    </tr>\n",
              "    <tr>\n",
              "      <th>CITY</th>\n",
              "      <td>27</td>\n",
              "    </tr>\n",
              "  </tbody>\n",
              "</table>\n",
              "</div><br><label><b>dtype:</b> int64</label>"
            ]
          },
          "metadata": {},
          "execution_count": 12
        }
      ]
    },
    {
      "cell_type": "markdown",
      "source": [
        "I want a list of the cities. I do not want additional state names in them."
      ],
      "metadata": {
        "id": "C8Hh-z84yZu3"
      }
    },
    {
      "cell_type": "code",
      "source": [
        "print(PCPAO_SalesDATA['CITY'].unique())"
      ],
      "metadata": {
        "colab": {
          "base_uri": "https://localhost:8080/"
        },
        "id": "rq97gN3gyiBH",
        "outputId": "4302aecb-089c-4240-84f4-f413625d1d42"
      },
      "execution_count": 13,
      "outputs": [
        {
          "output_type": "stream",
          "name": "stdout",
          "text": [
            "['TARPON SPRINGS' 'PALM HARBOR' 'CLEARWATER' 'INDIAN ROCKS BEACH' 'LARGO'\n",
            " 'ST PETERSBURG' 'CRYSTAL BEACH' 'SEMINOLE' 'OLDSMAR' 'SAFETY HARBOR'\n",
            " 'MADEIRA BEACH' 'REDINGTON BEACH' 'KENNETH CITY' 'BELLEAIR BLUFFS'\n",
            " 'NORTH REDINGTON BEACH' 'ST PETE BEACH' 'PINELLAS PARK' 'DUNEDIN'\n",
            " 'INDIAN SHORES' 'TREASURE ISLAND' 'TIERRA VERDE' 'BELLEAIR' 'GULFPORT'\n",
            " 'SOUTH PASADENA' 'BELLEAIR BEACH' 'BELLEAIR SHORE' 'REDINGTON SHORES' nan]\n"
          ]
        }
      ]
    },
    {
      "cell_type": "code",
      "source": [
        "PCPAO_SalesDATA[PCPAO_SalesDATA['CITY'].isnull()]['PARCEL_NUMBER']"
      ],
      "metadata": {
        "colab": {
          "base_uri": "https://localhost:8080/",
          "height": 210
        },
        "id": "Dzs6wRaVy6kJ",
        "outputId": "fb435cb1-22e4-44b5-fb5e-286128caef4e"
      },
      "execution_count": 14,
      "outputs": [
        {
          "output_type": "execute_result",
          "data": {
            "text/plain": [
              "1132323    36-29-15-94104-004-0030\n",
              "1132324    36-29-15-94104-004-0030\n",
              "1132325    36-29-15-94104-004-0030\n",
              "1132326    36-29-15-94104-004-0030\n",
              "Name: PARCEL_NUMBER, dtype: object"
            ],
            "text/html": [
              "<div>\n",
              "<style scoped>\n",
              "    .dataframe tbody tr th:only-of-type {\n",
              "        vertical-align: middle;\n",
              "    }\n",
              "\n",
              "    .dataframe tbody tr th {\n",
              "        vertical-align: top;\n",
              "    }\n",
              "\n",
              "    .dataframe thead th {\n",
              "        text-align: right;\n",
              "    }\n",
              "</style>\n",
              "<table border=\"1\" class=\"dataframe\">\n",
              "  <thead>\n",
              "    <tr style=\"text-align: right;\">\n",
              "      <th></th>\n",
              "      <th>PARCEL_NUMBER</th>\n",
              "    </tr>\n",
              "  </thead>\n",
              "  <tbody>\n",
              "    <tr>\n",
              "      <th>1132323</th>\n",
              "      <td>36-29-15-94104-004-0030</td>\n",
              "    </tr>\n",
              "    <tr>\n",
              "      <th>1132324</th>\n",
              "      <td>36-29-15-94104-004-0030</td>\n",
              "    </tr>\n",
              "    <tr>\n",
              "      <th>1132325</th>\n",
              "      <td>36-29-15-94104-004-0030</td>\n",
              "    </tr>\n",
              "    <tr>\n",
              "      <th>1132326</th>\n",
              "      <td>36-29-15-94104-004-0030</td>\n",
              "    </tr>\n",
              "  </tbody>\n",
              "</table>\n",
              "</div><br><label><b>dtype:</b> object</label>"
            ]
          },
          "metadata": {},
          "execution_count": 14
        }
      ]
    },
    {
      "cell_type": "markdown",
      "source": [
        "I want a list of the zip codes. Every single zip should only be 5 digits for my purposes."
      ],
      "metadata": {
        "id": "7LmWUt8NvPCL"
      }
    },
    {
      "cell_type": "code",
      "source": [
        "print(PCPAO_SalesDATA['ZIP'].unique())"
      ],
      "metadata": {
        "colab": {
          "base_uri": "https://localhost:8080/"
        },
        "id": "f6iIYfJsvMrz",
        "outputId": "003491c7-64bf-4370-81bc-cbadb1885378"
      },
      "execution_count": 15,
      "outputs": [
        {
          "output_type": "stream",
          "name": "stdout",
          "text": [
            "['34689' '34683' '33763' '33765' '33755' '33785' '33771' '33762' '33709'\n",
            " '33710' '33714' '33703' '33704' '33713' '33705' '33712' '34681' '33708'\n",
            " '34688' '34677' '34695' '33778' '33770' '33701' '33711' '34684' '34685'\n",
            " '33759' '33774' '33760' '34690' '33767' '33786' '33764' '33706' '33773'\n",
            " '33702' '33756' '33715' '34698' '33713-3413' '33765-2423' '33777' '33761'\n",
            " '33782' '33716' '33776' '33707' '33772' '33781' '33756-1667' nan]\n"
          ]
        }
      ]
    },
    {
      "cell_type": "code",
      "source": [
        "temp_index = PCPAO_SalesDATA[PCPAO_SalesDATA['ZIP'].str.len()>5].index\n",
        "PCPAO_SalesDATA.loc[temp_index,'ZIP'] = PCPAO_SalesDATA.loc[temp_index,'ZIP'].str[:5]"
      ],
      "metadata": {
        "id": "1PZnyTubv5VW"
      },
      "execution_count": 16,
      "outputs": []
    },
    {
      "cell_type": "markdown",
      "source": [
        "I want to see if there are a lot of parcels with no zip."
      ],
      "metadata": {
        "id": "0Cz1N98Gwukr"
      }
    },
    {
      "cell_type": "code",
      "source": [
        "PCPAO_SalesDATA[PCPAO_SalesDATA['ZIP'].isnull()][['PARCEL_NUMBER','CITY','ZIP']]"
      ],
      "metadata": {
        "colab": {
          "base_uri": "https://localhost:8080/",
          "height": 175
        },
        "id": "6WP65wZgxDcg",
        "outputId": "8fbfcdb0-a1a1-49aa-9162-a48c620e6b46"
      },
      "execution_count": 17,
      "outputs": [
        {
          "output_type": "execute_result",
          "data": {
            "text/plain": [
              "                   PARCEL_NUMBER CITY  ZIP\n",
              "1132323  36-29-15-94104-004-0030  NaN  NaN\n",
              "1132324  36-29-15-94104-004-0030  NaN  NaN\n",
              "1132325  36-29-15-94104-004-0030  NaN  NaN\n",
              "1132326  36-29-15-94104-004-0030  NaN  NaN"
            ],
            "text/html": [
              "\n",
              "  <div id=\"df-da9324ca-6079-473c-968d-1d18f339d78b\" class=\"colab-df-container\">\n",
              "    <div>\n",
              "<style scoped>\n",
              "    .dataframe tbody tr th:only-of-type {\n",
              "        vertical-align: middle;\n",
              "    }\n",
              "\n",
              "    .dataframe tbody tr th {\n",
              "        vertical-align: top;\n",
              "    }\n",
              "\n",
              "    .dataframe thead th {\n",
              "        text-align: right;\n",
              "    }\n",
              "</style>\n",
              "<table border=\"1\" class=\"dataframe\">\n",
              "  <thead>\n",
              "    <tr style=\"text-align: right;\">\n",
              "      <th></th>\n",
              "      <th>PARCEL_NUMBER</th>\n",
              "      <th>CITY</th>\n",
              "      <th>ZIP</th>\n",
              "    </tr>\n",
              "  </thead>\n",
              "  <tbody>\n",
              "    <tr>\n",
              "      <th>1132323</th>\n",
              "      <td>36-29-15-94104-004-0030</td>\n",
              "      <td>NaN</td>\n",
              "      <td>NaN</td>\n",
              "    </tr>\n",
              "    <tr>\n",
              "      <th>1132324</th>\n",
              "      <td>36-29-15-94104-004-0030</td>\n",
              "      <td>NaN</td>\n",
              "      <td>NaN</td>\n",
              "    </tr>\n",
              "    <tr>\n",
              "      <th>1132325</th>\n",
              "      <td>36-29-15-94104-004-0030</td>\n",
              "      <td>NaN</td>\n",
              "      <td>NaN</td>\n",
              "    </tr>\n",
              "    <tr>\n",
              "      <th>1132326</th>\n",
              "      <td>36-29-15-94104-004-0030</td>\n",
              "      <td>NaN</td>\n",
              "      <td>NaN</td>\n",
              "    </tr>\n",
              "  </tbody>\n",
              "</table>\n",
              "</div>\n",
              "    <div class=\"colab-df-buttons\">\n",
              "\n",
              "  <div class=\"colab-df-container\">\n",
              "    <button class=\"colab-df-convert\" onclick=\"convertToInteractive('df-da9324ca-6079-473c-968d-1d18f339d78b')\"\n",
              "            title=\"Convert this dataframe to an interactive table.\"\n",
              "            style=\"display:none;\">\n",
              "\n",
              "  <svg xmlns=\"http://www.w3.org/2000/svg\" height=\"24px\" viewBox=\"0 -960 960 960\">\n",
              "    <path d=\"M120-120v-720h720v720H120Zm60-500h600v-160H180v160Zm220 220h160v-160H400v160Zm0 220h160v-160H400v160ZM180-400h160v-160H180v160Zm440 0h160v-160H620v160ZM180-180h160v-160H180v160Zm440 0h160v-160H620v160Z\"/>\n",
              "  </svg>\n",
              "    </button>\n",
              "\n",
              "  <style>\n",
              "    .colab-df-container {\n",
              "      display:flex;\n",
              "      gap: 12px;\n",
              "    }\n",
              "\n",
              "    .colab-df-convert {\n",
              "      background-color: #E8F0FE;\n",
              "      border: none;\n",
              "      border-radius: 50%;\n",
              "      cursor: pointer;\n",
              "      display: none;\n",
              "      fill: #1967D2;\n",
              "      height: 32px;\n",
              "      padding: 0 0 0 0;\n",
              "      width: 32px;\n",
              "    }\n",
              "\n",
              "    .colab-df-convert:hover {\n",
              "      background-color: #E2EBFA;\n",
              "      box-shadow: 0px 1px 2px rgba(60, 64, 67, 0.3), 0px 1px 3px 1px rgba(60, 64, 67, 0.15);\n",
              "      fill: #174EA6;\n",
              "    }\n",
              "\n",
              "    .colab-df-buttons div {\n",
              "      margin-bottom: 4px;\n",
              "    }\n",
              "\n",
              "    [theme=dark] .colab-df-convert {\n",
              "      background-color: #3B4455;\n",
              "      fill: #D2E3FC;\n",
              "    }\n",
              "\n",
              "    [theme=dark] .colab-df-convert:hover {\n",
              "      background-color: #434B5C;\n",
              "      box-shadow: 0px 1px 3px 1px rgba(0, 0, 0, 0.15);\n",
              "      filter: drop-shadow(0px 1px 2px rgba(0, 0, 0, 0.3));\n",
              "      fill: #FFFFFF;\n",
              "    }\n",
              "  </style>\n",
              "\n",
              "    <script>\n",
              "      const buttonEl =\n",
              "        document.querySelector('#df-da9324ca-6079-473c-968d-1d18f339d78b button.colab-df-convert');\n",
              "      buttonEl.style.display =\n",
              "        google.colab.kernel.accessAllowed ? 'block' : 'none';\n",
              "\n",
              "      async function convertToInteractive(key) {\n",
              "        const element = document.querySelector('#df-da9324ca-6079-473c-968d-1d18f339d78b');\n",
              "        const dataTable =\n",
              "          await google.colab.kernel.invokeFunction('convertToInteractive',\n",
              "                                                    [key], {});\n",
              "        if (!dataTable) return;\n",
              "\n",
              "        const docLinkHtml = 'Like what you see? Visit the ' +\n",
              "          '<a target=\"_blank\" href=https://colab.research.google.com/notebooks/data_table.ipynb>data table notebook</a>'\n",
              "          + ' to learn more about interactive tables.';\n",
              "        element.innerHTML = '';\n",
              "        dataTable['output_type'] = 'display_data';\n",
              "        await google.colab.output.renderOutput(dataTable, element);\n",
              "        const docLink = document.createElement('div');\n",
              "        docLink.innerHTML = docLinkHtml;\n",
              "        element.appendChild(docLink);\n",
              "      }\n",
              "    </script>\n",
              "  </div>\n",
              "\n",
              "\n",
              "<div id=\"df-f61be228-9959-4bbd-959f-d6f030de0a3f\">\n",
              "  <button class=\"colab-df-quickchart\" onclick=\"quickchart('df-f61be228-9959-4bbd-959f-d6f030de0a3f')\"\n",
              "            title=\"Suggest charts\"\n",
              "            style=\"display:none;\">\n",
              "\n",
              "<svg xmlns=\"http://www.w3.org/2000/svg\" height=\"24px\"viewBox=\"0 0 24 24\"\n",
              "     width=\"24px\">\n",
              "    <g>\n",
              "        <path d=\"M19 3H5c-1.1 0-2 .9-2 2v14c0 1.1.9 2 2 2h14c1.1 0 2-.9 2-2V5c0-1.1-.9-2-2-2zM9 17H7v-7h2v7zm4 0h-2V7h2v10zm4 0h-2v-4h2v4z\"/>\n",
              "    </g>\n",
              "</svg>\n",
              "  </button>\n",
              "\n",
              "<style>\n",
              "  .colab-df-quickchart {\n",
              "      --bg-color: #E8F0FE;\n",
              "      --fill-color: #1967D2;\n",
              "      --hover-bg-color: #E2EBFA;\n",
              "      --hover-fill-color: #174EA6;\n",
              "      --disabled-fill-color: #AAA;\n",
              "      --disabled-bg-color: #DDD;\n",
              "  }\n",
              "\n",
              "  [theme=dark] .colab-df-quickchart {\n",
              "      --bg-color: #3B4455;\n",
              "      --fill-color: #D2E3FC;\n",
              "      --hover-bg-color: #434B5C;\n",
              "      --hover-fill-color: #FFFFFF;\n",
              "      --disabled-bg-color: #3B4455;\n",
              "      --disabled-fill-color: #666;\n",
              "  }\n",
              "\n",
              "  .colab-df-quickchart {\n",
              "    background-color: var(--bg-color);\n",
              "    border: none;\n",
              "    border-radius: 50%;\n",
              "    cursor: pointer;\n",
              "    display: none;\n",
              "    fill: var(--fill-color);\n",
              "    height: 32px;\n",
              "    padding: 0;\n",
              "    width: 32px;\n",
              "  }\n",
              "\n",
              "  .colab-df-quickchart:hover {\n",
              "    background-color: var(--hover-bg-color);\n",
              "    box-shadow: 0 1px 2px rgba(60, 64, 67, 0.3), 0 1px 3px 1px rgba(60, 64, 67, 0.15);\n",
              "    fill: var(--button-hover-fill-color);\n",
              "  }\n",
              "\n",
              "  .colab-df-quickchart-complete:disabled,\n",
              "  .colab-df-quickchart-complete:disabled:hover {\n",
              "    background-color: var(--disabled-bg-color);\n",
              "    fill: var(--disabled-fill-color);\n",
              "    box-shadow: none;\n",
              "  }\n",
              "\n",
              "  .colab-df-spinner {\n",
              "    border: 2px solid var(--fill-color);\n",
              "    border-color: transparent;\n",
              "    border-bottom-color: var(--fill-color);\n",
              "    animation:\n",
              "      spin 1s steps(1) infinite;\n",
              "  }\n",
              "\n",
              "  @keyframes spin {\n",
              "    0% {\n",
              "      border-color: transparent;\n",
              "      border-bottom-color: var(--fill-color);\n",
              "      border-left-color: var(--fill-color);\n",
              "    }\n",
              "    20% {\n",
              "      border-color: transparent;\n",
              "      border-left-color: var(--fill-color);\n",
              "      border-top-color: var(--fill-color);\n",
              "    }\n",
              "    30% {\n",
              "      border-color: transparent;\n",
              "      border-left-color: var(--fill-color);\n",
              "      border-top-color: var(--fill-color);\n",
              "      border-right-color: var(--fill-color);\n",
              "    }\n",
              "    40% {\n",
              "      border-color: transparent;\n",
              "      border-right-color: var(--fill-color);\n",
              "      border-top-color: var(--fill-color);\n",
              "    }\n",
              "    60% {\n",
              "      border-color: transparent;\n",
              "      border-right-color: var(--fill-color);\n",
              "    }\n",
              "    80% {\n",
              "      border-color: transparent;\n",
              "      border-right-color: var(--fill-color);\n",
              "      border-bottom-color: var(--fill-color);\n",
              "    }\n",
              "    90% {\n",
              "      border-color: transparent;\n",
              "      border-bottom-color: var(--fill-color);\n",
              "    }\n",
              "  }\n",
              "</style>\n",
              "\n",
              "  <script>\n",
              "    async function quickchart(key) {\n",
              "      const quickchartButtonEl =\n",
              "        document.querySelector('#' + key + ' button');\n",
              "      quickchartButtonEl.disabled = true;  // To prevent multiple clicks.\n",
              "      quickchartButtonEl.classList.add('colab-df-spinner');\n",
              "      try {\n",
              "        const charts = await google.colab.kernel.invokeFunction(\n",
              "            'suggestCharts', [key], {});\n",
              "      } catch (error) {\n",
              "        console.error('Error during call to suggestCharts:', error);\n",
              "      }\n",
              "      quickchartButtonEl.classList.remove('colab-df-spinner');\n",
              "      quickchartButtonEl.classList.add('colab-df-quickchart-complete');\n",
              "    }\n",
              "    (() => {\n",
              "      let quickchartButtonEl =\n",
              "        document.querySelector('#df-f61be228-9959-4bbd-959f-d6f030de0a3f button');\n",
              "      quickchartButtonEl.style.display =\n",
              "        google.colab.kernel.accessAllowed ? 'block' : 'none';\n",
              "    })();\n",
              "  </script>\n",
              "</div>\n",
              "\n",
              "    </div>\n",
              "  </div>\n"
            ],
            "application/vnd.google.colaboratory.intrinsic+json": {
              "type": "dataframe",
              "repr_error": "0"
            }
          },
          "metadata": {},
          "execution_count": 17
        }
      ]
    },
    {
      "cell_type": "markdown",
      "source": [
        "Only one parcel without city or zip. Looking up the parcel number gives an address of LARGO and 33771"
      ],
      "metadata": {
        "id": "tDt7IStax_cl"
      }
    },
    {
      "cell_type": "code",
      "source": [
        "temp_index = PCPAO_SalesDATA[PCPAO_SalesDATA['ZIP'].isnull()].index\n",
        "PCPAO_SalesDATA.loc[temp_index,'ZIP'] = '33771'\n",
        "PCPAO_SalesDATA.loc[temp_index,'CITY'] = 'LARGO'"
      ],
      "metadata": {
        "id": "lwZF6g2KzP1z"
      },
      "execution_count": 18,
      "outputs": []
    },
    {
      "cell_type": "markdown",
      "source": [
        "##1.5 Parcel Features Columns"
      ],
      "metadata": {
        "id": "t0WvB9C3n-63"
      }
    },
    {
      "cell_type": "markdown",
      "source": [
        "Parcel Features are contamination, subsidence, waterfront, seawall, pool, living units, and total living units.\n",
        "\n",
        "Contamination, subsidence, waterfront, seawall, and pool should all be Y/N options.\n",
        "\n",
        "I selected '0110 Single-family housing' for the property_use in 1.2, so living units and total living units should be 1 for each parcel."
      ],
      "metadata": {
        "id": "wbVRslXwrNmc"
      }
    },
    {
      "cell_type": "markdown",
      "source": [
        "###1.5.1 Checking the Y/N columns"
      ],
      "metadata": {
        "id": "_5y4n-Oliqab"
      }
    },
    {
      "cell_type": "markdown",
      "source": [
        "Are the YN columns all YN? They should be. If they aren't that will be fixed.\n",
        "Once they are, I will drop the YN from their names."
      ],
      "metadata": {
        "id": "CBJrz55VoOVT"
      }
    },
    {
      "cell_type": "code",
      "source": [
        "yn_cols = ['CONTAMINATION_YN','SUBSIDENCE_YN','POOL','WATERFRONT_YN','SEAWALL']\n",
        "for col in yn_cols:\n",
        "  print(col,PCPAO_SalesDATA[col].unique())"
      ],
      "metadata": {
        "colab": {
          "base_uri": "https://localhost:8080/"
        },
        "id": "WyMz-QrEoMPK",
        "outputId": "ca316c67-5758-4a08-aac9-404f852453b2"
      },
      "execution_count": 19,
      "outputs": [
        {
          "output_type": "stream",
          "name": "stdout",
          "text": [
            "CONTAMINATION_YN ['N' 'Y']\n",
            "SUBSIDENCE_YN ['N' 'Y']\n",
            "POOL ['N' 'Y']\n",
            "WATERFRONT_YN ['N' 'Y']\n",
            "SEAWALL ['No' nan 'Yes']\n"
          ]
        }
      ]
    },
    {
      "cell_type": "markdown",
      "source": [
        "###1.5.2 Seawall cleaning\n",
        "I will convert the 'No' to N and the 'Yes' to Y for these values. I will drop the NaN values for SEAWALL"
      ],
      "metadata": {
        "id": "K8IRM8M_qllu"
      }
    },
    {
      "cell_type": "code",
      "source": [
        "PCPAO_SalesDATA['SEAWALL'].value_counts(dropna=False)"
      ],
      "metadata": {
        "colab": {
          "base_uri": "https://localhost:8080/",
          "height": 210
        },
        "id": "gJBfQhgX4wiR",
        "outputId": "a3671a02-bcd1-4bf5-ddf8-eb0ed5c4815e"
      },
      "execution_count": 20,
      "outputs": [
        {
          "output_type": "execute_result",
          "data": {
            "text/plain": [
              "SEAWALL\n",
              "No     653007\n",
              "Yes     49963\n",
              "NaN       514\n",
              "Name: count, dtype: int64"
            ],
            "text/html": [
              "<div>\n",
              "<style scoped>\n",
              "    .dataframe tbody tr th:only-of-type {\n",
              "        vertical-align: middle;\n",
              "    }\n",
              "\n",
              "    .dataframe tbody tr th {\n",
              "        vertical-align: top;\n",
              "    }\n",
              "\n",
              "    .dataframe thead th {\n",
              "        text-align: right;\n",
              "    }\n",
              "</style>\n",
              "<table border=\"1\" class=\"dataframe\">\n",
              "  <thead>\n",
              "    <tr style=\"text-align: right;\">\n",
              "      <th></th>\n",
              "      <th>count</th>\n",
              "    </tr>\n",
              "    <tr>\n",
              "      <th>SEAWALL</th>\n",
              "      <th></th>\n",
              "    </tr>\n",
              "  </thead>\n",
              "  <tbody>\n",
              "    <tr>\n",
              "      <th>No</th>\n",
              "      <td>653007</td>\n",
              "    </tr>\n",
              "    <tr>\n",
              "      <th>Yes</th>\n",
              "      <td>49963</td>\n",
              "    </tr>\n",
              "    <tr>\n",
              "      <th>NaN</th>\n",
              "      <td>514</td>\n",
              "    </tr>\n",
              "  </tbody>\n",
              "</table>\n",
              "</div><br><label><b>dtype:</b> int64</label>"
            ]
          },
          "metadata": {},
          "execution_count": 20
        }
      ]
    },
    {
      "cell_type": "code",
      "source": [
        "PCPAO_SalesDATA.drop(PCPAO_SalesDATA[PCPAO_SalesDATA['SEAWALL'].isnull()].index,inplace=True)\n",
        "PCPAO_SalesDATA.loc[PCPAO_SalesDATA['SEAWALL']=='No','SEAWALL'] = 'N'\n",
        "PCPAO_SalesDATA.loc[PCPAO_SalesDATA['SEAWALL']=='Yes','SEAWALL'] = 'Y'"
      ],
      "metadata": {
        "id": "RUqH5jIOq5XR"
      },
      "execution_count": 21,
      "outputs": []
    },
    {
      "cell_type": "markdown",
      "source": [
        "###1.5.3 Renaming Contamination, Subsidence and Waterfront columns"
      ],
      "metadata": {
        "id": "NKvYYagXrkuo"
      }
    },
    {
      "cell_type": "code",
      "source": [
        "PCPAO_SalesDATA.rename(columns={'CONTAMINATION_YN':'CONTAMINATION','SUBSIDENCE_YN':'SUBSIDENCE','WATERFRONT_YN':'WATERFRONT'},inplace=True)"
      ],
      "metadata": {
        "id": "Dq3zCKGtrs5v"
      },
      "execution_count": 22,
      "outputs": []
    },
    {
      "cell_type": "markdown",
      "source": [
        "###1.5.4 Living units and Total Living units\n",
        "These should both be one right? I selected for single-family housing."
      ],
      "metadata": {
        "id": "CxCqiRxO3wF5"
      }
    },
    {
      "cell_type": "code",
      "source": [
        "for col in ['LIVING_UNITS','TOTAL_LIVING_UNITS']:\n",
        "  print(PCPAO_SalesDATA[col].value_counts(dropna=False))"
      ],
      "metadata": {
        "colab": {
          "base_uri": "https://localhost:8080/"
        },
        "id": "Xlx0Ryeu3-7R",
        "outputId": "52e3a773-98ff-4d34-a581-ed696986430f"
      },
      "execution_count": 23,
      "outputs": [
        {
          "output_type": "stream",
          "name": "stdout",
          "text": [
            "LIVING_UNITS\n",
            "1.0    702457\n",
            "2.0       504\n",
            "0.0         5\n",
            "3.0         4\n",
            "Name: count, dtype: int64\n",
            "TOTAL_LIVING_UNITS\n",
            "1.0    702190\n",
            "2.0       743\n",
            "3.0        37\n",
            "Name: count, dtype: int64\n"
          ]
        }
      ]
    },
    {
      "cell_type": "markdown",
      "source": [
        "This is unexpected. Let's take a look at how living_units and total_living units match up."
      ],
      "metadata": {
        "id": "T8uwEQjg55Jc"
      }
    },
    {
      "cell_type": "code",
      "source": [
        "PCPAO_SalesDATA.groupby(['TOTAL_LIVING_UNITS','LIVING_UNITS']).size()"
      ],
      "metadata": {
        "colab": {
          "base_uri": "https://localhost:8080/",
          "height": 335
        },
        "id": "fAfqaxPi8peK",
        "outputId": "f2331891-aeed-4b90-f3c8-535729bdba37"
      },
      "execution_count": 24,
      "outputs": [
        {
          "output_type": "execute_result",
          "data": {
            "text/plain": [
              "TOTAL_LIVING_UNITS  LIVING_UNITS\n",
              "1.0                 0.0                  5\n",
              "                    1.0             702185\n",
              "2.0                 1.0                248\n",
              "                    2.0                495\n",
              "3.0                 1.0                 24\n",
              "                    2.0                  9\n",
              "                    3.0                  4\n",
              "dtype: int64"
            ],
            "text/html": [
              "<div>\n",
              "<style scoped>\n",
              "    .dataframe tbody tr th:only-of-type {\n",
              "        vertical-align: middle;\n",
              "    }\n",
              "\n",
              "    .dataframe tbody tr th {\n",
              "        vertical-align: top;\n",
              "    }\n",
              "\n",
              "    .dataframe thead th {\n",
              "        text-align: right;\n",
              "    }\n",
              "</style>\n",
              "<table border=\"1\" class=\"dataframe\">\n",
              "  <thead>\n",
              "    <tr style=\"text-align: right;\">\n",
              "      <th></th>\n",
              "      <th></th>\n",
              "      <th>0</th>\n",
              "    </tr>\n",
              "    <tr>\n",
              "      <th>TOTAL_LIVING_UNITS</th>\n",
              "      <th>LIVING_UNITS</th>\n",
              "      <th></th>\n",
              "    </tr>\n",
              "  </thead>\n",
              "  <tbody>\n",
              "    <tr>\n",
              "      <th rowspan=\"2\" valign=\"top\">1.0</th>\n",
              "      <th>0.0</th>\n",
              "      <td>5</td>\n",
              "    </tr>\n",
              "    <tr>\n",
              "      <th>1.0</th>\n",
              "      <td>702185</td>\n",
              "    </tr>\n",
              "    <tr>\n",
              "      <th rowspan=\"2\" valign=\"top\">2.0</th>\n",
              "      <th>1.0</th>\n",
              "      <td>248</td>\n",
              "    </tr>\n",
              "    <tr>\n",
              "      <th>2.0</th>\n",
              "      <td>495</td>\n",
              "    </tr>\n",
              "    <tr>\n",
              "      <th rowspan=\"3\" valign=\"top\">3.0</th>\n",
              "      <th>1.0</th>\n",
              "      <td>24</td>\n",
              "    </tr>\n",
              "    <tr>\n",
              "      <th>2.0</th>\n",
              "      <td>9</td>\n",
              "    </tr>\n",
              "    <tr>\n",
              "      <th>3.0</th>\n",
              "      <td>4</td>\n",
              "    </tr>\n",
              "  </tbody>\n",
              "</table>\n",
              "</div><br><label><b>dtype:</b> int64</label>"
            ]
          },
          "metadata": {},
          "execution_count": 24
        }
      ]
    },
    {
      "cell_type": "markdown",
      "source": [
        "###1.5.5 Dropping records that don't have only one for Total_Living_units and Living_units"
      ],
      "metadata": {
        "id": "14KVgeNE-nUY"
      }
    },
    {
      "cell_type": "code",
      "source": [
        "temp_index = PCPAO_SalesDATA[(PCPAO_SalesDATA['TOTAL_LIVING_UNITS']!=1)|(PCPAO_SalesDATA['LIVING_UNITS']!=1)].index\n",
        "PCPAO_SalesDATA.drop(temp_index,inplace=True)"
      ],
      "metadata": {
        "id": "oUuYbiEI-7ra"
      },
      "execution_count": 25,
      "outputs": []
    },
    {
      "cell_type": "markdown",
      "source": [
        "###1.5.6 Dropping the 'TOTAL_LIVING_UNITS' and 'LIVING_UNITS' columns since all values are now 1."
      ],
      "metadata": {
        "id": "gzB6pDvpBO_A"
      }
    },
    {
      "cell_type": "code",
      "source": [
        "PCPAO_SalesDATA = PCPAO_SalesDATA.drop(['TOTAL_LIVING_UNITS','LIVING_UNITS'],axis=1)"
      ],
      "metadata": {
        "id": "PiHp0B5HBac2"
      },
      "execution_count": 26,
      "outputs": []
    },
    {
      "cell_type": "markdown",
      "source": [
        "##1.6 County Designations(Historic Land, Neighborhood code, Tax District, Special Assessment)"
      ],
      "metadata": {
        "id": "n6_yayeoHrOz"
      }
    },
    {
      "cell_type": "markdown",
      "source": [
        "###1.6.1 Designated Local Historical Landmark records and column are dropped\n",
        "DLHL_YN is for whether the property is a designated local historical landmark. 276 records are for properties that are a designated local historical landmark and 701909 rows are not.\n"
      ],
      "metadata": {
        "id": "1VPuuZuSlUnY"
      }
    },
    {
      "cell_type": "code",
      "source": [
        "PCPAO_SalesDATA['DLHL_YN'].value_counts()"
      ],
      "metadata": {
        "colab": {
          "base_uri": "https://localhost:8080/",
          "height": 178
        },
        "id": "rdRQ74fH0-YJ",
        "outputId": "80b2c33d-28a5-4d01-af5a-305650e2fd45"
      },
      "execution_count": 27,
      "outputs": [
        {
          "output_type": "execute_result",
          "data": {
            "text/plain": [
              "DLHL_YN\n",
              "N    701909\n",
              "Y       276\n",
              "Name: count, dtype: int64"
            ],
            "text/html": [
              "<div>\n",
              "<style scoped>\n",
              "    .dataframe tbody tr th:only-of-type {\n",
              "        vertical-align: middle;\n",
              "    }\n",
              "\n",
              "    .dataframe tbody tr th {\n",
              "        vertical-align: top;\n",
              "    }\n",
              "\n",
              "    .dataframe thead th {\n",
              "        text-align: right;\n",
              "    }\n",
              "</style>\n",
              "<table border=\"1\" class=\"dataframe\">\n",
              "  <thead>\n",
              "    <tr style=\"text-align: right;\">\n",
              "      <th></th>\n",
              "      <th>count</th>\n",
              "    </tr>\n",
              "    <tr>\n",
              "      <th>DLHL_YN</th>\n",
              "      <th></th>\n",
              "    </tr>\n",
              "  </thead>\n",
              "  <tbody>\n",
              "    <tr>\n",
              "      <th>N</th>\n",
              "      <td>701909</td>\n",
              "    </tr>\n",
              "    <tr>\n",
              "      <th>Y</th>\n",
              "      <td>276</td>\n",
              "    </tr>\n",
              "  </tbody>\n",
              "</table>\n",
              "</div><br><label><b>dtype:</b> int64</label>"
            ]
          },
          "metadata": {},
          "execution_count": 27
        }
      ]
    },
    {
      "cell_type": "code",
      "source": [
        "PCPAO_SalesDATA.drop(PCPAO_SalesDATA[PCPAO_SalesDATA['DLHL_YN']=='Y'].index,inplace=True)"
      ],
      "metadata": {
        "id": "QUVqEKYpfofX"
      },
      "execution_count": 28,
      "outputs": []
    },
    {
      "cell_type": "code",
      "source": [
        "PCPAO_SalesDATA = PCPAO_SalesDATA.drop(['DLHL_YN'],axis=1)"
      ],
      "metadata": {
        "id": "RR0Xpeoygti5"
      },
      "execution_count": 29,
      "outputs": []
    },
    {
      "cell_type": "markdown",
      "source": [
        "###1.6.2 NBORHOOD_CD is dropped.\n",
        "NBORHOOD_CD is the Property Appraiser's atttempt to say which properties make good sales comparisons with each other.\n",
        "\n",
        "NBORHOOD_CD is currently a float when it should be categorical.\n",
        "\n",
        "[Neighborhood Code ](https://www.pcpao.gov/learn-about/glossary-terms/n)- This code identifies the appraisal \"neighborhood\" for purposes of establishing the sales comparison approach to value. It may not correspond with your particular subdivision or geographic neighborhood; it is strictly developed for use in the mass appraisal process. When establishing the sales comparison approach to value we use an appraisal area model to obtain an estimate of value. The model can include hundreds of sales. We then review a subset of sales more closely identified with a particular property, referred to as the appraisal neighborhood. We give the greatest emphasis to sales within the appraisal neighborhood through use of a neighborhood \"factor.\" Through statistical analysis of all of these sales, we establish sales comparison values that account for different property characteristics (such as location, size, amenities, construction quality, view, etc.)."
      ],
      "metadata": {
        "id": "nqoLLci0m2uH"
      }
    },
    {
      "cell_type": "code",
      "source": [
        "PCPAO_SalesDATA= PCPAO_SalesDATA.drop(['NBORHOOD_CD'],axis=1)"
      ],
      "metadata": {
        "id": "_tI6_Yqxm_Q5"
      },
      "execution_count": 30,
      "outputs": []
    },
    {
      "cell_type": "markdown",
      "source": [
        "###1.6.3 TAX_DIST_DSCR\n",
        "TAX_DIST_DSCR is the description of the tax district. Going to drop that."
      ],
      "metadata": {
        "id": "5cCxa0feoaoT"
      }
    },
    {
      "cell_type": "code",
      "source": [
        "PCPAO_SalesDATA = PCPAO_SalesDATA.drop(['TAX_DIST_DSCR'],axis=1)"
      ],
      "metadata": {
        "id": "KIN8ftJyomKD"
      },
      "execution_count": 31,
      "outputs": []
    },
    {
      "cell_type": "markdown",
      "source": [
        "###1.6.4 SPECIAL_ASSESSMENT\n",
        "This is a code indicating something about how taxes are assessed on the property. They might not apply after a sale so I will drop the column.\n"
      ],
      "metadata": {
        "id": "8iIgTfV813uT"
      }
    },
    {
      "cell_type": "code",
      "source": [
        "PCPAO_SalesDATA = PCPAO_SalesDATA.drop(['SPECIAL_ASSESSMENT'],axis=1)"
      ],
      "metadata": {
        "id": "4v5AWwmx2Lu_"
      },
      "execution_count": 32,
      "outputs": []
    },
    {
      "cell_type": "markdown",
      "source": [
        "##1.7 Frontage, Views, Landsize, Acreage, and QU_FLG columns are dropped"
      ],
      "metadata": {
        "id": "ZMQPKQcvG9kB"
      }
    },
    {
      "cell_type": "markdown",
      "source": [
        "###1.7.1 FRONTAGE and VIEWS dropped\n",
        "FRONTAGE and VIEWS are two columns containing a lot of null data. Going to drop them."
      ],
      "metadata": {
        "id": "xqPVEPn6RUG7"
      }
    },
    {
      "cell_type": "code",
      "source": [
        "PCPAO_SalesDATA = PCPAO_SalesDATA.drop(['FRONTAGE','VIEWS'],axis=1)"
      ],
      "metadata": {
        "id": "rVkQYXDQRfXw"
      },
      "execution_count": 33,
      "outputs": []
    },
    {
      "cell_type": "markdown",
      "source": [
        "###1.7.2 LAND_SIZE dropped\n",
        "LAND_SIZE is the description of each lot's length and width. This might be nice to have in the future to create a measure of the lot's squareness, but for now will be dropped."
      ],
      "metadata": {
        "id": "O37u8sbERlXk"
      }
    },
    {
      "cell_type": "code",
      "source": [
        "PCPAO_SalesDATA = PCPAO_SalesDATA.drop(['LAND_SIZE'],axis=1)"
      ],
      "metadata": {
        "id": "xvPkQJZ8TY7H"
      },
      "execution_count": 34,
      "outputs": []
    },
    {
      "cell_type": "markdown",
      "source": [
        "###1.7.3 ACREAGE dropped\n",
        "LAND_AREA_SF and ACREAGE are 100% correlated from previous exploration, so I will just drop the ACREAGE column as the LAND_AREA_SF might be useful if I want to create ratios of total_living_sqft to land_area_sf."
      ],
      "metadata": {
        "id": "ThE6oBXUYTuM"
      }
    },
    {
      "cell_type": "code",
      "source": [
        "PCPAO_SalesDATA = PCPAO_SalesDATA.drop(['ACREAGE'],axis=1)"
      ],
      "metadata": {
        "id": "ceHFhx6bZ_Qw"
      },
      "execution_count": 35,
      "outputs": []
    },
    {
      "cell_type": "markdown",
      "source": [
        "###1.7.4 QU_FLG dropped\n",
        "Also going to drop the QU_FLG as all of the sales should be qualified."
      ],
      "metadata": {
        "id": "OeEW5ESZaB3L"
      }
    },
    {
      "cell_type": "code",
      "source": [
        "PCPAO_SalesDATA['QU_FLG'].value_counts()"
      ],
      "metadata": {
        "colab": {
          "base_uri": "https://localhost:8080/",
          "height": 147
        },
        "id": "I5fVKZPdqqr9",
        "outputId": "1ebf9909-44c3-48bb-d0c0-5cecdb48fbea"
      },
      "execution_count": 36,
      "outputs": [
        {
          "output_type": "execute_result",
          "data": {
            "text/plain": [
              "QU_FLG\n",
              "Q    701909\n",
              "Name: count, dtype: int64"
            ],
            "text/html": [
              "<div>\n",
              "<style scoped>\n",
              "    .dataframe tbody tr th:only-of-type {\n",
              "        vertical-align: middle;\n",
              "    }\n",
              "\n",
              "    .dataframe tbody tr th {\n",
              "        vertical-align: top;\n",
              "    }\n",
              "\n",
              "    .dataframe thead th {\n",
              "        text-align: right;\n",
              "    }\n",
              "</style>\n",
              "<table border=\"1\" class=\"dataframe\">\n",
              "  <thead>\n",
              "    <tr style=\"text-align: right;\">\n",
              "      <th></th>\n",
              "      <th>count</th>\n",
              "    </tr>\n",
              "    <tr>\n",
              "      <th>QU_FLG</th>\n",
              "      <th></th>\n",
              "    </tr>\n",
              "  </thead>\n",
              "  <tbody>\n",
              "    <tr>\n",
              "      <th>Q</th>\n",
              "      <td>701909</td>\n",
              "    </tr>\n",
              "  </tbody>\n",
              "</table>\n",
              "</div><br><label><b>dtype:</b> int64</label>"
            ]
          },
          "metadata": {},
          "execution_count": 36
        }
      ]
    },
    {
      "cell_type": "code",
      "source": [
        "PCPAO_SalesDATA= PCPAO_SalesDATA.drop(['QU_FLG'],axis=1)"
      ],
      "metadata": {
        "id": "w4_tw8SSadzH"
      },
      "execution_count": 37,
      "outputs": []
    },
    {
      "cell_type": "markdown",
      "source": [
        "##1.8 House Features are cleaned and converted to categories"
      ],
      "metadata": {
        "id": "-uujdrVuGqjW"
      }
    },
    {
      "cell_type": "markdown",
      "source": [
        "Many features of the built property are recorded as string objects. Lucky most of them are non-null.\n",
        "\n",
        "\n",
        "Going to convert the following columns to categories.\n",
        "*  COOLING\n",
        "*  EXTERIOR_WALLS\n",
        "*  FLOOR_FINISH\n",
        "*  FLOOR_SYSTEM\n",
        "*  FOUNDATION\n",
        "*  INTERIOR_FINISH\n",
        "*  ROOF_COVER\n",
        "*  ROOF_FRAME\n",
        "\n",
        "YEAR_BUILT_BLD1 and EFFECTIVE_AGE are numerical features of the built property.\n",
        "As they are numeric, I won't have to categorize them. YEAR_BUILT_BLD1 is a year so technically categorical, but if I subtract the year built from the current year, I can rename the column REAL_AGE or something like that.\n",
        "\n",
        "\n",
        "COOLING needs some nan values converted into 'No Central Cooling'"
      ],
      "metadata": {
        "id": "xUEGoceidTo7"
      }
    },
    {
      "cell_type": "markdown",
      "source": [
        "###1.8.1 Rework COOLING\n",
        "\n",
        "Since COOLING has 'Cooling (Central)' or NaN, I will rename the column CENTRAL_COOLING and adjust the values to Y or N"
      ],
      "metadata": {
        "id": "vuDoA-eZjay1"
      }
    },
    {
      "cell_type": "code",
      "source": [
        "PCPAO_SalesDATA['COOLING'].value_counts(dropna=False)"
      ],
      "metadata": {
        "colab": {
          "base_uri": "https://localhost:8080/",
          "height": 0
        },
        "id": "C2FflWc-1DRR",
        "outputId": "4d9f9eba-f6fd-4f5b-b650-46d3a1fda47b"
      },
      "execution_count": 38,
      "outputs": [
        {
          "output_type": "execute_result",
          "data": {
            "text/plain": [
              "COOLING\n",
              "Cooling (Central)    687812\n",
              "NaN                   14097\n",
              "Name: count, dtype: int64"
            ],
            "text/html": [
              "<div>\n",
              "<style scoped>\n",
              "    .dataframe tbody tr th:only-of-type {\n",
              "        vertical-align: middle;\n",
              "    }\n",
              "\n",
              "    .dataframe tbody tr th {\n",
              "        vertical-align: top;\n",
              "    }\n",
              "\n",
              "    .dataframe thead th {\n",
              "        text-align: right;\n",
              "    }\n",
              "</style>\n",
              "<table border=\"1\" class=\"dataframe\">\n",
              "  <thead>\n",
              "    <tr style=\"text-align: right;\">\n",
              "      <th></th>\n",
              "      <th>count</th>\n",
              "    </tr>\n",
              "    <tr>\n",
              "      <th>COOLING</th>\n",
              "      <th></th>\n",
              "    </tr>\n",
              "  </thead>\n",
              "  <tbody>\n",
              "    <tr>\n",
              "      <th>Cooling (Central)</th>\n",
              "      <td>687812</td>\n",
              "    </tr>\n",
              "    <tr>\n",
              "      <th>NaN</th>\n",
              "      <td>14097</td>\n",
              "    </tr>\n",
              "  </tbody>\n",
              "</table>\n",
              "</div><br><label><b>dtype:</b> int64</label>"
            ]
          },
          "metadata": {},
          "execution_count": 38
        }
      ]
    },
    {
      "cell_type": "code",
      "source": [
        "PCPAO_SalesDATA.loc[PCPAO_SalesDATA['COOLING']=='Cooling (Central)','COOLING'] = 'Y'\n",
        "PCPAO_SalesDATA.loc[PCPAO_SalesDATA['COOLING'].isnull(),'COOLING'] = 'N'\n",
        "PCPAO_SalesDATA.rename(columns={'COOLING':'CENTRAL_COOLING'},inplace=True)"
      ],
      "metadata": {
        "id": "KppK5g4GgUVZ"
      },
      "execution_count": 39,
      "outputs": []
    },
    {
      "cell_type": "markdown",
      "source": [
        "### 1.8.2 House feature values cleaning.\n",
        "\n",
        "Some of the House Features have double spaces in their values.\n",
        "I want to reduce the spaces down to one space.\n",
        "Then replace the space with an underscore('_')."
      ],
      "metadata": {
        "id": "qLws4R_Lkl13"
      }
    },
    {
      "cell_type": "code",
      "source": [
        "col_to_cat = ['CENTRAL_COOLING','EXTERIOR_WALLS','FLOOR_FINISH','FLOOR_SYSTEM','FOUNDATION','INTERIOR_FINISH','ROOF_COVER','ROOF_FRAME']\n",
        "for col in col_to_cat:\n",
        "  print(col,PCPAO_SalesDATA[col].unique())"
      ],
      "metadata": {
        "colab": {
          "base_uri": "https://localhost:8080/"
        },
        "id": "3Z2dCK8K1N51",
        "outputId": "9bce4af3-ce68-4213-d2f5-8eeb53cbd417"
      },
      "execution_count": 40,
      "outputs": [
        {
          "output_type": "stream",
          "name": "stdout",
          "text": [
            "CENTRAL_COOLING ['Y' 'N']\n",
            "EXTERIOR_WALLS ['Cb Stucco/Cb Reclad' 'Frame  Stucco' 'Concrete Block'\n",
            " 'Frame/Reclad Alum/Viny' 'Frame/Custom Wood' 'Frame  Siding'\n",
            " 'Frame/Brick/Stone/Icf/Sip' 'Frame  Metal' 'Masonry Brick'\n",
            " 'Masonry Stone' 'Frame  Compos']\n",
            "FLOOR_FINISH ['Carpet/Hardtile/Hardwood' 'Carpet/ Vinyl/Asphalt'\n",
            " 'Hard Tile/Wood/Marble' 'Concrete Finish' 'Carpet/Vinyl/Asphalt/S']\n",
            "FLOOR_SYSTEM ['Slab On Grade' 'Slab Above Grade Low' 'Wood' 'Slab Above Grade High']\n",
            "FOUNDATION ['Continuous Footing Poured' 'Piers' 'Wood/Block Above Ground Footing'\n",
            " 'Wood Piles Below Ground Footing' 'Concrete Piles Below Ground Footing'\n",
            " 'Helical Piles Screw Piles Footing']\n",
            "INTERIOR_FINISH ['Drywall/Plaster' 'Upgrade' 'Wood/Wallboard' 'Custom' 'Mh Average']\n",
            "ROOF_COVER ['Shingle Composition' 'Concrete Tile/Metal' 'Bu Tar & Gravel  Alt'\n",
            " 'Metal  Corrugated/She' 'Metal Shingle' 'Roll Composition'\n",
            " 'Clay Tile/Glazed' 'Slate/Good Metal' 'Asbestos/Wood Shgl'\n",
            " 'Solar Roof Tiles' 'Mh Roof Over (Metal/Membrane)']\n",
            "ROOF_FRAME ['Gable Or Hip' 'Flat  Shed' 'Mansard/Gambrel']\n"
          ]
        }
      ]
    },
    {
      "cell_type": "markdown",
      "source": [
        "You can see some of the double spaces present above."
      ],
      "metadata": {
        "id": "2zl538eolnC5"
      }
    },
    {
      "cell_type": "code",
      "source": [
        "for col in col_to_cat:\n",
        "  PCPAO_SalesDATA[col] = PCPAO_SalesDATA[col].str.replace('  ',' ')"
      ],
      "metadata": {
        "id": "dUrKXWZClsGH"
      },
      "execution_count": 41,
      "outputs": []
    },
    {
      "cell_type": "code",
      "source": [
        "for col in col_to_cat:\n",
        "  PCPAO_SalesDATA[col] = PCPAO_SalesDATA[col].str.replace(' ','_')"
      ],
      "metadata": {
        "id": "UotTBOUfl50V"
      },
      "execution_count": 42,
      "outputs": []
    },
    {
      "cell_type": "markdown",
      "source": [
        "String replacement is done."
      ],
      "metadata": {
        "id": "kQf_Ci2Nl_jS"
      }
    },
    {
      "cell_type": "code",
      "source": [
        "for col in col_to_cat:\n",
        "  print(col,PCPAO_SalesDATA[col].unique())"
      ],
      "metadata": {
        "colab": {
          "base_uri": "https://localhost:8080/"
        },
        "id": "o-LKV4mamDH6",
        "outputId": "cad9d3b8-94af-48f7-9675-df5ae2031384"
      },
      "execution_count": 43,
      "outputs": [
        {
          "output_type": "stream",
          "name": "stdout",
          "text": [
            "CENTRAL_COOLING ['Y' 'N']\n",
            "EXTERIOR_WALLS ['Cb_Stucco/Cb_Reclad' 'Frame_Stucco' 'Concrete_Block'\n",
            " 'Frame/Reclad_Alum/Viny' 'Frame/Custom_Wood' 'Frame_Siding'\n",
            " 'Frame/Brick/Stone/Icf/Sip' 'Frame_Metal' 'Masonry_Brick' 'Masonry_Stone'\n",
            " 'Frame_Compos']\n",
            "FLOOR_FINISH ['Carpet/Hardtile/Hardwood' 'Carpet/_Vinyl/Asphalt'\n",
            " 'Hard_Tile/Wood/Marble' 'Concrete_Finish' 'Carpet/Vinyl/Asphalt/S']\n",
            "FLOOR_SYSTEM ['Slab_On_Grade' 'Slab_Above_Grade_Low' 'Wood' 'Slab_Above_Grade_High']\n",
            "FOUNDATION ['Continuous_Footing_Poured' 'Piers' 'Wood/Block_Above_Ground_Footing'\n",
            " 'Wood_Piles_Below_Ground_Footing' 'Concrete_Piles_Below_Ground_Footing'\n",
            " 'Helical_Piles_Screw_Piles_Footing']\n",
            "INTERIOR_FINISH ['Drywall/Plaster' 'Upgrade' 'Wood/Wallboard' 'Custom' 'Mh_Average']\n",
            "ROOF_COVER ['Shingle_Composition' 'Concrete_Tile/Metal' 'Bu_Tar_&_Gravel_Alt'\n",
            " 'Metal_Corrugated/She' 'Metal_Shingle' 'Roll_Composition'\n",
            " 'Clay_Tile/Glazed' 'Slate/Good_Metal' 'Asbestos/Wood_Shgl'\n",
            " 'Solar_Roof_Tiles' 'Mh_Roof_Over_(Metal/Membrane)']\n",
            "ROOF_FRAME ['Gable_Or_Hip' 'Flat_Shed' 'Mansard/Gambrel']\n"
          ]
        }
      ]
    },
    {
      "cell_type": "markdown",
      "source": [
        "###1.8.3 Converting the House Features to Categories"
      ],
      "metadata": {
        "id": "grn65jK3lYUX"
      }
    },
    {
      "cell_type": "code",
      "source": [
        "col_to_cat = ['CENTRAL_COOLING','EXTERIOR_WALLS','FLOOR_FINISH','FLOOR_SYSTEM','FOUNDATION','INTERIOR_FINISH','ROOF_COVER','ROOF_FRAME']\n",
        "for col in col_to_cat:\n",
        "  PCPAO_SalesDATA[col] = PCPAO_SalesDATA[col].astype('category')"
      ],
      "metadata": {
        "id": "LyZIsW4Hkzka"
      },
      "execution_count": 44,
      "outputs": []
    },
    {
      "cell_type": "markdown",
      "source": [
        "###1.8.4 YEAR_BUILT_BLD1 column turned into REAL_AGE column\n",
        "\n"
      ],
      "metadata": {
        "id": "Sz0QSOZddpMG"
      }
    },
    {
      "cell_type": "code",
      "source": [
        "PCPAO_SalesDATA.drop(PCPAO_SalesDATA[PCPAO_SalesDATA['YEAR_BUILT_BLD1'].isnull()].index,inplace=True)"
      ],
      "metadata": {
        "id": "7sQ1u4UDmZpB"
      },
      "execution_count": 45,
      "outputs": []
    },
    {
      "cell_type": "code",
      "source": [
        "PCPAO_SalesDATA['REAL_AGE'] = 2024 - PCPAO_SalesDATA['YEAR_BUILT_BLD1']"
      ],
      "metadata": {
        "id": "whCZPz7ikWTv"
      },
      "execution_count": 46,
      "outputs": []
    },
    {
      "cell_type": "code",
      "source": [
        "PCPAO_SalesDATA = PCPAO_SalesDATA.drop(['YEAR_BUILT_BLD1'],axis=1)"
      ],
      "metadata": {
        "id": "tnRWWl48kjdV"
      },
      "execution_count": 47,
      "outputs": []
    },
    {
      "cell_type": "markdown",
      "source": [
        "##1.9 PCPAO_SalesDATA.info() Check\n",
        "With minor exceptions, we have only dropped columns of data from the data set*. We will now narrow down the rows that we want in the data.\n",
        "\n",
        "* Exceptions are narrowing by property_use, seawall, living_units/total_living_units DLHL_YN, and REAL_AGE.\n",
        "\n",
        "The only column with null values remaining is SUBDIVISION. Before considering subdivisions, I want to make sure that I have only the most recent sales."
      ],
      "metadata": {
        "id": "eBd-vVWAcHgI"
      }
    },
    {
      "cell_type": "code",
      "source": [
        "PCPAO_SalesDATA.info()"
      ],
      "metadata": {
        "colab": {
          "base_uri": "https://localhost:8080/"
        },
        "id": "VgkAC2fZa-ZV",
        "outputId": "c8587b2a-e53c-46d3-b5ca-c04f51d936fc"
      },
      "execution_count": 48,
      "outputs": [
        {
          "output_type": "stream",
          "name": "stdout",
          "text": [
            "<class 'pandas.core.frame.DataFrame'>\n",
            "Index: 701861 entries, 0 to 1155163\n",
            "Data columns (total 33 columns):\n",
            " #   Column               Non-Null Count   Dtype         \n",
            "---  ------               --------------   -----         \n",
            " 0   PARCEL_NUMBER        701861 non-null  object        \n",
            " 1   SUBDIVISION          695258 non-null  object        \n",
            " 2   TOTAL_LIVING_SQFT    701861 non-null  float64       \n",
            " 3   TOTAL_GROSS_SQFT     701861 non-null  float64       \n",
            " 4   CNTY_JST_VALUE       701861 non-null  int64         \n",
            " 5   CNTY_ASD_VALUE       701861 non-null  int64         \n",
            " 6   CNTY_TAXABLE_VALUE   701861 non-null  int64         \n",
            " 7   JUST_LAND            701861 non-null  int64         \n",
            " 8   JUST_BUILDING        701861 non-null  int64         \n",
            " 9   JUST_EXTRA_FEATURES  701861 non-null  int64         \n",
            " 10  SALES_DATE           701861 non-null  datetime64[ns]\n",
            " 11  PRICE                701861 non-null  int64         \n",
            " 12  SEAWALL              701861 non-null  object        \n",
            " 13  CONTAMINATION        701861 non-null  object        \n",
            " 14  SUBSIDENCE           701861 non-null  object        \n",
            " 15  EVAC_ZONE            701861 non-null  object        \n",
            " 16  LAND_AREA_SF         701861 non-null  int64         \n",
            " 17  POOL                 701861 non-null  object        \n",
            " 18  WATERFRONT           701861 non-null  object        \n",
            " 19  CITY                 701861 non-null  object        \n",
            " 20  ZIP                  701861 non-null  object        \n",
            " 21  EFFECTIVE_AGE        701861 non-null  float64       \n",
            " 22  CENTRAL_COOLING      701861 non-null  category      \n",
            " 23  EXTERIOR_WALLS       701861 non-null  category      \n",
            " 24  RCN                  701861 non-null  float64       \n",
            " 25  FLOOR_FINISH         701861 non-null  category      \n",
            " 26  FLOOR_SYSTEM         701861 non-null  category      \n",
            " 27  FOUNDATION           701861 non-null  category      \n",
            " 28  INTERIOR_FINISH      701861 non-null  category      \n",
            " 29  ROOF_COVER           701861 non-null  category      \n",
            " 30  ROOF_FRAME           701861 non-null  category      \n",
            " 31  SALES_YEAR           701861 non-null  int32         \n",
            " 32  REAL_AGE             701861 non-null  float64       \n",
            "dtypes: category(8), datetime64[ns](1), float64(5), int32(1), int64(8), object(10)\n",
            "memory usage: 141.9+ MB\n"
          ]
        }
      ]
    },
    {
      "cell_type": "markdown",
      "source": [
        "##1.10 Limiting the data to the most recent sale of each Parcel\n",
        "\n",
        "I want to keep the sales data for only the most recent sale of each property."
      ],
      "metadata": {
        "id": "B4DNHYVou_eY"
      }
    },
    {
      "cell_type": "markdown",
      "source": [
        "###1.10.1 Value_counts of PARCEL_NUMBER and SALES_YEAR\n",
        "Some parcels have been sold multiple times a year. Getting a sense of how prevalent that is."
      ],
      "metadata": {
        "id": "2liNbLo6Feof"
      }
    },
    {
      "cell_type": "code",
      "source": [
        "PCPAO_SalesDATA[['PARCEL_NUMBER','SALES_YEAR']].value_counts()"
      ],
      "metadata": {
        "colab": {
          "base_uri": "https://localhost:8080/",
          "height": 490
        },
        "id": "NHOgOGoLoLb5",
        "outputId": "add24150-021a-4425-88c9-b91f259bfd11"
      },
      "execution_count": 49,
      "outputs": [
        {
          "output_type": "execute_result",
          "data": {
            "text/plain": [
              "PARCEL_NUMBER            SALES_YEAR\n",
              "36-31-16-82944-000-0280  2020          6\n",
              "01-32-16-49266-005-0290  2022          6\n",
              "03-29-15-88110-006-0360  2022          6\n",
              "36-27-15-01779-000-1180  1989          6\n",
              "27-28-16-68624-000-0390  1995          6\n",
              "                                      ..\n",
              "12-31-15-44928-030-0100  1987          1\n",
              "                         2004          1\n",
              "                         2007          1\n",
              "12-31-15-44928-030-0110  1984          1\n",
              "36-31-16-95814-000-0050  1978          1\n",
              "Name: count, Length: 659443, dtype: int64"
            ],
            "text/html": [
              "<div>\n",
              "<style scoped>\n",
              "    .dataframe tbody tr th:only-of-type {\n",
              "        vertical-align: middle;\n",
              "    }\n",
              "\n",
              "    .dataframe tbody tr th {\n",
              "        vertical-align: top;\n",
              "    }\n",
              "\n",
              "    .dataframe thead th {\n",
              "        text-align: right;\n",
              "    }\n",
              "</style>\n",
              "<table border=\"1\" class=\"dataframe\">\n",
              "  <thead>\n",
              "    <tr style=\"text-align: right;\">\n",
              "      <th></th>\n",
              "      <th></th>\n",
              "      <th>count</th>\n",
              "    </tr>\n",
              "    <tr>\n",
              "      <th>PARCEL_NUMBER</th>\n",
              "      <th>SALES_YEAR</th>\n",
              "      <th></th>\n",
              "    </tr>\n",
              "  </thead>\n",
              "  <tbody>\n",
              "    <tr>\n",
              "      <th>36-31-16-82944-000-0280</th>\n",
              "      <th>2020</th>\n",
              "      <td>6</td>\n",
              "    </tr>\n",
              "    <tr>\n",
              "      <th>01-32-16-49266-005-0290</th>\n",
              "      <th>2022</th>\n",
              "      <td>6</td>\n",
              "    </tr>\n",
              "    <tr>\n",
              "      <th>03-29-15-88110-006-0360</th>\n",
              "      <th>2022</th>\n",
              "      <td>6</td>\n",
              "    </tr>\n",
              "    <tr>\n",
              "      <th>36-27-15-01779-000-1180</th>\n",
              "      <th>1989</th>\n",
              "      <td>6</td>\n",
              "    </tr>\n",
              "    <tr>\n",
              "      <th>27-28-16-68624-000-0390</th>\n",
              "      <th>1995</th>\n",
              "      <td>6</td>\n",
              "    </tr>\n",
              "    <tr>\n",
              "      <th>...</th>\n",
              "      <th>...</th>\n",
              "      <td>...</td>\n",
              "    </tr>\n",
              "    <tr>\n",
              "      <th rowspan=\"3\" valign=\"top\">12-31-15-44928-030-0100</th>\n",
              "      <th>1987</th>\n",
              "      <td>1</td>\n",
              "    </tr>\n",
              "    <tr>\n",
              "      <th>2004</th>\n",
              "      <td>1</td>\n",
              "    </tr>\n",
              "    <tr>\n",
              "      <th>2007</th>\n",
              "      <td>1</td>\n",
              "    </tr>\n",
              "    <tr>\n",
              "      <th>12-31-15-44928-030-0110</th>\n",
              "      <th>1984</th>\n",
              "      <td>1</td>\n",
              "    </tr>\n",
              "    <tr>\n",
              "      <th>36-31-16-95814-000-0050</th>\n",
              "      <th>1978</th>\n",
              "      <td>1</td>\n",
              "    </tr>\n",
              "  </tbody>\n",
              "</table>\n",
              "<p>659443 rows × 1 columns</p>\n",
              "</div><br><label><b>dtype:</b> int64</label>"
            ]
          },
          "metadata": {},
          "execution_count": 49
        }
      ]
    },
    {
      "cell_type": "code",
      "source": [
        "PCPAO_SalesDATA[['PARCEL_NUMBER','SALES_YEAR']].value_counts().sum()"
      ],
      "metadata": {
        "colab": {
          "base_uri": "https://localhost:8080/"
        },
        "id": "ZXlE-aiRs2nJ",
        "outputId": "257c8fe6-f866-4e1d-98a1-e8322587bb1b"
      },
      "execution_count": 50,
      "outputs": [
        {
          "output_type": "execute_result",
          "data": {
            "text/plain": [
              "701861"
            ]
          },
          "metadata": {},
          "execution_count": 50
        }
      ]
    },
    {
      "cell_type": "markdown",
      "source": [
        "According to our data, that first parcel(36-31-16-82944-000-0280) was sold 6 times in the 2020. Checking online, I see it was sold [3 times in 2020.](https://www.pcpao.gov/property-details?s=163136829440000280&xmin=-9200928.10920421&ymin=3216862.658740335&xmax=-9200802.853995789&ymax=3216939.245059668&basemap=BaseMapParcelAerials&sales=&scale=564.248588&parcel=36-31-16-82944-000-0280)\n",
        "Similar things are true for other parcels. We have some duplicates."
      ],
      "metadata": {
        "id": "bBLeECaGIWcU"
      }
    },
    {
      "cell_type": "code",
      "source": [
        "PCPAO_SalesDATA[(PCPAO_SalesDATA['PARCEL_NUMBER']=='36-31-16-82944-000-0280')]"
      ],
      "metadata": {
        "colab": {
          "base_uri": "https://localhost:8080/",
          "height": 627
        },
        "id": "mhTHXF6hIluQ",
        "outputId": "e7d7d67d-4f7c-41fa-f7d6-c9bee706d55d"
      },
      "execution_count": 51,
      "outputs": [
        {
          "output_type": "execute_result",
          "data": {
            "text/plain": [
              "                   PARCEL_NUMBER           SUBDIVISION  TOTAL_LIVING_SQFT  \\\n",
              "1155095  36-31-16-82944-000-0280  SMITH'S REPLAT, E.A.             1347.0   \n",
              "1155096  36-31-16-82944-000-0280  SMITH'S REPLAT, E.A.             1347.0   \n",
              "1155097  36-31-16-82944-000-0280  SMITH'S REPLAT, E.A.             1347.0   \n",
              "1155098  36-31-16-82944-000-0280  SMITH'S REPLAT, E.A.             1347.0   \n",
              "1155099  36-31-16-82944-000-0280  SMITH'S REPLAT, E.A.             1347.0   \n",
              "1155100  36-31-16-82944-000-0280  SMITH'S REPLAT, E.A.             1347.0   \n",
              "1155101  36-31-16-82944-000-0280  SMITH'S REPLAT, E.A.             1347.0   \n",
              "1155102  36-31-16-82944-000-0280  SMITH'S REPLAT, E.A.             1347.0   \n",
              "\n",
              "         TOTAL_GROSS_SQFT  CNTY_JST_VALUE  CNTY_ASD_VALUE  CNTY_TAXABLE_VALUE  \\\n",
              "1155095            1667.0          259712          116636               61636   \n",
              "1155096            1667.0          259712          116636               61636   \n",
              "1155097            1667.0          259712          116636               61636   \n",
              "1155098            1667.0          259712          116636               61636   \n",
              "1155099            1667.0          259712          116636               61636   \n",
              "1155100            1667.0          259712          116636               61636   \n",
              "1155101            1667.0          259712          116636               61636   \n",
              "1155102            1667.0          259712          116636               61636   \n",
              "\n",
              "         JUST_LAND  JUST_BUILDING  JUST_EXTRA_FEATURES  ...  \\\n",
              "1155095      68707         191005                    0  ...   \n",
              "1155096      68707         191005                    0  ...   \n",
              "1155097      68707         191005                    0  ...   \n",
              "1155098      68707         191005                    0  ...   \n",
              "1155099      68707         191005                    0  ...   \n",
              "1155100      68707         191005                    0  ...   \n",
              "1155101      68707         191005                    0  ...   \n",
              "1155102      68707         191005                    0  ...   \n",
              "\n",
              "              EXTERIOR_WALLS       RCN              FLOOR_FINISH  \\\n",
              "1155095  Cb_Stucco/Cb_Reclad  279210.0  Carpet/Hardtile/Hardwood   \n",
              "1155096  Cb_Stucco/Cb_Reclad  279210.0  Carpet/Hardtile/Hardwood   \n",
              "1155097  Cb_Stucco/Cb_Reclad  279210.0  Carpet/Hardtile/Hardwood   \n",
              "1155098  Cb_Stucco/Cb_Reclad  279210.0  Carpet/Hardtile/Hardwood   \n",
              "1155099  Cb_Stucco/Cb_Reclad  279210.0  Carpet/Hardtile/Hardwood   \n",
              "1155100  Cb_Stucco/Cb_Reclad  279210.0  Carpet/Hardtile/Hardwood   \n",
              "1155101  Cb_Stucco/Cb_Reclad  279210.0  Carpet/Hardtile/Hardwood   \n",
              "1155102  Cb_Stucco/Cb_Reclad  279210.0  Carpet/Hardtile/Hardwood   \n",
              "\n",
              "          FLOOR_SYSTEM                 FOUNDATION  INTERIOR_FINISH  \\\n",
              "1155095  Slab_On_Grade  Continuous_Footing_Poured  Drywall/Plaster   \n",
              "1155096  Slab_On_Grade  Continuous_Footing_Poured  Drywall/Plaster   \n",
              "1155097  Slab_On_Grade  Continuous_Footing_Poured  Drywall/Plaster   \n",
              "1155098  Slab_On_Grade  Continuous_Footing_Poured  Drywall/Plaster   \n",
              "1155099  Slab_On_Grade  Continuous_Footing_Poured  Drywall/Plaster   \n",
              "1155100  Slab_On_Grade  Continuous_Footing_Poured  Drywall/Plaster   \n",
              "1155101  Slab_On_Grade  Continuous_Footing_Poured  Drywall/Plaster   \n",
              "1155102  Slab_On_Grade  Continuous_Footing_Poured  Drywall/Plaster   \n",
              "\n",
              "                  ROOF_COVER ROOF_FRAME SALES_YEAR REAL_AGE  \n",
              "1155095  Shingle_Composition  Flat_Shed       2020     73.0  \n",
              "1155096  Shingle_Composition  Flat_Shed       2020     73.0  \n",
              "1155097  Shingle_Composition  Flat_Shed       2020     73.0  \n",
              "1155098  Shingle_Composition  Flat_Shed       2020     73.0  \n",
              "1155099  Shingle_Composition  Flat_Shed       2020     73.0  \n",
              "1155100  Shingle_Composition  Flat_Shed       2020     73.0  \n",
              "1155101  Shingle_Composition  Flat_Shed       2024     73.0  \n",
              "1155102  Shingle_Composition  Flat_Shed       2024     73.0  \n",
              "\n",
              "[8 rows x 33 columns]"
            ],
            "text/html": [
              "\n",
              "  <div id=\"df-7692df2f-c647-4ec1-abf7-31eeae4a9deb\" class=\"colab-df-container\">\n",
              "    <div>\n",
              "<style scoped>\n",
              "    .dataframe tbody tr th:only-of-type {\n",
              "        vertical-align: middle;\n",
              "    }\n",
              "\n",
              "    .dataframe tbody tr th {\n",
              "        vertical-align: top;\n",
              "    }\n",
              "\n",
              "    .dataframe thead th {\n",
              "        text-align: right;\n",
              "    }\n",
              "</style>\n",
              "<table border=\"1\" class=\"dataframe\">\n",
              "  <thead>\n",
              "    <tr style=\"text-align: right;\">\n",
              "      <th></th>\n",
              "      <th>PARCEL_NUMBER</th>\n",
              "      <th>SUBDIVISION</th>\n",
              "      <th>TOTAL_LIVING_SQFT</th>\n",
              "      <th>TOTAL_GROSS_SQFT</th>\n",
              "      <th>CNTY_JST_VALUE</th>\n",
              "      <th>CNTY_ASD_VALUE</th>\n",
              "      <th>CNTY_TAXABLE_VALUE</th>\n",
              "      <th>JUST_LAND</th>\n",
              "      <th>JUST_BUILDING</th>\n",
              "      <th>JUST_EXTRA_FEATURES</th>\n",
              "      <th>...</th>\n",
              "      <th>EXTERIOR_WALLS</th>\n",
              "      <th>RCN</th>\n",
              "      <th>FLOOR_FINISH</th>\n",
              "      <th>FLOOR_SYSTEM</th>\n",
              "      <th>FOUNDATION</th>\n",
              "      <th>INTERIOR_FINISH</th>\n",
              "      <th>ROOF_COVER</th>\n",
              "      <th>ROOF_FRAME</th>\n",
              "      <th>SALES_YEAR</th>\n",
              "      <th>REAL_AGE</th>\n",
              "    </tr>\n",
              "  </thead>\n",
              "  <tbody>\n",
              "    <tr>\n",
              "      <th>1155095</th>\n",
              "      <td>36-31-16-82944-000-0280</td>\n",
              "      <td>SMITH'S REPLAT, E.A.</td>\n",
              "      <td>1347.0</td>\n",
              "      <td>1667.0</td>\n",
              "      <td>259712</td>\n",
              "      <td>116636</td>\n",
              "      <td>61636</td>\n",
              "      <td>68707</td>\n",
              "      <td>191005</td>\n",
              "      <td>0</td>\n",
              "      <td>...</td>\n",
              "      <td>Cb_Stucco/Cb_Reclad</td>\n",
              "      <td>279210.0</td>\n",
              "      <td>Carpet/Hardtile/Hardwood</td>\n",
              "      <td>Slab_On_Grade</td>\n",
              "      <td>Continuous_Footing_Poured</td>\n",
              "      <td>Drywall/Plaster</td>\n",
              "      <td>Shingle_Composition</td>\n",
              "      <td>Flat_Shed</td>\n",
              "      <td>2020</td>\n",
              "      <td>73.0</td>\n",
              "    </tr>\n",
              "    <tr>\n",
              "      <th>1155096</th>\n",
              "      <td>36-31-16-82944-000-0280</td>\n",
              "      <td>SMITH'S REPLAT, E.A.</td>\n",
              "      <td>1347.0</td>\n",
              "      <td>1667.0</td>\n",
              "      <td>259712</td>\n",
              "      <td>116636</td>\n",
              "      <td>61636</td>\n",
              "      <td>68707</td>\n",
              "      <td>191005</td>\n",
              "      <td>0</td>\n",
              "      <td>...</td>\n",
              "      <td>Cb_Stucco/Cb_Reclad</td>\n",
              "      <td>279210.0</td>\n",
              "      <td>Carpet/Hardtile/Hardwood</td>\n",
              "      <td>Slab_On_Grade</td>\n",
              "      <td>Continuous_Footing_Poured</td>\n",
              "      <td>Drywall/Plaster</td>\n",
              "      <td>Shingle_Composition</td>\n",
              "      <td>Flat_Shed</td>\n",
              "      <td>2020</td>\n",
              "      <td>73.0</td>\n",
              "    </tr>\n",
              "    <tr>\n",
              "      <th>1155097</th>\n",
              "      <td>36-31-16-82944-000-0280</td>\n",
              "      <td>SMITH'S REPLAT, E.A.</td>\n",
              "      <td>1347.0</td>\n",
              "      <td>1667.0</td>\n",
              "      <td>259712</td>\n",
              "      <td>116636</td>\n",
              "      <td>61636</td>\n",
              "      <td>68707</td>\n",
              "      <td>191005</td>\n",
              "      <td>0</td>\n",
              "      <td>...</td>\n",
              "      <td>Cb_Stucco/Cb_Reclad</td>\n",
              "      <td>279210.0</td>\n",
              "      <td>Carpet/Hardtile/Hardwood</td>\n",
              "      <td>Slab_On_Grade</td>\n",
              "      <td>Continuous_Footing_Poured</td>\n",
              "      <td>Drywall/Plaster</td>\n",
              "      <td>Shingle_Composition</td>\n",
              "      <td>Flat_Shed</td>\n",
              "      <td>2020</td>\n",
              "      <td>73.0</td>\n",
              "    </tr>\n",
              "    <tr>\n",
              "      <th>1155098</th>\n",
              "      <td>36-31-16-82944-000-0280</td>\n",
              "      <td>SMITH'S REPLAT, E.A.</td>\n",
              "      <td>1347.0</td>\n",
              "      <td>1667.0</td>\n",
              "      <td>259712</td>\n",
              "      <td>116636</td>\n",
              "      <td>61636</td>\n",
              "      <td>68707</td>\n",
              "      <td>191005</td>\n",
              "      <td>0</td>\n",
              "      <td>...</td>\n",
              "      <td>Cb_Stucco/Cb_Reclad</td>\n",
              "      <td>279210.0</td>\n",
              "      <td>Carpet/Hardtile/Hardwood</td>\n",
              "      <td>Slab_On_Grade</td>\n",
              "      <td>Continuous_Footing_Poured</td>\n",
              "      <td>Drywall/Plaster</td>\n",
              "      <td>Shingle_Composition</td>\n",
              "      <td>Flat_Shed</td>\n",
              "      <td>2020</td>\n",
              "      <td>73.0</td>\n",
              "    </tr>\n",
              "    <tr>\n",
              "      <th>1155099</th>\n",
              "      <td>36-31-16-82944-000-0280</td>\n",
              "      <td>SMITH'S REPLAT, E.A.</td>\n",
              "      <td>1347.0</td>\n",
              "      <td>1667.0</td>\n",
              "      <td>259712</td>\n",
              "      <td>116636</td>\n",
              "      <td>61636</td>\n",
              "      <td>68707</td>\n",
              "      <td>191005</td>\n",
              "      <td>0</td>\n",
              "      <td>...</td>\n",
              "      <td>Cb_Stucco/Cb_Reclad</td>\n",
              "      <td>279210.0</td>\n",
              "      <td>Carpet/Hardtile/Hardwood</td>\n",
              "      <td>Slab_On_Grade</td>\n",
              "      <td>Continuous_Footing_Poured</td>\n",
              "      <td>Drywall/Plaster</td>\n",
              "      <td>Shingle_Composition</td>\n",
              "      <td>Flat_Shed</td>\n",
              "      <td>2020</td>\n",
              "      <td>73.0</td>\n",
              "    </tr>\n",
              "    <tr>\n",
              "      <th>1155100</th>\n",
              "      <td>36-31-16-82944-000-0280</td>\n",
              "      <td>SMITH'S REPLAT, E.A.</td>\n",
              "      <td>1347.0</td>\n",
              "      <td>1667.0</td>\n",
              "      <td>259712</td>\n",
              "      <td>116636</td>\n",
              "      <td>61636</td>\n",
              "      <td>68707</td>\n",
              "      <td>191005</td>\n",
              "      <td>0</td>\n",
              "      <td>...</td>\n",
              "      <td>Cb_Stucco/Cb_Reclad</td>\n",
              "      <td>279210.0</td>\n",
              "      <td>Carpet/Hardtile/Hardwood</td>\n",
              "      <td>Slab_On_Grade</td>\n",
              "      <td>Continuous_Footing_Poured</td>\n",
              "      <td>Drywall/Plaster</td>\n",
              "      <td>Shingle_Composition</td>\n",
              "      <td>Flat_Shed</td>\n",
              "      <td>2020</td>\n",
              "      <td>73.0</td>\n",
              "    </tr>\n",
              "    <tr>\n",
              "      <th>1155101</th>\n",
              "      <td>36-31-16-82944-000-0280</td>\n",
              "      <td>SMITH'S REPLAT, E.A.</td>\n",
              "      <td>1347.0</td>\n",
              "      <td>1667.0</td>\n",
              "      <td>259712</td>\n",
              "      <td>116636</td>\n",
              "      <td>61636</td>\n",
              "      <td>68707</td>\n",
              "      <td>191005</td>\n",
              "      <td>0</td>\n",
              "      <td>...</td>\n",
              "      <td>Cb_Stucco/Cb_Reclad</td>\n",
              "      <td>279210.0</td>\n",
              "      <td>Carpet/Hardtile/Hardwood</td>\n",
              "      <td>Slab_On_Grade</td>\n",
              "      <td>Continuous_Footing_Poured</td>\n",
              "      <td>Drywall/Plaster</td>\n",
              "      <td>Shingle_Composition</td>\n",
              "      <td>Flat_Shed</td>\n",
              "      <td>2024</td>\n",
              "      <td>73.0</td>\n",
              "    </tr>\n",
              "    <tr>\n",
              "      <th>1155102</th>\n",
              "      <td>36-31-16-82944-000-0280</td>\n",
              "      <td>SMITH'S REPLAT, E.A.</td>\n",
              "      <td>1347.0</td>\n",
              "      <td>1667.0</td>\n",
              "      <td>259712</td>\n",
              "      <td>116636</td>\n",
              "      <td>61636</td>\n",
              "      <td>68707</td>\n",
              "      <td>191005</td>\n",
              "      <td>0</td>\n",
              "      <td>...</td>\n",
              "      <td>Cb_Stucco/Cb_Reclad</td>\n",
              "      <td>279210.0</td>\n",
              "      <td>Carpet/Hardtile/Hardwood</td>\n",
              "      <td>Slab_On_Grade</td>\n",
              "      <td>Continuous_Footing_Poured</td>\n",
              "      <td>Drywall/Plaster</td>\n",
              "      <td>Shingle_Composition</td>\n",
              "      <td>Flat_Shed</td>\n",
              "      <td>2024</td>\n",
              "      <td>73.0</td>\n",
              "    </tr>\n",
              "  </tbody>\n",
              "</table>\n",
              "<p>8 rows × 33 columns</p>\n",
              "</div>\n",
              "    <div class=\"colab-df-buttons\">\n",
              "\n",
              "  <div class=\"colab-df-container\">\n",
              "    <button class=\"colab-df-convert\" onclick=\"convertToInteractive('df-7692df2f-c647-4ec1-abf7-31eeae4a9deb')\"\n",
              "            title=\"Convert this dataframe to an interactive table.\"\n",
              "            style=\"display:none;\">\n",
              "\n",
              "  <svg xmlns=\"http://www.w3.org/2000/svg\" height=\"24px\" viewBox=\"0 -960 960 960\">\n",
              "    <path d=\"M120-120v-720h720v720H120Zm60-500h600v-160H180v160Zm220 220h160v-160H400v160Zm0 220h160v-160H400v160ZM180-400h160v-160H180v160Zm440 0h160v-160H620v160ZM180-180h160v-160H180v160Zm440 0h160v-160H620v160Z\"/>\n",
              "  </svg>\n",
              "    </button>\n",
              "\n",
              "  <style>\n",
              "    .colab-df-container {\n",
              "      display:flex;\n",
              "      gap: 12px;\n",
              "    }\n",
              "\n",
              "    .colab-df-convert {\n",
              "      background-color: #E8F0FE;\n",
              "      border: none;\n",
              "      border-radius: 50%;\n",
              "      cursor: pointer;\n",
              "      display: none;\n",
              "      fill: #1967D2;\n",
              "      height: 32px;\n",
              "      padding: 0 0 0 0;\n",
              "      width: 32px;\n",
              "    }\n",
              "\n",
              "    .colab-df-convert:hover {\n",
              "      background-color: #E2EBFA;\n",
              "      box-shadow: 0px 1px 2px rgba(60, 64, 67, 0.3), 0px 1px 3px 1px rgba(60, 64, 67, 0.15);\n",
              "      fill: #174EA6;\n",
              "    }\n",
              "\n",
              "    .colab-df-buttons div {\n",
              "      margin-bottom: 4px;\n",
              "    }\n",
              "\n",
              "    [theme=dark] .colab-df-convert {\n",
              "      background-color: #3B4455;\n",
              "      fill: #D2E3FC;\n",
              "    }\n",
              "\n",
              "    [theme=dark] .colab-df-convert:hover {\n",
              "      background-color: #434B5C;\n",
              "      box-shadow: 0px 1px 3px 1px rgba(0, 0, 0, 0.15);\n",
              "      filter: drop-shadow(0px 1px 2px rgba(0, 0, 0, 0.3));\n",
              "      fill: #FFFFFF;\n",
              "    }\n",
              "  </style>\n",
              "\n",
              "    <script>\n",
              "      const buttonEl =\n",
              "        document.querySelector('#df-7692df2f-c647-4ec1-abf7-31eeae4a9deb button.colab-df-convert');\n",
              "      buttonEl.style.display =\n",
              "        google.colab.kernel.accessAllowed ? 'block' : 'none';\n",
              "\n",
              "      async function convertToInteractive(key) {\n",
              "        const element = document.querySelector('#df-7692df2f-c647-4ec1-abf7-31eeae4a9deb');\n",
              "        const dataTable =\n",
              "          await google.colab.kernel.invokeFunction('convertToInteractive',\n",
              "                                                    [key], {});\n",
              "        if (!dataTable) return;\n",
              "\n",
              "        const docLinkHtml = 'Like what you see? Visit the ' +\n",
              "          '<a target=\"_blank\" href=https://colab.research.google.com/notebooks/data_table.ipynb>data table notebook</a>'\n",
              "          + ' to learn more about interactive tables.';\n",
              "        element.innerHTML = '';\n",
              "        dataTable['output_type'] = 'display_data';\n",
              "        await google.colab.output.renderOutput(dataTable, element);\n",
              "        const docLink = document.createElement('div');\n",
              "        docLink.innerHTML = docLinkHtml;\n",
              "        element.appendChild(docLink);\n",
              "      }\n",
              "    </script>\n",
              "  </div>\n",
              "\n",
              "\n",
              "<div id=\"df-112c134d-81c3-418a-aa02-3e4e02a86750\">\n",
              "  <button class=\"colab-df-quickchart\" onclick=\"quickchart('df-112c134d-81c3-418a-aa02-3e4e02a86750')\"\n",
              "            title=\"Suggest charts\"\n",
              "            style=\"display:none;\">\n",
              "\n",
              "<svg xmlns=\"http://www.w3.org/2000/svg\" height=\"24px\"viewBox=\"0 0 24 24\"\n",
              "     width=\"24px\">\n",
              "    <g>\n",
              "        <path d=\"M19 3H5c-1.1 0-2 .9-2 2v14c0 1.1.9 2 2 2h14c1.1 0 2-.9 2-2V5c0-1.1-.9-2-2-2zM9 17H7v-7h2v7zm4 0h-2V7h2v10zm4 0h-2v-4h2v4z\"/>\n",
              "    </g>\n",
              "</svg>\n",
              "  </button>\n",
              "\n",
              "<style>\n",
              "  .colab-df-quickchart {\n",
              "      --bg-color: #E8F0FE;\n",
              "      --fill-color: #1967D2;\n",
              "      --hover-bg-color: #E2EBFA;\n",
              "      --hover-fill-color: #174EA6;\n",
              "      --disabled-fill-color: #AAA;\n",
              "      --disabled-bg-color: #DDD;\n",
              "  }\n",
              "\n",
              "  [theme=dark] .colab-df-quickchart {\n",
              "      --bg-color: #3B4455;\n",
              "      --fill-color: #D2E3FC;\n",
              "      --hover-bg-color: #434B5C;\n",
              "      --hover-fill-color: #FFFFFF;\n",
              "      --disabled-bg-color: #3B4455;\n",
              "      --disabled-fill-color: #666;\n",
              "  }\n",
              "\n",
              "  .colab-df-quickchart {\n",
              "    background-color: var(--bg-color);\n",
              "    border: none;\n",
              "    border-radius: 50%;\n",
              "    cursor: pointer;\n",
              "    display: none;\n",
              "    fill: var(--fill-color);\n",
              "    height: 32px;\n",
              "    padding: 0;\n",
              "    width: 32px;\n",
              "  }\n",
              "\n",
              "  .colab-df-quickchart:hover {\n",
              "    background-color: var(--hover-bg-color);\n",
              "    box-shadow: 0 1px 2px rgba(60, 64, 67, 0.3), 0 1px 3px 1px rgba(60, 64, 67, 0.15);\n",
              "    fill: var(--button-hover-fill-color);\n",
              "  }\n",
              "\n",
              "  .colab-df-quickchart-complete:disabled,\n",
              "  .colab-df-quickchart-complete:disabled:hover {\n",
              "    background-color: var(--disabled-bg-color);\n",
              "    fill: var(--disabled-fill-color);\n",
              "    box-shadow: none;\n",
              "  }\n",
              "\n",
              "  .colab-df-spinner {\n",
              "    border: 2px solid var(--fill-color);\n",
              "    border-color: transparent;\n",
              "    border-bottom-color: var(--fill-color);\n",
              "    animation:\n",
              "      spin 1s steps(1) infinite;\n",
              "  }\n",
              "\n",
              "  @keyframes spin {\n",
              "    0% {\n",
              "      border-color: transparent;\n",
              "      border-bottom-color: var(--fill-color);\n",
              "      border-left-color: var(--fill-color);\n",
              "    }\n",
              "    20% {\n",
              "      border-color: transparent;\n",
              "      border-left-color: var(--fill-color);\n",
              "      border-top-color: var(--fill-color);\n",
              "    }\n",
              "    30% {\n",
              "      border-color: transparent;\n",
              "      border-left-color: var(--fill-color);\n",
              "      border-top-color: var(--fill-color);\n",
              "      border-right-color: var(--fill-color);\n",
              "    }\n",
              "    40% {\n",
              "      border-color: transparent;\n",
              "      border-right-color: var(--fill-color);\n",
              "      border-top-color: var(--fill-color);\n",
              "    }\n",
              "    60% {\n",
              "      border-color: transparent;\n",
              "      border-right-color: var(--fill-color);\n",
              "    }\n",
              "    80% {\n",
              "      border-color: transparent;\n",
              "      border-right-color: var(--fill-color);\n",
              "      border-bottom-color: var(--fill-color);\n",
              "    }\n",
              "    90% {\n",
              "      border-color: transparent;\n",
              "      border-bottom-color: var(--fill-color);\n",
              "    }\n",
              "  }\n",
              "</style>\n",
              "\n",
              "  <script>\n",
              "    async function quickchart(key) {\n",
              "      const quickchartButtonEl =\n",
              "        document.querySelector('#' + key + ' button');\n",
              "      quickchartButtonEl.disabled = true;  // To prevent multiple clicks.\n",
              "      quickchartButtonEl.classList.add('colab-df-spinner');\n",
              "      try {\n",
              "        const charts = await google.colab.kernel.invokeFunction(\n",
              "            'suggestCharts', [key], {});\n",
              "      } catch (error) {\n",
              "        console.error('Error during call to suggestCharts:', error);\n",
              "      }\n",
              "      quickchartButtonEl.classList.remove('colab-df-spinner');\n",
              "      quickchartButtonEl.classList.add('colab-df-quickchart-complete');\n",
              "    }\n",
              "    (() => {\n",
              "      let quickchartButtonEl =\n",
              "        document.querySelector('#df-112c134d-81c3-418a-aa02-3e4e02a86750 button');\n",
              "      quickchartButtonEl.style.display =\n",
              "        google.colab.kernel.accessAllowed ? 'block' : 'none';\n",
              "    })();\n",
              "  </script>\n",
              "</div>\n",
              "\n",
              "    </div>\n",
              "  </div>\n"
            ],
            "application/vnd.google.colaboratory.intrinsic+json": {
              "type": "dataframe"
            }
          },
          "metadata": {},
          "execution_count": 51
        }
      ]
    },
    {
      "cell_type": "markdown",
      "source": [
        "###1.10.2 Dropping Duplicated Rows"
      ],
      "metadata": {
        "id": "lxeO4pPWrINw"
      }
    },
    {
      "cell_type": "code",
      "source": [
        "PCPAO_SalesDATA.drop_duplicates(keep='last',inplace=True)"
      ],
      "metadata": {
        "id": "qOAX8eNysVDt"
      },
      "execution_count": 52,
      "outputs": []
    },
    {
      "cell_type": "code",
      "source": [
        "PCPAO_SalesDATA[['PARCEL_NUMBER','SALES_YEAR']].value_counts()"
      ],
      "metadata": {
        "colab": {
          "base_uri": "https://localhost:8080/",
          "height": 490
        },
        "id": "PUpxzMUiHnRG",
        "outputId": "8ea42494-8dbb-49b1-bdba-bace4522019f"
      },
      "execution_count": 53,
      "outputs": [
        {
          "output_type": "execute_result",
          "data": {
            "text/plain": [
              "PARCEL_NUMBER            SALES_YEAR\n",
              "14-30-15-84204-002-0080  2021          5\n",
              "27-31-16-69552-000-0830  1999          4\n",
              "06-31-17-20160-001-0150  2022          4\n",
              "23-31-16-65862-002-0030  2021          4\n",
              "22-31-16-72756-003-0110  2022          4\n",
              "                                      ..\n",
              "12-30-15-20062-011-0260  1978          1\n",
              "                         2024          1\n",
              "12-30-15-20062-011-0270  1978          1\n",
              "                         2023          1\n",
              "36-31-16-95814-000-0050  1978          1\n",
              "Name: count, Length: 659443, dtype: int64"
            ],
            "text/html": [
              "<div>\n",
              "<style scoped>\n",
              "    .dataframe tbody tr th:only-of-type {\n",
              "        vertical-align: middle;\n",
              "    }\n",
              "\n",
              "    .dataframe tbody tr th {\n",
              "        vertical-align: top;\n",
              "    }\n",
              "\n",
              "    .dataframe thead th {\n",
              "        text-align: right;\n",
              "    }\n",
              "</style>\n",
              "<table border=\"1\" class=\"dataframe\">\n",
              "  <thead>\n",
              "    <tr style=\"text-align: right;\">\n",
              "      <th></th>\n",
              "      <th></th>\n",
              "      <th>count</th>\n",
              "    </tr>\n",
              "    <tr>\n",
              "      <th>PARCEL_NUMBER</th>\n",
              "      <th>SALES_YEAR</th>\n",
              "      <th></th>\n",
              "    </tr>\n",
              "  </thead>\n",
              "  <tbody>\n",
              "    <tr>\n",
              "      <th>14-30-15-84204-002-0080</th>\n",
              "      <th>2021</th>\n",
              "      <td>5</td>\n",
              "    </tr>\n",
              "    <tr>\n",
              "      <th>27-31-16-69552-000-0830</th>\n",
              "      <th>1999</th>\n",
              "      <td>4</td>\n",
              "    </tr>\n",
              "    <tr>\n",
              "      <th>06-31-17-20160-001-0150</th>\n",
              "      <th>2022</th>\n",
              "      <td>4</td>\n",
              "    </tr>\n",
              "    <tr>\n",
              "      <th>23-31-16-65862-002-0030</th>\n",
              "      <th>2021</th>\n",
              "      <td>4</td>\n",
              "    </tr>\n",
              "    <tr>\n",
              "      <th>22-31-16-72756-003-0110</th>\n",
              "      <th>2022</th>\n",
              "      <td>4</td>\n",
              "    </tr>\n",
              "    <tr>\n",
              "      <th>...</th>\n",
              "      <th>...</th>\n",
              "      <td>...</td>\n",
              "    </tr>\n",
              "    <tr>\n",
              "      <th rowspan=\"2\" valign=\"top\">12-30-15-20062-011-0260</th>\n",
              "      <th>1978</th>\n",
              "      <td>1</td>\n",
              "    </tr>\n",
              "    <tr>\n",
              "      <th>2024</th>\n",
              "      <td>1</td>\n",
              "    </tr>\n",
              "    <tr>\n",
              "      <th rowspan=\"2\" valign=\"top\">12-30-15-20062-011-0270</th>\n",
              "      <th>1978</th>\n",
              "      <td>1</td>\n",
              "    </tr>\n",
              "    <tr>\n",
              "      <th>2023</th>\n",
              "      <td>1</td>\n",
              "    </tr>\n",
              "    <tr>\n",
              "      <th>36-31-16-95814-000-0050</th>\n",
              "      <th>1978</th>\n",
              "      <td>1</td>\n",
              "    </tr>\n",
              "  </tbody>\n",
              "</table>\n",
              "<p>659443 rows × 1 columns</p>\n",
              "</div><br><label><b>dtype:</b> int64</label>"
            ]
          },
          "metadata": {},
          "execution_count": 53
        }
      ]
    },
    {
      "cell_type": "code",
      "source": [
        "PCPAO_SalesDATA[['PARCEL_NUMBER','SALES_YEAR']].value_counts().sum()"
      ],
      "metadata": {
        "colab": {
          "base_uri": "https://localhost:8080/"
        },
        "outputId": "e57d1185-73de-4d5e-8902-b9cfd9abc07b",
        "id": "ALNjTpcDuRyB"
      },
      "execution_count": 54,
      "outputs": [
        {
          "output_type": "execute_result",
          "data": {
            "text/plain": [
              "670921"
            ]
          },
          "metadata": {},
          "execution_count": 54
        }
      ]
    },
    {
      "cell_type": "markdown",
      "source": [
        "###1.10.3 Keeping The Most Recent Sales Record"
      ],
      "metadata": {
        "id": "nreEIpeQuWJG"
      }
    },
    {
      "cell_type": "code",
      "source": [
        "PCPAO_SalesDATA.sort_values(by='SALES_DATE',inplace=True)"
      ],
      "metadata": {
        "id": "Kghq6aDWunWi"
      },
      "execution_count": 55,
      "outputs": []
    },
    {
      "cell_type": "code",
      "source": [
        "PCPAO_SalesDATA.drop_duplicates(subset='PARCEL_NUMBER',keep='last',inplace=True)"
      ],
      "metadata": {
        "id": "YwUKZoC7u-qi"
      },
      "execution_count": 56,
      "outputs": []
    },
    {
      "cell_type": "code",
      "source": [
        "PCPAO_SalesDATA.reset_index(drop=True,inplace=True)"
      ],
      "metadata": {
        "id": "w0uG1IWsvEHO"
      },
      "execution_count": 57,
      "outputs": []
    },
    {
      "cell_type": "code",
      "source": [
        "PCPAO_SalesDATA.head().T"
      ],
      "metadata": {
        "colab": {
          "base_uri": "https://localhost:8080/",
          "height": 1000
        },
        "id": "TZxCuh_-zoaJ",
        "outputId": "3933531c-01ed-48e0-e252-9b73cd5aacad"
      },
      "execution_count": 58,
      "outputs": [
        {
          "output_type": "execute_result",
          "data": {
            "text/plain": [
              "                                             0                          1  \\\n",
              "PARCEL_NUMBER          13-31-16-72504-001-0160    05-31-16-46044-013-0120   \n",
              "SUBDIVISION                POMEROY'S ADD, J.B.        KENNETH CITY UNIT 5   \n",
              "TOTAL_LIVING_SQFT                        920.0                     1898.0   \n",
              "TOTAL_GROSS_SQFT                        1238.0                     3052.0   \n",
              "CNTY_JST_VALUE                          272881                     395147   \n",
              "CNTY_ASD_VALUE                          267853                     306702   \n",
              "CNTY_TAXABLE_VALUE                      267853                     306702   \n",
              "JUST_LAND                               196833                     130603   \n",
              "JUST_BUILDING                            73143                     246251   \n",
              "JUST_EXTRA_FEATURES                       2905                      18293   \n",
              "SALES_DATE                 1899-01-01 00:00:00        1899-01-01 00:00:00   \n",
              "PRICE                                    52900                      18500   \n",
              "SEAWALL                                      N                          N   \n",
              "CONTAMINATION                                N                          N   \n",
              "SUBSIDENCE                                   N                          N   \n",
              "EVAC_ZONE                             NON EVAC                          E   \n",
              "LAND_AREA_SF                              5000                      17384   \n",
              "POOL                                         N                          Y   \n",
              "WATERFRONT                                   N                          N   \n",
              "CITY                             ST PETERSBURG               KENNETH CITY   \n",
              "ZIP                                      33705                      33709   \n",
              "EFFECTIVE_AGE                             46.0                       28.0   \n",
              "CENTRAL_COOLING                              N                          Y   \n",
              "EXTERIOR_WALLS               Frame/Custom_Wood             Concrete_Block   \n",
              "RCN                                   266172.0                   442013.0   \n",
              "FLOOR_FINISH          Carpet/Hardtile/Hardwood   Carpet/Hardtile/Hardwood   \n",
              "FLOOR_SYSTEM                              Wood              Slab_On_Grade   \n",
              "FOUNDATION           Continuous_Footing_Poured  Continuous_Footing_Poured   \n",
              "INTERIOR_FINISH                        Upgrade            Drywall/Plaster   \n",
              "ROOF_COVER                 Shingle_Composition        Shingle_Composition   \n",
              "ROOF_FRAME                        Gable_Or_Hip               Gable_Or_Hip   \n",
              "SALES_YEAR                                1899                       1899   \n",
              "REAL_AGE                                  96.0                       65.0   \n",
              "\n",
              "                                                  2  \\\n",
              "PARCEL_NUMBER               36-27-15-89334-000-0090   \n",
              "SUBDIVISION          TAMPA & TARPON SPRINGS LAND CO   \n",
              "TOTAL_LIVING_SQFT                            2721.0   \n",
              "TOTAL_GROSS_SQFT                             3519.0   \n",
              "CNTY_JST_VALUE                               989800   \n",
              "CNTY_ASD_VALUE                               749717   \n",
              "CNTY_TAXABLE_VALUE                           694717   \n",
              "JUST_LAND                                    673184   \n",
              "JUST_BUILDING                                297644   \n",
              "JUST_EXTRA_FEATURES                           18972   \n",
              "SALES_DATE                      1899-01-01 00:00:00   \n",
              "PRICE                                          7500   \n",
              "SEAWALL                                           N   \n",
              "CONTAMINATION                                     N   \n",
              "SUBSIDENCE                                        N   \n",
              "EVAC_ZONE                                  NON EVAC   \n",
              "LAND_AREA_SF                                 336331   \n",
              "POOL                                              N   \n",
              "WATERFRONT                                        N   \n",
              "CITY                                    PALM HARBOR   \n",
              "ZIP                                           34683   \n",
              "EFFECTIVE_AGE                                  28.0   \n",
              "CENTRAL_COOLING                                   Y   \n",
              "EXTERIOR_WALLS                         Frame_Siding   \n",
              "RCN                                        511434.0   \n",
              "FLOOR_FINISH               Carpet/Hardtile/Hardwood   \n",
              "FLOOR_SYSTEM                          Slab_On_Grade   \n",
              "FOUNDATION                Continuous_Footing_Poured   \n",
              "INTERIOR_FINISH                     Drywall/Plaster   \n",
              "ROOF_COVER                      Shingle_Composition   \n",
              "ROOF_FRAME                             Gable_Or_Hip   \n",
              "SALES_YEAR                                     1899   \n",
              "REAL_AGE                                       45.0   \n",
              "\n",
              "                                             3                        4  \n",
              "PARCEL_NUMBER          19-30-15-99342-006-0110  29-30-16-71082-083-0030  \n",
              "SUBDIVISION          YACHT CLUB ESTATES UNIT 6    PINELLAS PARK 1ST ADD  \n",
              "TOTAL_LIVING_SQFT                       1658.0                   1350.0  \n",
              "TOTAL_GROSS_SQFT                        2180.0                   1800.0  \n",
              "CNTY_JST_VALUE                          328322                   346062  \n",
              "CNTY_ASD_VALUE                          274144                   346062  \n",
              "CNTY_TAXABLE_VALUE                      224144                   346062  \n",
              "JUST_LAND                               200272                   294562  \n",
              "JUST_BUILDING                           122436                    46514  \n",
              "JUST_EXTRA_FEATURES                       5613                     4986  \n",
              "SALES_DATE                 1899-01-01 00:00:00      1899-01-01 00:00:00  \n",
              "PRICE                                        0                        0  \n",
              "SEAWALL                                      N                        N  \n",
              "CONTAMINATION                                N                        N  \n",
              "SUBSIDENCE                                   N                        N  \n",
              "EVAC_ZONE                             NON EVAC                        C  \n",
              "LAND_AREA_SF                              8611                    30683  \n",
              "POOL                                         Y                        N  \n",
              "WATERFRONT                                   N                        N  \n",
              "CITY                                  SEMINOLE            PINELLAS PARK  \n",
              "ZIP                                      33776                    33781  \n",
              "EFFECTIVE_AGE                             43.0                     51.0  \n",
              "CENTRAL_COOLING                              Y                        N  \n",
              "EXTERIOR_WALLS             Cb_Stucco/Cb_Reclad   Frame/Reclad_Alum/Viny  \n",
              "RCN                                   360538.0                 205636.0  \n",
              "FLOOR_FINISH             Carpet/_Vinyl/Asphalt    Carpet/_Vinyl/Asphalt  \n",
              "FLOOR_SYSTEM                     Slab_On_Grade                     Wood  \n",
              "FOUNDATION           Continuous_Footing_Poured                    Piers  \n",
              "INTERIOR_FINISH                Drywall/Plaster           Wood/Wallboard  \n",
              "ROOF_COVER                 Concrete_Tile/Metal      Shingle_Composition  \n",
              "ROOF_FRAME                        Gable_Or_Hip             Gable_Or_Hip  \n",
              "SALES_YEAR                                1899                     1899  \n",
              "REAL_AGE                                  58.0                     78.0  "
            ],
            "text/html": [
              "\n",
              "  <div id=\"df-265cd947-053a-4f2b-8a84-3c65c60aa759\" class=\"colab-df-container\">\n",
              "    <div>\n",
              "<style scoped>\n",
              "    .dataframe tbody tr th:only-of-type {\n",
              "        vertical-align: middle;\n",
              "    }\n",
              "\n",
              "    .dataframe tbody tr th {\n",
              "        vertical-align: top;\n",
              "    }\n",
              "\n",
              "    .dataframe thead th {\n",
              "        text-align: right;\n",
              "    }\n",
              "</style>\n",
              "<table border=\"1\" class=\"dataframe\">\n",
              "  <thead>\n",
              "    <tr style=\"text-align: right;\">\n",
              "      <th></th>\n",
              "      <th>0</th>\n",
              "      <th>1</th>\n",
              "      <th>2</th>\n",
              "      <th>3</th>\n",
              "      <th>4</th>\n",
              "    </tr>\n",
              "  </thead>\n",
              "  <tbody>\n",
              "    <tr>\n",
              "      <th>PARCEL_NUMBER</th>\n",
              "      <td>13-31-16-72504-001-0160</td>\n",
              "      <td>05-31-16-46044-013-0120</td>\n",
              "      <td>36-27-15-89334-000-0090</td>\n",
              "      <td>19-30-15-99342-006-0110</td>\n",
              "      <td>29-30-16-71082-083-0030</td>\n",
              "    </tr>\n",
              "    <tr>\n",
              "      <th>SUBDIVISION</th>\n",
              "      <td>POMEROY'S ADD, J.B.</td>\n",
              "      <td>KENNETH CITY UNIT 5</td>\n",
              "      <td>TAMPA &amp; TARPON SPRINGS LAND CO</td>\n",
              "      <td>YACHT CLUB ESTATES UNIT 6</td>\n",
              "      <td>PINELLAS PARK 1ST ADD</td>\n",
              "    </tr>\n",
              "    <tr>\n",
              "      <th>TOTAL_LIVING_SQFT</th>\n",
              "      <td>920.0</td>\n",
              "      <td>1898.0</td>\n",
              "      <td>2721.0</td>\n",
              "      <td>1658.0</td>\n",
              "      <td>1350.0</td>\n",
              "    </tr>\n",
              "    <tr>\n",
              "      <th>TOTAL_GROSS_SQFT</th>\n",
              "      <td>1238.0</td>\n",
              "      <td>3052.0</td>\n",
              "      <td>3519.0</td>\n",
              "      <td>2180.0</td>\n",
              "      <td>1800.0</td>\n",
              "    </tr>\n",
              "    <tr>\n",
              "      <th>CNTY_JST_VALUE</th>\n",
              "      <td>272881</td>\n",
              "      <td>395147</td>\n",
              "      <td>989800</td>\n",
              "      <td>328322</td>\n",
              "      <td>346062</td>\n",
              "    </tr>\n",
              "    <tr>\n",
              "      <th>CNTY_ASD_VALUE</th>\n",
              "      <td>267853</td>\n",
              "      <td>306702</td>\n",
              "      <td>749717</td>\n",
              "      <td>274144</td>\n",
              "      <td>346062</td>\n",
              "    </tr>\n",
              "    <tr>\n",
              "      <th>CNTY_TAXABLE_VALUE</th>\n",
              "      <td>267853</td>\n",
              "      <td>306702</td>\n",
              "      <td>694717</td>\n",
              "      <td>224144</td>\n",
              "      <td>346062</td>\n",
              "    </tr>\n",
              "    <tr>\n",
              "      <th>JUST_LAND</th>\n",
              "      <td>196833</td>\n",
              "      <td>130603</td>\n",
              "      <td>673184</td>\n",
              "      <td>200272</td>\n",
              "      <td>294562</td>\n",
              "    </tr>\n",
              "    <tr>\n",
              "      <th>JUST_BUILDING</th>\n",
              "      <td>73143</td>\n",
              "      <td>246251</td>\n",
              "      <td>297644</td>\n",
              "      <td>122436</td>\n",
              "      <td>46514</td>\n",
              "    </tr>\n",
              "    <tr>\n",
              "      <th>JUST_EXTRA_FEATURES</th>\n",
              "      <td>2905</td>\n",
              "      <td>18293</td>\n",
              "      <td>18972</td>\n",
              "      <td>5613</td>\n",
              "      <td>4986</td>\n",
              "    </tr>\n",
              "    <tr>\n",
              "      <th>SALES_DATE</th>\n",
              "      <td>1899-01-01 00:00:00</td>\n",
              "      <td>1899-01-01 00:00:00</td>\n",
              "      <td>1899-01-01 00:00:00</td>\n",
              "      <td>1899-01-01 00:00:00</td>\n",
              "      <td>1899-01-01 00:00:00</td>\n",
              "    </tr>\n",
              "    <tr>\n",
              "      <th>PRICE</th>\n",
              "      <td>52900</td>\n",
              "      <td>18500</td>\n",
              "      <td>7500</td>\n",
              "      <td>0</td>\n",
              "      <td>0</td>\n",
              "    </tr>\n",
              "    <tr>\n",
              "      <th>SEAWALL</th>\n",
              "      <td>N</td>\n",
              "      <td>N</td>\n",
              "      <td>N</td>\n",
              "      <td>N</td>\n",
              "      <td>N</td>\n",
              "    </tr>\n",
              "    <tr>\n",
              "      <th>CONTAMINATION</th>\n",
              "      <td>N</td>\n",
              "      <td>N</td>\n",
              "      <td>N</td>\n",
              "      <td>N</td>\n",
              "      <td>N</td>\n",
              "    </tr>\n",
              "    <tr>\n",
              "      <th>SUBSIDENCE</th>\n",
              "      <td>N</td>\n",
              "      <td>N</td>\n",
              "      <td>N</td>\n",
              "      <td>N</td>\n",
              "      <td>N</td>\n",
              "    </tr>\n",
              "    <tr>\n",
              "      <th>EVAC_ZONE</th>\n",
              "      <td>NON EVAC</td>\n",
              "      <td>E</td>\n",
              "      <td>NON EVAC</td>\n",
              "      <td>NON EVAC</td>\n",
              "      <td>C</td>\n",
              "    </tr>\n",
              "    <tr>\n",
              "      <th>LAND_AREA_SF</th>\n",
              "      <td>5000</td>\n",
              "      <td>17384</td>\n",
              "      <td>336331</td>\n",
              "      <td>8611</td>\n",
              "      <td>30683</td>\n",
              "    </tr>\n",
              "    <tr>\n",
              "      <th>POOL</th>\n",
              "      <td>N</td>\n",
              "      <td>Y</td>\n",
              "      <td>N</td>\n",
              "      <td>Y</td>\n",
              "      <td>N</td>\n",
              "    </tr>\n",
              "    <tr>\n",
              "      <th>WATERFRONT</th>\n",
              "      <td>N</td>\n",
              "      <td>N</td>\n",
              "      <td>N</td>\n",
              "      <td>N</td>\n",
              "      <td>N</td>\n",
              "    </tr>\n",
              "    <tr>\n",
              "      <th>CITY</th>\n",
              "      <td>ST PETERSBURG</td>\n",
              "      <td>KENNETH CITY</td>\n",
              "      <td>PALM HARBOR</td>\n",
              "      <td>SEMINOLE</td>\n",
              "      <td>PINELLAS PARK</td>\n",
              "    </tr>\n",
              "    <tr>\n",
              "      <th>ZIP</th>\n",
              "      <td>33705</td>\n",
              "      <td>33709</td>\n",
              "      <td>34683</td>\n",
              "      <td>33776</td>\n",
              "      <td>33781</td>\n",
              "    </tr>\n",
              "    <tr>\n",
              "      <th>EFFECTIVE_AGE</th>\n",
              "      <td>46.0</td>\n",
              "      <td>28.0</td>\n",
              "      <td>28.0</td>\n",
              "      <td>43.0</td>\n",
              "      <td>51.0</td>\n",
              "    </tr>\n",
              "    <tr>\n",
              "      <th>CENTRAL_COOLING</th>\n",
              "      <td>N</td>\n",
              "      <td>Y</td>\n",
              "      <td>Y</td>\n",
              "      <td>Y</td>\n",
              "      <td>N</td>\n",
              "    </tr>\n",
              "    <tr>\n",
              "      <th>EXTERIOR_WALLS</th>\n",
              "      <td>Frame/Custom_Wood</td>\n",
              "      <td>Concrete_Block</td>\n",
              "      <td>Frame_Siding</td>\n",
              "      <td>Cb_Stucco/Cb_Reclad</td>\n",
              "      <td>Frame/Reclad_Alum/Viny</td>\n",
              "    </tr>\n",
              "    <tr>\n",
              "      <th>RCN</th>\n",
              "      <td>266172.0</td>\n",
              "      <td>442013.0</td>\n",
              "      <td>511434.0</td>\n",
              "      <td>360538.0</td>\n",
              "      <td>205636.0</td>\n",
              "    </tr>\n",
              "    <tr>\n",
              "      <th>FLOOR_FINISH</th>\n",
              "      <td>Carpet/Hardtile/Hardwood</td>\n",
              "      <td>Carpet/Hardtile/Hardwood</td>\n",
              "      <td>Carpet/Hardtile/Hardwood</td>\n",
              "      <td>Carpet/_Vinyl/Asphalt</td>\n",
              "      <td>Carpet/_Vinyl/Asphalt</td>\n",
              "    </tr>\n",
              "    <tr>\n",
              "      <th>FLOOR_SYSTEM</th>\n",
              "      <td>Wood</td>\n",
              "      <td>Slab_On_Grade</td>\n",
              "      <td>Slab_On_Grade</td>\n",
              "      <td>Slab_On_Grade</td>\n",
              "      <td>Wood</td>\n",
              "    </tr>\n",
              "    <tr>\n",
              "      <th>FOUNDATION</th>\n",
              "      <td>Continuous_Footing_Poured</td>\n",
              "      <td>Continuous_Footing_Poured</td>\n",
              "      <td>Continuous_Footing_Poured</td>\n",
              "      <td>Continuous_Footing_Poured</td>\n",
              "      <td>Piers</td>\n",
              "    </tr>\n",
              "    <tr>\n",
              "      <th>INTERIOR_FINISH</th>\n",
              "      <td>Upgrade</td>\n",
              "      <td>Drywall/Plaster</td>\n",
              "      <td>Drywall/Plaster</td>\n",
              "      <td>Drywall/Plaster</td>\n",
              "      <td>Wood/Wallboard</td>\n",
              "    </tr>\n",
              "    <tr>\n",
              "      <th>ROOF_COVER</th>\n",
              "      <td>Shingle_Composition</td>\n",
              "      <td>Shingle_Composition</td>\n",
              "      <td>Shingle_Composition</td>\n",
              "      <td>Concrete_Tile/Metal</td>\n",
              "      <td>Shingle_Composition</td>\n",
              "    </tr>\n",
              "    <tr>\n",
              "      <th>ROOF_FRAME</th>\n",
              "      <td>Gable_Or_Hip</td>\n",
              "      <td>Gable_Or_Hip</td>\n",
              "      <td>Gable_Or_Hip</td>\n",
              "      <td>Gable_Or_Hip</td>\n",
              "      <td>Gable_Or_Hip</td>\n",
              "    </tr>\n",
              "    <tr>\n",
              "      <th>SALES_YEAR</th>\n",
              "      <td>1899</td>\n",
              "      <td>1899</td>\n",
              "      <td>1899</td>\n",
              "      <td>1899</td>\n",
              "      <td>1899</td>\n",
              "    </tr>\n",
              "    <tr>\n",
              "      <th>REAL_AGE</th>\n",
              "      <td>96.0</td>\n",
              "      <td>65.0</td>\n",
              "      <td>45.0</td>\n",
              "      <td>58.0</td>\n",
              "      <td>78.0</td>\n",
              "    </tr>\n",
              "  </tbody>\n",
              "</table>\n",
              "</div>\n",
              "    <div class=\"colab-df-buttons\">\n",
              "\n",
              "  <div class=\"colab-df-container\">\n",
              "    <button class=\"colab-df-convert\" onclick=\"convertToInteractive('df-265cd947-053a-4f2b-8a84-3c65c60aa759')\"\n",
              "            title=\"Convert this dataframe to an interactive table.\"\n",
              "            style=\"display:none;\">\n",
              "\n",
              "  <svg xmlns=\"http://www.w3.org/2000/svg\" height=\"24px\" viewBox=\"0 -960 960 960\">\n",
              "    <path d=\"M120-120v-720h720v720H120Zm60-500h600v-160H180v160Zm220 220h160v-160H400v160Zm0 220h160v-160H400v160ZM180-400h160v-160H180v160Zm440 0h160v-160H620v160ZM180-180h160v-160H180v160Zm440 0h160v-160H620v160Z\"/>\n",
              "  </svg>\n",
              "    </button>\n",
              "\n",
              "  <style>\n",
              "    .colab-df-container {\n",
              "      display:flex;\n",
              "      gap: 12px;\n",
              "    }\n",
              "\n",
              "    .colab-df-convert {\n",
              "      background-color: #E8F0FE;\n",
              "      border: none;\n",
              "      border-radius: 50%;\n",
              "      cursor: pointer;\n",
              "      display: none;\n",
              "      fill: #1967D2;\n",
              "      height: 32px;\n",
              "      padding: 0 0 0 0;\n",
              "      width: 32px;\n",
              "    }\n",
              "\n",
              "    .colab-df-convert:hover {\n",
              "      background-color: #E2EBFA;\n",
              "      box-shadow: 0px 1px 2px rgba(60, 64, 67, 0.3), 0px 1px 3px 1px rgba(60, 64, 67, 0.15);\n",
              "      fill: #174EA6;\n",
              "    }\n",
              "\n",
              "    .colab-df-buttons div {\n",
              "      margin-bottom: 4px;\n",
              "    }\n",
              "\n",
              "    [theme=dark] .colab-df-convert {\n",
              "      background-color: #3B4455;\n",
              "      fill: #D2E3FC;\n",
              "    }\n",
              "\n",
              "    [theme=dark] .colab-df-convert:hover {\n",
              "      background-color: #434B5C;\n",
              "      box-shadow: 0px 1px 3px 1px rgba(0, 0, 0, 0.15);\n",
              "      filter: drop-shadow(0px 1px 2px rgba(0, 0, 0, 0.3));\n",
              "      fill: #FFFFFF;\n",
              "    }\n",
              "  </style>\n",
              "\n",
              "    <script>\n",
              "      const buttonEl =\n",
              "        document.querySelector('#df-265cd947-053a-4f2b-8a84-3c65c60aa759 button.colab-df-convert');\n",
              "      buttonEl.style.display =\n",
              "        google.colab.kernel.accessAllowed ? 'block' : 'none';\n",
              "\n",
              "      async function convertToInteractive(key) {\n",
              "        const element = document.querySelector('#df-265cd947-053a-4f2b-8a84-3c65c60aa759');\n",
              "        const dataTable =\n",
              "          await google.colab.kernel.invokeFunction('convertToInteractive',\n",
              "                                                    [key], {});\n",
              "        if (!dataTable) return;\n",
              "\n",
              "        const docLinkHtml = 'Like what you see? Visit the ' +\n",
              "          '<a target=\"_blank\" href=https://colab.research.google.com/notebooks/data_table.ipynb>data table notebook</a>'\n",
              "          + ' to learn more about interactive tables.';\n",
              "        element.innerHTML = '';\n",
              "        dataTable['output_type'] = 'display_data';\n",
              "        await google.colab.output.renderOutput(dataTable, element);\n",
              "        const docLink = document.createElement('div');\n",
              "        docLink.innerHTML = docLinkHtml;\n",
              "        element.appendChild(docLink);\n",
              "      }\n",
              "    </script>\n",
              "  </div>\n",
              "\n",
              "\n",
              "<div id=\"df-48d0f2a4-d9b7-4e2e-94bb-d1cbf4c3082d\">\n",
              "  <button class=\"colab-df-quickchart\" onclick=\"quickchart('df-48d0f2a4-d9b7-4e2e-94bb-d1cbf4c3082d')\"\n",
              "            title=\"Suggest charts\"\n",
              "            style=\"display:none;\">\n",
              "\n",
              "<svg xmlns=\"http://www.w3.org/2000/svg\" height=\"24px\"viewBox=\"0 0 24 24\"\n",
              "     width=\"24px\">\n",
              "    <g>\n",
              "        <path d=\"M19 3H5c-1.1 0-2 .9-2 2v14c0 1.1.9 2 2 2h14c1.1 0 2-.9 2-2V5c0-1.1-.9-2-2-2zM9 17H7v-7h2v7zm4 0h-2V7h2v10zm4 0h-2v-4h2v4z\"/>\n",
              "    </g>\n",
              "</svg>\n",
              "  </button>\n",
              "\n",
              "<style>\n",
              "  .colab-df-quickchart {\n",
              "      --bg-color: #E8F0FE;\n",
              "      --fill-color: #1967D2;\n",
              "      --hover-bg-color: #E2EBFA;\n",
              "      --hover-fill-color: #174EA6;\n",
              "      --disabled-fill-color: #AAA;\n",
              "      --disabled-bg-color: #DDD;\n",
              "  }\n",
              "\n",
              "  [theme=dark] .colab-df-quickchart {\n",
              "      --bg-color: #3B4455;\n",
              "      --fill-color: #D2E3FC;\n",
              "      --hover-bg-color: #434B5C;\n",
              "      --hover-fill-color: #FFFFFF;\n",
              "      --disabled-bg-color: #3B4455;\n",
              "      --disabled-fill-color: #666;\n",
              "  }\n",
              "\n",
              "  .colab-df-quickchart {\n",
              "    background-color: var(--bg-color);\n",
              "    border: none;\n",
              "    border-radius: 50%;\n",
              "    cursor: pointer;\n",
              "    display: none;\n",
              "    fill: var(--fill-color);\n",
              "    height: 32px;\n",
              "    padding: 0;\n",
              "    width: 32px;\n",
              "  }\n",
              "\n",
              "  .colab-df-quickchart:hover {\n",
              "    background-color: var(--hover-bg-color);\n",
              "    box-shadow: 0 1px 2px rgba(60, 64, 67, 0.3), 0 1px 3px 1px rgba(60, 64, 67, 0.15);\n",
              "    fill: var(--button-hover-fill-color);\n",
              "  }\n",
              "\n",
              "  .colab-df-quickchart-complete:disabled,\n",
              "  .colab-df-quickchart-complete:disabled:hover {\n",
              "    background-color: var(--disabled-bg-color);\n",
              "    fill: var(--disabled-fill-color);\n",
              "    box-shadow: none;\n",
              "  }\n",
              "\n",
              "  .colab-df-spinner {\n",
              "    border: 2px solid var(--fill-color);\n",
              "    border-color: transparent;\n",
              "    border-bottom-color: var(--fill-color);\n",
              "    animation:\n",
              "      spin 1s steps(1) infinite;\n",
              "  }\n",
              "\n",
              "  @keyframes spin {\n",
              "    0% {\n",
              "      border-color: transparent;\n",
              "      border-bottom-color: var(--fill-color);\n",
              "      border-left-color: var(--fill-color);\n",
              "    }\n",
              "    20% {\n",
              "      border-color: transparent;\n",
              "      border-left-color: var(--fill-color);\n",
              "      border-top-color: var(--fill-color);\n",
              "    }\n",
              "    30% {\n",
              "      border-color: transparent;\n",
              "      border-left-color: var(--fill-color);\n",
              "      border-top-color: var(--fill-color);\n",
              "      border-right-color: var(--fill-color);\n",
              "    }\n",
              "    40% {\n",
              "      border-color: transparent;\n",
              "      border-right-color: var(--fill-color);\n",
              "      border-top-color: var(--fill-color);\n",
              "    }\n",
              "    60% {\n",
              "      border-color: transparent;\n",
              "      border-right-color: var(--fill-color);\n",
              "    }\n",
              "    80% {\n",
              "      border-color: transparent;\n",
              "      border-right-color: var(--fill-color);\n",
              "      border-bottom-color: var(--fill-color);\n",
              "    }\n",
              "    90% {\n",
              "      border-color: transparent;\n",
              "      border-bottom-color: var(--fill-color);\n",
              "    }\n",
              "  }\n",
              "</style>\n",
              "\n",
              "  <script>\n",
              "    async function quickchart(key) {\n",
              "      const quickchartButtonEl =\n",
              "        document.querySelector('#' + key + ' button');\n",
              "      quickchartButtonEl.disabled = true;  // To prevent multiple clicks.\n",
              "      quickchartButtonEl.classList.add('colab-df-spinner');\n",
              "      try {\n",
              "        const charts = await google.colab.kernel.invokeFunction(\n",
              "            'suggestCharts', [key], {});\n",
              "      } catch (error) {\n",
              "        console.error('Error during call to suggestCharts:', error);\n",
              "      }\n",
              "      quickchartButtonEl.classList.remove('colab-df-spinner');\n",
              "      quickchartButtonEl.classList.add('colab-df-quickchart-complete');\n",
              "    }\n",
              "    (() => {\n",
              "      let quickchartButtonEl =\n",
              "        document.querySelector('#df-48d0f2a4-d9b7-4e2e-94bb-d1cbf4c3082d button');\n",
              "      quickchartButtonEl.style.display =\n",
              "        google.colab.kernel.accessAllowed ? 'block' : 'none';\n",
              "    })();\n",
              "  </script>\n",
              "</div>\n",
              "\n",
              "    </div>\n",
              "  </div>\n"
            ],
            "application/vnd.google.colaboratory.intrinsic+json": {
              "type": "dataframe",
              "variable_name": "PCPAO_SalesDATA"
            }
          },
          "metadata": {},
          "execution_count": 58
        }
      ]
    },
    {
      "cell_type": "markdown",
      "source": [
        "##1.11 Examining the Number of CITY/ZIP combinations.\n",
        "\n",
        "Some City/Zip combinations only have 1 parcel sale listed. Some are errors."
      ],
      "metadata": {
        "id": "mRLTfK1wZ_fR"
      }
    },
    {
      "cell_type": "markdown",
      "source": [
        "The CITY and ZIP are currently the best location identifiers. There are currently only 83 unique city/zip combinations. Some city/zip combinations have thousands of parcels while some city/zip combinations have only one parcel.\n",
        "\n",
        "I think the city zip combinations that have only one property need to be checked. The city or zip could be wrong."
      ],
      "metadata": {
        "id": "AQdIkl_ZzRiP"
      }
    },
    {
      "cell_type": "code",
      "source": [
        "PCPAO_SalesDATA['CITY'].value_counts()"
      ],
      "metadata": {
        "colab": {
          "base_uri": "https://localhost:8080/",
          "height": 962
        },
        "id": "1t9x8bACwIcJ",
        "outputId": "b881d748-eb99-442b-c3a5-94ab13650e9d"
      },
      "execution_count": 60,
      "outputs": [
        {
          "output_type": "execute_result",
          "data": {
            "text/plain": [
              "CITY\n",
              "ST PETERSBURG            73051\n",
              "CLEARWATER               30009\n",
              "PALM HARBOR              19584\n",
              "LARGO                    19387\n",
              "SEMINOLE                 18739\n",
              "PINELLAS PARK            11508\n",
              "DUNEDIN                   9901\n",
              "TARPON SPRINGS            9375\n",
              "SAFETY HARBOR             4983\n",
              "OLDSMAR                   4917\n",
              "GULFPORT                  3830\n",
              "ST PETE BEACH             2561\n",
              "TREASURE ISLAND           1519\n",
              "BELLEAIR                  1211\n",
              "KENNETH CITY              1171\n",
              "MADEIRA BEACH             1152\n",
              "INDIAN ROCKS BEACH        1056\n",
              "TIERRA VERDE               914\n",
              "BELLEAIR BEACH             759\n",
              "REDINGTON BEACH            701\n",
              "REDINGTON SHORES           630\n",
              "CRYSTAL BEACH              590\n",
              "BELLEAIR BLUFFS            543\n",
              "SOUTH PASADENA             300\n",
              "NORTH REDINGTON BEACH      285\n",
              "INDIAN SHORES              100\n",
              "BELLEAIR SHORE              49\n",
              "Name: count, dtype: int64"
            ],
            "text/html": [
              "<div>\n",
              "<style scoped>\n",
              "    .dataframe tbody tr th:only-of-type {\n",
              "        vertical-align: middle;\n",
              "    }\n",
              "\n",
              "    .dataframe tbody tr th {\n",
              "        vertical-align: top;\n",
              "    }\n",
              "\n",
              "    .dataframe thead th {\n",
              "        text-align: right;\n",
              "    }\n",
              "</style>\n",
              "<table border=\"1\" class=\"dataframe\">\n",
              "  <thead>\n",
              "    <tr style=\"text-align: right;\">\n",
              "      <th></th>\n",
              "      <th>count</th>\n",
              "    </tr>\n",
              "    <tr>\n",
              "      <th>CITY</th>\n",
              "      <th></th>\n",
              "    </tr>\n",
              "  </thead>\n",
              "  <tbody>\n",
              "    <tr>\n",
              "      <th>ST PETERSBURG</th>\n",
              "      <td>73051</td>\n",
              "    </tr>\n",
              "    <tr>\n",
              "      <th>CLEARWATER</th>\n",
              "      <td>30009</td>\n",
              "    </tr>\n",
              "    <tr>\n",
              "      <th>PALM HARBOR</th>\n",
              "      <td>19584</td>\n",
              "    </tr>\n",
              "    <tr>\n",
              "      <th>LARGO</th>\n",
              "      <td>19387</td>\n",
              "    </tr>\n",
              "    <tr>\n",
              "      <th>SEMINOLE</th>\n",
              "      <td>18739</td>\n",
              "    </tr>\n",
              "    <tr>\n",
              "      <th>PINELLAS PARK</th>\n",
              "      <td>11508</td>\n",
              "    </tr>\n",
              "    <tr>\n",
              "      <th>DUNEDIN</th>\n",
              "      <td>9901</td>\n",
              "    </tr>\n",
              "    <tr>\n",
              "      <th>TARPON SPRINGS</th>\n",
              "      <td>9375</td>\n",
              "    </tr>\n",
              "    <tr>\n",
              "      <th>SAFETY HARBOR</th>\n",
              "      <td>4983</td>\n",
              "    </tr>\n",
              "    <tr>\n",
              "      <th>OLDSMAR</th>\n",
              "      <td>4917</td>\n",
              "    </tr>\n",
              "    <tr>\n",
              "      <th>GULFPORT</th>\n",
              "      <td>3830</td>\n",
              "    </tr>\n",
              "    <tr>\n",
              "      <th>ST PETE BEACH</th>\n",
              "      <td>2561</td>\n",
              "    </tr>\n",
              "    <tr>\n",
              "      <th>TREASURE ISLAND</th>\n",
              "      <td>1519</td>\n",
              "    </tr>\n",
              "    <tr>\n",
              "      <th>BELLEAIR</th>\n",
              "      <td>1211</td>\n",
              "    </tr>\n",
              "    <tr>\n",
              "      <th>KENNETH CITY</th>\n",
              "      <td>1171</td>\n",
              "    </tr>\n",
              "    <tr>\n",
              "      <th>MADEIRA BEACH</th>\n",
              "      <td>1152</td>\n",
              "    </tr>\n",
              "    <tr>\n",
              "      <th>INDIAN ROCKS BEACH</th>\n",
              "      <td>1056</td>\n",
              "    </tr>\n",
              "    <tr>\n",
              "      <th>TIERRA VERDE</th>\n",
              "      <td>914</td>\n",
              "    </tr>\n",
              "    <tr>\n",
              "      <th>BELLEAIR BEACH</th>\n",
              "      <td>759</td>\n",
              "    </tr>\n",
              "    <tr>\n",
              "      <th>REDINGTON BEACH</th>\n",
              "      <td>701</td>\n",
              "    </tr>\n",
              "    <tr>\n",
              "      <th>REDINGTON SHORES</th>\n",
              "      <td>630</td>\n",
              "    </tr>\n",
              "    <tr>\n",
              "      <th>CRYSTAL BEACH</th>\n",
              "      <td>590</td>\n",
              "    </tr>\n",
              "    <tr>\n",
              "      <th>BELLEAIR BLUFFS</th>\n",
              "      <td>543</td>\n",
              "    </tr>\n",
              "    <tr>\n",
              "      <th>SOUTH PASADENA</th>\n",
              "      <td>300</td>\n",
              "    </tr>\n",
              "    <tr>\n",
              "      <th>NORTH REDINGTON BEACH</th>\n",
              "      <td>285</td>\n",
              "    </tr>\n",
              "    <tr>\n",
              "      <th>INDIAN SHORES</th>\n",
              "      <td>100</td>\n",
              "    </tr>\n",
              "    <tr>\n",
              "      <th>BELLEAIR SHORE</th>\n",
              "      <td>49</td>\n",
              "    </tr>\n",
              "  </tbody>\n",
              "</table>\n",
              "</div><br><label><b>dtype:</b> int64</label>"
            ]
          },
          "metadata": {},
          "execution_count": 60
        }
      ]
    },
    {
      "cell_type": "code",
      "source": [
        "PCPAO_SalesDATA['ZIP'].value_counts()"
      ],
      "metadata": {
        "colab": {
          "base_uri": "https://localhost:8080/",
          "height": 1000
        },
        "id": "UGMaxtq_wguu",
        "outputId": "26c5c9e8-1725-497e-f249-84af4d940e81"
      },
      "execution_count": 61,
      "outputs": [
        {
          "output_type": "execute_result",
          "data": {
            "text/plain": [
              "ZIP\n",
              "33710    11526\n",
              "33713    10038\n",
              "34683     9640\n",
              "34698     9511\n",
              "33703     8299\n",
              "33756     7099\n",
              "34689     7013\n",
              "33772     6940\n",
              "33707     6723\n",
              "33702     6694\n",
              "33705     6677\n",
              "34684     6238\n",
              "33755     6169\n",
              "33770     5847\n",
              "33781     5679\n",
              "33712     5493\n",
              "33709     5304\n",
              "33764     5193\n",
              "33711     5188\n",
              "33704     5072\n",
              "34695     4984\n",
              "34677     4916\n",
              "33773     4620\n",
              "33774     4587\n",
              "33777     4584\n",
              "33782     4397\n",
              "33776     4308\n",
              "33708     4205\n",
              "33714     4179\n",
              "34685     4107\n",
              "33706     4080\n",
              "33778     3592\n",
              "33763     3477\n",
              "33761     3213\n",
              "33759     2937\n",
              "33771     2476\n",
              "34688     2360\n",
              "33765     2180\n",
              "33760     1590\n",
              "33701     1504\n",
              "33762     1237\n",
              "33767     1181\n",
              "33785     1155\n",
              "33715     1094\n",
              "33786      809\n",
              "34681      590\n",
              "33716      119\n",
              "34690        1\n",
              "Name: count, dtype: int64"
            ],
            "text/html": [
              "<div>\n",
              "<style scoped>\n",
              "    .dataframe tbody tr th:only-of-type {\n",
              "        vertical-align: middle;\n",
              "    }\n",
              "\n",
              "    .dataframe tbody tr th {\n",
              "        vertical-align: top;\n",
              "    }\n",
              "\n",
              "    .dataframe thead th {\n",
              "        text-align: right;\n",
              "    }\n",
              "</style>\n",
              "<table border=\"1\" class=\"dataframe\">\n",
              "  <thead>\n",
              "    <tr style=\"text-align: right;\">\n",
              "      <th></th>\n",
              "      <th>count</th>\n",
              "    </tr>\n",
              "    <tr>\n",
              "      <th>ZIP</th>\n",
              "      <th></th>\n",
              "    </tr>\n",
              "  </thead>\n",
              "  <tbody>\n",
              "    <tr>\n",
              "      <th>33710</th>\n",
              "      <td>11526</td>\n",
              "    </tr>\n",
              "    <tr>\n",
              "      <th>33713</th>\n",
              "      <td>10038</td>\n",
              "    </tr>\n",
              "    <tr>\n",
              "      <th>34683</th>\n",
              "      <td>9640</td>\n",
              "    </tr>\n",
              "    <tr>\n",
              "      <th>34698</th>\n",
              "      <td>9511</td>\n",
              "    </tr>\n",
              "    <tr>\n",
              "      <th>33703</th>\n",
              "      <td>8299</td>\n",
              "    </tr>\n",
              "    <tr>\n",
              "      <th>33756</th>\n",
              "      <td>7099</td>\n",
              "    </tr>\n",
              "    <tr>\n",
              "      <th>34689</th>\n",
              "      <td>7013</td>\n",
              "    </tr>\n",
              "    <tr>\n",
              "      <th>33772</th>\n",
              "      <td>6940</td>\n",
              "    </tr>\n",
              "    <tr>\n",
              "      <th>33707</th>\n",
              "      <td>6723</td>\n",
              "    </tr>\n",
              "    <tr>\n",
              "      <th>33702</th>\n",
              "      <td>6694</td>\n",
              "    </tr>\n",
              "    <tr>\n",
              "      <th>33705</th>\n",
              "      <td>6677</td>\n",
              "    </tr>\n",
              "    <tr>\n",
              "      <th>34684</th>\n",
              "      <td>6238</td>\n",
              "    </tr>\n",
              "    <tr>\n",
              "      <th>33755</th>\n",
              "      <td>6169</td>\n",
              "    </tr>\n",
              "    <tr>\n",
              "      <th>33770</th>\n",
              "      <td>5847</td>\n",
              "    </tr>\n",
              "    <tr>\n",
              "      <th>33781</th>\n",
              "      <td>5679</td>\n",
              "    </tr>\n",
              "    <tr>\n",
              "      <th>33712</th>\n",
              "      <td>5493</td>\n",
              "    </tr>\n",
              "    <tr>\n",
              "      <th>33709</th>\n",
              "      <td>5304</td>\n",
              "    </tr>\n",
              "    <tr>\n",
              "      <th>33764</th>\n",
              "      <td>5193</td>\n",
              "    </tr>\n",
              "    <tr>\n",
              "      <th>33711</th>\n",
              "      <td>5188</td>\n",
              "    </tr>\n",
              "    <tr>\n",
              "      <th>33704</th>\n",
              "      <td>5072</td>\n",
              "    </tr>\n",
              "    <tr>\n",
              "      <th>34695</th>\n",
              "      <td>4984</td>\n",
              "    </tr>\n",
              "    <tr>\n",
              "      <th>34677</th>\n",
              "      <td>4916</td>\n",
              "    </tr>\n",
              "    <tr>\n",
              "      <th>33773</th>\n",
              "      <td>4620</td>\n",
              "    </tr>\n",
              "    <tr>\n",
              "      <th>33774</th>\n",
              "      <td>4587</td>\n",
              "    </tr>\n",
              "    <tr>\n",
              "      <th>33777</th>\n",
              "      <td>4584</td>\n",
              "    </tr>\n",
              "    <tr>\n",
              "      <th>33782</th>\n",
              "      <td>4397</td>\n",
              "    </tr>\n",
              "    <tr>\n",
              "      <th>33776</th>\n",
              "      <td>4308</td>\n",
              "    </tr>\n",
              "    <tr>\n",
              "      <th>33708</th>\n",
              "      <td>4205</td>\n",
              "    </tr>\n",
              "    <tr>\n",
              "      <th>33714</th>\n",
              "      <td>4179</td>\n",
              "    </tr>\n",
              "    <tr>\n",
              "      <th>34685</th>\n",
              "      <td>4107</td>\n",
              "    </tr>\n",
              "    <tr>\n",
              "      <th>33706</th>\n",
              "      <td>4080</td>\n",
              "    </tr>\n",
              "    <tr>\n",
              "      <th>33778</th>\n",
              "      <td>3592</td>\n",
              "    </tr>\n",
              "    <tr>\n",
              "      <th>33763</th>\n",
              "      <td>3477</td>\n",
              "    </tr>\n",
              "    <tr>\n",
              "      <th>33761</th>\n",
              "      <td>3213</td>\n",
              "    </tr>\n",
              "    <tr>\n",
              "      <th>33759</th>\n",
              "      <td>2937</td>\n",
              "    </tr>\n",
              "    <tr>\n",
              "      <th>33771</th>\n",
              "      <td>2476</td>\n",
              "    </tr>\n",
              "    <tr>\n",
              "      <th>34688</th>\n",
              "      <td>2360</td>\n",
              "    </tr>\n",
              "    <tr>\n",
              "      <th>33765</th>\n",
              "      <td>2180</td>\n",
              "    </tr>\n",
              "    <tr>\n",
              "      <th>33760</th>\n",
              "      <td>1590</td>\n",
              "    </tr>\n",
              "    <tr>\n",
              "      <th>33701</th>\n",
              "      <td>1504</td>\n",
              "    </tr>\n",
              "    <tr>\n",
              "      <th>33762</th>\n",
              "      <td>1237</td>\n",
              "    </tr>\n",
              "    <tr>\n",
              "      <th>33767</th>\n",
              "      <td>1181</td>\n",
              "    </tr>\n",
              "    <tr>\n",
              "      <th>33785</th>\n",
              "      <td>1155</td>\n",
              "    </tr>\n",
              "    <tr>\n",
              "      <th>33715</th>\n",
              "      <td>1094</td>\n",
              "    </tr>\n",
              "    <tr>\n",
              "      <th>33786</th>\n",
              "      <td>809</td>\n",
              "    </tr>\n",
              "    <tr>\n",
              "      <th>34681</th>\n",
              "      <td>590</td>\n",
              "    </tr>\n",
              "    <tr>\n",
              "      <th>33716</th>\n",
              "      <td>119</td>\n",
              "    </tr>\n",
              "    <tr>\n",
              "      <th>34690</th>\n",
              "      <td>1</td>\n",
              "    </tr>\n",
              "  </tbody>\n",
              "</table>\n",
              "</div><br><label><b>dtype:</b> int64</label>"
            ]
          },
          "metadata": {},
          "execution_count": 61
        }
      ]
    },
    {
      "cell_type": "code",
      "source": [
        "PCPAO_SalesDATA.groupby(['CITY','ZIP']).size().sort_values().head(20)"
      ],
      "metadata": {
        "colab": {
          "base_uri": "https://localhost:8080/",
          "height": 743
        },
        "id": "EJFSoKMAyyiY",
        "outputId": "fad06346-8e3f-42a9-fe3a-c2e6909f8950"
      },
      "execution_count": 62,
      "outputs": [
        {
          "output_type": "execute_result",
          "data": {
            "text/plain": [
              "CITY                   ZIP  \n",
              "INDIAN ROCKS BEACH     33786      1\n",
              "TIERRA VERDE           33773      1\n",
              "OLDSMAR                34695      1\n",
              "LARGO                  33755      1\n",
              "PINELLAS PARK          33702      1\n",
              "TARPON SPRINGS         34683      1\n",
              "PALM HARBOR            34698      1\n",
              "TARPON SPRINGS         34690      1\n",
              "LARGO                  33777      5\n",
              "CLEARWATER             34698     10\n",
              "LARGO                  33710     11\n",
              "PINELLAS PARK          33709     12\n",
              "ST PETERSBURG          33756     14\n",
              "LARGO                  33762     16\n",
              "BELLEAIR SHORE         33786     49\n",
              "SEMINOLE               33708     72\n",
              "INDIAN SHORES          33785    100\n",
              "ST PETERSBURG          33716    119\n",
              "                       33715    181\n",
              "NORTH REDINGTON BEACH  33708    285\n",
              "dtype: int64"
            ],
            "text/html": [
              "<div>\n",
              "<style scoped>\n",
              "    .dataframe tbody tr th:only-of-type {\n",
              "        vertical-align: middle;\n",
              "    }\n",
              "\n",
              "    .dataframe tbody tr th {\n",
              "        vertical-align: top;\n",
              "    }\n",
              "\n",
              "    .dataframe thead th {\n",
              "        text-align: right;\n",
              "    }\n",
              "</style>\n",
              "<table border=\"1\" class=\"dataframe\">\n",
              "  <thead>\n",
              "    <tr style=\"text-align: right;\">\n",
              "      <th></th>\n",
              "      <th></th>\n",
              "      <th>0</th>\n",
              "    </tr>\n",
              "    <tr>\n",
              "      <th>CITY</th>\n",
              "      <th>ZIP</th>\n",
              "      <th></th>\n",
              "    </tr>\n",
              "  </thead>\n",
              "  <tbody>\n",
              "    <tr>\n",
              "      <th>INDIAN ROCKS BEACH</th>\n",
              "      <th>33786</th>\n",
              "      <td>1</td>\n",
              "    </tr>\n",
              "    <tr>\n",
              "      <th>TIERRA VERDE</th>\n",
              "      <th>33773</th>\n",
              "      <td>1</td>\n",
              "    </tr>\n",
              "    <tr>\n",
              "      <th>OLDSMAR</th>\n",
              "      <th>34695</th>\n",
              "      <td>1</td>\n",
              "    </tr>\n",
              "    <tr>\n",
              "      <th>LARGO</th>\n",
              "      <th>33755</th>\n",
              "      <td>1</td>\n",
              "    </tr>\n",
              "    <tr>\n",
              "      <th>PINELLAS PARK</th>\n",
              "      <th>33702</th>\n",
              "      <td>1</td>\n",
              "    </tr>\n",
              "    <tr>\n",
              "      <th>TARPON SPRINGS</th>\n",
              "      <th>34683</th>\n",
              "      <td>1</td>\n",
              "    </tr>\n",
              "    <tr>\n",
              "      <th>PALM HARBOR</th>\n",
              "      <th>34698</th>\n",
              "      <td>1</td>\n",
              "    </tr>\n",
              "    <tr>\n",
              "      <th>TARPON SPRINGS</th>\n",
              "      <th>34690</th>\n",
              "      <td>1</td>\n",
              "    </tr>\n",
              "    <tr>\n",
              "      <th>LARGO</th>\n",
              "      <th>33777</th>\n",
              "      <td>5</td>\n",
              "    </tr>\n",
              "    <tr>\n",
              "      <th>CLEARWATER</th>\n",
              "      <th>34698</th>\n",
              "      <td>10</td>\n",
              "    </tr>\n",
              "    <tr>\n",
              "      <th>LARGO</th>\n",
              "      <th>33710</th>\n",
              "      <td>11</td>\n",
              "    </tr>\n",
              "    <tr>\n",
              "      <th>PINELLAS PARK</th>\n",
              "      <th>33709</th>\n",
              "      <td>12</td>\n",
              "    </tr>\n",
              "    <tr>\n",
              "      <th>ST PETERSBURG</th>\n",
              "      <th>33756</th>\n",
              "      <td>14</td>\n",
              "    </tr>\n",
              "    <tr>\n",
              "      <th>LARGO</th>\n",
              "      <th>33762</th>\n",
              "      <td>16</td>\n",
              "    </tr>\n",
              "    <tr>\n",
              "      <th>BELLEAIR SHORE</th>\n",
              "      <th>33786</th>\n",
              "      <td>49</td>\n",
              "    </tr>\n",
              "    <tr>\n",
              "      <th>SEMINOLE</th>\n",
              "      <th>33708</th>\n",
              "      <td>72</td>\n",
              "    </tr>\n",
              "    <tr>\n",
              "      <th>INDIAN SHORES</th>\n",
              "      <th>33785</th>\n",
              "      <td>100</td>\n",
              "    </tr>\n",
              "    <tr>\n",
              "      <th rowspan=\"2\" valign=\"top\">ST PETERSBURG</th>\n",
              "      <th>33716</th>\n",
              "      <td>119</td>\n",
              "    </tr>\n",
              "    <tr>\n",
              "      <th>33715</th>\n",
              "      <td>181</td>\n",
              "    </tr>\n",
              "    <tr>\n",
              "      <th>NORTH REDINGTON BEACH</th>\n",
              "      <th>33708</th>\n",
              "      <td>285</td>\n",
              "    </tr>\n",
              "  </tbody>\n",
              "</table>\n",
              "</div><br><label><b>dtype:</b> int64</label>"
            ]
          },
          "metadata": {},
          "execution_count": 62
        }
      ]
    },
    {
      "cell_type": "markdown",
      "source": [
        "###1.11.2 Dropping parcels where the city/zip combination had less than 30 sales"
      ],
      "metadata": {
        "id": "CUcs1ikBadrS"
      }
    },
    {
      "cell_type": "markdown",
      "source": [
        "There are a handful of city and zip code combinations that don't have 30+ parcel sales. I know from previous work that some of the citys and zips are incorrect. Rather than manually search and fix each parcel, I will just drop the records where the city/zip combination has less than 30 sales."
      ],
      "metadata": {
        "id": "L_tcLE9A8t1O"
      }
    },
    {
      "cell_type": "code",
      "source": [
        "for index, value in PCPAO_SalesDATA.groupby(['CITY','ZIP']).size().items():\n",
        "  if value<=30:\n",
        "    PCPAO_SalesDATA.drop(PCPAO_SalesDATA[(PCPAO_SalesDATA['CITY']==index[0])&(PCPAO_SalesDATA['ZIP']==index[1])].index, inplace=True)"
      ],
      "metadata": {
        "id": "B8qUWOQi6221"
      },
      "execution_count": 63,
      "outputs": []
    },
    {
      "cell_type": "code",
      "source": [
        "PCPAO_SalesDATA.groupby(['CITY','ZIP']).size().sort_values().head(10)"
      ],
      "metadata": {
        "colab": {
          "base_uri": "https://localhost:8080/",
          "height": 429
        },
        "id": "Uf99qfckImmu",
        "outputId": "6ca498ff-5b0e-4c96-99b6-bb1c1c06cff0"
      },
      "execution_count": 64,
      "outputs": [
        {
          "output_type": "execute_result",
          "data": {
            "text/plain": [
              "CITY                   ZIP  \n",
              "BELLEAIR SHORE         33786     49\n",
              "SEMINOLE               33708     72\n",
              "INDIAN SHORES          33785    100\n",
              "ST PETERSBURG          33716    119\n",
              "                       33715    181\n",
              "NORTH REDINGTON BEACH  33708    285\n",
              "SOUTH PASADENA         33707    300\n",
              "GULFPORT               33711    339\n",
              "DUNEDIN                34683    401\n",
              "LARGO                  33760    444\n",
              "dtype: int64"
            ],
            "text/html": [
              "<div>\n",
              "<style scoped>\n",
              "    .dataframe tbody tr th:only-of-type {\n",
              "        vertical-align: middle;\n",
              "    }\n",
              "\n",
              "    .dataframe tbody tr th {\n",
              "        vertical-align: top;\n",
              "    }\n",
              "\n",
              "    .dataframe thead th {\n",
              "        text-align: right;\n",
              "    }\n",
              "</style>\n",
              "<table border=\"1\" class=\"dataframe\">\n",
              "  <thead>\n",
              "    <tr style=\"text-align: right;\">\n",
              "      <th></th>\n",
              "      <th></th>\n",
              "      <th>0</th>\n",
              "    </tr>\n",
              "    <tr>\n",
              "      <th>CITY</th>\n",
              "      <th>ZIP</th>\n",
              "      <th></th>\n",
              "    </tr>\n",
              "  </thead>\n",
              "  <tbody>\n",
              "    <tr>\n",
              "      <th>BELLEAIR SHORE</th>\n",
              "      <th>33786</th>\n",
              "      <td>49</td>\n",
              "    </tr>\n",
              "    <tr>\n",
              "      <th>SEMINOLE</th>\n",
              "      <th>33708</th>\n",
              "      <td>72</td>\n",
              "    </tr>\n",
              "    <tr>\n",
              "      <th>INDIAN SHORES</th>\n",
              "      <th>33785</th>\n",
              "      <td>100</td>\n",
              "    </tr>\n",
              "    <tr>\n",
              "      <th rowspan=\"2\" valign=\"top\">ST PETERSBURG</th>\n",
              "      <th>33716</th>\n",
              "      <td>119</td>\n",
              "    </tr>\n",
              "    <tr>\n",
              "      <th>33715</th>\n",
              "      <td>181</td>\n",
              "    </tr>\n",
              "    <tr>\n",
              "      <th>NORTH REDINGTON BEACH</th>\n",
              "      <th>33708</th>\n",
              "      <td>285</td>\n",
              "    </tr>\n",
              "    <tr>\n",
              "      <th>SOUTH PASADENA</th>\n",
              "      <th>33707</th>\n",
              "      <td>300</td>\n",
              "    </tr>\n",
              "    <tr>\n",
              "      <th>GULFPORT</th>\n",
              "      <th>33711</th>\n",
              "      <td>339</td>\n",
              "    </tr>\n",
              "    <tr>\n",
              "      <th>DUNEDIN</th>\n",
              "      <th>34683</th>\n",
              "      <td>401</td>\n",
              "    </tr>\n",
              "    <tr>\n",
              "      <th>LARGO</th>\n",
              "      <th>33760</th>\n",
              "      <td>444</td>\n",
              "    </tr>\n",
              "  </tbody>\n",
              "</table>\n",
              "</div><br><label><b>dtype:</b> int64</label>"
            ]
          },
          "metadata": {},
          "execution_count": 64
        }
      ]
    },
    {
      "cell_type": "code",
      "source": [
        "PCPAO_SalesDATA.groupby(['CITY','ZIP']).size()"
      ],
      "metadata": {
        "colab": {
          "base_uri": "https://localhost:8080/",
          "height": 490
        },
        "id": "3T6PPiTkc5dX",
        "outputId": "dbc5f1ed-abbc-43a0-a927-01feb657d7b1"
      },
      "execution_count": 65,
      "outputs": [
        {
          "output_type": "execute_result",
          "data": {
            "text/plain": [
              "CITY             ZIP  \n",
              "BELLEAIR         33756    1211\n",
              "BELLEAIR BEACH   33786     759\n",
              "BELLEAIR BLUFFS  33770     543\n",
              "BELLEAIR SHORE   33786      49\n",
              "CLEARWATER       33755    6168\n",
              "                          ... \n",
              "ST PETERSBURG    33716     119\n",
              "TARPON SPRINGS   34688    2360\n",
              "                 34689    7013\n",
              "TIERRA VERDE     33715     913\n",
              "TREASURE ISLAND  33706    1519\n",
              "Length: 69, dtype: int64"
            ],
            "text/html": [
              "<div>\n",
              "<style scoped>\n",
              "    .dataframe tbody tr th:only-of-type {\n",
              "        vertical-align: middle;\n",
              "    }\n",
              "\n",
              "    .dataframe tbody tr th {\n",
              "        vertical-align: top;\n",
              "    }\n",
              "\n",
              "    .dataframe thead th {\n",
              "        text-align: right;\n",
              "    }\n",
              "</style>\n",
              "<table border=\"1\" class=\"dataframe\">\n",
              "  <thead>\n",
              "    <tr style=\"text-align: right;\">\n",
              "      <th></th>\n",
              "      <th></th>\n",
              "      <th>0</th>\n",
              "    </tr>\n",
              "    <tr>\n",
              "      <th>CITY</th>\n",
              "      <th>ZIP</th>\n",
              "      <th></th>\n",
              "    </tr>\n",
              "  </thead>\n",
              "  <tbody>\n",
              "    <tr>\n",
              "      <th>BELLEAIR</th>\n",
              "      <th>33756</th>\n",
              "      <td>1211</td>\n",
              "    </tr>\n",
              "    <tr>\n",
              "      <th>BELLEAIR BEACH</th>\n",
              "      <th>33786</th>\n",
              "      <td>759</td>\n",
              "    </tr>\n",
              "    <tr>\n",
              "      <th>BELLEAIR BLUFFS</th>\n",
              "      <th>33770</th>\n",
              "      <td>543</td>\n",
              "    </tr>\n",
              "    <tr>\n",
              "      <th>BELLEAIR SHORE</th>\n",
              "      <th>33786</th>\n",
              "      <td>49</td>\n",
              "    </tr>\n",
              "    <tr>\n",
              "      <th>CLEARWATER</th>\n",
              "      <th>33755</th>\n",
              "      <td>6168</td>\n",
              "    </tr>\n",
              "    <tr>\n",
              "      <th>...</th>\n",
              "      <th>...</th>\n",
              "      <td>...</td>\n",
              "    </tr>\n",
              "    <tr>\n",
              "      <th>ST PETERSBURG</th>\n",
              "      <th>33716</th>\n",
              "      <td>119</td>\n",
              "    </tr>\n",
              "    <tr>\n",
              "      <th rowspan=\"2\" valign=\"top\">TARPON SPRINGS</th>\n",
              "      <th>34688</th>\n",
              "      <td>2360</td>\n",
              "    </tr>\n",
              "    <tr>\n",
              "      <th>34689</th>\n",
              "      <td>7013</td>\n",
              "    </tr>\n",
              "    <tr>\n",
              "      <th>TIERRA VERDE</th>\n",
              "      <th>33715</th>\n",
              "      <td>913</td>\n",
              "    </tr>\n",
              "    <tr>\n",
              "      <th>TREASURE ISLAND</th>\n",
              "      <th>33706</th>\n",
              "      <td>1519</td>\n",
              "    </tr>\n",
              "  </tbody>\n",
              "</table>\n",
              "<p>69 rows × 1 columns</p>\n",
              "</div><br><label><b>dtype:</b> int64</label>"
            ]
          },
          "metadata": {},
          "execution_count": 65
        }
      ]
    },
    {
      "cell_type": "markdown",
      "source": [
        "Only 69 combinations of City and Zip code now."
      ],
      "metadata": {
        "id": "kduIbMYrc-pK"
      }
    },
    {
      "cell_type": "markdown",
      "source": [
        "##1.12 Subdivisions are examined and Column is dropped"
      ],
      "metadata": {
        "id": "LXGKW5FRIn4N"
      }
    },
    {
      "cell_type": "code",
      "source": [
        "PCPAO_SalesDATA.info()"
      ],
      "metadata": {
        "colab": {
          "base_uri": "https://localhost:8080/"
        },
        "id": "17EGDgA2-9pL",
        "outputId": "6afa8839-e405-4fc8-a917-5a1ac53e62b7"
      },
      "execution_count": 66,
      "outputs": [
        {
          "output_type": "stream",
          "name": "stdout",
          "text": [
            "<class 'pandas.core.frame.DataFrame'>\n",
            "Index: 218749 entries, 0 to 218824\n",
            "Data columns (total 33 columns):\n",
            " #   Column               Non-Null Count   Dtype         \n",
            "---  ------               --------------   -----         \n",
            " 0   PARCEL_NUMBER        218749 non-null  object        \n",
            " 1   SUBDIVISION          216573 non-null  object        \n",
            " 2   TOTAL_LIVING_SQFT    218749 non-null  float64       \n",
            " 3   TOTAL_GROSS_SQFT     218749 non-null  float64       \n",
            " 4   CNTY_JST_VALUE       218749 non-null  int64         \n",
            " 5   CNTY_ASD_VALUE       218749 non-null  int64         \n",
            " 6   CNTY_TAXABLE_VALUE   218749 non-null  int64         \n",
            " 7   JUST_LAND            218749 non-null  int64         \n",
            " 8   JUST_BUILDING        218749 non-null  int64         \n",
            " 9   JUST_EXTRA_FEATURES  218749 non-null  int64         \n",
            " 10  SALES_DATE           218749 non-null  datetime64[ns]\n",
            " 11  PRICE                218749 non-null  int64         \n",
            " 12  SEAWALL              218749 non-null  object        \n",
            " 13  CONTAMINATION        218749 non-null  object        \n",
            " 14  SUBSIDENCE           218749 non-null  object        \n",
            " 15  EVAC_ZONE            218749 non-null  object        \n",
            " 16  LAND_AREA_SF         218749 non-null  int64         \n",
            " 17  POOL                 218749 non-null  object        \n",
            " 18  WATERFRONT           218749 non-null  object        \n",
            " 19  CITY                 218749 non-null  object        \n",
            " 20  ZIP                  218749 non-null  object        \n",
            " 21  EFFECTIVE_AGE        218749 non-null  float64       \n",
            " 22  CENTRAL_COOLING      218749 non-null  category      \n",
            " 23  EXTERIOR_WALLS       218749 non-null  category      \n",
            " 24  RCN                  218749 non-null  float64       \n",
            " 25  FLOOR_FINISH         218749 non-null  category      \n",
            " 26  FLOOR_SYSTEM         218749 non-null  category      \n",
            " 27  FOUNDATION           218749 non-null  category      \n",
            " 28  INTERIOR_FINISH      218749 non-null  category      \n",
            " 29  ROOF_COVER           218749 non-null  category      \n",
            " 30  ROOF_FRAME           218749 non-null  category      \n",
            " 31  SALES_YEAR           218749 non-null  int32         \n",
            " 32  REAL_AGE             218749 non-null  float64       \n",
            "dtypes: category(8), datetime64[ns](1), float64(5), int32(1), int64(8), object(10)\n",
            "memory usage: 44.2+ MB\n"
          ]
        }
      ]
    },
    {
      "cell_type": "markdown",
      "source": [
        "###1.12.1 Getting a count of the number of unique subdivision."
      ],
      "metadata": {
        "id": "ion3aJfD_wH5"
      }
    },
    {
      "cell_type": "code",
      "source": [
        "PCPAO_SalesDATA['SUBDIVISION'].nunique()"
      ],
      "metadata": {
        "colab": {
          "base_uri": "https://localhost:8080/"
        },
        "id": "L_9ZaHLc_6MI",
        "outputId": "a158727b-d911-486f-844a-5b0c9fd0ed96"
      },
      "execution_count": 67,
      "outputs": [
        {
          "output_type": "execute_result",
          "data": {
            "text/plain": [
              "6094"
            ]
          },
          "metadata": {},
          "execution_count": 67
        }
      ]
    },
    {
      "cell_type": "code",
      "source": [
        "PCPAO_SalesDATA['SUBDIVISION'].value_counts().head(20)"
      ],
      "metadata": {
        "colab": {
          "base_uri": "https://localhost:8080/",
          "height": 743
        },
        "id": "OX2xY-ND769o",
        "outputId": "2878dc4a-931f-4878-bf7a-36381b71b9b4"
      },
      "execution_count": 68,
      "outputs": [
        {
          "output_type": "execute_result",
          "data": {
            "text/plain": [
              "SUBDIVISION\n",
              "NORTH ST PETERSBURG                  776\n",
              "ORANGE LAKE VILLAGE                  691\n",
              "PINELLAS GROVES                      640\n",
              "SUTHERLAND, TOWN OF                  604\n",
              "DUNEDIN ISLES NO. 1                  540\n",
              "SHORE ACRES OVERLOOK SEC             536\n",
              "OLDSMAR REVISED MAP                  526\n",
              "SNELL & HAMLETT'S NORTH SHORE ADD    484\n",
              "GLENWOOD                             478\n",
              "MANDALAY SUB                         439\n",
              "PASADENA GARDENS GULFVIEW SEC        420\n",
              "HALL'S CENTRAL AVE NO. 3             419\n",
              "PINELLAS PARK                        413\n",
              "EAGLE CREST                          385\n",
              "BELLEAIR ESTATES                     378\n",
              "RAVENWOOD MANOR                      372\n",
              "SKYVIEW TERRACE 1ST ADD              362\n",
              "WESTLAKE VILLAGE                     357\n",
              "GULFVIEW RIDGE                       353\n",
              "RIO VISTA                            352\n",
              "Name: count, dtype: int64"
            ],
            "text/html": [
              "<div>\n",
              "<style scoped>\n",
              "    .dataframe tbody tr th:only-of-type {\n",
              "        vertical-align: middle;\n",
              "    }\n",
              "\n",
              "    .dataframe tbody tr th {\n",
              "        vertical-align: top;\n",
              "    }\n",
              "\n",
              "    .dataframe thead th {\n",
              "        text-align: right;\n",
              "    }\n",
              "</style>\n",
              "<table border=\"1\" class=\"dataframe\">\n",
              "  <thead>\n",
              "    <tr style=\"text-align: right;\">\n",
              "      <th></th>\n",
              "      <th>count</th>\n",
              "    </tr>\n",
              "    <tr>\n",
              "      <th>SUBDIVISION</th>\n",
              "      <th></th>\n",
              "    </tr>\n",
              "  </thead>\n",
              "  <tbody>\n",
              "    <tr>\n",
              "      <th>NORTH ST PETERSBURG</th>\n",
              "      <td>776</td>\n",
              "    </tr>\n",
              "    <tr>\n",
              "      <th>ORANGE LAKE VILLAGE</th>\n",
              "      <td>691</td>\n",
              "    </tr>\n",
              "    <tr>\n",
              "      <th>PINELLAS GROVES</th>\n",
              "      <td>640</td>\n",
              "    </tr>\n",
              "    <tr>\n",
              "      <th>SUTHERLAND, TOWN OF</th>\n",
              "      <td>604</td>\n",
              "    </tr>\n",
              "    <tr>\n",
              "      <th>DUNEDIN ISLES NO. 1</th>\n",
              "      <td>540</td>\n",
              "    </tr>\n",
              "    <tr>\n",
              "      <th>SHORE ACRES OVERLOOK SEC</th>\n",
              "      <td>536</td>\n",
              "    </tr>\n",
              "    <tr>\n",
              "      <th>OLDSMAR REVISED MAP</th>\n",
              "      <td>526</td>\n",
              "    </tr>\n",
              "    <tr>\n",
              "      <th>SNELL &amp; HAMLETT'S NORTH SHORE ADD</th>\n",
              "      <td>484</td>\n",
              "    </tr>\n",
              "    <tr>\n",
              "      <th>GLENWOOD</th>\n",
              "      <td>478</td>\n",
              "    </tr>\n",
              "    <tr>\n",
              "      <th>MANDALAY SUB</th>\n",
              "      <td>439</td>\n",
              "    </tr>\n",
              "    <tr>\n",
              "      <th>PASADENA GARDENS GULFVIEW SEC</th>\n",
              "      <td>420</td>\n",
              "    </tr>\n",
              "    <tr>\n",
              "      <th>HALL'S CENTRAL AVE NO. 3</th>\n",
              "      <td>419</td>\n",
              "    </tr>\n",
              "    <tr>\n",
              "      <th>PINELLAS PARK</th>\n",
              "      <td>413</td>\n",
              "    </tr>\n",
              "    <tr>\n",
              "      <th>EAGLE CREST</th>\n",
              "      <td>385</td>\n",
              "    </tr>\n",
              "    <tr>\n",
              "      <th>BELLEAIR ESTATES</th>\n",
              "      <td>378</td>\n",
              "    </tr>\n",
              "    <tr>\n",
              "      <th>RAVENWOOD MANOR</th>\n",
              "      <td>372</td>\n",
              "    </tr>\n",
              "    <tr>\n",
              "      <th>SKYVIEW TERRACE 1ST ADD</th>\n",
              "      <td>362</td>\n",
              "    </tr>\n",
              "    <tr>\n",
              "      <th>WESTLAKE VILLAGE</th>\n",
              "      <td>357</td>\n",
              "    </tr>\n",
              "    <tr>\n",
              "      <th>GULFVIEW RIDGE</th>\n",
              "      <td>353</td>\n",
              "    </tr>\n",
              "    <tr>\n",
              "      <th>RIO VISTA</th>\n",
              "      <td>352</td>\n",
              "    </tr>\n",
              "  </tbody>\n",
              "</table>\n",
              "</div><br><label><b>dtype:</b> int64</label>"
            ]
          },
          "metadata": {},
          "execution_count": 68
        }
      ]
    },
    {
      "cell_type": "code",
      "source": [
        "PCPAO_SalesDATA['SUBDIVISION'].value_counts().tail(20)"
      ],
      "metadata": {
        "colab": {
          "base_uri": "https://localhost:8080/",
          "height": 743
        },
        "id": "Gg1ps8eNAPjR",
        "outputId": "fa616769-c8d4-4e3f-f6fd-8b10515648fd"
      },
      "execution_count": 69,
      "outputs": [
        {
          "output_type": "execute_result",
          "data": {
            "text/plain": [
              "SUBDIVISION\n",
              "SPEAR & PITTSER REPLAT                    1\n",
              "ANCLOTE SUB                               1\n",
              "FORREST BLUFF BLK 13 REP                  1\n",
              "CHESAPEAKE POINT NO. 2                    1\n",
              "STOVER ACRE                               1\n",
              "PERKINS REPLAT                            1\n",
              "PERKINS OVERLOOK AT SMACKS BAYOU          1\n",
              "ANDERSON'S ACRE SUB                       1\n",
              "MARTIN'S REPLAT                           1\n",
              "PAMELA GEORGE SUB REPLAT                  1\n",
              "COLLANY REPLAT NO. 2                      1\n",
              "HOLLAND 1ST ADD                           1\n",
              "BELLE HAVEN, UNIT D                       1\n",
              "TURNER'S ACRE                             1\n",
              "LAKE TARPON MOBILE HOME VILLAGE UNIT 1    1\n",
              "MC LAIN'S SUB                             1\n",
              "REBER'S REPLAT                            1\n",
              "GRAVES ACRES                              1\n",
              "BROADACRES D & T ADDITION                 1\n",
              "PARKEN'S RESUB                            1\n",
              "Name: count, dtype: int64"
            ],
            "text/html": [
              "<div>\n",
              "<style scoped>\n",
              "    .dataframe tbody tr th:only-of-type {\n",
              "        vertical-align: middle;\n",
              "    }\n",
              "\n",
              "    .dataframe tbody tr th {\n",
              "        vertical-align: top;\n",
              "    }\n",
              "\n",
              "    .dataframe thead th {\n",
              "        text-align: right;\n",
              "    }\n",
              "</style>\n",
              "<table border=\"1\" class=\"dataframe\">\n",
              "  <thead>\n",
              "    <tr style=\"text-align: right;\">\n",
              "      <th></th>\n",
              "      <th>count</th>\n",
              "    </tr>\n",
              "    <tr>\n",
              "      <th>SUBDIVISION</th>\n",
              "      <th></th>\n",
              "    </tr>\n",
              "  </thead>\n",
              "  <tbody>\n",
              "    <tr>\n",
              "      <th>SPEAR &amp; PITTSER REPLAT</th>\n",
              "      <td>1</td>\n",
              "    </tr>\n",
              "    <tr>\n",
              "      <th>ANCLOTE SUB</th>\n",
              "      <td>1</td>\n",
              "    </tr>\n",
              "    <tr>\n",
              "      <th>FORREST BLUFF BLK 13 REP</th>\n",
              "      <td>1</td>\n",
              "    </tr>\n",
              "    <tr>\n",
              "      <th>CHESAPEAKE POINT NO. 2</th>\n",
              "      <td>1</td>\n",
              "    </tr>\n",
              "    <tr>\n",
              "      <th>STOVER ACRE</th>\n",
              "      <td>1</td>\n",
              "    </tr>\n",
              "    <tr>\n",
              "      <th>PERKINS REPLAT</th>\n",
              "      <td>1</td>\n",
              "    </tr>\n",
              "    <tr>\n",
              "      <th>PERKINS OVERLOOK AT SMACKS BAYOU</th>\n",
              "      <td>1</td>\n",
              "    </tr>\n",
              "    <tr>\n",
              "      <th>ANDERSON'S ACRE SUB</th>\n",
              "      <td>1</td>\n",
              "    </tr>\n",
              "    <tr>\n",
              "      <th>MARTIN'S REPLAT</th>\n",
              "      <td>1</td>\n",
              "    </tr>\n",
              "    <tr>\n",
              "      <th>PAMELA GEORGE SUB REPLAT</th>\n",
              "      <td>1</td>\n",
              "    </tr>\n",
              "    <tr>\n",
              "      <th>COLLANY REPLAT NO. 2</th>\n",
              "      <td>1</td>\n",
              "    </tr>\n",
              "    <tr>\n",
              "      <th>HOLLAND 1ST ADD</th>\n",
              "      <td>1</td>\n",
              "    </tr>\n",
              "    <tr>\n",
              "      <th>BELLE HAVEN, UNIT D</th>\n",
              "      <td>1</td>\n",
              "    </tr>\n",
              "    <tr>\n",
              "      <th>TURNER'S ACRE</th>\n",
              "      <td>1</td>\n",
              "    </tr>\n",
              "    <tr>\n",
              "      <th>LAKE TARPON MOBILE HOME VILLAGE UNIT 1</th>\n",
              "      <td>1</td>\n",
              "    </tr>\n",
              "    <tr>\n",
              "      <th>MC LAIN'S SUB</th>\n",
              "      <td>1</td>\n",
              "    </tr>\n",
              "    <tr>\n",
              "      <th>REBER'S REPLAT</th>\n",
              "      <td>1</td>\n",
              "    </tr>\n",
              "    <tr>\n",
              "      <th>GRAVES ACRES</th>\n",
              "      <td>1</td>\n",
              "    </tr>\n",
              "    <tr>\n",
              "      <th>BROADACRES D &amp; T ADDITION</th>\n",
              "      <td>1</td>\n",
              "    </tr>\n",
              "    <tr>\n",
              "      <th>PARKEN'S RESUB</th>\n",
              "      <td>1</td>\n",
              "    </tr>\n",
              "  </tbody>\n",
              "</table>\n",
              "</div><br><label><b>dtype:</b> int64</label>"
            ]
          },
          "metadata": {},
          "execution_count": 69
        }
      ]
    },
    {
      "cell_type": "markdown",
      "source": [
        "There are a 20 subdivision that have 350+ parcels. There are also at least 20 subdivisions that have only one parcel. There are 6,094 unique subdivisions.\n",
        "\n",
        " Let's find the number of subdivisions that have only 10 or less parcels."
      ],
      "metadata": {
        "id": "PEW4yIcfAcZT"
      }
    },
    {
      "cell_type": "markdown",
      "source": [
        "###1.12.2 Finding the number of subdivisions that have 10 or less parcels"
      ],
      "metadata": {
        "id": "NCizkBzsG7nq"
      }
    },
    {
      "cell_type": "code",
      "source": [
        "subdivision_counts = PCPAO_SalesDATA['SUBDIVISION'].value_counts()\n",
        "print(subdivision_counts.groupby(subdivision_counts.values).size().head(10))\n",
        "print('Number of subdivision with 10 or less parcels: ',subdivision_counts.groupby(subdivision_counts.values).size().head(10).sum())"
      ],
      "metadata": {
        "id": "iqdHMTvSpJ6k",
        "colab": {
          "base_uri": "https://localhost:8080/"
        },
        "outputId": "7f1fd214-99e7-407d-8361-da9cadd5a183"
      },
      "execution_count": 70,
      "outputs": [
        {
          "output_type": "stream",
          "name": "stdout",
          "text": [
            "1     340\n",
            "2     328\n",
            "3     237\n",
            "4     179\n",
            "5     185\n",
            "6     169\n",
            "7     152\n",
            "8     162\n",
            "9     152\n",
            "10    120\n",
            "Name: count, dtype: int64\n",
            "Number of subdivision with 10 or less parcels:  2024\n"
          ]
        }
      ]
    },
    {
      "cell_type": "markdown",
      "source": [
        "There are 2024 total parcel in a subdivision of size 10 or smaller."
      ],
      "metadata": {
        "id": "Amsz3DcTGuOd"
      }
    },
    {
      "cell_type": "markdown",
      "source": [
        "###1.12.3 Thinking about making a Subdivision_Size category\n",
        "There are roughly 210,000 parcels. I wonder if a subdivision_size category of small(1-20?),Medium(20-100?) and Large(100-1000?) would work well?\n",
        "\n",
        "If I keep the subdivision column, turning it into category and then eventually dummy variables will make over 6000 dummy variables."
      ],
      "metadata": {
        "id": "tidDfQTzHXcA"
      }
    },
    {
      "cell_type": "markdown",
      "source": [
        "Trying to figure out what a good cut off for the size of each group would be.\n"
      ],
      "metadata": {
        "id": "_4DIhgHoifzk"
      }
    },
    {
      "cell_type": "code",
      "source": [
        "#The number of parcels in each subdivision are counted. We find 33% and 67% of the way through the list of subdivisions.\n",
        "np.quantile(subdivision_counts.values,[.33,.67])\n",
        "#The results are 10 parcels in a subdivision at 33% and 35 parcels in a subdivision at 67%"
      ],
      "metadata": {
        "colab": {
          "base_uri": "https://localhost:8080/"
        },
        "id": "qlsX9K-giCO1",
        "outputId": "b9aae2f4-61b9-4a38-cb07-7f1586702702"
      },
      "execution_count": 71,
      "outputs": [
        {
          "output_type": "execute_result",
          "data": {
            "text/plain": [
              "array([10., 35.])"
            ]
          },
          "metadata": {},
          "execution_count": 71
        }
      ]
    },
    {
      "cell_type": "code",
      "source": [
        "#Making a dictionary of {subdivision of given size:total number of parcels in a subdivision of given size}\n",
        "subdivision_to_total_parcels_dict = {}\n",
        "#Making a dictionary of {subdivision of given size: total number of parcels in a subdivision of given size or smaller}\n",
        "subdivision_to_total_parcels_dict_cdf = {}\n",
        "parcel_sum = 0\n",
        "for index, value in subdivision_counts.groupby(subdivision_counts.values).size().items():\n",
        "  parcel_sum += value*index\n",
        "  subdivision_to_total_parcels_dict[index] = value*index #index is size of subdivision, value*index gives the number of parcels in a subdivision of that size\n",
        "  subdivision_to_total_parcels_dict_cdf[index] = parcel_sum\n"
      ],
      "metadata": {
        "collapsed": true,
        "id": "v7veH15RDBVW"
      },
      "execution_count": 72,
      "outputs": []
    },
    {
      "cell_type": "code",
      "source": [
        "#list(subdivision_to_total_parcels_dict.values()) gives a list of the number of parcels in a subdivision but loses size of subdivision.\n",
        "#the list is also unordered going [336, 660, 702, 724, 925, 1050, 1050, 1304, 1368, 1200, 1485, 1440, 1534, 1890, 1590,...]\n",
        "np.quantile(list(subdivision_to_total_parcels_dict.values()),[0.33,0.67])\n",
        "#Not super useful"
      ],
      "metadata": {
        "colab": {
          "base_uri": "https://localhost:8080/"
        },
        "id": "KeFGP1DPezlG",
        "outputId": "21e9a1d2-1afa-4d7f-988b-e42f99e20b9d"
      },
      "execution_count": 73,
      "outputs": [
        {
          "output_type": "execute_result",
          "data": {
            "text/plain": [
              "array([ 379.44, 1092.  ])"
            ]
          },
          "metadata": {},
          "execution_count": 73
        }
      ]
    },
    {
      "cell_type": "code",
      "source": [
        "#list(subdivision_to_total_parcels_dict_cdf.values()) gives a list of the number of parcels in a subdivision of size N or less.\n",
        "#This list is growing in an ordered manner\n",
        "#dict_values([336, 996, 1698, 2422, 3347, 4397, 5447, 6751, 8119, 9319, 10804,...]\n",
        "np.quantile(list(subdivision_to_total_parcels_dict_cdf.values()),[0.33,0.67])\n",
        "#So quantile should say when 33% of the parcels are in a subdivision and when 67% of the parcels are in a subdivision"
      ],
      "metadata": {
        "colab": {
          "base_uri": "https://localhost:8080/"
        },
        "id": "NevvKVwugxeS",
        "outputId": "1a441be6-2a80-4ef0-ffc9-630f7751198e"
      },
      "execution_count": 74,
      "outputs": [
        {
          "output_type": "execute_result",
          "data": {
            "text/plain": [
              "array([131504.36, 187273.04])"
            ]
          },
          "metadata": {},
          "execution_count": 74
        }
      ]
    },
    {
      "cell_type": "code",
      "source": [
        "x = subdivision_to_total_parcels_dict.keys()\n",
        "y = subdivision_to_total_parcels_dict.values()\n",
        "plt.scatter(x,y)\n",
        "plt.title('Total # of Parcel in a Subdivision of size N')\n",
        "plt.xlabel('#N of Parcels in a Subdivion')\n",
        "plt.ylabel('Total # of Parcel in a N-sized Subdivision ')\n",
        "plt.show()\n"
      ],
      "metadata": {
        "colab": {
          "base_uri": "https://localhost:8080/",
          "height": 472
        },
        "id": "DavSBrEQExDH",
        "outputId": "4b980f75-1fc7-4dae-93e0-228918b5f76c"
      },
      "execution_count": 75,
      "outputs": [
        {
          "output_type": "display_data",
          "data": {
            "text/plain": [
              "<Figure size 640x480 with 1 Axes>"
            ],
            "image/png": "[encoded data removed]"
          },
          "metadata": {}
        }
      ]
    },
    {
      "cell_type": "code",
      "source": [
        "x=subdivision_to_total_parcels_dict_cdf.keys()\n",
        "y=subdivision_to_total_parcels_dict_cdf.values()\n",
        "plt.plot(x,y)\n",
        "plt.title('Cumulative Total # of Parcel in a Subdivision of size N')\n",
        "plt.xlabel('#N of Parcels in a Subdivion')\n",
        "plt.ylabel('Cumulative Total #')\n",
        "plt.show()"
      ],
      "metadata": {
        "colab": {
          "base_uri": "https://localhost:8080/",
          "height": 472
        },
        "id": "Kd42G-cFIvlq",
        "outputId": "66b3a4c4-1188-4cac-9686-3991e6f4b562"
      },
      "execution_count": 76,
      "outputs": [
        {
          "output_type": "display_data",
          "data": {
            "text/plain": [
              "<Figure size 640x480 with 1 Axes>"
            ],
            "image/png": "[encoded data removed]"
          },
          "metadata": {}
        }
      ]
    },
    {
      "cell_type": "markdown",
      "source": [
        "###1.12.4 Checking how many records have a null subdivision"
      ],
      "metadata": {
        "id": "m9qr5EsDngR-"
      }
    },
    {
      "cell_type": "code",
      "source": [
        "PCPAO_SalesDATA['SUBDIVISION'].isnull().sum()"
      ],
      "metadata": {
        "colab": {
          "base_uri": "https://localhost:8080/"
        },
        "id": "I3cnYZiv7ns6",
        "outputId": "8e0f87be-1b6c-40f4-ca26-1d87915fd16d"
      },
      "execution_count": 77,
      "outputs": [
        {
          "output_type": "execute_result",
          "data": {
            "text/plain": [
              "2176"
            ]
          },
          "metadata": {},
          "execution_count": 77
        }
      ]
    },
    {
      "cell_type": "code",
      "source": [
        "x=subdivision_counts.groupby(subdivision_counts.values).size().index\n",
        "y=subdivision_counts.groupby(subdivision_counts.values).size().values\n",
        "\n",
        "plt.bar(x=x,height=y,width=5)\n",
        "plt.title('Distribution of Subdivisions')\n",
        "plt.xlabel('Number of Properties in Subdivision')\n",
        "plt.ylabel('Number of Subdivisions')\n",
        "plt.show()"
      ],
      "metadata": {
        "colab": {
          "base_uri": "https://localhost:8080/",
          "height": 472
        },
        "id": "bhhPEYuc-bgO",
        "outputId": "971ec230-dd32-4d90-85c9-32213bf1bd3c"
      },
      "execution_count": 78,
      "outputs": [
        {
          "output_type": "display_data",
          "data": {
            "text/plain": [
              "<Figure size 640x480 with 1 Axes>"
            ],
            "image/png": "[encoded data removed]"
          },
          "metadata": {}
        }
      ]
    },
    {
      "cell_type": "markdown",
      "source": [
        "###1.12.5 Final Subdivision Thoughts"
      ],
      "metadata": {
        "id": "VD85OKzmoIXu"
      }
    },
    {
      "cell_type": "markdown",
      "source": [
        "Thinking about SUBDIVISION here. There are 6,094 named subdivisions. These subdivisions cover all but 2176 properties. 340 properties are their own subdivision.\n",
        "\n",
        "Going to drop this column for now. I hoped it would work as a replacement for the neighborhood column. Maybe it could.\n",
        "\n",
        "I could create a subdivision_size column that categorizes the properties by the size of the subdivision. Not sure of the benefit. I am not sure where the NaN subdivision properties would fall, but a 'No listed subdivision' would be the largest subdivision category."
      ],
      "metadata": {
        "id": "CIHOSNut6ez8"
      }
    },
    {
      "cell_type": "code",
      "source": [
        "PCPAO_SalesDATA = PCPAO_SalesDATA.drop(['SUBDIVISION'],axis=1)"
      ],
      "metadata": {
        "id": "RKvldrhsCMnR"
      },
      "execution_count": 79,
      "outputs": []
    },
    {
      "cell_type": "markdown",
      "source": [
        "##1.13 PCPAO_SalesDATA.info() Check\n",
        "We have now dropped records to only 218749 entries.\n",
        "Records dropped involved unique/rare CITY/ZIP combinations and the non-most-recent sales"
      ],
      "metadata": {
        "id": "7Gkodmd6IxlK"
      }
    },
    {
      "cell_type": "code",
      "source": [
        "PCPAO_SalesDATA.reset_index(drop=True,inplace=True)\n",
        "PCPAO_SalesDATA.info()"
      ],
      "metadata": {
        "colab": {
          "base_uri": "https://localhost:8080/"
        },
        "id": "cAuT_om9lDe7",
        "outputId": "f0314a66-0fde-4438-ab46-f22cf10f7ba5"
      },
      "execution_count": 80,
      "outputs": [
        {
          "output_type": "stream",
          "name": "stdout",
          "text": [
            "<class 'pandas.core.frame.DataFrame'>\n",
            "RangeIndex: 218749 entries, 0 to 218748\n",
            "Data columns (total 32 columns):\n",
            " #   Column               Non-Null Count   Dtype         \n",
            "---  ------               --------------   -----         \n",
            " 0   PARCEL_NUMBER        218749 non-null  object        \n",
            " 1   TOTAL_LIVING_SQFT    218749 non-null  float64       \n",
            " 2   TOTAL_GROSS_SQFT     218749 non-null  float64       \n",
            " 3   CNTY_JST_VALUE       218749 non-null  int64         \n",
            " 4   CNTY_ASD_VALUE       218749 non-null  int64         \n",
            " 5   CNTY_TAXABLE_VALUE   218749 non-null  int64         \n",
            " 6   JUST_LAND            218749 non-null  int64         \n",
            " 7   JUST_BUILDING        218749 non-null  int64         \n",
            " 8   JUST_EXTRA_FEATURES  218749 non-null  int64         \n",
            " 9   SALES_DATE           218749 non-null  datetime64[ns]\n",
            " 10  PRICE                218749 non-null  int64         \n",
            " 11  SEAWALL              218749 non-null  object        \n",
            " 12  CONTAMINATION        218749 non-null  object        \n",
            " 13  SUBSIDENCE           218749 non-null  object        \n",
            " 14  EVAC_ZONE            218749 non-null  object        \n",
            " 15  LAND_AREA_SF         218749 non-null  int64         \n",
            " 16  POOL                 218749 non-null  object        \n",
            " 17  WATERFRONT           218749 non-null  object        \n",
            " 18  CITY                 218749 non-null  object        \n",
            " 19  ZIP                  218749 non-null  object        \n",
            " 20  EFFECTIVE_AGE        218749 non-null  float64       \n",
            " 21  CENTRAL_COOLING      218749 non-null  category      \n",
            " 22  EXTERIOR_WALLS       218749 non-null  category      \n",
            " 23  RCN                  218749 non-null  float64       \n",
            " 24  FLOOR_FINISH         218749 non-null  category      \n",
            " 25  FLOOR_SYSTEM         218749 non-null  category      \n",
            " 26  FOUNDATION           218749 non-null  category      \n",
            " 27  INTERIOR_FINISH      218749 non-null  category      \n",
            " 28  ROOF_COVER           218749 non-null  category      \n",
            " 29  ROOF_FRAME           218749 non-null  category      \n",
            " 30  SALES_YEAR           218749 non-null  int32         \n",
            " 31  REAL_AGE             218749 non-null  float64       \n",
            "dtypes: category(8), datetime64[ns](1), float64(5), int32(1), int64(8), object(9)\n",
            "memory usage: 40.9+ MB\n"
          ]
        }
      ]
    },
    {
      "cell_type": "markdown",
      "source": [
        "##1.14 Reducing sales data to 2016 to present"
      ],
      "metadata": {
        "id": "iY-6ebsnhHUQ"
      }
    },
    {
      "cell_type": "markdown",
      "source": [
        "###1.14.1 Making a dataframe of data from 2016 to present"
      ],
      "metadata": {
        "id": "qxGQjv88JqpM"
      }
    },
    {
      "cell_type": "code",
      "source": [
        "sales16 = PCPAO_SalesDATA[PCPAO_SalesDATA['SALES_DATE'].dt.year>=2016].reset_index(drop=True)\n",
        "sales16.info()"
      ],
      "metadata": {
        "colab": {
          "base_uri": "https://localhost:8080/"
        },
        "id": "j4q_ruldHtGW",
        "outputId": "559967a8-f022-445f-b115-757052edc276"
      },
      "execution_count": 81,
      "outputs": [
        {
          "output_type": "stream",
          "name": "stdout",
          "text": [
            "<class 'pandas.core.frame.DataFrame'>\n",
            "RangeIndex: 85249 entries, 0 to 85248\n",
            "Data columns (total 32 columns):\n",
            " #   Column               Non-Null Count  Dtype         \n",
            "---  ------               --------------  -----         \n",
            " 0   PARCEL_NUMBER        85249 non-null  object        \n",
            " 1   TOTAL_LIVING_SQFT    85249 non-null  float64       \n",
            " 2   TOTAL_GROSS_SQFT     85249 non-null  float64       \n",
            " 3   CNTY_JST_VALUE       85249 non-null  int64         \n",
            " 4   CNTY_ASD_VALUE       85249 non-null  int64         \n",
            " 5   CNTY_TAXABLE_VALUE   85249 non-null  int64         \n",
            " 6   JUST_LAND            85249 non-null  int64         \n",
            " 7   JUST_BUILDING        85249 non-null  int64         \n",
            " 8   JUST_EXTRA_FEATURES  85249 non-null  int64         \n",
            " 9   SALES_DATE           85249 non-null  datetime64[ns]\n",
            " 10  PRICE                85249 non-null  int64         \n",
            " 11  SEAWALL              85249 non-null  object        \n",
            " 12  CONTAMINATION        85249 non-null  object        \n",
            " 13  SUBSIDENCE           85249 non-null  object        \n",
            " 14  EVAC_ZONE            85249 non-null  object        \n",
            " 15  LAND_AREA_SF         85249 non-null  int64         \n",
            " 16  POOL                 85249 non-null  object        \n",
            " 17  WATERFRONT           85249 non-null  object        \n",
            " 18  CITY                 85249 non-null  object        \n",
            " 19  ZIP                  85249 non-null  object        \n",
            " 20  EFFECTIVE_AGE        85249 non-null  float64       \n",
            " 21  CENTRAL_COOLING      85249 non-null  category      \n",
            " 22  EXTERIOR_WALLS       85249 non-null  category      \n",
            " 23  RCN                  85249 non-null  float64       \n",
            " 24  FLOOR_FINISH         85249 non-null  category      \n",
            " 25  FLOOR_SYSTEM         85249 non-null  category      \n",
            " 26  FOUNDATION           85249 non-null  category      \n",
            " 27  INTERIOR_FINISH      85249 non-null  category      \n",
            " 28  ROOF_COVER           85249 non-null  category      \n",
            " 29  ROOF_FRAME           85249 non-null  category      \n",
            " 30  SALES_YEAR           85249 non-null  int32         \n",
            " 31  REAL_AGE             85249 non-null  float64       \n",
            "dtypes: category(8), datetime64[ns](1), float64(5), int32(1), int64(8), object(9)\n",
            "memory usage: 15.9+ MB\n"
          ]
        }
      ]
    },
    {
      "cell_type": "markdown",
      "source": [
        "###1.14.2 Counts of sales per year"
      ],
      "metadata": {
        "id": "zgZdGR9JEU8u"
      }
    },
    {
      "cell_type": "code",
      "source": [
        "sales16['SALES_DATE'].dt.year.value_counts().sort_index()"
      ],
      "metadata": {
        "colab": {
          "base_uri": "https://localhost:8080/",
          "height": 398
        },
        "id": "jHa3dbFuIbh3",
        "outputId": "774555cb-ad9e-4537-e7fc-5fdc1de74157"
      },
      "execution_count": 82,
      "outputs": [
        {
          "output_type": "execute_result",
          "data": {
            "text/plain": [
              "SALES_DATE\n",
              "2016     7658\n",
              "2017     8544\n",
              "2018     9365\n",
              "2019    10160\n",
              "2020    10993\n",
              "2021    12501\n",
              "2022    10339\n",
              "2023     9306\n",
              "2024     6383\n",
              "Name: count, dtype: int64"
            ],
            "text/html": [
              "<div>\n",
              "<style scoped>\n",
              "    .dataframe tbody tr th:only-of-type {\n",
              "        vertical-align: middle;\n",
              "    }\n",
              "\n",
              "    .dataframe tbody tr th {\n",
              "        vertical-align: top;\n",
              "    }\n",
              "\n",
              "    .dataframe thead th {\n",
              "        text-align: right;\n",
              "    }\n",
              "</style>\n",
              "<table border=\"1\" class=\"dataframe\">\n",
              "  <thead>\n",
              "    <tr style=\"text-align: right;\">\n",
              "      <th></th>\n",
              "      <th>count</th>\n",
              "    </tr>\n",
              "    <tr>\n",
              "      <th>SALES_DATE</th>\n",
              "      <th></th>\n",
              "    </tr>\n",
              "  </thead>\n",
              "  <tbody>\n",
              "    <tr>\n",
              "      <th>2016</th>\n",
              "      <td>7658</td>\n",
              "    </tr>\n",
              "    <tr>\n",
              "      <th>2017</th>\n",
              "      <td>8544</td>\n",
              "    </tr>\n",
              "    <tr>\n",
              "      <th>2018</th>\n",
              "      <td>9365</td>\n",
              "    </tr>\n",
              "    <tr>\n",
              "      <th>2019</th>\n",
              "      <td>10160</td>\n",
              "    </tr>\n",
              "    <tr>\n",
              "      <th>2020</th>\n",
              "      <td>10993</td>\n",
              "    </tr>\n",
              "    <tr>\n",
              "      <th>2021</th>\n",
              "      <td>12501</td>\n",
              "    </tr>\n",
              "    <tr>\n",
              "      <th>2022</th>\n",
              "      <td>10339</td>\n",
              "    </tr>\n",
              "    <tr>\n",
              "      <th>2023</th>\n",
              "      <td>9306</td>\n",
              "    </tr>\n",
              "    <tr>\n",
              "      <th>2024</th>\n",
              "      <td>6383</td>\n",
              "    </tr>\n",
              "  </tbody>\n",
              "</table>\n",
              "</div><br><label><b>dtype:</b> int64</label>"
            ]
          },
          "metadata": {},
          "execution_count": 82
        }
      ]
    },
    {
      "cell_type": "markdown",
      "source": [
        "###1.14.3 Dropping PCPAO data that has a sales date prior to 1970."
      ],
      "metadata": {
        "id": "WUSNh7bDE299"
      }
    },
    {
      "cell_type": "code",
      "source": [
        "PCPAO_SalesDATA = PCPAO_SalesDATA[PCPAO_SalesDATA['SALES_DATE'].dt.year>=1970].reset_index(drop=True)"
      ],
      "metadata": {
        "id": "yx5nXGWUEmnu"
      },
      "execution_count": 86,
      "outputs": []
    },
    {
      "cell_type": "code",
      "source": [
        "sales_date_count = PCPAO_SalesDATA['SALES_DATE'].dt.year.value_counts().reset_index()\n",
        "x = sales_date_count['SALES_DATE']\n",
        "y = sales_date_count['count']\n",
        "plt.bar(x=x,height=y)\n",
        "plt.show()\n"
      ],
      "metadata": {
        "colab": {
          "base_uri": "https://localhost:8080/",
          "height": 430
        },
        "id": "ibRl_0bwFGSR",
        "outputId": "d2909309-f1ca-4b75-ff08-d7bbf1c7c940"
      },
      "execution_count": 87,
      "outputs": [
        {
          "output_type": "display_data",
          "data": {
            "text/plain": [
              "<Figure size 640x480 with 1 Axes>"
            ],
            "image/png": "[encoded data removed]"
          },
          "metadata": {}
        }
      ]
    },
    {
      "cell_type": "markdown",
      "source": [
        "This graph matches one seen in earlier data exploration. Now I will just collect sales since 2016"
      ],
      "metadata": {
        "id": "3IuH0njrHi0J"
      }
    },
    {
      "cell_type": "markdown",
      "source": [
        "##1.15 Dropping Identifiers and Making Dummy Variables"
      ],
      "metadata": {
        "id": "TXVTPeNCE1gr"
      }
    },
    {
      "cell_type": "markdown",
      "source": [
        "###1.15.1 Dropping Parcel Number"
      ],
      "metadata": {
        "id": "BJ9QVzyAI-5J"
      }
    },
    {
      "cell_type": "markdown",
      "source": [
        "All the parcel numbers should be unique identifiers since we limited the records to the most recent sale of each parcel. I am not aware of any rules determining parcel numbers, so I will drop them.\n"
      ],
      "metadata": {
        "id": "K1WlBHBMw9WF"
      }
    },
    {
      "cell_type": "code",
      "source": [
        "print('Number of Unique sales16 parcels:',sales16['PARCEL_NUMBER'].nunique())\n",
        "print('Number of Unique PCPAO_SalesDATA parcels:',PCPAO_SalesDATA['PARCEL_NUMBER'].nunique())"
      ],
      "metadata": {
        "colab": {
          "base_uri": "https://localhost:8080/",
          "height": 547
        },
        "collapsed": true,
        "id": "CQb367r2iS7m",
        "outputId": "47888d8c-6628-4bca-9983-a4d59c6fd95a"
      },
      "execution_count": 88,
      "outputs": [
        {
          "output_type": "error",
          "ename": "KeyError",
          "evalue": "'PARCEL_NUMBER'",
          "traceback": [
            "\u001b[0;31m---------------------------------------------------------------------------\u001b[0m",
            "\u001b[0;31mKeyError\u001b[0m                                  Traceback (most recent call last)",
            "\u001b[0;32m/usr/local/lib/python3.10/dist-packages/pandas/core/indexes/base.py\u001b[0m in \u001b[0;36mget_loc\u001b[0;34m(self, key)\u001b[0m\n\u001b[1;32m   3790\u001b[0m         \u001b[0;32mtry\u001b[0m\u001b[0;34m:\u001b[0m\u001b[0;34m\u001b[0m\u001b[0;34m\u001b[0m\u001b[0m\n\u001b[0;32m-> 3791\u001b[0;31m             \u001b[0;32mreturn\u001b[0m \u001b[0mself\u001b[0m\u001b[0;34m.\u001b[0m\u001b[0m_engine\u001b[0m\u001b[0;34m.\u001b[0m\u001b[0mget_loc\u001b[0m\u001b[0;34m(\u001b[0m\u001b[0mcasted_key\u001b[0m\u001b[0;34m)\u001b[0m\u001b[0;34m\u001b[0m\u001b[0;34m\u001b[0m\u001b[0m\n\u001b[0m\u001b[1;32m   3792\u001b[0m         \u001b[0;32mexcept\u001b[0m \u001b[0mKeyError\u001b[0m \u001b[0;32mas\u001b[0m \u001b[0merr\u001b[0m\u001b[0;34m:\u001b[0m\u001b[0;34m\u001b[0m\u001b[0;34m\u001b[0m\u001b[0m\n",
            "\u001b[0;32mindex.pyx\u001b[0m in \u001b[0;36mpandas._libs.index.IndexEngine.get_loc\u001b[0;34m()\u001b[0m\n",
            "\u001b[0;32mindex.pyx\u001b[0m in \u001b[0;36mpandas._libs.index.IndexEngine.get_loc\u001b[0;34m()\u001b[0m\n",
            "\u001b[0;32mpandas/_libs/hashtable_class_helper.pxi\u001b[0m in \u001b[0;36mpandas._libs.hashtable.PyObjectHashTable.get_item\u001b[0;34m()\u001b[0m\n",
            "\u001b[0;32mpandas/_libs/hashtable_class_helper.pxi\u001b[0m in \u001b[0;36mpandas._libs.hashtable.PyObjectHashTable.get_item\u001b[0;34m()\u001b[0m\n",
            "\u001b[0;31mKeyError\u001b[0m: 'PARCEL_NUMBER'",
            "\nThe above exception was the direct cause of the following exception:\n",
            "\u001b[0;31mKeyError\u001b[0m                                  Traceback (most recent call last)",
            "\u001b[0;32m<ipython-input-88-f729c0baab50>\u001b[0m in \u001b[0;36m<cell line: 1>\u001b[0;34m()\u001b[0m\n\u001b[0;32m----> 1\u001b[0;31m \u001b[0mprint\u001b[0m\u001b[0;34m(\u001b[0m\u001b[0;34m'Number of Unique sales16 parcels:'\u001b[0m\u001b[0;34m,\u001b[0m\u001b[0msales16\u001b[0m\u001b[0;34m[\u001b[0m\u001b[0;34m'PARCEL_NUMBER'\u001b[0m\u001b[0;34m]\u001b[0m\u001b[0;34m.\u001b[0m\u001b[0mnunique\u001b[0m\u001b[0;34m(\u001b[0m\u001b[0;34m)\u001b[0m\u001b[0;34m)\u001b[0m\u001b[0;34m\u001b[0m\u001b[0;34m\u001b[0m\u001b[0m\n\u001b[0m\u001b[1;32m      2\u001b[0m \u001b[0mprint\u001b[0m\u001b[0;34m(\u001b[0m\u001b[0;34m'Number of Unique PCPAO_SalesDATA parcels:'\u001b[0m\u001b[0;34m,\u001b[0m\u001b[0mPCPAO_SalesDATA\u001b[0m\u001b[0;34m[\u001b[0m\u001b[0;34m'PARCEL_NUMBER'\u001b[0m\u001b[0;34m]\u001b[0m\u001b[0;34m.\u001b[0m\u001b[0mnunique\u001b[0m\u001b[0;34m(\u001b[0m\u001b[0;34m)\u001b[0m\u001b[0;34m)\u001b[0m\u001b[0;34m\u001b[0m\u001b[0;34m\u001b[0m\u001b[0m\n",
            "\u001b[0;32m/usr/local/lib/python3.10/dist-packages/pandas/core/frame.py\u001b[0m in \u001b[0;36m__getitem__\u001b[0;34m(self, key)\u001b[0m\n\u001b[1;32m   3891\u001b[0m             \u001b[0;32mif\u001b[0m \u001b[0mself\u001b[0m\u001b[0;34m.\u001b[0m\u001b[0mcolumns\u001b[0m\u001b[0;34m.\u001b[0m\u001b[0mnlevels\u001b[0m \u001b[0;34m>\u001b[0m \u001b[0;36m1\u001b[0m\u001b[0;34m:\u001b[0m\u001b[0;34m\u001b[0m\u001b[0;34m\u001b[0m\u001b[0m\n\u001b[1;32m   3892\u001b[0m                 \u001b[0;32mreturn\u001b[0m \u001b[0mself\u001b[0m\u001b[0;34m.\u001b[0m\u001b[0m_getitem_multilevel\u001b[0m\u001b[0;34m(\u001b[0m\u001b[0mkey\u001b[0m\u001b[0;34m)\u001b[0m\u001b[0;34m\u001b[0m\u001b[0;34m\u001b[0m\u001b[0m\n\u001b[0;32m-> 3893\u001b[0;31m             \u001b[0mindexer\u001b[0m \u001b[0;34m=\u001b[0m \u001b[0mself\u001b[0m\u001b[0;34m.\u001b[0m\u001b[0mcolumns\u001b[0m\u001b[0;34m.\u001b[0m\u001b[0mget_loc\u001b[0m\u001b[0;34m(\u001b[0m\u001b[0mkey\u001b[0m\u001b[0;34m)\u001b[0m\u001b[0;34m\u001b[0m\u001b[0;34m\u001b[0m\u001b[0m\n\u001b[0m\u001b[1;32m   3894\u001b[0m             \u001b[0;32mif\u001b[0m \u001b[0mis_integer\u001b[0m\u001b[0;34m(\u001b[0m\u001b[0mindexer\u001b[0m\u001b[0;34m)\u001b[0m\u001b[0;34m:\u001b[0m\u001b[0;34m\u001b[0m\u001b[0;34m\u001b[0m\u001b[0m\n\u001b[1;32m   3895\u001b[0m                 \u001b[0mindexer\u001b[0m \u001b[0;34m=\u001b[0m \u001b[0;34m[\u001b[0m\u001b[0mindexer\u001b[0m\u001b[0;34m]\u001b[0m\u001b[0;34m\u001b[0m\u001b[0;34m\u001b[0m\u001b[0m\n",
            "\u001b[0;32m/usr/local/lib/python3.10/dist-packages/pandas/core/indexes/base.py\u001b[0m in \u001b[0;36mget_loc\u001b[0;34m(self, key)\u001b[0m\n\u001b[1;32m   3796\u001b[0m             ):\n\u001b[1;32m   3797\u001b[0m                 \u001b[0;32mraise\u001b[0m \u001b[0mInvalidIndexError\u001b[0m\u001b[0;34m(\u001b[0m\u001b[0mkey\u001b[0m\u001b[0;34m)\u001b[0m\u001b[0;34m\u001b[0m\u001b[0;34m\u001b[0m\u001b[0m\n\u001b[0;32m-> 3798\u001b[0;31m             \u001b[0;32mraise\u001b[0m \u001b[0mKeyError\u001b[0m\u001b[0;34m(\u001b[0m\u001b[0mkey\u001b[0m\u001b[0;34m)\u001b[0m \u001b[0;32mfrom\u001b[0m \u001b[0merr\u001b[0m\u001b[0;34m\u001b[0m\u001b[0;34m\u001b[0m\u001b[0m\n\u001b[0m\u001b[1;32m   3799\u001b[0m         \u001b[0;32mexcept\u001b[0m \u001b[0mTypeError\u001b[0m\u001b[0;34m:\u001b[0m\u001b[0;34m\u001b[0m\u001b[0;34m\u001b[0m\u001b[0m\n\u001b[1;32m   3800\u001b[0m             \u001b[0;31m# If we have a listlike key, _check_indexing_error will raise\u001b[0m\u001b[0;34m\u001b[0m\u001b[0;34m\u001b[0m\u001b[0m\n",
            "\u001b[0;31mKeyError\u001b[0m: 'PARCEL_NUMBER'"
          ]
        }
      ]
    },
    {
      "cell_type": "code",
      "source": [
        "PCPAO_SalesDATA.drop(['PARCEL_NUMBER'],axis=1,inplace=True)\n",
        "sales16.drop(['PARCEL_NUMBER'],axis=1,inplace=True)\n"
      ],
      "metadata": {
        "id": "myHUh45CyAr5"
      },
      "execution_count": 84,
      "outputs": []
    },
    {
      "cell_type": "markdown",
      "source": [
        "###1.15.2 Converting Binary object/category columns to dummy variables."
      ],
      "metadata": {
        "id": "VbUcsxenJRqY"
      }
    },
    {
      "cell_type": "code",
      "source": [
        "yn_columns = ['CONTAMINATION','SUBSIDENCE','SEAWALL','CENTRAL_COOLING','POOL','WATERFRONT']\n",
        "\n",
        "sales16 = pd.get_dummies(sales16,prefix = yn_columns,columns=yn_columns,drop_first=True)\n",
        "PCPAO_SalesDATA = pd.get_dummies(PCPAO_SalesDATA,prefix = yn_columns,columns=yn_columns,drop_first=True)"
      ],
      "metadata": {
        "id": "PX5sytEY0l_A"
      },
      "execution_count": 89,
      "outputs": []
    },
    {
      "cell_type": "markdown",
      "source": [
        "###1.15.3 Converting Non-binary object/category columns to dummy variables"
      ],
      "metadata": {
        "id": "5spKwvnJMVHk"
      }
    },
    {
      "cell_type": "code",
      "source": [
        "object_columns = ['EVAC_ZONE','CITY','ZIP','EXTERIOR_WALLS','FLOOR_FINISH','FLOOR_SYSTEM','FOUNDATION','INTERIOR_FINISH','ROOF_COVER','ROOF_FRAME']\n",
        "sales16 = pd.get_dummies(sales16,prefix = object_columns,columns=object_columns)\n",
        "PCPAO_SalesDATA = pd.get_dummies(PCPAO_SalesDATA,prefix = object_columns,columns=object_columns)"
      ],
      "metadata": {
        "id": "9avqDdJxLxNy"
      },
      "execution_count": 93,
      "outputs": []
    },
    {
      "cell_type": "markdown",
      "source": [
        "#2. Crime Data"
      ],
      "metadata": {
        "id": "GPzFBA8A1uRv"
      }
    },
    {
      "cell_type": "markdown",
      "source": [
        "##2.1 Assembling the files into one dataframe.\n",
        "\n",
        "This section ends with the creation of a crime_data dataframe"
      ],
      "metadata": {
        "id": "MCfIRXX1F0x7"
      }
    },
    {
      "cell_type": "markdown",
      "source": [
        "###2.1.1 Trying to Open a csv\n",
        "I currently have the data for crimes from January 1st, 2020 to July 22nd, 2024.\n",
        "\n",
        "I am going to start by examining one file just to get a look at the data structure"
      ],
      "metadata": {
        "id": "UzdQi5EN19hP"
      }
    },
    {
      "cell_type": "code",
      "source": [
        "try:\n",
        "  crime_data = pd.read_csv('/content/drive/MyDrive/Data Science Course/Capstone Work/Raw_Data/PinellasCrimeDATA_2024/PinellasCrime20200101_20200115.csv', on_bad_lines='error')\n",
        "  print('File read successfully')\n",
        "except Exception as e:\n",
        "  print(e)"
      ],
      "metadata": {
        "colab": {
          "base_uri": "https://localhost:8080/"
        },
        "id": "ZACZi5cH17jD",
        "outputId": "9fa022e6-83e4-4464-9f56-5fc597870cba"
      },
      "execution_count": null,
      "outputs": [
        {
          "output_type": "stream",
          "name": "stdout",
          "text": [
            "Error tokenizing data. C error: Expected 9 fields in line 536, saw 11\n",
            "\n"
          ]
        }
      ]
    },
    {
      "cell_type": "markdown",
      "source": [
        "###2.1.2 Getting a list of the issues opening the csv files\n",
        "Some of the csv files have errors where data in a row is recorded in an unlabeled column. I'm going to see if I can get a list of the files that have the issue, as I think these could be quick fixes. The error seems to be repeating of the city/zip in the same record."
      ],
      "metadata": {
        "id": "bsLBVOPX3wu0"
      }
    },
    {
      "cell_type": "code",
      "source": [
        "error_list = []\n",
        "for file in os.listdir('/content/drive/MyDrive/Data Science Course/Capstone Work/Raw_Data/PinellasCrimeDATA_2024'):\n",
        "  try:\n",
        "    crime_data = pd.read_csv(f'/content/drive/MyDrive/Data Science Course/Capstone Work/Raw_Data/PinellasCrimeDATA_2024/{file}', on_bad_lines='error')\n",
        "  except Exception as e:\n",
        "    error_list.append((file,e))\n"
      ],
      "metadata": {
        "id": "REgQoAMr4vQ7"
      },
      "execution_count": null,
      "outputs": []
    },
    {
      "cell_type": "code",
      "source": [
        "print(len(error_list))"
      ],
      "metadata": {
        "colab": {
          "base_uri": "https://localhost:8080/"
        },
        "id": "Zn_R1Qmr5ZQt",
        "outputId": "236c946a-06f8-4e32-b5c3-e0e733f17a92"
      },
      "execution_count": null,
      "outputs": [
        {
          "output_type": "stream",
          "name": "stdout",
          "text": [
            "157\n"
          ]
        }
      ]
    },
    {
      "cell_type": "code",
      "source": [
        "print(error_list[0:5])"
      ],
      "metadata": {
        "colab": {
          "base_uri": "https://localhost:8080/"
        },
        "id": "eYZ2uYJj6SJo",
        "outputId": "b98f0f99-2767-4fe8-f27b-d455cd8f49c1"
      },
      "execution_count": null,
      "outputs": [
        {
          "output_type": "stream",
          "name": "stdout",
          "text": [
            "[('PinellasCrime20240516_20240531.csv', ParserError('Error tokenizing data. C error: Expected 9 fields in line 375, saw 10\\n')), ('PinellasCrime20240616_20240630.csv', ParserError('Error tokenizing data. C error: Expected 9 fields in line 56, saw 11\\n')), ('PinellasCrime20240301_20240315.csv', ParserError('Error tokenizing data. C error: Expected 9 fields in line 288, saw 11\\n')), ('PinellasCrime20240316_20240331.csv', ParserError('Error tokenizing data. C error: Expected 9 fields in line 108, saw 10\\n')), ('PinellasCrime20240601_20240615.csv', ParserError('Error tokenizing data. C error: Expected 9 fields in line 594, saw 11\\n'))]\n"
          ]
        }
      ]
    },
    {
      "cell_type": "markdown",
      "source": [
        "Okay, so there are 92 files with errors in 109 files. That  is more than I want to fix manually. I am going to look up methods to read in the files that have uneven lengths of records."
      ],
      "metadata": {
        "id": "3p2osZe35of5"
      }
    },
    {
      "cell_type": "markdown",
      "source": [
        "###2.1.3 Getting the column names"
      ],
      "metadata": {
        "id": "PxSkxn-YqcNZ"
      }
    },
    {
      "cell_type": "markdown",
      "source": [
        "Some suggestions I have seen are to have a function read each line of the file to find the longest row and then use pd.read_csv with header=none, and names=range(len(longest row)).\n",
        "\n",
        "I feel confident the longest row is a length of 11. I could just read in each file with a given set of names for the columns, skip the header row, and concatenate all of the files.\n",
        "\n",
        "I will start by trying to just get the names of the columns."
      ],
      "metadata": {
        "id": "vda_9p4g71Ns"
      }
    },
    {
      "cell_type": "code",
      "source": [
        "data_file = '/content/drive/MyDrive/Data Science Course/Capstone Work/Raw_Data/PinellasCrimeDATA_2024/PinellasCrime20200101_20200115.csv'\n",
        "data_file_delimiter = ','\n",
        "column_names = []\n",
        "with open(data_file,'r') as temp_f:\n",
        "  line = temp_f.readline()\n",
        "  column_names = line.strip().split(data_file_delimiter)\n",
        "print(column_names)"
      ],
      "metadata": {
        "colab": {
          "base_uri": "https://localhost:8080/"
        },
        "id": "TWzg47zI5oA6",
        "outputId": "e4d15ca0-b1d6-43f7-ef34-315bf90b7a9c"
      },
      "execution_count": null,
      "outputs": [
        {
          "output_type": "stream",
          "name": "stdout",
          "text": [
            "['AGENCY_ID', ' REPORT_DATE', ' OFFENSE_START_TIME', ' REPORT_KEY', ' REPORT_CODE', ' CATEGORY', ' BLOCK_ADDRESS', ' CITY', ' ZIP']\n"
          ]
        }
      ]
    },
    {
      "cell_type": "markdown",
      "source": [
        "Alright, we have column names (with whitespace in some of the names). I am going to add 2 extra column names ['EXTRA_1', 'EXTRA_2'], to the column names list."
      ],
      "metadata": {
        "id": "BfTj6nkj_OJS"
      }
    },
    {
      "cell_type": "markdown",
      "source": [
        "###2.1.4 Adding 2 extra column names & stripping whitespace from the names"
      ],
      "metadata": {
        "id": "VEbRnfQuqqYl"
      }
    },
    {
      "cell_type": "code",
      "source": [
        "column_names.extend(['EXTRA_1','EXTRA_2'])"
      ],
      "metadata": {
        "id": "VT37u93d_wmP"
      },
      "execution_count": null,
      "outputs": []
    },
    {
      "cell_type": "markdown",
      "source": [
        "Going to strip the whitespace in the column names. It will only frustrate my typing of column later otherwise."
      ],
      "metadata": {
        "id": "j9vLXPXT_4lL"
      }
    },
    {
      "cell_type": "code",
      "source": [
        "col_names = [name.strip() for name in column_names]\n",
        "print(col_names)"
      ],
      "metadata": {
        "colab": {
          "base_uri": "https://localhost:8080/"
        },
        "id": "RN-vYVJzABNZ",
        "outputId": "55860371-76bd-4674-aeba-8746ca59b7b7"
      },
      "execution_count": null,
      "outputs": [
        {
          "output_type": "stream",
          "name": "stdout",
          "text": [
            "['AGENCY_ID', 'REPORT_DATE', 'OFFENSE_START_TIME', 'REPORT_KEY', 'REPORT_CODE', 'CATEGORY', 'BLOCK_ADDRESS', 'CITY', 'ZIP', 'EXTRA_1', 'EXTRA_2']\n"
          ]
        }
      ]
    },
    {
      "cell_type": "markdown",
      "source": [
        "###2.1.5 Reading in a file"
      ],
      "metadata": {
        "id": "7E0Jru1wq9Yt"
      }
    },
    {
      "cell_type": "markdown",
      "source": [
        "Going to setup reading in a csv file with the new col_names."
      ],
      "metadata": {
        "id": "zeHi_-eUAXYF"
      }
    },
    {
      "cell_type": "code",
      "source": [
        "crime_data = pd.read_csv(data_file,names=col_names,skiprows=1)"
      ],
      "metadata": {
        "id": "SqZeY_vAA8ba"
      },
      "execution_count": null,
      "outputs": []
    },
    {
      "cell_type": "code",
      "source": [
        "crime_data.info()"
      ],
      "metadata": {
        "colab": {
          "base_uri": "https://localhost:8080/"
        },
        "id": "C2oAg4LiCOu0",
        "outputId": "8836da62-d344-4608-b9c4-7c7a60ad8596"
      },
      "execution_count": null,
      "outputs": [
        {
          "output_type": "stream",
          "name": "stdout",
          "text": [
            "<class 'pandas.core.frame.DataFrame'>\n",
            "RangeIndex: 1079 entries, 0 to 1078\n",
            "Data columns (total 11 columns):\n",
            " #   Column              Non-Null Count  Dtype  \n",
            "---  ------              --------------  -----  \n",
            " 0   AGENCY_ID           1079 non-null   object \n",
            " 1   REPORT_DATE         1079 non-null   object \n",
            " 2   OFFENSE_START_TIME  1079 non-null   object \n",
            " 3   REPORT_KEY          1079 non-null   object \n",
            " 4   REPORT_CODE         1079 non-null   object \n",
            " 5   CATEGORY            1079 non-null   object \n",
            " 6   BLOCK_ADDRESS       951 non-null    object \n",
            " 7   CITY                1078 non-null   object \n",
            " 8   ZIP                 1073 non-null   float64\n",
            " 9   EXTRA_1             1 non-null      object \n",
            " 10  EXTRA_2             1 non-null      float64\n",
            "dtypes: float64(2), object(9)\n",
            "memory usage: 92.9+ KB\n"
          ]
        }
      ]
    },
    {
      "cell_type": "code",
      "source": [
        "crime_data.head(10)"
      ],
      "metadata": {
        "colab": {
          "base_uri": "https://localhost:8080/"
        },
        "id": "MemjPEWYBCXo",
        "outputId": "44ade161-a96e-41e5-8abd-acb14a04c5b0"
      },
      "execution_count": null,
      "outputs": [
        {
          "output_type": "execute_result",
          "data": {
            "text/plain": [
              "          AGENCY_ID REPORT_DATE OFFENSE_START_TIME  REPORT_KEY REPORT_CODE  \\\n",
              "0  Indian Shores PD    1/4/2020        04:51:00 PM    IS20-282         GTA   \n",
              "1           Sheriff    1/6/2020         01:00:00PM   SO20-6512          PT   \n",
              "2           Sheriff  12/31/2019        01:39:00 AM     SO20-92          AB   \n",
              "3           Sheriff    1/2/2020        08:14:00 PM   SO20-2582         BBD   \n",
              "4           Sheriff    1/8/2020        04:40:00 PM   SO20-8930        BRGB   \n",
              "5           Sheriff    1/3/2020        07:00:00 PM   SO20-3731        BRGC   \n",
              "6           Sheriff    1/6/2020         11:35:00AM   SO20-6611          PT   \n",
              "7           Sheriff  12/31/2019        12:00:00 PM    SO20-447        BRGC   \n",
              "8           Sheriff  12/31/2019        01:39:00 PM    SO20-468          AL   \n",
              "9           Sheriff    1/9/2020        01:18:00 PM  SO20-10115         BAT   \n",
              "\n",
              "             CATEGORY                   BLOCK_ADDRESS           CITY      ZIP  \\\n",
              "0      STOLEN VEHICLE        19700 Block of GULF BLVD  INDIAN SHORES  33785.0   \n",
              "1         THEFT-PETIT       4000 Block of 54TH AVE N     PINELLAS SO  33714.0   \n",
              "2  BATTERY-AGGRAVATED        200 Block of SCOTLAND ST        DUNEDIN  34698.0   \n",
              "3            BATTERY                      COUNTY JAIL    PINELLAS SO  33760.0   \n",
              "4   BURGLARY-BUSINESS     6800 Block of SEMINOLE BLVD       SEMINOLE  33772.0   \n",
              "5    BURGLARY-VEHICLE     6200 Block of SEMINOLE BLVD       SEMINOLE  33772.0   \n",
              "6         THEFT-PETIT    7700 Block of SEMINOLE BLVD        SEMINOLE  33772.0   \n",
              "7    BURGLARY-VEHICLE      10900 Block of 91ST TERR N       SEMINOLE  33772.0   \n",
              "8               ALARM     9200 Block of SEMINOLE BLVD       SEMINOLE  33772.0   \n",
              "9             BATTERY  10600 Block of BLOSSOM LAKE DR       SEMINOLE  33772.0   \n",
              "\n",
              "  EXTRA_1  EXTRA_2  \n",
              "0     NaN      NaN  \n",
              "1     NaN      NaN  \n",
              "2     NaN      NaN  \n",
              "3     NaN      NaN  \n",
              "4     NaN      NaN  \n",
              "5     NaN      NaN  \n",
              "6     NaN      NaN  \n",
              "7     NaN      NaN  \n",
              "8     NaN      NaN  \n",
              "9     NaN      NaN  "
            ],
            "text/html": [
              "\n",
              "  <div id=\"df-4a015ad9-7b39-4528-9471-5adbdcd5b950\" class=\"colab-df-container\">\n",
              "    <div>\n",
              "<style scoped>\n",
              "    .dataframe tbody tr th:only-of-type {\n",
              "        vertical-align: middle;\n",
              "    }\n",
              "\n",
              "    .dataframe tbody tr th {\n",
              "        vertical-align: top;\n",
              "    }\n",
              "\n",
              "    .dataframe thead th {\n",
              "        text-align: right;\n",
              "    }\n",
              "</style>\n",
              "<table border=\"1\" class=\"dataframe\">\n",
              "  <thead>\n",
              "    <tr style=\"text-align: right;\">\n",
              "      <th></th>\n",
              "      <th>AGENCY_ID</th>\n",
              "      <th>REPORT_DATE</th>\n",
              "      <th>OFFENSE_START_TIME</th>\n",
              "      <th>REPORT_KEY</th>\n",
              "      <th>REPORT_CODE</th>\n",
              "      <th>CATEGORY</th>\n",
              "      <th>BLOCK_ADDRESS</th>\n",
              "      <th>CITY</th>\n",
              "      <th>ZIP</th>\n",
              "      <th>EXTRA_1</th>\n",
              "      <th>EXTRA_2</th>\n",
              "    </tr>\n",
              "  </thead>\n",
              "  <tbody>\n",
              "    <tr>\n",
              "      <th>0</th>\n",
              "      <td>Indian Shores PD</td>\n",
              "      <td>1/4/2020</td>\n",
              "      <td>04:51:00 PM</td>\n",
              "      <td>IS20-282</td>\n",
              "      <td>GTA</td>\n",
              "      <td>STOLEN VEHICLE</td>\n",
              "      <td>19700 Block of GULF BLVD</td>\n",
              "      <td>INDIAN SHORES</td>\n",
              "      <td>33785.0</td>\n",
              "      <td>NaN</td>\n",
              "      <td>NaN</td>\n",
              "    </tr>\n",
              "    <tr>\n",
              "      <th>1</th>\n",
              "      <td>Sheriff</td>\n",
              "      <td>1/6/2020</td>\n",
              "      <td>01:00:00PM</td>\n",
              "      <td>SO20-6512</td>\n",
              "      <td>PT</td>\n",
              "      <td>THEFT-PETIT</td>\n",
              "      <td>4000 Block of 54TH AVE N</td>\n",
              "      <td>PINELLAS SO</td>\n",
              "      <td>33714.0</td>\n",
              "      <td>NaN</td>\n",
              "      <td>NaN</td>\n",
              "    </tr>\n",
              "    <tr>\n",
              "      <th>2</th>\n",
              "      <td>Sheriff</td>\n",
              "      <td>12/31/2019</td>\n",
              "      <td>01:39:00 AM</td>\n",
              "      <td>SO20-92</td>\n",
              "      <td>AB</td>\n",
              "      <td>BATTERY-AGGRAVATED</td>\n",
              "      <td>200 Block of SCOTLAND ST</td>\n",
              "      <td>DUNEDIN</td>\n",
              "      <td>34698.0</td>\n",
              "      <td>NaN</td>\n",
              "      <td>NaN</td>\n",
              "    </tr>\n",
              "    <tr>\n",
              "      <th>3</th>\n",
              "      <td>Sheriff</td>\n",
              "      <td>1/2/2020</td>\n",
              "      <td>08:14:00 PM</td>\n",
              "      <td>SO20-2582</td>\n",
              "      <td>BBD</td>\n",
              "      <td>BATTERY</td>\n",
              "      <td>COUNTY JAIL</td>\n",
              "      <td>PINELLAS SO</td>\n",
              "      <td>33760.0</td>\n",
              "      <td>NaN</td>\n",
              "      <td>NaN</td>\n",
              "    </tr>\n",
              "    <tr>\n",
              "      <th>4</th>\n",
              "      <td>Sheriff</td>\n",
              "      <td>1/8/2020</td>\n",
              "      <td>04:40:00 PM</td>\n",
              "      <td>SO20-8930</td>\n",
              "      <td>BRGB</td>\n",
              "      <td>BURGLARY-BUSINESS</td>\n",
              "      <td>6800 Block of SEMINOLE BLVD</td>\n",
              "      <td>SEMINOLE</td>\n",
              "      <td>33772.0</td>\n",
              "      <td>NaN</td>\n",
              "      <td>NaN</td>\n",
              "    </tr>\n",
              "    <tr>\n",
              "      <th>5</th>\n",
              "      <td>Sheriff</td>\n",
              "      <td>1/3/2020</td>\n",
              "      <td>07:00:00 PM</td>\n",
              "      <td>SO20-3731</td>\n",
              "      <td>BRGC</td>\n",
              "      <td>BURGLARY-VEHICLE</td>\n",
              "      <td>6200 Block of SEMINOLE BLVD</td>\n",
              "      <td>SEMINOLE</td>\n",
              "      <td>33772.0</td>\n",
              "      <td>NaN</td>\n",
              "      <td>NaN</td>\n",
              "    </tr>\n",
              "    <tr>\n",
              "      <th>6</th>\n",
              "      <td>Sheriff</td>\n",
              "      <td>1/6/2020</td>\n",
              "      <td>11:35:00AM</td>\n",
              "      <td>SO20-6611</td>\n",
              "      <td>PT</td>\n",
              "      <td>THEFT-PETIT</td>\n",
              "      <td>7700 Block of SEMINOLE BLVD</td>\n",
              "      <td>SEMINOLE</td>\n",
              "      <td>33772.0</td>\n",
              "      <td>NaN</td>\n",
              "      <td>NaN</td>\n",
              "    </tr>\n",
              "    <tr>\n",
              "      <th>7</th>\n",
              "      <td>Sheriff</td>\n",
              "      <td>12/31/2019</td>\n",
              "      <td>12:00:00 PM</td>\n",
              "      <td>SO20-447</td>\n",
              "      <td>BRGC</td>\n",
              "      <td>BURGLARY-VEHICLE</td>\n",
              "      <td>10900 Block of 91ST TERR N</td>\n",
              "      <td>SEMINOLE</td>\n",
              "      <td>33772.0</td>\n",
              "      <td>NaN</td>\n",
              "      <td>NaN</td>\n",
              "    </tr>\n",
              "    <tr>\n",
              "      <th>8</th>\n",
              "      <td>Sheriff</td>\n",
              "      <td>12/31/2019</td>\n",
              "      <td>01:39:00 PM</td>\n",
              "      <td>SO20-468</td>\n",
              "      <td>AL</td>\n",
              "      <td>ALARM</td>\n",
              "      <td>9200 Block of SEMINOLE BLVD</td>\n",
              "      <td>SEMINOLE</td>\n",
              "      <td>33772.0</td>\n",
              "      <td>NaN</td>\n",
              "      <td>NaN</td>\n",
              "    </tr>\n",
              "    <tr>\n",
              "      <th>9</th>\n",
              "      <td>Sheriff</td>\n",
              "      <td>1/9/2020</td>\n",
              "      <td>01:18:00 PM</td>\n",
              "      <td>SO20-10115</td>\n",
              "      <td>BAT</td>\n",
              "      <td>BATTERY</td>\n",
              "      <td>10600 Block of BLOSSOM LAKE DR</td>\n",
              "      <td>SEMINOLE</td>\n",
              "      <td>33772.0</td>\n",
              "      <td>NaN</td>\n",
              "      <td>NaN</td>\n",
              "    </tr>\n",
              "  </tbody>\n",
              "</table>\n",
              "</div>\n",
              "    <div class=\"colab-df-buttons\">\n",
              "\n",
              "  <div class=\"colab-df-container\">\n",
              "    <button class=\"colab-df-convert\" onclick=\"convertToInteractive('df-4a015ad9-7b39-4528-9471-5adbdcd5b950')\"\n",
              "            title=\"Convert this dataframe to an interactive table.\"\n",
              "            style=\"display:none;\">\n",
              "\n",
              "  <svg xmlns=\"http://www.w3.org/2000/svg\" height=\"24px\" viewBox=\"0 -960 960 960\">\n",
              "    <path d=\"M120-120v-720h720v720H120Zm60-500h600v-160H180v160Zm220 220h160v-160H400v160Zm0 220h160v-160H400v160ZM180-400h160v-160H180v160Zm440 0h160v-160H620v160ZM180-180h160v-160H180v160Zm440 0h160v-160H620v160Z\"/>\n",
              "  </svg>\n",
              "    </button>\n",
              "\n",
              "  <style>\n",
              "    .colab-df-container {\n",
              "      display:flex;\n",
              "      gap: 12px;\n",
              "    }\n",
              "\n",
              "    .colab-df-convert {\n",
              "      background-color: #E8F0FE;\n",
              "      border: none;\n",
              "      border-radius: 50%;\n",
              "      cursor: pointer;\n",
              "      display: none;\n",
              "      fill: #1967D2;\n",
              "      height: 32px;\n",
              "      padding: 0 0 0 0;\n",
              "      width: 32px;\n",
              "    }\n",
              "\n",
              "    .colab-df-convert:hover {\n",
              "      background-color: #E2EBFA;\n",
              "      box-shadow: 0px 1px 2px rgba(60, 64, 67, 0.3), 0px 1px 3px 1px rgba(60, 64, 67, 0.15);\n",
              "      fill: #174EA6;\n",
              "    }\n",
              "\n",
              "    .colab-df-buttons div {\n",
              "      margin-bottom: 4px;\n",
              "    }\n",
              "\n",
              "    [theme=dark] .colab-df-convert {\n",
              "      background-color: #3B4455;\n",
              "      fill: #D2E3FC;\n",
              "    }\n",
              "\n",
              "    [theme=dark] .colab-df-convert:hover {\n",
              "      background-color: #434B5C;\n",
              "      box-shadow: 0px 1px 3px 1px rgba(0, 0, 0, 0.15);\n",
              "      filter: drop-shadow(0px 1px 2px rgba(0, 0, 0, 0.3));\n",
              "      fill: #FFFFFF;\n",
              "    }\n",
              "  </style>\n",
              "\n",
              "    <script>\n",
              "      const buttonEl =\n",
              "        document.querySelector('#df-4a015ad9-7b39-4528-9471-5adbdcd5b950 button.colab-df-convert');\n",
              "      buttonEl.style.display =\n",
              "        google.colab.kernel.accessAllowed ? 'block' : 'none';\n",
              "\n",
              "      async function convertToInteractive(key) {\n",
              "        const element = document.querySelector('#df-4a015ad9-7b39-4528-9471-5adbdcd5b950');\n",
              "        const dataTable =\n",
              "          await google.colab.kernel.invokeFunction('convertToInteractive',\n",
              "                                                    [key], {});\n",
              "        if (!dataTable) return;\n",
              "\n",
              "        const docLinkHtml = 'Like what you see? Visit the ' +\n",
              "          '<a target=\"_blank\" href=https://colab.research.google.com/notebooks/data_table.ipynb>data table notebook</a>'\n",
              "          + ' to learn more about interactive tables.';\n",
              "        element.innerHTML = '';\n",
              "        dataTable['output_type'] = 'display_data';\n",
              "        await google.colab.output.renderOutput(dataTable, element);\n",
              "        const docLink = document.createElement('div');\n",
              "        docLink.innerHTML = docLinkHtml;\n",
              "        element.appendChild(docLink);\n",
              "      }\n",
              "    </script>\n",
              "  </div>\n",
              "\n",
              "\n",
              "<div id=\"df-f14b0c0b-3015-423a-a367-3a3c0e320e30\">\n",
              "  <button class=\"colab-df-quickchart\" onclick=\"quickchart('df-f14b0c0b-3015-423a-a367-3a3c0e320e30')\"\n",
              "            title=\"Suggest charts\"\n",
              "            style=\"display:none;\">\n",
              "\n",
              "<svg xmlns=\"http://www.w3.org/2000/svg\" height=\"24px\"viewBox=\"0 0 24 24\"\n",
              "     width=\"24px\">\n",
              "    <g>\n",
              "        <path d=\"M19 3H5c-1.1 0-2 .9-2 2v14c0 1.1.9 2 2 2h14c1.1 0 2-.9 2-2V5c0-1.1-.9-2-2-2zM9 17H7v-7h2v7zm4 0h-2V7h2v10zm4 0h-2v-4h2v4z\"/>\n",
              "    </g>\n",
              "</svg>\n",
              "  </button>\n",
              "\n",
              "<style>\n",
              "  .colab-df-quickchart {\n",
              "      --bg-color: #E8F0FE;\n",
              "      --fill-color: #1967D2;\n",
              "      --hover-bg-color: #E2EBFA;\n",
              "      --hover-fill-color: #174EA6;\n",
              "      --disabled-fill-color: #AAA;\n",
              "      --disabled-bg-color: #DDD;\n",
              "  }\n",
              "\n",
              "  [theme=dark] .colab-df-quickchart {\n",
              "      --bg-color: #3B4455;\n",
              "      --fill-color: #D2E3FC;\n",
              "      --hover-bg-color: #434B5C;\n",
              "      --hover-fill-color: #FFFFFF;\n",
              "      --disabled-bg-color: #3B4455;\n",
              "      --disabled-fill-color: #666;\n",
              "  }\n",
              "\n",
              "  .colab-df-quickchart {\n",
              "    background-color: var(--bg-color);\n",
              "    border: none;\n",
              "    border-radius: 50%;\n",
              "    cursor: pointer;\n",
              "    display: none;\n",
              "    fill: var(--fill-color);\n",
              "    height: 32px;\n",
              "    padding: 0;\n",
              "    width: 32px;\n",
              "  }\n",
              "\n",
              "  .colab-df-quickchart:hover {\n",
              "    background-color: var(--hover-bg-color);\n",
              "    box-shadow: 0 1px 2px rgba(60, 64, 67, 0.3), 0 1px 3px 1px rgba(60, 64, 67, 0.15);\n",
              "    fill: var(--button-hover-fill-color);\n",
              "  }\n",
              "\n",
              "  .colab-df-quickchart-complete:disabled,\n",
              "  .colab-df-quickchart-complete:disabled:hover {\n",
              "    background-color: var(--disabled-bg-color);\n",
              "    fill: var(--disabled-fill-color);\n",
              "    box-shadow: none;\n",
              "  }\n",
              "\n",
              "  .colab-df-spinner {\n",
              "    border: 2px solid var(--fill-color);\n",
              "    border-color: transparent;\n",
              "    border-bottom-color: var(--fill-color);\n",
              "    animation:\n",
              "      spin 1s steps(1) infinite;\n",
              "  }\n",
              "\n",
              "  @keyframes spin {\n",
              "    0% {\n",
              "      border-color: transparent;\n",
              "      border-bottom-color: var(--fill-color);\n",
              "      border-left-color: var(--fill-color);\n",
              "    }\n",
              "    20% {\n",
              "      border-color: transparent;\n",
              "      border-left-color: var(--fill-color);\n",
              "      border-top-color: var(--fill-color);\n",
              "    }\n",
              "    30% {\n",
              "      border-color: transparent;\n",
              "      border-left-color: var(--fill-color);\n",
              "      border-top-color: var(--fill-color);\n",
              "      border-right-color: var(--fill-color);\n",
              "    }\n",
              "    40% {\n",
              "      border-color: transparent;\n",
              "      border-right-color: var(--fill-color);\n",
              "      border-top-color: var(--fill-color);\n",
              "    }\n",
              "    60% {\n",
              "      border-color: transparent;\n",
              "      border-right-color: var(--fill-color);\n",
              "    }\n",
              "    80% {\n",
              "      border-color: transparent;\n",
              "      border-right-color: var(--fill-color);\n",
              "      border-bottom-color: var(--fill-color);\n",
              "    }\n",
              "    90% {\n",
              "      border-color: transparent;\n",
              "      border-bottom-color: var(--fill-color);\n",
              "    }\n",
              "  }\n",
              "</style>\n",
              "\n",
              "  <script>\n",
              "    async function quickchart(key) {\n",
              "      const quickchartButtonEl =\n",
              "        document.querySelector('#' + key + ' button');\n",
              "      quickchartButtonEl.disabled = true;  // To prevent multiple clicks.\n",
              "      quickchartButtonEl.classList.add('colab-df-spinner');\n",
              "      try {\n",
              "        const charts = await google.colab.kernel.invokeFunction(\n",
              "            'suggestCharts', [key], {});\n",
              "      } catch (error) {\n",
              "        console.error('Error during call to suggestCharts:', error);\n",
              "      }\n",
              "      quickchartButtonEl.classList.remove('colab-df-spinner');\n",
              "      quickchartButtonEl.classList.add('colab-df-quickchart-complete');\n",
              "    }\n",
              "    (() => {\n",
              "      let quickchartButtonEl =\n",
              "        document.querySelector('#df-f14b0c0b-3015-423a-a367-3a3c0e320e30 button');\n",
              "      quickchartButtonEl.style.display =\n",
              "        google.colab.kernel.accessAllowed ? 'block' : 'none';\n",
              "    })();\n",
              "  </script>\n",
              "</div>\n",
              "\n",
              "    </div>\n",
              "  </div>\n"
            ],
            "application/vnd.google.colaboratory.intrinsic+json": {
              "type": "dataframe",
              "variable_name": "crime_data",
              "summary": "{\n  \"name\": \"crime_data\",\n  \"rows\": 1079,\n  \"fields\": [\n    {\n      \"column\": \"AGENCY_ID\",\n      \"properties\": {\n        \"dtype\": \"category\",\n        \"num_unique_values\": 10,\n        \"samples\": [\n          \"Treasure Island PD\",\n          \"Sheriff\",\n          \"Kenneth City PD\"\n        ],\n        \"semantic_type\": \"\",\n        \"description\": \"\"\n      }\n    },\n    {\n      \"column\": \"REPORT_DATE\",\n      \"properties\": {\n        \"dtype\": \"object\",\n        \"num_unique_values\": 15,\n        \"samples\": [\n          \"1/1/2020\",\n          \"1/7/2020\",\n          \"1/4/2020\"\n        ],\n        \"semantic_type\": \"\",\n        \"description\": \"\"\n      }\n    },\n    {\n      \"column\": \"OFFENSE_START_TIME\",\n      \"properties\": {\n        \"dtype\": \"string\",\n        \"num_unique_values\": 545,\n        \"samples\": [\n          \"01:47:00PM\",\n          \"01:00:00 AM\",\n          \"10:55:00 AM\"\n        ],\n        \"semantic_type\": \"\",\n        \"description\": \"\"\n      }\n    },\n    {\n      \"column\": \"REPORT_KEY\",\n      \"properties\": {\n        \"dtype\": \"string\",\n        \"num_unique_values\": 889,\n        \"samples\": [\n          \"SO20-5791\",\n          \"SO20-11827\",\n          \"SO20-6339\"\n        ],\n        \"semantic_type\": \"\",\n        \"description\": \"\"\n      }\n    },\n    {\n      \"column\": \"REPORT_CODE\",\n      \"properties\": {\n        \"dtype\": \"category\",\n        \"num_unique_values\": 81,\n        \"samples\": [\n          \"BRGS\",\n          \"GTA\",\n          \"ROBU\"\n        ],\n        \"semantic_type\": \"\",\n        \"description\": \"\"\n      }\n    },\n    {\n      \"column\": \"CATEGORY\",\n      \"properties\": {\n        \"dtype\": \"category\",\n        \"num_unique_values\": 25,\n        \"samples\": [\n          \"ASSAULT\",\n          \"ROBBERY-UNARMED\",\n          \"STOLEN VEHICLE\"\n        ],\n        \"semantic_type\": \"\",\n        \"description\": \"\"\n      }\n    },\n    {\n      \"column\": \"BLOCK_ADDRESS\",\n      \"properties\": {\n        \"dtype\": \"string\",\n        \"num_unique_values\": 787,\n        \"samples\": [\n          \"15200 Block of MUNICIPAL DR \",\n          \"13500 Block of 66TH ST N\",\n          \"2300 Block of CYPRESS POND RD\"\n        ],\n        \"semantic_type\": \"\",\n        \"description\": \"\"\n      }\n    },\n    {\n      \"column\": \"CITY\",\n      \"properties\": {\n        \"dtype\": \"category\",\n        \"num_unique_values\": 22,\n        \"samples\": [\n          \"INDIAN SHORES\",\n          \"TARPON SPRINGS\",\n          \"GULFPORT\"\n        ],\n        \"semantic_type\": \"\",\n        \"description\": \"\"\n      }\n    },\n    {\n      \"column\": \"ZIP\",\n      \"properties\": {\n        \"dtype\": \"number\",\n        \"std\": 341.5851171047552,\n        \"min\": 33702.0,\n        \"max\": 34777.0,\n        \"num_unique_values\": 40,\n        \"samples\": [\n          34685.0,\n          33763.0,\n          33776.0\n        ],\n        \"semantic_type\": \"\",\n        \"description\": \"\"\n      }\n    },\n    {\n      \"column\": \"EXTRA_1\",\n      \"properties\": {\n        \"dtype\": \"category\",\n        \"num_unique_values\": 1,\n        \"samples\": [\n          \"TREASURE ISLAND\"\n        ],\n        \"semantic_type\": \"\",\n        \"description\": \"\"\n      }\n    },\n    {\n      \"column\": \"EXTRA_2\",\n      \"properties\": {\n        \"dtype\": \"number\",\n        \"std\": null,\n        \"min\": 33706.0,\n        \"max\": 33706.0,\n        \"num_unique_values\": 1,\n        \"samples\": [\n          33706.0\n        ],\n        \"semantic_type\": \"\",\n        \"description\": \"\"\n      }\n    }\n  ]\n}"
            }
          },
          "metadata": {},
          "execution_count": 69
        }
      ]
    },
    {
      "cell_type": "markdown",
      "source": [
        "This is looking good. Now to work on concatenating the dataframes.\n",
        "\n",
        "I will create a crime_data2 dataframe to join to crime_data."
      ],
      "metadata": {
        "id": "raFSDGtkCesI"
      }
    },
    {
      "cell_type": "markdown",
      "source": [
        "###2.1.6 Reading in a second file"
      ],
      "metadata": {
        "id": "MA8-ME4XrEev"
      }
    },
    {
      "cell_type": "code",
      "source": [
        "data_file = '/content/drive/MyDrive/Data Science Course/Capstone Work/Raw_Data/PinellasCrimeDATA_2024/PinellasCrime20200116_20200131.csv'\n",
        "crime_data2 = pd.read_csv(data_file,names=col_names,skiprows=1)"
      ],
      "metadata": {
        "id": "rZOvNiQwC7hG"
      },
      "execution_count": null,
      "outputs": []
    },
    {
      "cell_type": "code",
      "source": [
        "crime_data2.info()\n",
        "crime_data2.head()"
      ],
      "metadata": {
        "colab": {
          "base_uri": "https://localhost:8080/"
        },
        "id": "KQueHSuVDGsF",
        "outputId": "f5e04f63-49be-4cd7-b13c-31639e02b37a"
      },
      "execution_count": null,
      "outputs": [
        {
          "output_type": "stream",
          "name": "stdout",
          "text": [
            "<class 'pandas.core.frame.DataFrame'>\n",
            "RangeIndex: 1004 entries, 0 to 1003\n",
            "Data columns (total 11 columns):\n",
            " #   Column              Non-Null Count  Dtype  \n",
            "---  ------              --------------  -----  \n",
            " 0   AGENCY_ID           1004 non-null   object \n",
            " 1   REPORT_DATE         1004 non-null   object \n",
            " 2   OFFENSE_START_TIME  1004 non-null   object \n",
            " 3   REPORT_KEY          1004 non-null   object \n",
            " 4   REPORT_CODE         1004 non-null   object \n",
            " 5   CATEGORY            1004 non-null   object \n",
            " 6   BLOCK_ADDRESS       987 non-null    object \n",
            " 7   CITY                1001 non-null   object \n",
            " 8   ZIP                 999 non-null    float64\n",
            " 9   EXTRA_1             0 non-null      float64\n",
            " 10  EXTRA_2             0 non-null      float64\n",
            "dtypes: float64(3), object(8)\n",
            "memory usage: 86.4+ KB\n"
          ]
        },
        {
          "output_type": "execute_result",
          "data": {
            "text/plain": [
              "       AGENCY_ID REPORT_DATE OFFENSE_START_TIME    REPORT_KEY REPORT_CODE  \\\n",
              "0        Sheriff   1/25/2020         08:00:00PM    SO20-27847        BRGC   \n",
              "1        Sheriff   1/25/2020         02:20:00PM  SO20-26893*1        BRGR   \n",
              "2        Sheriff   1/25/2020         06:00:00PM    SO20-27423         GTA   \n",
              "3  Clearwater PD   1/25/2020         10:00:00PM    CW20-13410          PT   \n",
              "4       Largo PD   1/23/2020         10:07:00PM      20000801        0680   \n",
              "\n",
              "             CATEGORY               BLOCK_ADDRESS               CITY      ZIP  \\\n",
              "0    BURGLARY-VEHICLE   17300 Block of GULF BLVD   N REDINGTON BEACH  33708.0   \n",
              "1  BURGLARY-RESIDENCE      300 Block of 4TH ST S       SAFETY HARBOR  34695.0   \n",
              "2      STOLEN VEHICLE   WILCOX RD & WASHINGTON DR        PINELLAS SO  33774.0   \n",
              "3         THEFT-PETIT    2000 Block of ALPINE RD          CLEARWATER  33755.0   \n",
              "4         THEFT-PETIT  601 Block of ROSERY RD NE               LARGO  33770.0   \n",
              "\n",
              "   EXTRA_1  EXTRA_2  \n",
              "0      NaN      NaN  \n",
              "1      NaN      NaN  \n",
              "2      NaN      NaN  \n",
              "3      NaN      NaN  \n",
              "4      NaN      NaN  "
            ],
            "text/html": [
              "\n",
              "  <div id=\"df-c4cc3b1d-fd35-4537-863a-d31d40744d66\" class=\"colab-df-container\">\n",
              "    <div>\n",
              "<style scoped>\n",
              "    .dataframe tbody tr th:only-of-type {\n",
              "        vertical-align: middle;\n",
              "    }\n",
              "\n",
              "    .dataframe tbody tr th {\n",
              "        vertical-align: top;\n",
              "    }\n",
              "\n",
              "    .dataframe thead th {\n",
              "        text-align: right;\n",
              "    }\n",
              "</style>\n",
              "<table border=\"1\" class=\"dataframe\">\n",
              "  <thead>\n",
              "    <tr style=\"text-align: right;\">\n",
              "      <th></th>\n",
              "      <th>AGENCY_ID</th>\n",
              "      <th>REPORT_DATE</th>\n",
              "      <th>OFFENSE_START_TIME</th>\n",
              "      <th>REPORT_KEY</th>\n",
              "      <th>REPORT_CODE</th>\n",
              "      <th>CATEGORY</th>\n",
              "      <th>BLOCK_ADDRESS</th>\n",
              "      <th>CITY</th>\n",
              "      <th>ZIP</th>\n",
              "      <th>EXTRA_1</th>\n",
              "      <th>EXTRA_2</th>\n",
              "    </tr>\n",
              "  </thead>\n",
              "  <tbody>\n",
              "    <tr>\n",
              "      <th>0</th>\n",
              "      <td>Sheriff</td>\n",
              "      <td>1/25/2020</td>\n",
              "      <td>08:00:00PM</td>\n",
              "      <td>SO20-27847</td>\n",
              "      <td>BRGC</td>\n",
              "      <td>BURGLARY-VEHICLE</td>\n",
              "      <td>17300 Block of GULF BLVD</td>\n",
              "      <td>N REDINGTON BEACH</td>\n",
              "      <td>33708.0</td>\n",
              "      <td>NaN</td>\n",
              "      <td>NaN</td>\n",
              "    </tr>\n",
              "    <tr>\n",
              "      <th>1</th>\n",
              "      <td>Sheriff</td>\n",
              "      <td>1/25/2020</td>\n",
              "      <td>02:20:00PM</td>\n",
              "      <td>SO20-26893*1</td>\n",
              "      <td>BRGR</td>\n",
              "      <td>BURGLARY-RESIDENCE</td>\n",
              "      <td>300 Block of 4TH ST S</td>\n",
              "      <td>SAFETY HARBOR</td>\n",
              "      <td>34695.0</td>\n",
              "      <td>NaN</td>\n",
              "      <td>NaN</td>\n",
              "    </tr>\n",
              "    <tr>\n",
              "      <th>2</th>\n",
              "      <td>Sheriff</td>\n",
              "      <td>1/25/2020</td>\n",
              "      <td>06:00:00PM</td>\n",
              "      <td>SO20-27423</td>\n",
              "      <td>GTA</td>\n",
              "      <td>STOLEN VEHICLE</td>\n",
              "      <td>WILCOX RD &amp; WASHINGTON DR</td>\n",
              "      <td>PINELLAS SO</td>\n",
              "      <td>33774.0</td>\n",
              "      <td>NaN</td>\n",
              "      <td>NaN</td>\n",
              "    </tr>\n",
              "    <tr>\n",
              "      <th>3</th>\n",
              "      <td>Clearwater PD</td>\n",
              "      <td>1/25/2020</td>\n",
              "      <td>10:00:00PM</td>\n",
              "      <td>CW20-13410</td>\n",
              "      <td>PT</td>\n",
              "      <td>THEFT-PETIT</td>\n",
              "      <td>2000 Block of ALPINE RD</td>\n",
              "      <td>CLEARWATER</td>\n",
              "      <td>33755.0</td>\n",
              "      <td>NaN</td>\n",
              "      <td>NaN</td>\n",
              "    </tr>\n",
              "    <tr>\n",
              "      <th>4</th>\n",
              "      <td>Largo PD</td>\n",
              "      <td>1/23/2020</td>\n",
              "      <td>10:07:00PM</td>\n",
              "      <td>20000801</td>\n",
              "      <td>0680</td>\n",
              "      <td>THEFT-PETIT</td>\n",
              "      <td>601 Block of ROSERY RD NE</td>\n",
              "      <td>LARGO</td>\n",
              "      <td>33770.0</td>\n",
              "      <td>NaN</td>\n",
              "      <td>NaN</td>\n",
              "    </tr>\n",
              "  </tbody>\n",
              "</table>\n",
              "</div>\n",
              "    <div class=\"colab-df-buttons\">\n",
              "\n",
              "  <div class=\"colab-df-container\">\n",
              "    <button class=\"colab-df-convert\" onclick=\"convertToInteractive('df-c4cc3b1d-fd35-4537-863a-d31d40744d66')\"\n",
              "            title=\"Convert this dataframe to an interactive table.\"\n",
              "            style=\"display:none;\">\n",
              "\n",
              "  <svg xmlns=\"http://www.w3.org/2000/svg\" height=\"24px\" viewBox=\"0 -960 960 960\">\n",
              "    <path d=\"M120-120v-720h720v720H120Zm60-500h600v-160H180v160Zm220 220h160v-160H400v160Zm0 220h160v-160H400v160ZM180-400h160v-160H180v160Zm440 0h160v-160H620v160ZM180-180h160v-160H180v160Zm440 0h160v-160H620v160Z\"/>\n",
              "  </svg>\n",
              "    </button>\n",
              "\n",
              "  <style>\n",
              "    .colab-df-container {\n",
              "      display:flex;\n",
              "      gap: 12px;\n",
              "    }\n",
              "\n",
              "    .colab-df-convert {\n",
              "      background-color: #E8F0FE;\n",
              "      border: none;\n",
              "      border-radius: 50%;\n",
              "      cursor: pointer;\n",
              "      display: none;\n",
              "      fill: #1967D2;\n",
              "      height: 32px;\n",
              "      padding: 0 0 0 0;\n",
              "      width: 32px;\n",
              "    }\n",
              "\n",
              "    .colab-df-convert:hover {\n",
              "      background-color: #E2EBFA;\n",
              "      box-shadow: 0px 1px 2px rgba(60, 64, 67, 0.3), 0px 1px 3px 1px rgba(60, 64, 67, 0.15);\n",
              "      fill: #174EA6;\n",
              "    }\n",
              "\n",
              "    .colab-df-buttons div {\n",
              "      margin-bottom: 4px;\n",
              "    }\n",
              "\n",
              "    [theme=dark] .colab-df-convert {\n",
              "      background-color: #3B4455;\n",
              "      fill: #D2E3FC;\n",
              "    }\n",
              "\n",
              "    [theme=dark] .colab-df-convert:hover {\n",
              "      background-color: #434B5C;\n",
              "      box-shadow: 0px 1px 3px 1px rgba(0, 0, 0, 0.15);\n",
              "      filter: drop-shadow(0px 1px 2px rgba(0, 0, 0, 0.3));\n",
              "      fill: #FFFFFF;\n",
              "    }\n",
              "  </style>\n",
              "\n",
              "    <script>\n",
              "      const buttonEl =\n",
              "        document.querySelector('#df-c4cc3b1d-fd35-4537-863a-d31d40744d66 button.colab-df-convert');\n",
              "      buttonEl.style.display =\n",
              "        google.colab.kernel.accessAllowed ? 'block' : 'none';\n",
              "\n",
              "      async function convertToInteractive(key) {\n",
              "        const element = document.querySelector('#df-c4cc3b1d-fd35-4537-863a-d31d40744d66');\n",
              "        const dataTable =\n",
              "          await google.colab.kernel.invokeFunction('convertToInteractive',\n",
              "                                                    [key], {});\n",
              "        if (!dataTable) return;\n",
              "\n",
              "        const docLinkHtml = 'Like what you see? Visit the ' +\n",
              "          '<a target=\"_blank\" href=https://colab.research.google.com/notebooks/data_table.ipynb>data table notebook</a>'\n",
              "          + ' to learn more about interactive tables.';\n",
              "        element.innerHTML = '';\n",
              "        dataTable['output_type'] = 'display_data';\n",
              "        await google.colab.output.renderOutput(dataTable, element);\n",
              "        const docLink = document.createElement('div');\n",
              "        docLink.innerHTML = docLinkHtml;\n",
              "        element.appendChild(docLink);\n",
              "      }\n",
              "    </script>\n",
              "  </div>\n",
              "\n",
              "\n",
              "<div id=\"df-bc40f761-a275-4915-b2a4-e6620d96aaa9\">\n",
              "  <button class=\"colab-df-quickchart\" onclick=\"quickchart('df-bc40f761-a275-4915-b2a4-e6620d96aaa9')\"\n",
              "            title=\"Suggest charts\"\n",
              "            style=\"display:none;\">\n",
              "\n",
              "<svg xmlns=\"http://www.w3.org/2000/svg\" height=\"24px\"viewBox=\"0 0 24 24\"\n",
              "     width=\"24px\">\n",
              "    <g>\n",
              "        <path d=\"M19 3H5c-1.1 0-2 .9-2 2v14c0 1.1.9 2 2 2h14c1.1 0 2-.9 2-2V5c0-1.1-.9-2-2-2zM9 17H7v-7h2v7zm4 0h-2V7h2v10zm4 0h-2v-4h2v4z\"/>\n",
              "    </g>\n",
              "</svg>\n",
              "  </button>\n",
              "\n",
              "<style>\n",
              "  .colab-df-quickchart {\n",
              "      --bg-color: #E8F0FE;\n",
              "      --fill-color: #1967D2;\n",
              "      --hover-bg-color: #E2EBFA;\n",
              "      --hover-fill-color: #174EA6;\n",
              "      --disabled-fill-color: #AAA;\n",
              "      --disabled-bg-color: #DDD;\n",
              "  }\n",
              "\n",
              "  [theme=dark] .colab-df-quickchart {\n",
              "      --bg-color: #3B4455;\n",
              "      --fill-color: #D2E3FC;\n",
              "      --hover-bg-color: #434B5C;\n",
              "      --hover-fill-color: #FFFFFF;\n",
              "      --disabled-bg-color: #3B4455;\n",
              "      --disabled-fill-color: #666;\n",
              "  }\n",
              "\n",
              "  .colab-df-quickchart {\n",
              "    background-color: var(--bg-color);\n",
              "    border: none;\n",
              "    border-radius: 50%;\n",
              "    cursor: pointer;\n",
              "    display: none;\n",
              "    fill: var(--fill-color);\n",
              "    height: 32px;\n",
              "    padding: 0;\n",
              "    width: 32px;\n",
              "  }\n",
              "\n",
              "  .colab-df-quickchart:hover {\n",
              "    background-color: var(--hover-bg-color);\n",
              "    box-shadow: 0 1px 2px rgba(60, 64, 67, 0.3), 0 1px 3px 1px rgba(60, 64, 67, 0.15);\n",
              "    fill: var(--button-hover-fill-color);\n",
              "  }\n",
              "\n",
              "  .colab-df-quickchart-complete:disabled,\n",
              "  .colab-df-quickchart-complete:disabled:hover {\n",
              "    background-color: var(--disabled-bg-color);\n",
              "    fill: var(--disabled-fill-color);\n",
              "    box-shadow: none;\n",
              "  }\n",
              "\n",
              "  .colab-df-spinner {\n",
              "    border: 2px solid var(--fill-color);\n",
              "    border-color: transparent;\n",
              "    border-bottom-color: var(--fill-color);\n",
              "    animation:\n",
              "      spin 1s steps(1) infinite;\n",
              "  }\n",
              "\n",
              "  @keyframes spin {\n",
              "    0% {\n",
              "      border-color: transparent;\n",
              "      border-bottom-color: var(--fill-color);\n",
              "      border-left-color: var(--fill-color);\n",
              "    }\n",
              "    20% {\n",
              "      border-color: transparent;\n",
              "      border-left-color: var(--fill-color);\n",
              "      border-top-color: var(--fill-color);\n",
              "    }\n",
              "    30% {\n",
              "      border-color: transparent;\n",
              "      border-left-color: var(--fill-color);\n",
              "      border-top-color: var(--fill-color);\n",
              "      border-right-color: var(--fill-color);\n",
              "    }\n",
              "    40% {\n",
              "      border-color: transparent;\n",
              "      border-right-color: var(--fill-color);\n",
              "      border-top-color: var(--fill-color);\n",
              "    }\n",
              "    60% {\n",
              "      border-color: transparent;\n",
              "      border-right-color: var(--fill-color);\n",
              "    }\n",
              "    80% {\n",
              "      border-color: transparent;\n",
              "      border-right-color: var(--fill-color);\n",
              "      border-bottom-color: var(--fill-color);\n",
              "    }\n",
              "    90% {\n",
              "      border-color: transparent;\n",
              "      border-bottom-color: var(--fill-color);\n",
              "    }\n",
              "  }\n",
              "</style>\n",
              "\n",
              "  <script>\n",
              "    async function quickchart(key) {\n",
              "      const quickchartButtonEl =\n",
              "        document.querySelector('#' + key + ' button');\n",
              "      quickchartButtonEl.disabled = true;  // To prevent multiple clicks.\n",
              "      quickchartButtonEl.classList.add('colab-df-spinner');\n",
              "      try {\n",
              "        const charts = await google.colab.kernel.invokeFunction(\n",
              "            'suggestCharts', [key], {});\n",
              "      } catch (error) {\n",
              "        console.error('Error during call to suggestCharts:', error);\n",
              "      }\n",
              "      quickchartButtonEl.classList.remove('colab-df-spinner');\n",
              "      quickchartButtonEl.classList.add('colab-df-quickchart-complete');\n",
              "    }\n",
              "    (() => {\n",
              "      let quickchartButtonEl =\n",
              "        document.querySelector('#df-bc40f761-a275-4915-b2a4-e6620d96aaa9 button');\n",
              "      quickchartButtonEl.style.display =\n",
              "        google.colab.kernel.accessAllowed ? 'block' : 'none';\n",
              "    })();\n",
              "  </script>\n",
              "</div>\n",
              "\n",
              "    </div>\n",
              "  </div>\n"
            ],
            "application/vnd.google.colaboratory.intrinsic+json": {
              "type": "dataframe",
              "variable_name": "crime_data2",
              "summary": "{\n  \"name\": \"crime_data2\",\n  \"rows\": 1004,\n  \"fields\": [\n    {\n      \"column\": \"AGENCY_ID\",\n      \"properties\": {\n        \"dtype\": \"category\",\n        \"num_unique_values\": 10,\n        \"samples\": [\n          \"Indian Shores PD\",\n          \"Clearwater PD\",\n          \"Kenneth City PD\"\n        ],\n        \"semantic_type\": \"\",\n        \"description\": \"\"\n      }\n    },\n    {\n      \"column\": \"REPORT_DATE\",\n      \"properties\": {\n        \"dtype\": \"object\",\n        \"num_unique_values\": 16,\n        \"samples\": [\n          \"1/25/2020\",\n          \"1/23/2020\",\n          \"1/21/2020\"\n        ],\n        \"semantic_type\": \"\",\n        \"description\": \"\"\n      }\n    },\n    {\n      \"column\": \"OFFENSE_START_TIME\",\n      \"properties\": {\n        \"dtype\": \"category\",\n        \"num_unique_values\": 412,\n        \"samples\": [\n          \"05:06:00PM\",\n          \"08:35:00PM\",\n          \"05:30:00PM\"\n        ],\n        \"semantic_type\": \"\",\n        \"description\": \"\"\n      }\n    },\n    {\n      \"column\": \"REPORT_KEY\",\n      \"properties\": {\n        \"dtype\": \"string\",\n        \"num_unique_values\": 882,\n        \"samples\": [\n          \"20000776\",\n          \"20000793\",\n          \"202000007837\"\n        ],\n        \"semantic_type\": \"\",\n        \"description\": \"\"\n      }\n    },\n    {\n      \"column\": \"REPORT_CODE\",\n      \"properties\": {\n        \"dtype\": \"category\",\n        \"num_unique_values\": 84,\n        \"samples\": [\n          \"A\",\n          \"BRGC\",\n          \"0650\"\n        ],\n        \"semantic_type\": \"\",\n        \"description\": \"\"\n      }\n    },\n    {\n      \"column\": \"CATEGORY\",\n      \"properties\": {\n        \"dtype\": \"category\",\n        \"num_unique_values\": 25,\n        \"samples\": [\n          \"THEFT-GRAND\",\n          \"THEFT-PURSE SNATCH\",\n          \"BURGLARY-VEHICLE\"\n        ],\n        \"semantic_type\": \"\",\n        \"description\": \"\"\n      }\n    },\n    {\n      \"column\": \"BLOCK_ADDRESS\",\n      \"properties\": {\n        \"dtype\": \"string\",\n        \"num_unique_values\": 714,\n        \"samples\": [\n          \"60TH ST N & ULMERTON RD\",\n          \"1425 Block of ROSE ST \",\n          \"34TH ST N & ULMERTON RD\"\n        ],\n        \"semantic_type\": \"\",\n        \"description\": \"\"\n      }\n    },\n    {\n      \"column\": \"CITY\",\n      \"properties\": {\n        \"dtype\": \"category\",\n        \"num_unique_values\": 20,\n        \"samples\": [\n          \"N REDINGTON BEACH\",\n          \"TREASURE ISLAND\",\n          \"MADEIRA BEACH\"\n        ],\n        \"semantic_type\": \"\",\n        \"description\": \"\"\n      }\n    },\n    {\n      \"column\": \"ZIP\",\n      \"properties\": {\n        \"dtype\": \"number\",\n        \"std\": 362.0867911693677,\n        \"min\": 33701.0,\n        \"max\": 34698.0,\n        \"num_unique_values\": 42,\n        \"samples\": [\n          34689.0,\n          33764.0,\n          33761.0\n        ],\n        \"semantic_type\": \"\",\n        \"description\": \"\"\n      }\n    },\n    {\n      \"column\": \"EXTRA_1\",\n      \"properties\": {\n        \"dtype\": \"number\",\n        \"std\": null,\n        \"min\": null,\n        \"max\": null,\n        \"num_unique_values\": 0,\n        \"samples\": [],\n        \"semantic_type\": \"\",\n        \"description\": \"\"\n      }\n    },\n    {\n      \"column\": \"EXTRA_2\",\n      \"properties\": {\n        \"dtype\": \"number\",\n        \"std\": null,\n        \"min\": null,\n        \"max\": null,\n        \"num_unique_values\": 0,\n        \"samples\": [],\n        \"semantic_type\": \"\",\n        \"description\": \"\"\n      }\n    }\n  ]\n}"
            }
          },
          "metadata": {},
          "execution_count": 71
        }
      ]
    },
    {
      "cell_type": "markdown",
      "source": [
        "###2.1.7 Combining the two dataframes into one"
      ],
      "metadata": {
        "id": "dQI-uxVarL4d"
      }
    },
    {
      "cell_type": "code",
      "source": [
        "result = pd.concat([crime_data,crime_data2],ignore_index=True)"
      ],
      "metadata": {
        "id": "sHKeTrg7DviJ"
      },
      "execution_count": null,
      "outputs": []
    },
    {
      "cell_type": "code",
      "source": [
        "result.head()\n",
        "result.info()\n",
        "result.tail()"
      ],
      "metadata": {
        "colab": {
          "base_uri": "https://localhost:8080/"
        },
        "id": "58bzjCyFFNPY",
        "outputId": "313cea34-f22f-4fd7-8850-deb3b98ecf79"
      },
      "execution_count": null,
      "outputs": [
        {
          "output_type": "stream",
          "name": "stdout",
          "text": [
            "<class 'pandas.core.frame.DataFrame'>\n",
            "RangeIndex: 2083 entries, 0 to 2082\n",
            "Data columns (total 11 columns):\n",
            " #   Column              Non-Null Count  Dtype  \n",
            "---  ------              --------------  -----  \n",
            " 0   AGENCY_ID           2083 non-null   object \n",
            " 1   REPORT_DATE         2083 non-null   object \n",
            " 2   OFFENSE_START_TIME  2083 non-null   object \n",
            " 3   REPORT_KEY          2083 non-null   object \n",
            " 4   REPORT_CODE         2083 non-null   object \n",
            " 5   CATEGORY            2083 non-null   object \n",
            " 6   BLOCK_ADDRESS       1938 non-null   object \n",
            " 7   CITY                2079 non-null   object \n",
            " 8   ZIP                 2072 non-null   float64\n",
            " 9   EXTRA_1             1 non-null      object \n",
            " 10  EXTRA_2             1 non-null      float64\n",
            "dtypes: float64(2), object(9)\n",
            "memory usage: 179.1+ KB\n"
          ]
        },
        {
          "output_type": "execute_result",
          "data": {
            "text/plain": [
              "     AGENCY_ID REPORT_DATE OFFENSE_START_TIME REPORT_KEY REPORT_CODE  \\\n",
              "2078  Largo PD   1/20/2020         02:30:00PM   20000669        0680   \n",
              "2079  Largo PD   1/21/2020         10:33:00PM   20000730        0810   \n",
              "2080  Largo PD   1/22/2020         10:00:00PM   20000752        0710   \n",
              "2081  Largo PD   1/22/2020         02:30:00PM   20000760        0810   \n",
              "2082  Largo PD   1/22/2020         09:09:00PM   20000767        4010   \n",
              "\n",
              "              CATEGORY                        BLOCK_ADDRESS        CITY  \\\n",
              "2078       THEFT-PETIT        2600 Block of ROOSEVELT BLVD   CLEARWATER   \n",
              "2079           ASSAULT  600 Block of CLEARWATER LARGO RD N        LARGO   \n",
              "2080    STOLEN VEHICLE           8500 Block of ULMERTON RD        LARGO   \n",
              "2081           ASSAULT            3000 Block of 19TH PL SW        LARGO   \n",
              "2082  TRAFFIC ACCIDENT       ROOSEVELT BLVD/US HIGHWAY 19 N  CLEARWATER   \n",
              "\n",
              "          ZIP EXTRA_1  EXTRA_2  \n",
              "2078  33765.0     NaN      NaN  \n",
              "2079  33770.0     NaN      NaN  \n",
              "2080  33771.0     NaN      NaN  \n",
              "2081  33771.0     NaN      NaN  \n",
              "2082  33770.0     NaN      NaN  "
            ],
            "text/html": [
              "\n",
              "  <div id=\"df-2223159d-8de0-4cc4-a282-5d6ca1fceb11\" class=\"colab-df-container\">\n",
              "    <div>\n",
              "<style scoped>\n",
              "    .dataframe tbody tr th:only-of-type {\n",
              "        vertical-align: middle;\n",
              "    }\n",
              "\n",
              "    .dataframe tbody tr th {\n",
              "        vertical-align: top;\n",
              "    }\n",
              "\n",
              "    .dataframe thead th {\n",
              "        text-align: right;\n",
              "    }\n",
              "</style>\n",
              "<table border=\"1\" class=\"dataframe\">\n",
              "  <thead>\n",
              "    <tr style=\"text-align: right;\">\n",
              "      <th></th>\n",
              "      <th>AGENCY_ID</th>\n",
              "      <th>REPORT_DATE</th>\n",
              "      <th>OFFENSE_START_TIME</th>\n",
              "      <th>REPORT_KEY</th>\n",
              "      <th>REPORT_CODE</th>\n",
              "      <th>CATEGORY</th>\n",
              "      <th>BLOCK_ADDRESS</th>\n",
              "      <th>CITY</th>\n",
              "      <th>ZIP</th>\n",
              "      <th>EXTRA_1</th>\n",
              "      <th>EXTRA_2</th>\n",
              "    </tr>\n",
              "  </thead>\n",
              "  <tbody>\n",
              "    <tr>\n",
              "      <th>2078</th>\n",
              "      <td>Largo PD</td>\n",
              "      <td>1/20/2020</td>\n",
              "      <td>02:30:00PM</td>\n",
              "      <td>20000669</td>\n",
              "      <td>0680</td>\n",
              "      <td>THEFT-PETIT</td>\n",
              "      <td>2600 Block of ROOSEVELT BLVD</td>\n",
              "      <td>CLEARWATER</td>\n",
              "      <td>33765.0</td>\n",
              "      <td>NaN</td>\n",
              "      <td>NaN</td>\n",
              "    </tr>\n",
              "    <tr>\n",
              "      <th>2079</th>\n",
              "      <td>Largo PD</td>\n",
              "      <td>1/21/2020</td>\n",
              "      <td>10:33:00PM</td>\n",
              "      <td>20000730</td>\n",
              "      <td>0810</td>\n",
              "      <td>ASSAULT</td>\n",
              "      <td>600 Block of CLEARWATER LARGO RD N</td>\n",
              "      <td>LARGO</td>\n",
              "      <td>33770.0</td>\n",
              "      <td>NaN</td>\n",
              "      <td>NaN</td>\n",
              "    </tr>\n",
              "    <tr>\n",
              "      <th>2080</th>\n",
              "      <td>Largo PD</td>\n",
              "      <td>1/22/2020</td>\n",
              "      <td>10:00:00PM</td>\n",
              "      <td>20000752</td>\n",
              "      <td>0710</td>\n",
              "      <td>STOLEN VEHICLE</td>\n",
              "      <td>8500 Block of ULMERTON RD</td>\n",
              "      <td>LARGO</td>\n",
              "      <td>33771.0</td>\n",
              "      <td>NaN</td>\n",
              "      <td>NaN</td>\n",
              "    </tr>\n",
              "    <tr>\n",
              "      <th>2081</th>\n",
              "      <td>Largo PD</td>\n",
              "      <td>1/22/2020</td>\n",
              "      <td>02:30:00PM</td>\n",
              "      <td>20000760</td>\n",
              "      <td>0810</td>\n",
              "      <td>ASSAULT</td>\n",
              "      <td>3000 Block of 19TH PL SW</td>\n",
              "      <td>LARGO</td>\n",
              "      <td>33771.0</td>\n",
              "      <td>NaN</td>\n",
              "      <td>NaN</td>\n",
              "    </tr>\n",
              "    <tr>\n",
              "      <th>2082</th>\n",
              "      <td>Largo PD</td>\n",
              "      <td>1/22/2020</td>\n",
              "      <td>09:09:00PM</td>\n",
              "      <td>20000767</td>\n",
              "      <td>4010</td>\n",
              "      <td>TRAFFIC ACCIDENT</td>\n",
              "      <td>ROOSEVELT BLVD/US HIGHWAY 19 N</td>\n",
              "      <td>CLEARWATER</td>\n",
              "      <td>33770.0</td>\n",
              "      <td>NaN</td>\n",
              "      <td>NaN</td>\n",
              "    </tr>\n",
              "  </tbody>\n",
              "</table>\n",
              "</div>\n",
              "    <div class=\"colab-df-buttons\">\n",
              "\n",
              "  <div class=\"colab-df-container\">\n",
              "    <button class=\"colab-df-convert\" onclick=\"convertToInteractive('df-2223159d-8de0-4cc4-a282-5d6ca1fceb11')\"\n",
              "            title=\"Convert this dataframe to an interactive table.\"\n",
              "            style=\"display:none;\">\n",
              "\n",
              "  <svg xmlns=\"http://www.w3.org/2000/svg\" height=\"24px\" viewBox=\"0 -960 960 960\">\n",
              "    <path d=\"M120-120v-720h720v720H120Zm60-500h600v-160H180v160Zm220 220h160v-160H400v160Zm0 220h160v-160H400v160ZM180-400h160v-160H180v160Zm440 0h160v-160H620v160ZM180-180h160v-160H180v160Zm440 0h160v-160H620v160Z\"/>\n",
              "  </svg>\n",
              "    </button>\n",
              "\n",
              "  <style>\n",
              "    .colab-df-container {\n",
              "      display:flex;\n",
              "      gap: 12px;\n",
              "    }\n",
              "\n",
              "    .colab-df-convert {\n",
              "      background-color: #E8F0FE;\n",
              "      border: none;\n",
              "      border-radius: 50%;\n",
              "      cursor: pointer;\n",
              "      display: none;\n",
              "      fill: #1967D2;\n",
              "      height: 32px;\n",
              "      padding: 0 0 0 0;\n",
              "      width: 32px;\n",
              "    }\n",
              "\n",
              "    .colab-df-convert:hover {\n",
              "      background-color: #E2EBFA;\n",
              "      box-shadow: 0px 1px 2px rgba(60, 64, 67, 0.3), 0px 1px 3px 1px rgba(60, 64, 67, 0.15);\n",
              "      fill: #174EA6;\n",
              "    }\n",
              "\n",
              "    .colab-df-buttons div {\n",
              "      margin-bottom: 4px;\n",
              "    }\n",
              "\n",
              "    [theme=dark] .colab-df-convert {\n",
              "      background-color: #3B4455;\n",
              "      fill: #D2E3FC;\n",
              "    }\n",
              "\n",
              "    [theme=dark] .colab-df-convert:hover {\n",
              "      background-color: #434B5C;\n",
              "      box-shadow: 0px 1px 3px 1px rgba(0, 0, 0, 0.15);\n",
              "      filter: drop-shadow(0px 1px 2px rgba(0, 0, 0, 0.3));\n",
              "      fill: #FFFFFF;\n",
              "    }\n",
              "  </style>\n",
              "\n",
              "    <script>\n",
              "      const buttonEl =\n",
              "        document.querySelector('#df-2223159d-8de0-4cc4-a282-5d6ca1fceb11 button.colab-df-convert');\n",
              "      buttonEl.style.display =\n",
              "        google.colab.kernel.accessAllowed ? 'block' : 'none';\n",
              "\n",
              "      async function convertToInteractive(key) {\n",
              "        const element = document.querySelector('#df-2223159d-8de0-4cc4-a282-5d6ca1fceb11');\n",
              "        const dataTable =\n",
              "          await google.colab.kernel.invokeFunction('convertToInteractive',\n",
              "                                                    [key], {});\n",
              "        if (!dataTable) return;\n",
              "\n",
              "        const docLinkHtml = 'Like what you see? Visit the ' +\n",
              "          '<a target=\"_blank\" href=https://colab.research.google.com/notebooks/data_table.ipynb>data table notebook</a>'\n",
              "          + ' to learn more about interactive tables.';\n",
              "        element.innerHTML = '';\n",
              "        dataTable['output_type'] = 'display_data';\n",
              "        await google.colab.output.renderOutput(dataTable, element);\n",
              "        const docLink = document.createElement('div');\n",
              "        docLink.innerHTML = docLinkHtml;\n",
              "        element.appendChild(docLink);\n",
              "      }\n",
              "    </script>\n",
              "  </div>\n",
              "\n",
              "\n",
              "<div id=\"df-68b43d9b-8bf9-45d8-8152-1497a6606b57\">\n",
              "  <button class=\"colab-df-quickchart\" onclick=\"quickchart('df-68b43d9b-8bf9-45d8-8152-1497a6606b57')\"\n",
              "            title=\"Suggest charts\"\n",
              "            style=\"display:none;\">\n",
              "\n",
              "<svg xmlns=\"http://www.w3.org/2000/svg\" height=\"24px\"viewBox=\"0 0 24 24\"\n",
              "     width=\"24px\">\n",
              "    <g>\n",
              "        <path d=\"M19 3H5c-1.1 0-2 .9-2 2v14c0 1.1.9 2 2 2h14c1.1 0 2-.9 2-2V5c0-1.1-.9-2-2-2zM9 17H7v-7h2v7zm4 0h-2V7h2v10zm4 0h-2v-4h2v4z\"/>\n",
              "    </g>\n",
              "</svg>\n",
              "  </button>\n",
              "\n",
              "<style>\n",
              "  .colab-df-quickchart {\n",
              "      --bg-color: #E8F0FE;\n",
              "      --fill-color: #1967D2;\n",
              "      --hover-bg-color: #E2EBFA;\n",
              "      --hover-fill-color: #174EA6;\n",
              "      --disabled-fill-color: #AAA;\n",
              "      --disabled-bg-color: #DDD;\n",
              "  }\n",
              "\n",
              "  [theme=dark] .colab-df-quickchart {\n",
              "      --bg-color: #3B4455;\n",
              "      --fill-color: #D2E3FC;\n",
              "      --hover-bg-color: #434B5C;\n",
              "      --hover-fill-color: #FFFFFF;\n",
              "      --disabled-bg-color: #3B4455;\n",
              "      --disabled-fill-color: #666;\n",
              "  }\n",
              "\n",
              "  .colab-df-quickchart {\n",
              "    background-color: var(--bg-color);\n",
              "    border: none;\n",
              "    border-radius: 50%;\n",
              "    cursor: pointer;\n",
              "    display: none;\n",
              "    fill: var(--fill-color);\n",
              "    height: 32px;\n",
              "    padding: 0;\n",
              "    width: 32px;\n",
              "  }\n",
              "\n",
              "  .colab-df-quickchart:hover {\n",
              "    background-color: var(--hover-bg-color);\n",
              "    box-shadow: 0 1px 2px rgba(60, 64, 67, 0.3), 0 1px 3px 1px rgba(60, 64, 67, 0.15);\n",
              "    fill: var(--button-hover-fill-color);\n",
              "  }\n",
              "\n",
              "  .colab-df-quickchart-complete:disabled,\n",
              "  .colab-df-quickchart-complete:disabled:hover {\n",
              "    background-color: var(--disabled-bg-color);\n",
              "    fill: var(--disabled-fill-color);\n",
              "    box-shadow: none;\n",
              "  }\n",
              "\n",
              "  .colab-df-spinner {\n",
              "    border: 2px solid var(--fill-color);\n",
              "    border-color: transparent;\n",
              "    border-bottom-color: var(--fill-color);\n",
              "    animation:\n",
              "      spin 1s steps(1) infinite;\n",
              "  }\n",
              "\n",
              "  @keyframes spin {\n",
              "    0% {\n",
              "      border-color: transparent;\n",
              "      border-bottom-color: var(--fill-color);\n",
              "      border-left-color: var(--fill-color);\n",
              "    }\n",
              "    20% {\n",
              "      border-color: transparent;\n",
              "      border-left-color: var(--fill-color);\n",
              "      border-top-color: var(--fill-color);\n",
              "    }\n",
              "    30% {\n",
              "      border-color: transparent;\n",
              "      border-left-color: var(--fill-color);\n",
              "      border-top-color: var(--fill-color);\n",
              "      border-right-color: var(--fill-color);\n",
              "    }\n",
              "    40% {\n",
              "      border-color: transparent;\n",
              "      border-right-color: var(--fill-color);\n",
              "      border-top-color: var(--fill-color);\n",
              "    }\n",
              "    60% {\n",
              "      border-color: transparent;\n",
              "      border-right-color: var(--fill-color);\n",
              "    }\n",
              "    80% {\n",
              "      border-color: transparent;\n",
              "      border-right-color: var(--fill-color);\n",
              "      border-bottom-color: var(--fill-color);\n",
              "    }\n",
              "    90% {\n",
              "      border-color: transparent;\n",
              "      border-bottom-color: var(--fill-color);\n",
              "    }\n",
              "  }\n",
              "</style>\n",
              "\n",
              "  <script>\n",
              "    async function quickchart(key) {\n",
              "      const quickchartButtonEl =\n",
              "        document.querySelector('#' + key + ' button');\n",
              "      quickchartButtonEl.disabled = true;  // To prevent multiple clicks.\n",
              "      quickchartButtonEl.classList.add('colab-df-spinner');\n",
              "      try {\n",
              "        const charts = await google.colab.kernel.invokeFunction(\n",
              "            'suggestCharts', [key], {});\n",
              "      } catch (error) {\n",
              "        console.error('Error during call to suggestCharts:', error);\n",
              "      }\n",
              "      quickchartButtonEl.classList.remove('colab-df-spinner');\n",
              "      quickchartButtonEl.classList.add('colab-df-quickchart-complete');\n",
              "    }\n",
              "    (() => {\n",
              "      let quickchartButtonEl =\n",
              "        document.querySelector('#df-68b43d9b-8bf9-45d8-8152-1497a6606b57 button');\n",
              "      quickchartButtonEl.style.display =\n",
              "        google.colab.kernel.accessAllowed ? 'block' : 'none';\n",
              "    })();\n",
              "  </script>\n",
              "</div>\n",
              "\n",
              "    </div>\n",
              "  </div>\n"
            ],
            "application/vnd.google.colaboratory.intrinsic+json": {
              "type": "dataframe",
              "repr_error": "0"
            }
          },
          "metadata": {},
          "execution_count": 73
        }
      ]
    },
    {
      "cell_type": "markdown",
      "source": [
        "###2.1.8 Putting all of this work together."
      ],
      "metadata": {
        "id": "fqTuN6RWGgVO"
      }
    },
    {
      "cell_type": "markdown",
      "source": [
        "Unexpected, we have a 12th column in one of the files. Easy fix"
      ],
      "metadata": {
        "id": "A4gQAy8IH5bb"
      }
    },
    {
      "cell_type": "code",
      "source": [
        "col_names.append('EXTRA_3')"
      ],
      "metadata": {
        "id": "eeCLCainGDyd"
      },
      "execution_count": null,
      "outputs": []
    },
    {
      "cell_type": "code",
      "source": [
        "directory = '/content/drive/MyDrive/Data Science Course/Capstone Work/Raw_Data/PinellasCrimeDATA_2024'\n",
        "list_of_dfs = [pd.read_csv(f'{directory}/{file}',names=col_names,skiprows=1) for file in os.listdir(directory)]\n",
        "crime_data = pd.concat(list_of_dfs,ignore_index=True)\n",
        "crime_data.info()"
      ],
      "metadata": {
        "colab": {
          "base_uri": "https://localhost:8080/"
        },
        "id": "aKNBniYhHE9g",
        "outputId": "5d9c70e9-f3d9-417d-c493-a82c60c48e93"
      },
      "execution_count": null,
      "outputs": [
        {
          "output_type": "stream",
          "name": "stdout",
          "text": [
            "<class 'pandas.core.frame.DataFrame'>\n",
            "RangeIndex: 186026 entries, 0 to 186025\n",
            "Data columns (total 12 columns):\n",
            " #   Column              Non-Null Count   Dtype  \n",
            "---  ------              --------------   -----  \n",
            " 0   AGENCY_ID           186026 non-null  object \n",
            " 1   REPORT_DATE         186026 non-null  object \n",
            " 2   OFFENSE_START_TIME  186026 non-null  object \n",
            " 3   REPORT_KEY          186026 non-null  object \n",
            " 4   REPORT_CODE         186026 non-null  object \n",
            " 5   CATEGORY            186026 non-null  object \n",
            " 6   BLOCK_ADDRESS       170583 non-null  object \n",
            " 7   CITY                185657 non-null  object \n",
            " 8   ZIP                 178494 non-null  object \n",
            " 9   EXTRA_1             327 non-null     object \n",
            " 10  EXTRA_2             80 non-null      object \n",
            " 11  EXTRA_3             1 non-null       float64\n",
            "dtypes: float64(1), object(11)\n",
            "memory usage: 17.0+ MB\n"
          ]
        }
      ]
    },
    {
      "cell_type": "markdown",
      "source": [
        "##2.2 Cleaning the dataframe"
      ],
      "metadata": {
        "id": "9FcNS2eCGAb8"
      }
    },
    {
      "cell_type": "markdown",
      "source": [
        "M goal is to make summary statistics.\n",
        "\n",
        "\n",
        "*   The total # of crimes for each city&zip combination\n",
        "*   The # of crimes for each city&zip combination out of the total # of crimes in the county(effectively a percentage)\n",
        "*   The # of crimes for each city\n",
        "*   The # of crimes for each zip\n",
        "\n",
        "More will be added as I make progress.\n",
        "\n"
      ],
      "metadata": {
        "id": "zzDmQRKAJhYH"
      }
    },
    {
      "cell_type": "markdown",
      "source": [
        "####Info from PINELLAS COUNTY SHERIFF's OFFICE\n",
        "Report_key"
      ],
      "metadata": {
        "id": "dbfpedwdal2f"
      }
    },
    {
      "cell_type": "code",
      "source": [
        "crime_data.info()\n",
        "crime_data.head().T"
      ],
      "metadata": {
        "colab": {
          "base_uri": "https://localhost:8080/"
        },
        "outputId": "b2d246d8-11f8-40f7-d077-fc9c67032305",
        "id": "q2mJ1GFMMHa3"
      },
      "execution_count": null,
      "outputs": [
        {
          "output_type": "stream",
          "name": "stdout",
          "text": [
            "<class 'pandas.core.frame.DataFrame'>\n",
            "RangeIndex: 186026 entries, 0 to 186025\n",
            "Data columns (total 12 columns):\n",
            " #   Column              Non-Null Count   Dtype  \n",
            "---  ------              --------------   -----  \n",
            " 0   AGENCY_ID           186026 non-null  object \n",
            " 1   REPORT_DATE         186026 non-null  object \n",
            " 2   OFFENSE_START_TIME  186026 non-null  object \n",
            " 3   REPORT_KEY          186026 non-null  object \n",
            " 4   REPORT_CODE         186026 non-null  object \n",
            " 5   CATEGORY            186026 non-null  object \n",
            " 6   BLOCK_ADDRESS       170583 non-null  object \n",
            " 7   CITY                185657 non-null  object \n",
            " 8   ZIP                 178494 non-null  object \n",
            " 9   EXTRA_1             327 non-null     object \n",
            " 10  EXTRA_2             80 non-null      object \n",
            " 11  EXTRA_3             1 non-null       float64\n",
            "dtypes: float64(1), object(11)\n",
            "memory usage: 17.0+ MB\n"
          ]
        },
        {
          "output_type": "execute_result",
          "data": {
            "text/plain": [
              "                                               0  \\\n",
              "AGENCY_ID                                Sheriff   \n",
              "REPORT_DATE                            5/16/2024   \n",
              "OFFENSE_START_TIME                    09:38:00PM   \n",
              "REPORT_KEY                           SO24-149603   \n",
              "REPORT_CODE                                  ABR   \n",
              "CATEGORY                      BURGLARY-RESIDENCE   \n",
              "BLOCK_ADDRESS       11100 Block of VALENCIA AVE    \n",
              "CITY                                    SEMINOLE   \n",
              "ZIP                                        33772   \n",
              "EXTRA_1                                      NaN   \n",
              "EXTRA_2                                      NaN   \n",
              "EXTRA_3                                      NaN   \n",
              "\n",
              "                                               1  \\\n",
              "AGENCY_ID                      Tarpon Springs PD   \n",
              "REPORT_DATE                            5/24/2024   \n",
              "OFFENSE_START_TIME                    10:39:00AM   \n",
              "REPORT_KEY                            TS24-16108   \n",
              "REPORT_CODE                                 LSAP   \n",
              "CATEGORY                        TRAFFIC ACCIDENT   \n",
              "BLOCK_ADDRESS       800 Block of ROOSEVELT BLVD    \n",
              "CITY                              TARPON SPRINGS   \n",
              "ZIP                                        34689   \n",
              "EXTRA_1                                      NaN   \n",
              "EXTRA_2                                      NaN   \n",
              "EXTRA_3                                      NaN   \n",
              "\n",
              "                                               2                            3  \\\n",
              "AGENCY_ID                                Sheriff                      Sheriff   \n",
              "REPORT_DATE                            5/24/2024                    5/24/2024   \n",
              "OFFENSE_START_TIME                    08:18:00AM                   06:08:00PM   \n",
              "REPORT_KEY                           SO24-159218                   CW24-76282   \n",
              "REPORT_CODE                                   PT                         TAWN   \n",
              "CATEGORY                             THEFT-PETIT                     TRESPASS   \n",
              "BLOCK_ADDRESS       500 Block of SHADY GROVE DR   1200 Block of MISSOURI AVE    \n",
              "CITY                                     DUNEDIN                          NaN   \n",
              "ZIP                                        34698                          NaN   \n",
              "EXTRA_1                                      NaN                          NaN   \n",
              "EXTRA_2                                      NaN                          NaN   \n",
              "EXTRA_3                                      NaN                          NaN   \n",
              "\n",
              "                                                 4  \n",
              "AGENCY_ID                            Clearwater PD  \n",
              "REPORT_DATE                              5/24/2024  \n",
              "OFFENSE_START_TIME                      11:00:00PM  \n",
              "REPORT_KEY                              CW24-76119  \n",
              "REPORT_CODE                                   BRGC  \n",
              "CATEGORY                          BURGLARY-VEHICLE  \n",
              "BLOCK_ADDRESS       1100 Block of SUNSET POINT RD   \n",
              "CITY                                    CLEARWATER  \n",
              "ZIP                                          33755  \n",
              "EXTRA_1                                        NaN  \n",
              "EXTRA_2                                        NaN  \n",
              "EXTRA_3                                        NaN  "
            ],
            "text/html": [
              "\n",
              "  <div id=\"df-e6250118-d4f3-4ef5-8700-c8c7aa94a99a\" class=\"colab-df-container\">\n",
              "    <div>\n",
              "<style scoped>\n",
              "    .dataframe tbody tr th:only-of-type {\n",
              "        vertical-align: middle;\n",
              "    }\n",
              "\n",
              "    .dataframe tbody tr th {\n",
              "        vertical-align: top;\n",
              "    }\n",
              "\n",
              "    .dataframe thead th {\n",
              "        text-align: right;\n",
              "    }\n",
              "</style>\n",
              "<table border=\"1\" class=\"dataframe\">\n",
              "  <thead>\n",
              "    <tr style=\"text-align: right;\">\n",
              "      <th></th>\n",
              "      <th>0</th>\n",
              "      <th>1</th>\n",
              "      <th>2</th>\n",
              "      <th>3</th>\n",
              "      <th>4</th>\n",
              "    </tr>\n",
              "  </thead>\n",
              "  <tbody>\n",
              "    <tr>\n",
              "      <th>AGENCY_ID</th>\n",
              "      <td>Sheriff</td>\n",
              "      <td>Tarpon Springs PD</td>\n",
              "      <td>Sheriff</td>\n",
              "      <td>Sheriff</td>\n",
              "      <td>Clearwater PD</td>\n",
              "    </tr>\n",
              "    <tr>\n",
              "      <th>REPORT_DATE</th>\n",
              "      <td>5/16/2024</td>\n",
              "      <td>5/24/2024</td>\n",
              "      <td>5/24/2024</td>\n",
              "      <td>5/24/2024</td>\n",
              "      <td>5/24/2024</td>\n",
              "    </tr>\n",
              "    <tr>\n",
              "      <th>OFFENSE_START_TIME</th>\n",
              "      <td>09:38:00PM</td>\n",
              "      <td>10:39:00AM</td>\n",
              "      <td>08:18:00AM</td>\n",
              "      <td>06:08:00PM</td>\n",
              "      <td>11:00:00PM</td>\n",
              "    </tr>\n",
              "    <tr>\n",
              "      <th>REPORT_KEY</th>\n",
              "      <td>SO24-149603</td>\n",
              "      <td>TS24-16108</td>\n",
              "      <td>SO24-159218</td>\n",
              "      <td>CW24-76282</td>\n",
              "      <td>CW24-76119</td>\n",
              "    </tr>\n",
              "    <tr>\n",
              "      <th>REPORT_CODE</th>\n",
              "      <td>ABR</td>\n",
              "      <td>LSAP</td>\n",
              "      <td>PT</td>\n",
              "      <td>TAWN</td>\n",
              "      <td>BRGC</td>\n",
              "    </tr>\n",
              "    <tr>\n",
              "      <th>CATEGORY</th>\n",
              "      <td>BURGLARY-RESIDENCE</td>\n",
              "      <td>TRAFFIC ACCIDENT</td>\n",
              "      <td>THEFT-PETIT</td>\n",
              "      <td>TRESPASS</td>\n",
              "      <td>BURGLARY-VEHICLE</td>\n",
              "    </tr>\n",
              "    <tr>\n",
              "      <th>BLOCK_ADDRESS</th>\n",
              "      <td>11100 Block of VALENCIA AVE</td>\n",
              "      <td>800 Block of ROOSEVELT BLVD</td>\n",
              "      <td>500 Block of SHADY GROVE DR</td>\n",
              "      <td>1200 Block of MISSOURI AVE</td>\n",
              "      <td>1100 Block of SUNSET POINT RD</td>\n",
              "    </tr>\n",
              "    <tr>\n",
              "      <th>CITY</th>\n",
              "      <td>SEMINOLE</td>\n",
              "      <td>TARPON SPRINGS</td>\n",
              "      <td>DUNEDIN</td>\n",
              "      <td>NaN</td>\n",
              "      <td>CLEARWATER</td>\n",
              "    </tr>\n",
              "    <tr>\n",
              "      <th>ZIP</th>\n",
              "      <td>33772</td>\n",
              "      <td>34689</td>\n",
              "      <td>34698</td>\n",
              "      <td>NaN</td>\n",
              "      <td>33755</td>\n",
              "    </tr>\n",
              "    <tr>\n",
              "      <th>EXTRA_1</th>\n",
              "      <td>NaN</td>\n",
              "      <td>NaN</td>\n",
              "      <td>NaN</td>\n",
              "      <td>NaN</td>\n",
              "      <td>NaN</td>\n",
              "    </tr>\n",
              "    <tr>\n",
              "      <th>EXTRA_2</th>\n",
              "      <td>NaN</td>\n",
              "      <td>NaN</td>\n",
              "      <td>NaN</td>\n",
              "      <td>NaN</td>\n",
              "      <td>NaN</td>\n",
              "    </tr>\n",
              "    <tr>\n",
              "      <th>EXTRA_3</th>\n",
              "      <td>NaN</td>\n",
              "      <td>NaN</td>\n",
              "      <td>NaN</td>\n",
              "      <td>NaN</td>\n",
              "      <td>NaN</td>\n",
              "    </tr>\n",
              "  </tbody>\n",
              "</table>\n",
              "</div>\n",
              "    <div class=\"colab-df-buttons\">\n",
              "\n",
              "  <div class=\"colab-df-container\">\n",
              "    <button class=\"colab-df-convert\" onclick=\"convertToInteractive('df-e6250118-d4f3-4ef5-8700-c8c7aa94a99a')\"\n",
              "            title=\"Convert this dataframe to an interactive table.\"\n",
              "            style=\"display:none;\">\n",
              "\n",
              "  <svg xmlns=\"http://www.w3.org/2000/svg\" height=\"24px\" viewBox=\"0 -960 960 960\">\n",
              "    <path d=\"M120-120v-720h720v720H120Zm60-500h600v-160H180v160Zm220 220h160v-160H400v160Zm0 220h160v-160H400v160ZM180-400h160v-160H180v160Zm440 0h160v-160H620v160ZM180-180h160v-160H180v160Zm440 0h160v-160H620v160Z\"/>\n",
              "  </svg>\n",
              "    </button>\n",
              "\n",
              "  <style>\n",
              "    .colab-df-container {\n",
              "      display:flex;\n",
              "      gap: 12px;\n",
              "    }\n",
              "\n",
              "    .colab-df-convert {\n",
              "      background-color: #E8F0FE;\n",
              "      border: none;\n",
              "      border-radius: 50%;\n",
              "      cursor: pointer;\n",
              "      display: none;\n",
              "      fill: #1967D2;\n",
              "      height: 32px;\n",
              "      padding: 0 0 0 0;\n",
              "      width: 32px;\n",
              "    }\n",
              "\n",
              "    .colab-df-convert:hover {\n",
              "      background-color: #E2EBFA;\n",
              "      box-shadow: 0px 1px 2px rgba(60, 64, 67, 0.3), 0px 1px 3px 1px rgba(60, 64, 67, 0.15);\n",
              "      fill: #174EA6;\n",
              "    }\n",
              "\n",
              "    .colab-df-buttons div {\n",
              "      margin-bottom: 4px;\n",
              "    }\n",
              "\n",
              "    [theme=dark] .colab-df-convert {\n",
              "      background-color: #3B4455;\n",
              "      fill: #D2E3FC;\n",
              "    }\n",
              "\n",
              "    [theme=dark] .colab-df-convert:hover {\n",
              "      background-color: #434B5C;\n",
              "      box-shadow: 0px 1px 3px 1px rgba(0, 0, 0, 0.15);\n",
              "      filter: drop-shadow(0px 1px 2px rgba(0, 0, 0, 0.3));\n",
              "      fill: #FFFFFF;\n",
              "    }\n",
              "  </style>\n",
              "\n",
              "    <script>\n",
              "      const buttonEl =\n",
              "        document.querySelector('#df-e6250118-d4f3-4ef5-8700-c8c7aa94a99a button.colab-df-convert');\n",
              "      buttonEl.style.display =\n",
              "        google.colab.kernel.accessAllowed ? 'block' : 'none';\n",
              "\n",
              "      async function convertToInteractive(key) {\n",
              "        const element = document.querySelector('#df-e6250118-d4f3-4ef5-8700-c8c7aa94a99a');\n",
              "        const dataTable =\n",
              "          await google.colab.kernel.invokeFunction('convertToInteractive',\n",
              "                                                    [key], {});\n",
              "        if (!dataTable) return;\n",
              "\n",
              "        const docLinkHtml = 'Like what you see? Visit the ' +\n",
              "          '<a target=\"_blank\" href=https://colab.research.google.com/notebooks/data_table.ipynb>data table notebook</a>'\n",
              "          + ' to learn more about interactive tables.';\n",
              "        element.innerHTML = '';\n",
              "        dataTable['output_type'] = 'display_data';\n",
              "        await google.colab.output.renderOutput(dataTable, element);\n",
              "        const docLink = document.createElement('div');\n",
              "        docLink.innerHTML = docLinkHtml;\n",
              "        element.appendChild(docLink);\n",
              "      }\n",
              "    </script>\n",
              "  </div>\n",
              "\n",
              "\n",
              "<div id=\"df-cc8cfc7f-f913-403f-ba15-3d1ba2cbbff5\">\n",
              "  <button class=\"colab-df-quickchart\" onclick=\"quickchart('df-cc8cfc7f-f913-403f-ba15-3d1ba2cbbff5')\"\n",
              "            title=\"Suggest charts\"\n",
              "            style=\"display:none;\">\n",
              "\n",
              "<svg xmlns=\"http://www.w3.org/2000/svg\" height=\"24px\"viewBox=\"0 0 24 24\"\n",
              "     width=\"24px\">\n",
              "    <g>\n",
              "        <path d=\"M19 3H5c-1.1 0-2 .9-2 2v14c0 1.1.9 2 2 2h14c1.1 0 2-.9 2-2V5c0-1.1-.9-2-2-2zM9 17H7v-7h2v7zm4 0h-2V7h2v10zm4 0h-2v-4h2v4z\"/>\n",
              "    </g>\n",
              "</svg>\n",
              "  </button>\n",
              "\n",
              "<style>\n",
              "  .colab-df-quickchart {\n",
              "      --bg-color: #E8F0FE;\n",
              "      --fill-color: #1967D2;\n",
              "      --hover-bg-color: #E2EBFA;\n",
              "      --hover-fill-color: #174EA6;\n",
              "      --disabled-fill-color: #AAA;\n",
              "      --disabled-bg-color: #DDD;\n",
              "  }\n",
              "\n",
              "  [theme=dark] .colab-df-quickchart {\n",
              "      --bg-color: #3B4455;\n",
              "      --fill-color: #D2E3FC;\n",
              "      --hover-bg-color: #434B5C;\n",
              "      --hover-fill-color: #FFFFFF;\n",
              "      --disabled-bg-color: #3B4455;\n",
              "      --disabled-fill-color: #666;\n",
              "  }\n",
              "\n",
              "  .colab-df-quickchart {\n",
              "    background-color: var(--bg-color);\n",
              "    border: none;\n",
              "    border-radius: 50%;\n",
              "    cursor: pointer;\n",
              "    display: none;\n",
              "    fill: var(--fill-color);\n",
              "    height: 32px;\n",
              "    padding: 0;\n",
              "    width: 32px;\n",
              "  }\n",
              "\n",
              "  .colab-df-quickchart:hover {\n",
              "    background-color: var(--hover-bg-color);\n",
              "    box-shadow: 0 1px 2px rgba(60, 64, 67, 0.3), 0 1px 3px 1px rgba(60, 64, 67, 0.15);\n",
              "    fill: var(--button-hover-fill-color);\n",
              "  }\n",
              "\n",
              "  .colab-df-quickchart-complete:disabled,\n",
              "  .colab-df-quickchart-complete:disabled:hover {\n",
              "    background-color: var(--disabled-bg-color);\n",
              "    fill: var(--disabled-fill-color);\n",
              "    box-shadow: none;\n",
              "  }\n",
              "\n",
              "  .colab-df-spinner {\n",
              "    border: 2px solid var(--fill-color);\n",
              "    border-color: transparent;\n",
              "    border-bottom-color: var(--fill-color);\n",
              "    animation:\n",
              "      spin 1s steps(1) infinite;\n",
              "  }\n",
              "\n",
              "  @keyframes spin {\n",
              "    0% {\n",
              "      border-color: transparent;\n",
              "      border-bottom-color: var(--fill-color);\n",
              "      border-left-color: var(--fill-color);\n",
              "    }\n",
              "    20% {\n",
              "      border-color: transparent;\n",
              "      border-left-color: var(--fill-color);\n",
              "      border-top-color: var(--fill-color);\n",
              "    }\n",
              "    30% {\n",
              "      border-color: transparent;\n",
              "      border-left-color: var(--fill-color);\n",
              "      border-top-color: var(--fill-color);\n",
              "      border-right-color: var(--fill-color);\n",
              "    }\n",
              "    40% {\n",
              "      border-color: transparent;\n",
              "      border-right-color: var(--fill-color);\n",
              "      border-top-color: var(--fill-color);\n",
              "    }\n",
              "    60% {\n",
              "      border-color: transparent;\n",
              "      border-right-color: var(--fill-color);\n",
              "    }\n",
              "    80% {\n",
              "      border-color: transparent;\n",
              "      border-right-color: var(--fill-color);\n",
              "      border-bottom-color: var(--fill-color);\n",
              "    }\n",
              "    90% {\n",
              "      border-color: transparent;\n",
              "      border-bottom-color: var(--fill-color);\n",
              "    }\n",
              "  }\n",
              "</style>\n",
              "\n",
              "  <script>\n",
              "    async function quickchart(key) {\n",
              "      const quickchartButtonEl =\n",
              "        document.querySelector('#' + key + ' button');\n",
              "      quickchartButtonEl.disabled = true;  // To prevent multiple clicks.\n",
              "      quickchartButtonEl.classList.add('colab-df-spinner');\n",
              "      try {\n",
              "        const charts = await google.colab.kernel.invokeFunction(\n",
              "            'suggestCharts', [key], {});\n",
              "      } catch (error) {\n",
              "        console.error('Error during call to suggestCharts:', error);\n",
              "      }\n",
              "      quickchartButtonEl.classList.remove('colab-df-spinner');\n",
              "      quickchartButtonEl.classList.add('colab-df-quickchart-complete');\n",
              "    }\n",
              "    (() => {\n",
              "      let quickchartButtonEl =\n",
              "        document.querySelector('#df-cc8cfc7f-f913-403f-ba15-3d1ba2cbbff5 button');\n",
              "      quickchartButtonEl.style.display =\n",
              "        google.colab.kernel.accessAllowed ? 'block' : 'none';\n",
              "    })();\n",
              "  </script>\n",
              "</div>\n",
              "\n",
              "    </div>\n",
              "  </div>\n"
            ],
            "application/vnd.google.colaboratory.intrinsic+json": {
              "type": "dataframe",
              "variable_name": "crime_data"
            }
          },
          "metadata": {},
          "execution_count": 76
        }
      ]
    },
    {
      "cell_type": "markdown",
      "source": [
        "First thought on cleaning the dataframe is to convert some datatypes.\n",
        "\n",
        "CATEGORY obviously should be a category datatype.\n",
        "\n",
        "I think REPORT_KEY might be a unique identifier column.\n",
        "\n",
        "REPORT_DATE and OFFENSE_START_TIME should be datetime types.\n",
        "\n",
        "AGENCY ID could be a category datatype.\n",
        "\n",
        "ZIP should be a float/int but is an object because some CITY names are probably listed there as well\n"
      ],
      "metadata": {
        "id": "2mzG40P2NmBG"
      }
    },
    {
      "cell_type": "markdown",
      "source": [
        "####CATEGORY column"
      ],
      "metadata": {
        "id": "t0fMGNtiWDt6"
      }
    },
    {
      "cell_type": "code",
      "source": [
        "crime_data['CATEGORY'].value_counts()"
      ],
      "metadata": {
        "colab": {
          "base_uri": "https://localhost:8080/"
        },
        "id": "7Sfjrjz4WDZX",
        "outputId": "219542a6-c01d-48e6-cfdc-ba8692625a83"
      },
      "execution_count": null,
      "outputs": [
        {
          "output_type": "execute_result",
          "data": {
            "text/plain": [
              "CATEGORY\n",
              "THEFT-PETIT             35957\n",
              "BURGLARY-VEHICLE        21462\n",
              "BATTERY                 20757\n",
              "THEFT-GRAND             18967\n",
              "THEFT-SHOPLIFTING       15079\n",
              "TRESPASS                10520\n",
              "ASSAULT                  9739\n",
              "BURGLARY-RESIDENCE       9406\n",
              "STOLEN VEHICLE           8611\n",
              "MISSING PERSON           6154\n",
              "TRAFFIC ACCIDENT         5274\n",
              "BURGLARY-STRUCTURE       3559\n",
              "BATTERY                  3141\n",
              "BATTERY-SEXUAL           2704\n",
              "WEAPON                   2427\n",
              "BATTERY-AGGRAVATED       2244\n",
              "BURGLARY-BUSINESS        2161\n",
              "VANDAL/CRIM MISCH        2036\n",
              "ROBBERY-UNARMED          1834\n",
              "STOLEN VEHICLE - REC     1255\n",
              "ALARM                    1143\n",
              "ROBBERY-ARMED             681\n",
              "ARSON                     314\n",
              "HOMICIDE                  211\n",
              "THEFT-PURSE SNATCH        153\n",
              "ROBBERY-HOME INVADE       100\n",
              "ROBBERY-CARJACKING         75\n",
              "KIDNAP/FALSE IMP           62\n",
              "Name: count, dtype: int64"
            ],
            "text/html": [
              "<div>\n",
              "<style scoped>\n",
              "    .dataframe tbody tr th:only-of-type {\n",
              "        vertical-align: middle;\n",
              "    }\n",
              "\n",
              "    .dataframe tbody tr th {\n",
              "        vertical-align: top;\n",
              "    }\n",
              "\n",
              "    .dataframe thead th {\n",
              "        text-align: right;\n",
              "    }\n",
              "</style>\n",
              "<table border=\"1\" class=\"dataframe\">\n",
              "  <thead>\n",
              "    <tr style=\"text-align: right;\">\n",
              "      <th></th>\n",
              "      <th>count</th>\n",
              "    </tr>\n",
              "    <tr>\n",
              "      <th>CATEGORY</th>\n",
              "      <th></th>\n",
              "    </tr>\n",
              "  </thead>\n",
              "  <tbody>\n",
              "    <tr>\n",
              "      <th>THEFT-PETIT</th>\n",
              "      <td>35957</td>\n",
              "    </tr>\n",
              "    <tr>\n",
              "      <th>BURGLARY-VEHICLE</th>\n",
              "      <td>21462</td>\n",
              "    </tr>\n",
              "    <tr>\n",
              "      <th>BATTERY</th>\n",
              "      <td>20757</td>\n",
              "    </tr>\n",
              "    <tr>\n",
              "      <th>THEFT-GRAND</th>\n",
              "      <td>18967</td>\n",
              "    </tr>\n",
              "    <tr>\n",
              "      <th>THEFT-SHOPLIFTING</th>\n",
              "      <td>15079</td>\n",
              "    </tr>\n",
              "    <tr>\n",
              "      <th>TRESPASS</th>\n",
              "      <td>10520</td>\n",
              "    </tr>\n",
              "    <tr>\n",
              "      <th>ASSAULT</th>\n",
              "      <td>9739</td>\n",
              "    </tr>\n",
              "    <tr>\n",
              "      <th>BURGLARY-RESIDENCE</th>\n",
              "      <td>9406</td>\n",
              "    </tr>\n",
              "    <tr>\n",
              "      <th>STOLEN VEHICLE</th>\n",
              "      <td>8611</td>\n",
              "    </tr>\n",
              "    <tr>\n",
              "      <th>MISSING PERSON</th>\n",
              "      <td>6154</td>\n",
              "    </tr>\n",
              "    <tr>\n",
              "      <th>TRAFFIC ACCIDENT</th>\n",
              "      <td>5274</td>\n",
              "    </tr>\n",
              "    <tr>\n",
              "      <th>BURGLARY-STRUCTURE</th>\n",
              "      <td>3559</td>\n",
              "    </tr>\n",
              "    <tr>\n",
              "      <th>BATTERY</th>\n",
              "      <td>3141</td>\n",
              "    </tr>\n",
              "    <tr>\n",
              "      <th>BATTERY-SEXUAL</th>\n",
              "      <td>2704</td>\n",
              "    </tr>\n",
              "    <tr>\n",
              "      <th>WEAPON</th>\n",
              "      <td>2427</td>\n",
              "    </tr>\n",
              "    <tr>\n",
              "      <th>BATTERY-AGGRAVATED</th>\n",
              "      <td>2244</td>\n",
              "    </tr>\n",
              "    <tr>\n",
              "      <th>BURGLARY-BUSINESS</th>\n",
              "      <td>2161</td>\n",
              "    </tr>\n",
              "    <tr>\n",
              "      <th>VANDAL/CRIM MISCH</th>\n",
              "      <td>2036</td>\n",
              "    </tr>\n",
              "    <tr>\n",
              "      <th>ROBBERY-UNARMED</th>\n",
              "      <td>1834</td>\n",
              "    </tr>\n",
              "    <tr>\n",
              "      <th>STOLEN VEHICLE - REC</th>\n",
              "      <td>1255</td>\n",
              "    </tr>\n",
              "    <tr>\n",
              "      <th>ALARM</th>\n",
              "      <td>1143</td>\n",
              "    </tr>\n",
              "    <tr>\n",
              "      <th>ROBBERY-ARMED</th>\n",
              "      <td>681</td>\n",
              "    </tr>\n",
              "    <tr>\n",
              "      <th>ARSON</th>\n",
              "      <td>314</td>\n",
              "    </tr>\n",
              "    <tr>\n",
              "      <th>HOMICIDE</th>\n",
              "      <td>211</td>\n",
              "    </tr>\n",
              "    <tr>\n",
              "      <th>THEFT-PURSE SNATCH</th>\n",
              "      <td>153</td>\n",
              "    </tr>\n",
              "    <tr>\n",
              "      <th>ROBBERY-HOME INVADE</th>\n",
              "      <td>100</td>\n",
              "    </tr>\n",
              "    <tr>\n",
              "      <th>ROBBERY-CARJACKING</th>\n",
              "      <td>75</td>\n",
              "    </tr>\n",
              "    <tr>\n",
              "      <th>KIDNAP/FALSE IMP</th>\n",
              "      <td>62</td>\n",
              "    </tr>\n",
              "  </tbody>\n",
              "</table>\n",
              "</div><br><label><b>dtype:</b> int64</label>"
            ]
          },
          "metadata": {},
          "execution_count": 77
        }
      ]
    },
    {
      "cell_type": "markdown",
      "source": [
        "CATEGORY has no null values. I might want to reduce the number of categories. Maybe to [THEFTS, BURGLARY, ROBBERY, BATTERY/ASSAULT, etc.] I will see if I can get more clarification as to how to group these.\n",
        "\n",
        "I will turn change the datatype."
      ],
      "metadata": {
        "id": "i66awysoWto_"
      }
    },
    {
      "cell_type": "code",
      "source": [
        "crime_data['CATEGORY'] = crime_data['CATEGORY'].astype('category')"
      ],
      "metadata": {
        "id": "tE9A3QQxYIlh"
      },
      "execution_count": null,
      "outputs": []
    },
    {
      "cell_type": "markdown",
      "source": [
        "###REPORT_KEY, REPORT_DATE and OFFENSE_START_TIME\n",
        "\n"
      ],
      "metadata": {
        "id": "u9PDxA5BYMYD"
      }
    },
    {
      "cell_type": "code",
      "source": [
        "print(\"Number of unique 'REPORT_KEY's: \",crime_data['REPORT_KEY'].nunique())\n",
        "crime_data['REPORT_KEY'].value_counts().head(10)"
      ],
      "metadata": {
        "colab": {
          "base_uri": "https://localhost:8080/"
        },
        "id": "uMkdO5JPYhUf",
        "outputId": "d805aa5e-6fc0-43c0-fe87-7cf3104edb9d"
      },
      "execution_count": null,
      "outputs": [
        {
          "output_type": "stream",
          "name": "stdout",
          "text": [
            "Number of unique 'REPORT_KEY's:  168025\n"
          ]
        },
        {
          "output_type": "execute_result",
          "data": {
            "text/plain": [
              "REPORT_KEY\n",
              "20000273    18\n",
              "19012916    10\n",
              "20000179    10\n",
              "20000014    10\n",
              "19012878    10\n",
              "20000006    10\n",
              "19012796    10\n",
              "19012799    10\n",
              "20000025    10\n",
              "20000161    10\n",
              "Name: count, dtype: int64"
            ],
            "text/html": [
              "<div>\n",
              "<style scoped>\n",
              "    .dataframe tbody tr th:only-of-type {\n",
              "        vertical-align: middle;\n",
              "    }\n",
              "\n",
              "    .dataframe tbody tr th {\n",
              "        vertical-align: top;\n",
              "    }\n",
              "\n",
              "    .dataframe thead th {\n",
              "        text-align: right;\n",
              "    }\n",
              "</style>\n",
              "<table border=\"1\" class=\"dataframe\">\n",
              "  <thead>\n",
              "    <tr style=\"text-align: right;\">\n",
              "      <th></th>\n",
              "      <th>count</th>\n",
              "    </tr>\n",
              "    <tr>\n",
              "      <th>REPORT_KEY</th>\n",
              "      <th></th>\n",
              "    </tr>\n",
              "  </thead>\n",
              "  <tbody>\n",
              "    <tr>\n",
              "      <th>20000273</th>\n",
              "      <td>18</td>\n",
              "    </tr>\n",
              "    <tr>\n",
              "      <th>19012916</th>\n",
              "      <td>10</td>\n",
              "    </tr>\n",
              "    <tr>\n",
              "      <th>20000179</th>\n",
              "      <td>10</td>\n",
              "    </tr>\n",
              "    <tr>\n",
              "      <th>20000014</th>\n",
              "      <td>10</td>\n",
              "    </tr>\n",
              "    <tr>\n",
              "      <th>19012878</th>\n",
              "      <td>10</td>\n",
              "    </tr>\n",
              "    <tr>\n",
              "      <th>20000006</th>\n",
              "      <td>10</td>\n",
              "    </tr>\n",
              "    <tr>\n",
              "      <th>19012796</th>\n",
              "      <td>10</td>\n",
              "    </tr>\n",
              "    <tr>\n",
              "      <th>19012799</th>\n",
              "      <td>10</td>\n",
              "    </tr>\n",
              "    <tr>\n",
              "      <th>20000025</th>\n",
              "      <td>10</td>\n",
              "    </tr>\n",
              "    <tr>\n",
              "      <th>20000161</th>\n",
              "      <td>10</td>\n",
              "    </tr>\n",
              "  </tbody>\n",
              "</table>\n",
              "</div><br><label><b>dtype:</b> int64</label>"
            ]
          },
          "metadata": {},
          "execution_count": 79
        }
      ]
    },
    {
      "cell_type": "code",
      "source": [
        "plt.hist(crime_data['REPORT_KEY'].value_counts().values,bins=19)\n",
        "plt.xlabel(\"Frequency of a Report Key's Use \")\n",
        "plt.ylabel('Number of Unique Report Keys')\n",
        "plt.show()"
      ],
      "metadata": {
        "colab": {
          "base_uri": "https://localhost:8080/"
        },
        "id": "T6gUj7djuH1C",
        "outputId": "b33e387b-f5a6-4a49-e4c9-82cd3921ee1b"
      },
      "execution_count": null,
      "outputs": [
        {
          "output_type": "display_data",
          "data": {
            "text/plain": [
              "<Figure size 640x480 with 1 Axes>"
            ],
            "image/png": "[encoded data removed]"
          },
          "metadata": {}
        }
      ]
    },
    {
      "cell_type": "code",
      "source": [
        "crime_data[crime_data['REPORT_KEY']=='20000006']"
      ],
      "metadata": {
        "colab": {
          "base_uri": "https://localhost:8080/"
        },
        "id": "opgoCoVnMtDy",
        "outputId": "f13b85d0-1237-472b-bb22-608e8f39f06d"
      },
      "execution_count": null,
      "outputs": [
        {
          "output_type": "execute_result",
          "data": {
            "text/plain": [
              "      AGENCY_ID REPORT_DATE OFFENSE_START_TIME REPORT_KEY REPORT_CODE  \\\n",
              "81694  Largo PD  12/31/2019        03:47:00 AM   20000006        0690   \n",
              "81756  Largo PD  12/31/2019        03:47:00 AM   20000006        0690   \n",
              "81763  Largo PD  12/31/2019        03:47:00 AM   20000006        0690   \n",
              "81764  Largo PD  12/31/2019        03:47:00 AM   20000006        0690   \n",
              "81965  Largo PD  12/31/2019        03:47:00 AM   20000006        0690   \n",
              "81988  Largo PD  12/31/2019        03:47:00 AM   20000006        0690   \n",
              "82003  Largo PD  12/31/2019        03:47:00 AM   20000006        0690   \n",
              "82211  Largo PD  12/31/2019        03:47:00 AM   20000006        0690   \n",
              "82239  Largo PD  12/31/2019        03:47:00 AM   20000006        0690   \n",
              "82392  Largo PD  12/31/2019         03:47:00AM   20000006        0810   \n",
              "\n",
              "          CATEGORY               BLOCK_ADDRESS   CITY      ZIP EXTRA_1  \\\n",
              "81694  THEFT-PETIT                         NaN  LARGO  33771.0     NaN   \n",
              "81756  THEFT-PETIT                         NaN  LARGO  33771.0     NaN   \n",
              "81763  THEFT-PETIT                         NaN  LARGO  33771.0     NaN   \n",
              "81764  THEFT-PETIT                         NaN  LARGO  33771.0     NaN   \n",
              "81965  THEFT-PETIT                         NaN  LARGO  33771.0     NaN   \n",
              "81988  THEFT-PETIT                         NaN  LARGO  33771.0     NaN   \n",
              "82003  THEFT-PETIT                         NaN  LARGO  33771.0     NaN   \n",
              "82211  THEFT-PETIT                         NaN  LARGO  33771.0     NaN   \n",
              "82239  THEFT-PETIT                         NaN  LARGO  33771.0     NaN   \n",
              "82392      ASSAULT  2200 Block of EAST BAY DR   LARGO  33771.0     NaN   \n",
              "\n",
              "      EXTRA_2  EXTRA_3  \n",
              "81694     NaN      NaN  \n",
              "81756     NaN      NaN  \n",
              "81763     NaN      NaN  \n",
              "81764     NaN      NaN  \n",
              "81965     NaN      NaN  \n",
              "81988     NaN      NaN  \n",
              "82003     NaN      NaN  \n",
              "82211     NaN      NaN  \n",
              "82239     NaN      NaN  \n",
              "82392     NaN      NaN  "
            ],
            "text/html": [
              "\n",
              "  <div id=\"df-4b95c44b-a003-4cdf-9508-d2129b2a077c\" class=\"colab-df-container\">\n",
              "    <div>\n",
              "<style scoped>\n",
              "    .dataframe tbody tr th:only-of-type {\n",
              "        vertical-align: middle;\n",
              "    }\n",
              "\n",
              "    .dataframe tbody tr th {\n",
              "        vertical-align: top;\n",
              "    }\n",
              "\n",
              "    .dataframe thead th {\n",
              "        text-align: right;\n",
              "    }\n",
              "</style>\n",
              "<table border=\"1\" class=\"dataframe\">\n",
              "  <thead>\n",
              "    <tr style=\"text-align: right;\">\n",
              "      <th></th>\n",
              "      <th>AGENCY_ID</th>\n",
              "      <th>REPORT_DATE</th>\n",
              "      <th>OFFENSE_START_TIME</th>\n",
              "      <th>REPORT_KEY</th>\n",
              "      <th>REPORT_CODE</th>\n",
              "      <th>CATEGORY</th>\n",
              "      <th>BLOCK_ADDRESS</th>\n",
              "      <th>CITY</th>\n",
              "      <th>ZIP</th>\n",
              "      <th>EXTRA_1</th>\n",
              "      <th>EXTRA_2</th>\n",
              "      <th>EXTRA_3</th>\n",
              "    </tr>\n",
              "  </thead>\n",
              "  <tbody>\n",
              "    <tr>\n",
              "      <th>81694</th>\n",
              "      <td>Largo PD</td>\n",
              "      <td>12/31/2019</td>\n",
              "      <td>03:47:00 AM</td>\n",
              "      <td>20000006</td>\n",
              "      <td>0690</td>\n",
              "      <td>THEFT-PETIT</td>\n",
              "      <td>NaN</td>\n",
              "      <td>LARGO</td>\n",
              "      <td>33771.0</td>\n",
              "      <td>NaN</td>\n",
              "      <td>NaN</td>\n",
              "      <td>NaN</td>\n",
              "    </tr>\n",
              "    <tr>\n",
              "      <th>81756</th>\n",
              "      <td>Largo PD</td>\n",
              "      <td>12/31/2019</td>\n",
              "      <td>03:47:00 AM</td>\n",
              "      <td>20000006</td>\n",
              "      <td>0690</td>\n",
              "      <td>THEFT-PETIT</td>\n",
              "      <td>NaN</td>\n",
              "      <td>LARGO</td>\n",
              "      <td>33771.0</td>\n",
              "      <td>NaN</td>\n",
              "      <td>NaN</td>\n",
              "      <td>NaN</td>\n",
              "    </tr>\n",
              "    <tr>\n",
              "      <th>81763</th>\n",
              "      <td>Largo PD</td>\n",
              "      <td>12/31/2019</td>\n",
              "      <td>03:47:00 AM</td>\n",
              "      <td>20000006</td>\n",
              "      <td>0690</td>\n",
              "      <td>THEFT-PETIT</td>\n",
              "      <td>NaN</td>\n",
              "      <td>LARGO</td>\n",
              "      <td>33771.0</td>\n",
              "      <td>NaN</td>\n",
              "      <td>NaN</td>\n",
              "      <td>NaN</td>\n",
              "    </tr>\n",
              "    <tr>\n",
              "      <th>81764</th>\n",
              "      <td>Largo PD</td>\n",
              "      <td>12/31/2019</td>\n",
              "      <td>03:47:00 AM</td>\n",
              "      <td>20000006</td>\n",
              "      <td>0690</td>\n",
              "      <td>THEFT-PETIT</td>\n",
              "      <td>NaN</td>\n",
              "      <td>LARGO</td>\n",
              "      <td>33771.0</td>\n",
              "      <td>NaN</td>\n",
              "      <td>NaN</td>\n",
              "      <td>NaN</td>\n",
              "    </tr>\n",
              "    <tr>\n",
              "      <th>81965</th>\n",
              "      <td>Largo PD</td>\n",
              "      <td>12/31/2019</td>\n",
              "      <td>03:47:00 AM</td>\n",
              "      <td>20000006</td>\n",
              "      <td>0690</td>\n",
              "      <td>THEFT-PETIT</td>\n",
              "      <td>NaN</td>\n",
              "      <td>LARGO</td>\n",
              "      <td>33771.0</td>\n",
              "      <td>NaN</td>\n",
              "      <td>NaN</td>\n",
              "      <td>NaN</td>\n",
              "    </tr>\n",
              "    <tr>\n",
              "      <th>81988</th>\n",
              "      <td>Largo PD</td>\n",
              "      <td>12/31/2019</td>\n",
              "      <td>03:47:00 AM</td>\n",
              "      <td>20000006</td>\n",
              "      <td>0690</td>\n",
              "      <td>THEFT-PETIT</td>\n",
              "      <td>NaN</td>\n",
              "      <td>LARGO</td>\n",
              "      <td>33771.0</td>\n",
              "      <td>NaN</td>\n",
              "      <td>NaN</td>\n",
              "      <td>NaN</td>\n",
              "    </tr>\n",
              "    <tr>\n",
              "      <th>82003</th>\n",
              "      <td>Largo PD</td>\n",
              "      <td>12/31/2019</td>\n",
              "      <td>03:47:00 AM</td>\n",
              "      <td>20000006</td>\n",
              "      <td>0690</td>\n",
              "      <td>THEFT-PETIT</td>\n",
              "      <td>NaN</td>\n",
              "      <td>LARGO</td>\n",
              "      <td>33771.0</td>\n",
              "      <td>NaN</td>\n",
              "      <td>NaN</td>\n",
              "      <td>NaN</td>\n",
              "    </tr>\n",
              "    <tr>\n",
              "      <th>82211</th>\n",
              "      <td>Largo PD</td>\n",
              "      <td>12/31/2019</td>\n",
              "      <td>03:47:00 AM</td>\n",
              "      <td>20000006</td>\n",
              "      <td>0690</td>\n",
              "      <td>THEFT-PETIT</td>\n",
              "      <td>NaN</td>\n",
              "      <td>LARGO</td>\n",
              "      <td>33771.0</td>\n",
              "      <td>NaN</td>\n",
              "      <td>NaN</td>\n",
              "      <td>NaN</td>\n",
              "    </tr>\n",
              "    <tr>\n",
              "      <th>82239</th>\n",
              "      <td>Largo PD</td>\n",
              "      <td>12/31/2019</td>\n",
              "      <td>03:47:00 AM</td>\n",
              "      <td>20000006</td>\n",
              "      <td>0690</td>\n",
              "      <td>THEFT-PETIT</td>\n",
              "      <td>NaN</td>\n",
              "      <td>LARGO</td>\n",
              "      <td>33771.0</td>\n",
              "      <td>NaN</td>\n",
              "      <td>NaN</td>\n",
              "      <td>NaN</td>\n",
              "    </tr>\n",
              "    <tr>\n",
              "      <th>82392</th>\n",
              "      <td>Largo PD</td>\n",
              "      <td>12/31/2019</td>\n",
              "      <td>03:47:00AM</td>\n",
              "      <td>20000006</td>\n",
              "      <td>0810</td>\n",
              "      <td>ASSAULT</td>\n",
              "      <td>2200 Block of EAST BAY DR</td>\n",
              "      <td>LARGO</td>\n",
              "      <td>33771.0</td>\n",
              "      <td>NaN</td>\n",
              "      <td>NaN</td>\n",
              "      <td>NaN</td>\n",
              "    </tr>\n",
              "  </tbody>\n",
              "</table>\n",
              "</div>\n",
              "    <div class=\"colab-df-buttons\">\n",
              "\n",
              "  <div class=\"colab-df-container\">\n",
              "    <button class=\"colab-df-convert\" onclick=\"convertToInteractive('df-4b95c44b-a003-4cdf-9508-d2129b2a077c')\"\n",
              "            title=\"Convert this dataframe to an interactive table.\"\n",
              "            style=\"display:none;\">\n",
              "\n",
              "  <svg xmlns=\"http://www.w3.org/2000/svg\" height=\"24px\" viewBox=\"0 -960 960 960\">\n",
              "    <path d=\"M120-120v-720h720v720H120Zm60-500h600v-160H180v160Zm220 220h160v-160H400v160Zm0 220h160v-160H400v160ZM180-400h160v-160H180v160Zm440 0h160v-160H620v160ZM180-180h160v-160H180v160Zm440 0h160v-160H620v160Z\"/>\n",
              "  </svg>\n",
              "    </button>\n",
              "\n",
              "  <style>\n",
              "    .colab-df-container {\n",
              "      display:flex;\n",
              "      gap: 12px;\n",
              "    }\n",
              "\n",
              "    .colab-df-convert {\n",
              "      background-color: #E8F0FE;\n",
              "      border: none;\n",
              "      border-radius: 50%;\n",
              "      cursor: pointer;\n",
              "      display: none;\n",
              "      fill: #1967D2;\n",
              "      height: 32px;\n",
              "      padding: 0 0 0 0;\n",
              "      width: 32px;\n",
              "    }\n",
              "\n",
              "    .colab-df-convert:hover {\n",
              "      background-color: #E2EBFA;\n",
              "      box-shadow: 0px 1px 2px rgba(60, 64, 67, 0.3), 0px 1px 3px 1px rgba(60, 64, 67, 0.15);\n",
              "      fill: #174EA6;\n",
              "    }\n",
              "\n",
              "    .colab-df-buttons div {\n",
              "      margin-bottom: 4px;\n",
              "    }\n",
              "\n",
              "    [theme=dark] .colab-df-convert {\n",
              "      background-color: #3B4455;\n",
              "      fill: #D2E3FC;\n",
              "    }\n",
              "\n",
              "    [theme=dark] .colab-df-convert:hover {\n",
              "      background-color: #434B5C;\n",
              "      box-shadow: 0px 1px 3px 1px rgba(0, 0, 0, 0.15);\n",
              "      filter: drop-shadow(0px 1px 2px rgba(0, 0, 0, 0.3));\n",
              "      fill: #FFFFFF;\n",
              "    }\n",
              "  </style>\n",
              "\n",
              "    <script>\n",
              "      const buttonEl =\n",
              "        document.querySelector('#df-4b95c44b-a003-4cdf-9508-d2129b2a077c button.colab-df-convert');\n",
              "      buttonEl.style.display =\n",
              "        google.colab.kernel.accessAllowed ? 'block' : 'none';\n",
              "\n",
              "      async function convertToInteractive(key) {\n",
              "        const element = document.querySelector('#df-4b95c44b-a003-4cdf-9508-d2129b2a077c');\n",
              "        const dataTable =\n",
              "          await google.colab.kernel.invokeFunction('convertToInteractive',\n",
              "                                                    [key], {});\n",
              "        if (!dataTable) return;\n",
              "\n",
              "        const docLinkHtml = 'Like what you see? Visit the ' +\n",
              "          '<a target=\"_blank\" href=https://colab.research.google.com/notebooks/data_table.ipynb>data table notebook</a>'\n",
              "          + ' to learn more about interactive tables.';\n",
              "        element.innerHTML = '';\n",
              "        dataTable['output_type'] = 'display_data';\n",
              "        await google.colab.output.renderOutput(dataTable, element);\n",
              "        const docLink = document.createElement('div');\n",
              "        docLink.innerHTML = docLinkHtml;\n",
              "        element.appendChild(docLink);\n",
              "      }\n",
              "    </script>\n",
              "  </div>\n",
              "\n",
              "\n",
              "<div id=\"df-34f92c81-6c22-4a43-89f2-6d8f0677b6b0\">\n",
              "  <button class=\"colab-df-quickchart\" onclick=\"quickchart('df-34f92c81-6c22-4a43-89f2-6d8f0677b6b0')\"\n",
              "            title=\"Suggest charts\"\n",
              "            style=\"display:none;\">\n",
              "\n",
              "<svg xmlns=\"http://www.w3.org/2000/svg\" height=\"24px\"viewBox=\"0 0 24 24\"\n",
              "     width=\"24px\">\n",
              "    <g>\n",
              "        <path d=\"M19 3H5c-1.1 0-2 .9-2 2v14c0 1.1.9 2 2 2h14c1.1 0 2-.9 2-2V5c0-1.1-.9-2-2-2zM9 17H7v-7h2v7zm4 0h-2V7h2v10zm4 0h-2v-4h2v4z\"/>\n",
              "    </g>\n",
              "</svg>\n",
              "  </button>\n",
              "\n",
              "<style>\n",
              "  .colab-df-quickchart {\n",
              "      --bg-color: #E8F0FE;\n",
              "      --fill-color: #1967D2;\n",
              "      --hover-bg-color: #E2EBFA;\n",
              "      --hover-fill-color: #174EA6;\n",
              "      --disabled-fill-color: #AAA;\n",
              "      --disabled-bg-color: #DDD;\n",
              "  }\n",
              "\n",
              "  [theme=dark] .colab-df-quickchart {\n",
              "      --bg-color: #3B4455;\n",
              "      --fill-color: #D2E3FC;\n",
              "      --hover-bg-color: #434B5C;\n",
              "      --hover-fill-color: #FFFFFF;\n",
              "      --disabled-bg-color: #3B4455;\n",
              "      --disabled-fill-color: #666;\n",
              "  }\n",
              "\n",
              "  .colab-df-quickchart {\n",
              "    background-color: var(--bg-color);\n",
              "    border: none;\n",
              "    border-radius: 50%;\n",
              "    cursor: pointer;\n",
              "    display: none;\n",
              "    fill: var(--fill-color);\n",
              "    height: 32px;\n",
              "    padding: 0;\n",
              "    width: 32px;\n",
              "  }\n",
              "\n",
              "  .colab-df-quickchart:hover {\n",
              "    background-color: var(--hover-bg-color);\n",
              "    box-shadow: 0 1px 2px rgba(60, 64, 67, 0.3), 0 1px 3px 1px rgba(60, 64, 67, 0.15);\n",
              "    fill: var(--button-hover-fill-color);\n",
              "  }\n",
              "\n",
              "  .colab-df-quickchart-complete:disabled,\n",
              "  .colab-df-quickchart-complete:disabled:hover {\n",
              "    background-color: var(--disabled-bg-color);\n",
              "    fill: var(--disabled-fill-color);\n",
              "    box-shadow: none;\n",
              "  }\n",
              "\n",
              "  .colab-df-spinner {\n",
              "    border: 2px solid var(--fill-color);\n",
              "    border-color: transparent;\n",
              "    border-bottom-color: var(--fill-color);\n",
              "    animation:\n",
              "      spin 1s steps(1) infinite;\n",
              "  }\n",
              "\n",
              "  @keyframes spin {\n",
              "    0% {\n",
              "      border-color: transparent;\n",
              "      border-bottom-color: var(--fill-color);\n",
              "      border-left-color: var(--fill-color);\n",
              "    }\n",
              "    20% {\n",
              "      border-color: transparent;\n",
              "      border-left-color: var(--fill-color);\n",
              "      border-top-color: var(--fill-color);\n",
              "    }\n",
              "    30% {\n",
              "      border-color: transparent;\n",
              "      border-left-color: var(--fill-color);\n",
              "      border-top-color: var(--fill-color);\n",
              "      border-right-color: var(--fill-color);\n",
              "    }\n",
              "    40% {\n",
              "      border-color: transparent;\n",
              "      border-right-color: var(--fill-color);\n",
              "      border-top-color: var(--fill-color);\n",
              "    }\n",
              "    60% {\n",
              "      border-color: transparent;\n",
              "      border-right-color: var(--fill-color);\n",
              "    }\n",
              "    80% {\n",
              "      border-color: transparent;\n",
              "      border-right-color: var(--fill-color);\n",
              "      border-bottom-color: var(--fill-color);\n",
              "    }\n",
              "    90% {\n",
              "      border-color: transparent;\n",
              "      border-bottom-color: var(--fill-color);\n",
              "    }\n",
              "  }\n",
              "</style>\n",
              "\n",
              "  <script>\n",
              "    async function quickchart(key) {\n",
              "      const quickchartButtonEl =\n",
              "        document.querySelector('#' + key + ' button');\n",
              "      quickchartButtonEl.disabled = true;  // To prevent multiple clicks.\n",
              "      quickchartButtonEl.classList.add('colab-df-spinner');\n",
              "      try {\n",
              "        const charts = await google.colab.kernel.invokeFunction(\n",
              "            'suggestCharts', [key], {});\n",
              "      } catch (error) {\n",
              "        console.error('Error during call to suggestCharts:', error);\n",
              "      }\n",
              "      quickchartButtonEl.classList.remove('colab-df-spinner');\n",
              "      quickchartButtonEl.classList.add('colab-df-quickchart-complete');\n",
              "    }\n",
              "    (() => {\n",
              "      let quickchartButtonEl =\n",
              "        document.querySelector('#df-34f92c81-6c22-4a43-89f2-6d8f0677b6b0 button');\n",
              "      quickchartButtonEl.style.display =\n",
              "        google.colab.kernel.accessAllowed ? 'block' : 'none';\n",
              "    })();\n",
              "  </script>\n",
              "</div>\n",
              "\n",
              "    </div>\n",
              "  </div>\n"
            ],
            "application/vnd.google.colaboratory.intrinsic+json": {
              "type": "dataframe",
              "repr_error": "0"
            }
          },
          "metadata": {},
          "execution_count": 81
        }
      ]
    },
    {
      "cell_type": "code",
      "source": [
        "crime_data[crime_data['REPORT_KEY']=='20000273']"
      ],
      "metadata": {
        "colab": {
          "base_uri": "https://localhost:8080/"
        },
        "id": "S01yEK-kZgVq",
        "outputId": "488aa7a0-6453-4943-c807-8075cd41a30e"
      },
      "execution_count": null,
      "outputs": [
        {
          "output_type": "execute_result",
          "data": {
            "text/plain": [
              "      AGENCY_ID REPORT_DATE OFFENSE_START_TIME REPORT_KEY REPORT_CODE  \\\n",
              "81717  Largo PD    1/8/2020        11:09:00 PM   20000273        0630   \n",
              "81755  Largo PD    1/8/2020        11:09:00 PM   20000273        0630   \n",
              "81811  Largo PD    1/8/2020        11:09:00 PM   20000273        4010   \n",
              "81929  Largo PD    1/8/2020        11:09:00 PM   20000273        0630   \n",
              "81979  Largo PD    1/8/2020        11:09:00 PM   20000273        4010   \n",
              "82013  Largo PD    1/8/2020        11:09:00 PM   20000273        0630   \n",
              "82197  Largo PD    1/8/2020        11:09:00 PM   20000273        4010   \n",
              "82220  Largo PD    1/8/2020        11:09:00 PM   20000273        0630   \n",
              "82231  Largo PD    1/8/2020        11:09:00 PM   20000273        4010   \n",
              "82233  Largo PD    1/8/2020        11:09:00 PM   20000273        4010   \n",
              "82243  Largo PD    1/8/2020        11:09:00 PM   20000273        0630   \n",
              "82244  Largo PD    1/8/2020        11:09:00 PM   20000273        0630   \n",
              "82427  Largo PD    1/8/2020        11:09:00 PM   20000273        4010   \n",
              "82428  Largo PD    1/8/2020        11:09:00 PM   20000273        0630   \n",
              "82434  Largo PD    1/8/2020        11:09:00 PM   20000273        0630   \n",
              "82437  Largo PD    1/8/2020        11:09:00 PM   20000273        4010   \n",
              "82580  Largo PD    1/8/2020        11:09:00 PM   20000273        4010   \n",
              "82581  Largo PD    1/8/2020        11:09:00 PM   20000273        4010   \n",
              "\n",
              "                CATEGORY BLOCK_ADDRESS        CITY      ZIP EXTRA_1 EXTRA_2  \\\n",
              "81717  THEFT-SHOPLIFTING           NaN  CLEARWATER  33770.0     NaN     NaN   \n",
              "81755  THEFT-SHOPLIFTING           NaN  CLEARWATER  33770.0     NaN     NaN   \n",
              "81811   TRAFFIC ACCIDENT           NaN  CLEARWATER  33770.0     NaN     NaN   \n",
              "81929  THEFT-SHOPLIFTING           NaN  CLEARWATER  33770.0     NaN     NaN   \n",
              "81979   TRAFFIC ACCIDENT           NaN  CLEARWATER  33770.0     NaN     NaN   \n",
              "82013  THEFT-SHOPLIFTING           NaN  CLEARWATER  33770.0     NaN     NaN   \n",
              "82197   TRAFFIC ACCIDENT           NaN  CLEARWATER  33770.0     NaN     NaN   \n",
              "82220  THEFT-SHOPLIFTING           NaN  CLEARWATER  33770.0     NaN     NaN   \n",
              "82231   TRAFFIC ACCIDENT           NaN  CLEARWATER  33770.0     NaN     NaN   \n",
              "82233   TRAFFIC ACCIDENT           NaN  CLEARWATER  33770.0     NaN     NaN   \n",
              "82243  THEFT-SHOPLIFTING           NaN  CLEARWATER  33770.0     NaN     NaN   \n",
              "82244  THEFT-SHOPLIFTING           NaN  CLEARWATER  33770.0     NaN     NaN   \n",
              "82427   TRAFFIC ACCIDENT           NaN  CLEARWATER  33770.0     NaN     NaN   \n",
              "82428  THEFT-SHOPLIFTING           NaN  CLEARWATER  33770.0     NaN     NaN   \n",
              "82434  THEFT-SHOPLIFTING           NaN  CLEARWATER  33770.0     NaN     NaN   \n",
              "82437   TRAFFIC ACCIDENT           NaN  CLEARWATER  33770.0     NaN     NaN   \n",
              "82580   TRAFFIC ACCIDENT           NaN  CLEARWATER  33770.0     NaN     NaN   \n",
              "82581   TRAFFIC ACCIDENT           NaN  CLEARWATER  33770.0     NaN     NaN   \n",
              "\n",
              "       EXTRA_3  \n",
              "81717      NaN  \n",
              "81755      NaN  \n",
              "81811      NaN  \n",
              "81929      NaN  \n",
              "81979      NaN  \n",
              "82013      NaN  \n",
              "82197      NaN  \n",
              "82220      NaN  \n",
              "82231      NaN  \n",
              "82233      NaN  \n",
              "82243      NaN  \n",
              "82244      NaN  \n",
              "82427      NaN  \n",
              "82428      NaN  \n",
              "82434      NaN  \n",
              "82437      NaN  \n",
              "82580      NaN  \n",
              "82581      NaN  "
            ],
            "text/html": [
              "\n",
              "  <div id=\"df-b1b60f80-728e-42e3-8fb2-7d13fbab9d07\" class=\"colab-df-container\">\n",
              "    <div>\n",
              "<style scoped>\n",
              "    .dataframe tbody tr th:only-of-type {\n",
              "        vertical-align: middle;\n",
              "    }\n",
              "\n",
              "    .dataframe tbody tr th {\n",
              "        vertical-align: top;\n",
              "    }\n",
              "\n",
              "    .dataframe thead th {\n",
              "        text-align: right;\n",
              "    }\n",
              "</style>\n",
              "<table border=\"1\" class=\"dataframe\">\n",
              "  <thead>\n",
              "    <tr style=\"text-align: right;\">\n",
              "      <th></th>\n",
              "      <th>AGENCY_ID</th>\n",
              "      <th>REPORT_DATE</th>\n",
              "      <th>OFFENSE_START_TIME</th>\n",
              "      <th>REPORT_KEY</th>\n",
              "      <th>REPORT_CODE</th>\n",
              "      <th>CATEGORY</th>\n",
              "      <th>BLOCK_ADDRESS</th>\n",
              "      <th>CITY</th>\n",
              "      <th>ZIP</th>\n",
              "      <th>EXTRA_1</th>\n",
              "      <th>EXTRA_2</th>\n",
              "      <th>EXTRA_3</th>\n",
              "    </tr>\n",
              "  </thead>\n",
              "  <tbody>\n",
              "    <tr>\n",
              "      <th>81717</th>\n",
              "      <td>Largo PD</td>\n",
              "      <td>1/8/2020</td>\n",
              "      <td>11:09:00 PM</td>\n",
              "      <td>20000273</td>\n",
              "      <td>0630</td>\n",
              "      <td>THEFT-SHOPLIFTING</td>\n",
              "      <td>NaN</td>\n",
              "      <td>CLEARWATER</td>\n",
              "      <td>33770.0</td>\n",
              "      <td>NaN</td>\n",
              "      <td>NaN</td>\n",
              "      <td>NaN</td>\n",
              "    </tr>\n",
              "    <tr>\n",
              "      <th>81755</th>\n",
              "      <td>Largo PD</td>\n",
              "      <td>1/8/2020</td>\n",
              "      <td>11:09:00 PM</td>\n",
              "      <td>20000273</td>\n",
              "      <td>0630</td>\n",
              "      <td>THEFT-SHOPLIFTING</td>\n",
              "      <td>NaN</td>\n",
              "      <td>CLEARWATER</td>\n",
              "      <td>33770.0</td>\n",
              "      <td>NaN</td>\n",
              "      <td>NaN</td>\n",
              "      <td>NaN</td>\n",
              "    </tr>\n",
              "    <tr>\n",
              "      <th>81811</th>\n",
              "      <td>Largo PD</td>\n",
              "      <td>1/8/2020</td>\n",
              "      <td>11:09:00 PM</td>\n",
              "      <td>20000273</td>\n",
              "      <td>4010</td>\n",
              "      <td>TRAFFIC ACCIDENT</td>\n",
              "      <td>NaN</td>\n",
              "      <td>CLEARWATER</td>\n",
              "      <td>33770.0</td>\n",
              "      <td>NaN</td>\n",
              "      <td>NaN</td>\n",
              "      <td>NaN</td>\n",
              "    </tr>\n",
              "    <tr>\n",
              "      <th>81929</th>\n",
              "      <td>Largo PD</td>\n",
              "      <td>1/8/2020</td>\n",
              "      <td>11:09:00 PM</td>\n",
              "      <td>20000273</td>\n",
              "      <td>0630</td>\n",
              "      <td>THEFT-SHOPLIFTING</td>\n",
              "      <td>NaN</td>\n",
              "      <td>CLEARWATER</td>\n",
              "      <td>33770.0</td>\n",
              "      <td>NaN</td>\n",
              "      <td>NaN</td>\n",
              "      <td>NaN</td>\n",
              "    </tr>\n",
              "    <tr>\n",
              "      <th>81979</th>\n",
              "      <td>Largo PD</td>\n",
              "      <td>1/8/2020</td>\n",
              "      <td>11:09:00 PM</td>\n",
              "      <td>20000273</td>\n",
              "      <td>4010</td>\n",
              "      <td>TRAFFIC ACCIDENT</td>\n",
              "      <td>NaN</td>\n",
              "      <td>CLEARWATER</td>\n",
              "      <td>33770.0</td>\n",
              "      <td>NaN</td>\n",
              "      <td>NaN</td>\n",
              "      <td>NaN</td>\n",
              "    </tr>\n",
              "    <tr>\n",
              "      <th>82013</th>\n",
              "      <td>Largo PD</td>\n",
              "      <td>1/8/2020</td>\n",
              "      <td>11:09:00 PM</td>\n",
              "      <td>20000273</td>\n",
              "      <td>0630</td>\n",
              "      <td>THEFT-SHOPLIFTING</td>\n",
              "      <td>NaN</td>\n",
              "      <td>CLEARWATER</td>\n",
              "      <td>33770.0</td>\n",
              "      <td>NaN</td>\n",
              "      <td>NaN</td>\n",
              "      <td>NaN</td>\n",
              "    </tr>\n",
              "    <tr>\n",
              "      <th>82197</th>\n",
              "      <td>Largo PD</td>\n",
              "      <td>1/8/2020</td>\n",
              "      <td>11:09:00 PM</td>\n",
              "      <td>20000273</td>\n",
              "      <td>4010</td>\n",
              "      <td>TRAFFIC ACCIDENT</td>\n",
              "      <td>NaN</td>\n",
              "      <td>CLEARWATER</td>\n",
              "      <td>33770.0</td>\n",
              "      <td>NaN</td>\n",
              "      <td>NaN</td>\n",
              "      <td>NaN</td>\n",
              "    </tr>\n",
              "    <tr>\n",
              "      <th>82220</th>\n",
              "      <td>Largo PD</td>\n",
              "      <td>1/8/2020</td>\n",
              "      <td>11:09:00 PM</td>\n",
              "      <td>20000273</td>\n",
              "      <td>0630</td>\n",
              "      <td>THEFT-SHOPLIFTING</td>\n",
              "      <td>NaN</td>\n",
              "      <td>CLEARWATER</td>\n",
              "      <td>33770.0</td>\n",
              "      <td>NaN</td>\n",
              "      <td>NaN</td>\n",
              "      <td>NaN</td>\n",
              "    </tr>\n",
              "    <tr>\n",
              "      <th>82231</th>\n",
              "      <td>Largo PD</td>\n",
              "      <td>1/8/2020</td>\n",
              "      <td>11:09:00 PM</td>\n",
              "      <td>20000273</td>\n",
              "      <td>4010</td>\n",
              "      <td>TRAFFIC ACCIDENT</td>\n",
              "      <td>NaN</td>\n",
              "      <td>CLEARWATER</td>\n",
              "      <td>33770.0</td>\n",
              "      <td>NaN</td>\n",
              "      <td>NaN</td>\n",
              "      <td>NaN</td>\n",
              "    </tr>\n",
              "    <tr>\n",
              "      <th>82233</th>\n",
              "      <td>Largo PD</td>\n",
              "      <td>1/8/2020</td>\n",
              "      <td>11:09:00 PM</td>\n",
              "      <td>20000273</td>\n",
              "      <td>4010</td>\n",
              "      <td>TRAFFIC ACCIDENT</td>\n",
              "      <td>NaN</td>\n",
              "      <td>CLEARWATER</td>\n",
              "      <td>33770.0</td>\n",
              "      <td>NaN</td>\n",
              "      <td>NaN</td>\n",
              "      <td>NaN</td>\n",
              "    </tr>\n",
              "    <tr>\n",
              "      <th>82243</th>\n",
              "      <td>Largo PD</td>\n",
              "      <td>1/8/2020</td>\n",
              "      <td>11:09:00 PM</td>\n",
              "      <td>20000273</td>\n",
              "      <td>0630</td>\n",
              "      <td>THEFT-SHOPLIFTING</td>\n",
              "      <td>NaN</td>\n",
              "      <td>CLEARWATER</td>\n",
              "      <td>33770.0</td>\n",
              "      <td>NaN</td>\n",
              "      <td>NaN</td>\n",
              "      <td>NaN</td>\n",
              "    </tr>\n",
              "    <tr>\n",
              "      <th>82244</th>\n",
              "      <td>Largo PD</td>\n",
              "      <td>1/8/2020</td>\n",
              "      <td>11:09:00 PM</td>\n",
              "      <td>20000273</td>\n",
              "      <td>0630</td>\n",
              "      <td>THEFT-SHOPLIFTING</td>\n",
              "      <td>NaN</td>\n",
              "      <td>CLEARWATER</td>\n",
              "      <td>33770.0</td>\n",
              "      <td>NaN</td>\n",
              "      <td>NaN</td>\n",
              "      <td>NaN</td>\n",
              "    </tr>\n",
              "    <tr>\n",
              "      <th>82427</th>\n",
              "      <td>Largo PD</td>\n",
              "      <td>1/8/2020</td>\n",
              "      <td>11:09:00 PM</td>\n",
              "      <td>20000273</td>\n",
              "      <td>4010</td>\n",
              "      <td>TRAFFIC ACCIDENT</td>\n",
              "      <td>NaN</td>\n",
              "      <td>CLEARWATER</td>\n",
              "      <td>33770.0</td>\n",
              "      <td>NaN</td>\n",
              "      <td>NaN</td>\n",
              "      <td>NaN</td>\n",
              "    </tr>\n",
              "    <tr>\n",
              "      <th>82428</th>\n",
              "      <td>Largo PD</td>\n",
              "      <td>1/8/2020</td>\n",
              "      <td>11:09:00 PM</td>\n",
              "      <td>20000273</td>\n",
              "      <td>0630</td>\n",
              "      <td>THEFT-SHOPLIFTING</td>\n",
              "      <td>NaN</td>\n",
              "      <td>CLEARWATER</td>\n",
              "      <td>33770.0</td>\n",
              "      <td>NaN</td>\n",
              "      <td>NaN</td>\n",
              "      <td>NaN</td>\n",
              "    </tr>\n",
              "    <tr>\n",
              "      <th>82434</th>\n",
              "      <td>Largo PD</td>\n",
              "      <td>1/8/2020</td>\n",
              "      <td>11:09:00 PM</td>\n",
              "      <td>20000273</td>\n",
              "      <td>0630</td>\n",
              "      <td>THEFT-SHOPLIFTING</td>\n",
              "      <td>NaN</td>\n",
              "      <td>CLEARWATER</td>\n",
              "      <td>33770.0</td>\n",
              "      <td>NaN</td>\n",
              "      <td>NaN</td>\n",
              "      <td>NaN</td>\n",
              "    </tr>\n",
              "    <tr>\n",
              "      <th>82437</th>\n",
              "      <td>Largo PD</td>\n",
              "      <td>1/8/2020</td>\n",
              "      <td>11:09:00 PM</td>\n",
              "      <td>20000273</td>\n",
              "      <td>4010</td>\n",
              "      <td>TRAFFIC ACCIDENT</td>\n",
              "      <td>NaN</td>\n",
              "      <td>CLEARWATER</td>\n",
              "      <td>33770.0</td>\n",
              "      <td>NaN</td>\n",
              "      <td>NaN</td>\n",
              "      <td>NaN</td>\n",
              "    </tr>\n",
              "    <tr>\n",
              "      <th>82580</th>\n",
              "      <td>Largo PD</td>\n",
              "      <td>1/8/2020</td>\n",
              "      <td>11:09:00 PM</td>\n",
              "      <td>20000273</td>\n",
              "      <td>4010</td>\n",
              "      <td>TRAFFIC ACCIDENT</td>\n",
              "      <td>NaN</td>\n",
              "      <td>CLEARWATER</td>\n",
              "      <td>33770.0</td>\n",
              "      <td>NaN</td>\n",
              "      <td>NaN</td>\n",
              "      <td>NaN</td>\n",
              "    </tr>\n",
              "    <tr>\n",
              "      <th>82581</th>\n",
              "      <td>Largo PD</td>\n",
              "      <td>1/8/2020</td>\n",
              "      <td>11:09:00 PM</td>\n",
              "      <td>20000273</td>\n",
              "      <td>4010</td>\n",
              "      <td>TRAFFIC ACCIDENT</td>\n",
              "      <td>NaN</td>\n",
              "      <td>CLEARWATER</td>\n",
              "      <td>33770.0</td>\n",
              "      <td>NaN</td>\n",
              "      <td>NaN</td>\n",
              "      <td>NaN</td>\n",
              "    </tr>\n",
              "  </tbody>\n",
              "</table>\n",
              "</div>\n",
              "    <div class=\"colab-df-buttons\">\n",
              "\n",
              "  <div class=\"colab-df-container\">\n",
              "    <button class=\"colab-df-convert\" onclick=\"convertToInteractive('df-b1b60f80-728e-42e3-8fb2-7d13fbab9d07')\"\n",
              "            title=\"Convert this dataframe to an interactive table.\"\n",
              "            style=\"display:none;\">\n",
              "\n",
              "  <svg xmlns=\"http://www.w3.org/2000/svg\" height=\"24px\" viewBox=\"0 -960 960 960\">\n",
              "    <path d=\"M120-120v-720h720v720H120Zm60-500h600v-160H180v160Zm220 220h160v-160H400v160Zm0 220h160v-160H400v160ZM180-400h160v-160H180v160Zm440 0h160v-160H620v160ZM180-180h160v-160H180v160Zm440 0h160v-160H620v160Z\"/>\n",
              "  </svg>\n",
              "    </button>\n",
              "\n",
              "  <style>\n",
              "    .colab-df-container {\n",
              "      display:flex;\n",
              "      gap: 12px;\n",
              "    }\n",
              "\n",
              "    .colab-df-convert {\n",
              "      background-color: #E8F0FE;\n",
              "      border: none;\n",
              "      border-radius: 50%;\n",
              "      cursor: pointer;\n",
              "      display: none;\n",
              "      fill: #1967D2;\n",
              "      height: 32px;\n",
              "      padding: 0 0 0 0;\n",
              "      width: 32px;\n",
              "    }\n",
              "\n",
              "    .colab-df-convert:hover {\n",
              "      background-color: #E2EBFA;\n",
              "      box-shadow: 0px 1px 2px rgba(60, 64, 67, 0.3), 0px 1px 3px 1px rgba(60, 64, 67, 0.15);\n",
              "      fill: #174EA6;\n",
              "    }\n",
              "\n",
              "    .colab-df-buttons div {\n",
              "      margin-bottom: 4px;\n",
              "    }\n",
              "\n",
              "    [theme=dark] .colab-df-convert {\n",
              "      background-color: #3B4455;\n",
              "      fill: #D2E3FC;\n",
              "    }\n",
              "\n",
              "    [theme=dark] .colab-df-convert:hover {\n",
              "      background-color: #434B5C;\n",
              "      box-shadow: 0px 1px 3px 1px rgba(0, 0, 0, 0.15);\n",
              "      filter: drop-shadow(0px 1px 2px rgba(0, 0, 0, 0.3));\n",
              "      fill: #FFFFFF;\n",
              "    }\n",
              "  </style>\n",
              "\n",
              "    <script>\n",
              "      const buttonEl =\n",
              "        document.querySelector('#df-b1b60f80-728e-42e3-8fb2-7d13fbab9d07 button.colab-df-convert');\n",
              "      buttonEl.style.display =\n",
              "        google.colab.kernel.accessAllowed ? 'block' : 'none';\n",
              "\n",
              "      async function convertToInteractive(key) {\n",
              "        const element = document.querySelector('#df-b1b60f80-728e-42e3-8fb2-7d13fbab9d07');\n",
              "        const dataTable =\n",
              "          await google.colab.kernel.invokeFunction('convertToInteractive',\n",
              "                                                    [key], {});\n",
              "        if (!dataTable) return;\n",
              "\n",
              "        const docLinkHtml = 'Like what you see? Visit the ' +\n",
              "          '<a target=\"_blank\" href=https://colab.research.google.com/notebooks/data_table.ipynb>data table notebook</a>'\n",
              "          + ' to learn more about interactive tables.';\n",
              "        element.innerHTML = '';\n",
              "        dataTable['output_type'] = 'display_data';\n",
              "        await google.colab.output.renderOutput(dataTable, element);\n",
              "        const docLink = document.createElement('div');\n",
              "        docLink.innerHTML = docLinkHtml;\n",
              "        element.appendChild(docLink);\n",
              "      }\n",
              "    </script>\n",
              "  </div>\n",
              "\n",
              "\n",
              "<div id=\"df-a141ef7e-027c-4a9b-8784-f7ce9ae875e7\">\n",
              "  <button class=\"colab-df-quickchart\" onclick=\"quickchart('df-a141ef7e-027c-4a9b-8784-f7ce9ae875e7')\"\n",
              "            title=\"Suggest charts\"\n",
              "            style=\"display:none;\">\n",
              "\n",
              "<svg xmlns=\"http://www.w3.org/2000/svg\" height=\"24px\"viewBox=\"0 0 24 24\"\n",
              "     width=\"24px\">\n",
              "    <g>\n",
              "        <path d=\"M19 3H5c-1.1 0-2 .9-2 2v14c0 1.1.9 2 2 2h14c1.1 0 2-.9 2-2V5c0-1.1-.9-2-2-2zM9 17H7v-7h2v7zm4 0h-2V7h2v10zm4 0h-2v-4h2v4z\"/>\n",
              "    </g>\n",
              "</svg>\n",
              "  </button>\n",
              "\n",
              "<style>\n",
              "  .colab-df-quickchart {\n",
              "      --bg-color: #E8F0FE;\n",
              "      --fill-color: #1967D2;\n",
              "      --hover-bg-color: #E2EBFA;\n",
              "      --hover-fill-color: #174EA6;\n",
              "      --disabled-fill-color: #AAA;\n",
              "      --disabled-bg-color: #DDD;\n",
              "  }\n",
              "\n",
              "  [theme=dark] .colab-df-quickchart {\n",
              "      --bg-color: #3B4455;\n",
              "      --fill-color: #D2E3FC;\n",
              "      --hover-bg-color: #434B5C;\n",
              "      --hover-fill-color: #FFFFFF;\n",
              "      --disabled-bg-color: #3B4455;\n",
              "      --disabled-fill-color: #666;\n",
              "  }\n",
              "\n",
              "  .colab-df-quickchart {\n",
              "    background-color: var(--bg-color);\n",
              "    border: none;\n",
              "    border-radius: 50%;\n",
              "    cursor: pointer;\n",
              "    display: none;\n",
              "    fill: var(--fill-color);\n",
              "    height: 32px;\n",
              "    padding: 0;\n",
              "    width: 32px;\n",
              "  }\n",
              "\n",
              "  .colab-df-quickchart:hover {\n",
              "    background-color: var(--hover-bg-color);\n",
              "    box-shadow: 0 1px 2px rgba(60, 64, 67, 0.3), 0 1px 3px 1px rgba(60, 64, 67, 0.15);\n",
              "    fill: var(--button-hover-fill-color);\n",
              "  }\n",
              "\n",
              "  .colab-df-quickchart-complete:disabled,\n",
              "  .colab-df-quickchart-complete:disabled:hover {\n",
              "    background-color: var(--disabled-bg-color);\n",
              "    fill: var(--disabled-fill-color);\n",
              "    box-shadow: none;\n",
              "  }\n",
              "\n",
              "  .colab-df-spinner {\n",
              "    border: 2px solid var(--fill-color);\n",
              "    border-color: transparent;\n",
              "    border-bottom-color: var(--fill-color);\n",
              "    animation:\n",
              "      spin 1s steps(1) infinite;\n",
              "  }\n",
              "\n",
              "  @keyframes spin {\n",
              "    0% {\n",
              "      border-color: transparent;\n",
              "      border-bottom-color: var(--fill-color);\n",
              "      border-left-color: var(--fill-color);\n",
              "    }\n",
              "    20% {\n",
              "      border-color: transparent;\n",
              "      border-left-color: var(--fill-color);\n",
              "      border-top-color: var(--fill-color);\n",
              "    }\n",
              "    30% {\n",
              "      border-color: transparent;\n",
              "      border-left-color: var(--fill-color);\n",
              "      border-top-color: var(--fill-color);\n",
              "      border-right-color: var(--fill-color);\n",
              "    }\n",
              "    40% {\n",
              "      border-color: transparent;\n",
              "      border-right-color: var(--fill-color);\n",
              "      border-top-color: var(--fill-color);\n",
              "    }\n",
              "    60% {\n",
              "      border-color: transparent;\n",
              "      border-right-color: var(--fill-color);\n",
              "    }\n",
              "    80% {\n",
              "      border-color: transparent;\n",
              "      border-right-color: var(--fill-color);\n",
              "      border-bottom-color: var(--fill-color);\n",
              "    }\n",
              "    90% {\n",
              "      border-color: transparent;\n",
              "      border-bottom-color: var(--fill-color);\n",
              "    }\n",
              "  }\n",
              "</style>\n",
              "\n",
              "  <script>\n",
              "    async function quickchart(key) {\n",
              "      const quickchartButtonEl =\n",
              "        document.querySelector('#' + key + ' button');\n",
              "      quickchartButtonEl.disabled = true;  // To prevent multiple clicks.\n",
              "      quickchartButtonEl.classList.add('colab-df-spinner');\n",
              "      try {\n",
              "        const charts = await google.colab.kernel.invokeFunction(\n",
              "            'suggestCharts', [key], {});\n",
              "      } catch (error) {\n",
              "        console.error('Error during call to suggestCharts:', error);\n",
              "      }\n",
              "      quickchartButtonEl.classList.remove('colab-df-spinner');\n",
              "      quickchartButtonEl.classList.add('colab-df-quickchart-complete');\n",
              "    }\n",
              "    (() => {\n",
              "      let quickchartButtonEl =\n",
              "        document.querySelector('#df-a141ef7e-027c-4a9b-8784-f7ce9ae875e7 button');\n",
              "      quickchartButtonEl.style.display =\n",
              "        google.colab.kernel.accessAllowed ? 'block' : 'none';\n",
              "    })();\n",
              "  </script>\n",
              "</div>\n",
              "\n",
              "    </div>\n",
              "  </div>\n"
            ],
            "application/vnd.google.colaboratory.intrinsic+json": {
              "type": "dataframe",
              "repr_error": "0"
            }
          },
          "metadata": {},
          "execution_count": 82
        }
      ]
    },
    {
      "cell_type": "markdown",
      "source": [
        "73540 unique report keys suggests to me that it is a identifier. Looking at records related to a report key('20000273), I see 18 records with all the same date,offense start time, agency, and location. The main difference is that 9 are coded as TRAFFIC ACCIDENT (4010) and 9 are coded as THEFT-SHOPLIFTING (0630).\n",
        "\n",
        "I need to contact the Sheriff's Office where this information comes from to get better definitions\n",
        "\n",
        "I might need to drop duplicates."
      ],
      "metadata": {
        "id": "up9InRASZGuv"
      }
    },
    {
      "cell_type": "markdown",
      "source": [
        "REPORT_DATE and OFFENSE_START_TIME should be considered datetime datatypes."
      ],
      "metadata": {
        "id": "bIO_OCMizEpv"
      }
    },
    {
      "cell_type": "code",
      "source": [
        "crime_data['REPORT_DATE'] = pd.to_datetime(crime_data['REPORT_DATE'],format='%m/%d/%Y')"
      ],
      "metadata": {
        "id": "45VVOCiczBDW"
      },
      "execution_count": null,
      "outputs": []
    },
    {
      "cell_type": "markdown",
      "source": [
        "REPORT_DATE was easy. OFFENSE_START_TIME has some mixed formats and strings in it."
      ],
      "metadata": {
        "id": "h8XCxdoD1ytz"
      }
    },
    {
      "cell_type": "code",
      "source": [
        "crime_data['OFFENSE_START_TIME'].value_counts()"
      ],
      "metadata": {
        "colab": {
          "base_uri": "https://localhost:8080/"
        },
        "id": "eVz1zzON19j1",
        "outputId": "4d61fb43-f2cc-4286-cbe2-f0f5f803a564"
      },
      "execution_count": null,
      "outputs": [
        {
          "output_type": "execute_result",
          "data": {
            "text/plain": [
              "OFFENSE_START_TIME\n",
              "Unknown         10711\n",
              "12:00:00AM       6555\n",
              "12:00:00 PM      3527\n",
              "12:00:00 AM      3286\n",
              "08:00:00 AM      2375\n",
              "                ...  \n",
              "12: 03: 00PM        1\n",
              "11: 23: 00PM        1\n",
              "08: 48: 00PM        1\n",
              "02: 49: 00PM        1\n",
              "10: 13: 00AM        1\n",
              "Name: count, Length: 3241, dtype: int64"
            ],
            "text/html": [
              "<div>\n",
              "<style scoped>\n",
              "    .dataframe tbody tr th:only-of-type {\n",
              "        vertical-align: middle;\n",
              "    }\n",
              "\n",
              "    .dataframe tbody tr th {\n",
              "        vertical-align: top;\n",
              "    }\n",
              "\n",
              "    .dataframe thead th {\n",
              "        text-align: right;\n",
              "    }\n",
              "</style>\n",
              "<table border=\"1\" class=\"dataframe\">\n",
              "  <thead>\n",
              "    <tr style=\"text-align: right;\">\n",
              "      <th></th>\n",
              "      <th>count</th>\n",
              "    </tr>\n",
              "    <tr>\n",
              "      <th>OFFENSE_START_TIME</th>\n",
              "      <th></th>\n",
              "    </tr>\n",
              "  </thead>\n",
              "  <tbody>\n",
              "    <tr>\n",
              "      <th>Unknown</th>\n",
              "      <td>10711</td>\n",
              "    </tr>\n",
              "    <tr>\n",
              "      <th>12:00:00AM</th>\n",
              "      <td>6555</td>\n",
              "    </tr>\n",
              "    <tr>\n",
              "      <th>12:00:00 PM</th>\n",
              "      <td>3527</td>\n",
              "    </tr>\n",
              "    <tr>\n",
              "      <th>12:00:00 AM</th>\n",
              "      <td>3286</td>\n",
              "    </tr>\n",
              "    <tr>\n",
              "      <th>08:00:00 AM</th>\n",
              "      <td>2375</td>\n",
              "    </tr>\n",
              "    <tr>\n",
              "      <th>...</th>\n",
              "      <td>...</td>\n",
              "    </tr>\n",
              "    <tr>\n",
              "      <th>12: 03: 00PM</th>\n",
              "      <td>1</td>\n",
              "    </tr>\n",
              "    <tr>\n",
              "      <th>11: 23: 00PM</th>\n",
              "      <td>1</td>\n",
              "    </tr>\n",
              "    <tr>\n",
              "      <th>08: 48: 00PM</th>\n",
              "      <td>1</td>\n",
              "    </tr>\n",
              "    <tr>\n",
              "      <th>02: 49: 00PM</th>\n",
              "      <td>1</td>\n",
              "    </tr>\n",
              "    <tr>\n",
              "      <th>10: 13: 00AM</th>\n",
              "      <td>1</td>\n",
              "    </tr>\n",
              "  </tbody>\n",
              "</table>\n",
              "<p>3241 rows × 1 columns</p>\n",
              "</div><br><label><b>dtype:</b> int64</label>"
            ]
          },
          "metadata": {},
          "execution_count": 84
        }
      ]
    },
    {
      "cell_type": "markdown",
      "source": [
        "Notice that some times have whitespace mixed into the time and AM/PM. Let's try to strip any whitespace out."
      ],
      "metadata": {
        "id": "tIoDKqty2SqP"
      }
    },
    {
      "cell_type": "code",
      "source": [
        "crime_data['OFFENSE_START_TIME']=crime_data['OFFENSE_START_TIME'].str.replace(' ',\"\")"
      ],
      "metadata": {
        "id": "VbniQhhx2iIn"
      },
      "execution_count": null,
      "outputs": []
    },
    {
      "cell_type": "code",
      "source": [
        "crime_data['OFFENSE_START_TIME'].value_counts()"
      ],
      "metadata": {
        "colab": {
          "base_uri": "https://localhost:8080/"
        },
        "id": "2zvn_EuI4XmG",
        "outputId": "e7ca12d2-3113-41be-8667-7ab69e807e5a"
      },
      "execution_count": null,
      "outputs": [
        {
          "output_type": "execute_result",
          "data": {
            "text/plain": [
              "OFFENSE_START_TIME\n",
              "Unknown       10711\n",
              "12:00:00AM     9903\n",
              "12:00:00PM     5491\n",
              "08:00:00AM     3497\n",
              "06:00:00PM     3350\n",
              "              ...  \n",
              "05:59:00AM       10\n",
              "05:06:00AM       10\n",
              "07:02:00AM        8\n",
              "05:49:00AM        7\n",
              "05:39:00AM        7\n",
              "Name: count, Length: 1441, dtype: int64"
            ],
            "text/html": [
              "<div>\n",
              "<style scoped>\n",
              "    .dataframe tbody tr th:only-of-type {\n",
              "        vertical-align: middle;\n",
              "    }\n",
              "\n",
              "    .dataframe tbody tr th {\n",
              "        vertical-align: top;\n",
              "    }\n",
              "\n",
              "    .dataframe thead th {\n",
              "        text-align: right;\n",
              "    }\n",
              "</style>\n",
              "<table border=\"1\" class=\"dataframe\">\n",
              "  <thead>\n",
              "    <tr style=\"text-align: right;\">\n",
              "      <th></th>\n",
              "      <th>count</th>\n",
              "    </tr>\n",
              "    <tr>\n",
              "      <th>OFFENSE_START_TIME</th>\n",
              "      <th></th>\n",
              "    </tr>\n",
              "  </thead>\n",
              "  <tbody>\n",
              "    <tr>\n",
              "      <th>Unknown</th>\n",
              "      <td>10711</td>\n",
              "    </tr>\n",
              "    <tr>\n",
              "      <th>12:00:00AM</th>\n",
              "      <td>9903</td>\n",
              "    </tr>\n",
              "    <tr>\n",
              "      <th>12:00:00PM</th>\n",
              "      <td>5491</td>\n",
              "    </tr>\n",
              "    <tr>\n",
              "      <th>08:00:00AM</th>\n",
              "      <td>3497</td>\n",
              "    </tr>\n",
              "    <tr>\n",
              "      <th>06:00:00PM</th>\n",
              "      <td>3350</td>\n",
              "    </tr>\n",
              "    <tr>\n",
              "      <th>...</th>\n",
              "      <td>...</td>\n",
              "    </tr>\n",
              "    <tr>\n",
              "      <th>05:59:00AM</th>\n",
              "      <td>10</td>\n",
              "    </tr>\n",
              "    <tr>\n",
              "      <th>05:06:00AM</th>\n",
              "      <td>10</td>\n",
              "    </tr>\n",
              "    <tr>\n",
              "      <th>07:02:00AM</th>\n",
              "      <td>8</td>\n",
              "    </tr>\n",
              "    <tr>\n",
              "      <th>05:49:00AM</th>\n",
              "      <td>7</td>\n",
              "    </tr>\n",
              "    <tr>\n",
              "      <th>05:39:00AM</th>\n",
              "      <td>7</td>\n",
              "    </tr>\n",
              "  </tbody>\n",
              "</table>\n",
              "<p>1441 rows × 1 columns</p>\n",
              "</div><br><label><b>dtype:</b> int64</label>"
            ]
          },
          "metadata": {},
          "execution_count": 86
        }
      ]
    },
    {
      "cell_type": "markdown",
      "source": [
        "That reduced things a little bit. Instead of 2061 unique times, there is now 1441 unique times. Still need to remove 'Unknown' so that it can be converted to 'NaT"
      ],
      "metadata": {
        "id": "322y9weB5RYc"
      }
    },
    {
      "cell_type": "code",
      "source": [
        "crime_data.loc[crime_data['OFFENSE_START_TIME']=='Unknown','OFFENSE_START_TIME'] = np.nan\n",
        "crime_data['OFFENSE_START_TIME'].value_counts()"
      ],
      "metadata": {
        "colab": {
          "base_uri": "https://localhost:8080/"
        },
        "id": "uUvwbiKx6Poi",
        "outputId": "13d837cd-8787-4ecf-9cf1-b78db03d28d5"
      },
      "execution_count": null,
      "outputs": [
        {
          "output_type": "execute_result",
          "data": {
            "text/plain": [
              "OFFENSE_START_TIME\n",
              "12:00:00AM    9903\n",
              "12:00:00PM    5491\n",
              "08:00:00AM    3497\n",
              "06:00:00PM    3350\n",
              "05:00:00PM    3347\n",
              "              ... \n",
              "05:48:00AM      10\n",
              "05:06:00AM      10\n",
              "07:02:00AM       8\n",
              "05:39:00AM       7\n",
              "05:49:00AM       7\n",
              "Name: count, Length: 1440, dtype: int64"
            ],
            "text/html": [
              "<div>\n",
              "<style scoped>\n",
              "    .dataframe tbody tr th:only-of-type {\n",
              "        vertical-align: middle;\n",
              "    }\n",
              "\n",
              "    .dataframe tbody tr th {\n",
              "        vertical-align: top;\n",
              "    }\n",
              "\n",
              "    .dataframe thead th {\n",
              "        text-align: right;\n",
              "    }\n",
              "</style>\n",
              "<table border=\"1\" class=\"dataframe\">\n",
              "  <thead>\n",
              "    <tr style=\"text-align: right;\">\n",
              "      <th></th>\n",
              "      <th>count</th>\n",
              "    </tr>\n",
              "    <tr>\n",
              "      <th>OFFENSE_START_TIME</th>\n",
              "      <th></th>\n",
              "    </tr>\n",
              "  </thead>\n",
              "  <tbody>\n",
              "    <tr>\n",
              "      <th>12:00:00AM</th>\n",
              "      <td>9903</td>\n",
              "    </tr>\n",
              "    <tr>\n",
              "      <th>12:00:00PM</th>\n",
              "      <td>5491</td>\n",
              "    </tr>\n",
              "    <tr>\n",
              "      <th>08:00:00AM</th>\n",
              "      <td>3497</td>\n",
              "    </tr>\n",
              "    <tr>\n",
              "      <th>06:00:00PM</th>\n",
              "      <td>3350</td>\n",
              "    </tr>\n",
              "    <tr>\n",
              "      <th>05:00:00PM</th>\n",
              "      <td>3347</td>\n",
              "    </tr>\n",
              "    <tr>\n",
              "      <th>...</th>\n",
              "      <td>...</td>\n",
              "    </tr>\n",
              "    <tr>\n",
              "      <th>05:48:00AM</th>\n",
              "      <td>10</td>\n",
              "    </tr>\n",
              "    <tr>\n",
              "      <th>05:06:00AM</th>\n",
              "      <td>10</td>\n",
              "    </tr>\n",
              "    <tr>\n",
              "      <th>07:02:00AM</th>\n",
              "      <td>8</td>\n",
              "    </tr>\n",
              "    <tr>\n",
              "      <th>05:39:00AM</th>\n",
              "      <td>7</td>\n",
              "    </tr>\n",
              "    <tr>\n",
              "      <th>05:49:00AM</th>\n",
              "      <td>7</td>\n",
              "    </tr>\n",
              "  </tbody>\n",
              "</table>\n",
              "<p>1440 rows × 1 columns</p>\n",
              "</div><br><label><b>dtype:</b> int64</label>"
            ]
          },
          "metadata": {},
          "execution_count": 87
        }
      ]
    },
    {
      "cell_type": "markdown",
      "source": [
        "Look at that number of rows! That would match to a report for every minute the day."
      ],
      "metadata": {
        "id": "o0a5aEe7ROLD"
      }
    },
    {
      "cell_type": "code",
      "source": [
        "crime_data['OFFENSE_START_TIME'] = pd.to_datetime(crime_data['OFFENSE_START_TIME'],format='%I:%M:%S%p',exact=True).dt.time"
      ],
      "metadata": {
        "id": "y4ETJfAH0MBw"
      },
      "execution_count": null,
      "outputs": []
    },
    {
      "cell_type": "markdown",
      "source": [
        "I don't think keeping the OFFENSE_START_TIME information will be important in the long run."
      ],
      "metadata": {
        "id": "eY83MsB27EM3"
      }
    },
    {
      "cell_type": "code",
      "source": [
        "crime_data.info()"
      ],
      "metadata": {
        "colab": {
          "base_uri": "https://localhost:8080/"
        },
        "id": "U_ZfLBIL60pq",
        "outputId": "4875a7a9-a320-4e99-81c2-c31b637a81a4"
      },
      "execution_count": null,
      "outputs": [
        {
          "output_type": "stream",
          "name": "stdout",
          "text": [
            "<class 'pandas.core.frame.DataFrame'>\n",
            "RangeIndex: 186026 entries, 0 to 186025\n",
            "Data columns (total 12 columns):\n",
            " #   Column              Non-Null Count   Dtype         \n",
            "---  ------              --------------   -----         \n",
            " 0   AGENCY_ID           186026 non-null  object        \n",
            " 1   REPORT_DATE         186026 non-null  datetime64[ns]\n",
            " 2   OFFENSE_START_TIME  175315 non-null  object        \n",
            " 3   REPORT_KEY          186026 non-null  object        \n",
            " 4   REPORT_CODE         186026 non-null  object        \n",
            " 5   CATEGORY            186026 non-null  category      \n",
            " 6   BLOCK_ADDRESS       170583 non-null  object        \n",
            " 7   CITY                185657 non-null  object        \n",
            " 8   ZIP                 178494 non-null  object        \n",
            " 9   EXTRA_1             327 non-null     object        \n",
            " 10  EXTRA_2             80 non-null      object        \n",
            " 11  EXTRA_3             1 non-null       float64       \n",
            "dtypes: category(1), datetime64[ns](1), float64(1), object(9)\n",
            "memory usage: 15.8+ MB\n"
          ]
        }
      ]
    },
    {
      "cell_type": "markdown",
      "source": [
        "I want to see if there is an uneven distribustion of crime across the years. Are the records maybe only reporting weekdays or something weird like that?"
      ],
      "metadata": {
        "id": "14D5IqyU8Rur"
      }
    },
    {
      "cell_type": "code",
      "source": [
        "year2020 = crime_data[crime_data['REPORT_DATE'].dt.year==2020]"
      ],
      "metadata": {
        "id": "5xi0qMKj8lzY"
      },
      "execution_count": null,
      "outputs": []
    },
    {
      "cell_type": "code",
      "source": [
        "plt.bar(x=year2020['REPORT_DATE'].dt.day_of_week.value_counts().index,height=year2020['REPORT_DATE'].dt.day_of_week.value_counts().values)\n",
        "plt.show()"
      ],
      "metadata": {
        "colab": {
          "base_uri": "https://localhost:8080/"
        },
        "id": "ES_i13yl-SUV",
        "outputId": "3b850861-d081-4e72-f240-eb0f521b1b0d"
      },
      "execution_count": null,
      "outputs": [
        {
          "output_type": "display_data",
          "data": {
            "text/plain": [
              "<Figure size 640x480 with 1 Axes>"
            ],
            "image/png": "[encoded data removed]"
          },
          "metadata": {}
        }
      ]
    },
    {
      "cell_type": "markdown",
      "source": [
        "For 2020, it seems that there are less crimes reported on Friday and Saturday. Is this just random? Exact days for analysis doesn't likely matter in the long run."
      ],
      "metadata": {
        "id": "etZjbkB9WXUn"
      }
    },
    {
      "cell_type": "code",
      "source": [
        "days_of_week = {0:'Monday',1:'Tuesday',2:'Wednesday',3:'Thursday',4:'Friday',5:'Saturday',6:'Sunday'}\n",
        "\n",
        "years = [2020,2021,2022,2023] #The list of years I will focus on here. 2024 data should be shorter because it is missing half of the year.\n",
        "crime_counts = {}\n",
        "for year in years:\n",
        "  date_data=[]\n",
        "  for date,name in days_of_week.items():\n",
        "    date_data.append(crime_data[(crime_data['REPORT_DATE'].dt.year==year)&(crime_data['REPORT_DATE'].dt.day_of_week==date)].shape[0])\n",
        "  crime_counts[year]=date_data\n",
        "\n",
        "#print(crime_counts)\n",
        "\n",
        "x = np.arange(len(days_of_week))  # the label locations\n",
        "width = 0.2  # the width of the bars\n",
        "multiplier = 0\n",
        "\n",
        "fig, ax = plt.subplots(layout='constrained')\n",
        "\n",
        "for year, measurement in crime_counts.items():\n",
        "    offset = width * multiplier\n",
        "    rects = ax.bar(x + offset, measurement, width, label=year)\n",
        "    ax.bar_label(rects, padding=3)\n",
        "    multiplier += 1\n",
        "\n",
        "# Add some text for labels, title and custom x-axis tick labels, etc.\n",
        "ax.set_ylabel('Crime Records')\n",
        "ax.set_title('Crime Records for each day of the week by year')\n",
        "ax.set_xticks(x + width, days_of_week.values())\n",
        "ax.legend(loc='upper left', ncols=4)\n",
        "ax.set_ylim(0,4000)\n",
        "fig.set_figwidth(14)\n",
        "fig.set_figheight(5)\n",
        "plt.show()\n"
      ],
      "metadata": {
        "colab": {
          "base_uri": "https://localhost:8080/"
        },
        "id": "V0-0wjpmBwfe",
        "outputId": "829075df-7303-4e39-ed99-48e96db1178d"
      },
      "execution_count": null,
      "outputs": [
        {
          "output_type": "display_data",
          "data": {
            "text/plain": [
              "<Figure size 1400x500 with 1 Axes>"
            ],
            "image/png": "[encoded data removed]"
          },
          "metadata": {}
        }
      ]
    },
    {
      "cell_type": "markdown",
      "source": [
        "Okay, so there are more records of crime in 2020 than in 2021,2022,or 2023.\n",
        "I will have to expand this graph in the future after I get records further back in time."
      ],
      "metadata": {
        "id": "p62Oo8zQnG0_"
      }
    },
    {
      "cell_type": "code",
      "source": [
        "days_of_week = {0:'Monday',1:'Tuesday',2:'Wednesday',3:'Thursday',4:'Friday',5:'Saturday',6:'Sunday'}\n",
        "\n",
        "years = [2020,2021,2022,2023] #The list of years I will focus on here. 2024 data should be shorter because it is missing half of the year.\n",
        "crime_counts = {}\n",
        "for date,name in days_of_week.items():\n",
        "  date_data=[]\n",
        "  for year in years:\n",
        "    date_data.append(crime_data[(crime_data['REPORT_DATE'].dt.year==year)&(crime_data['REPORT_DATE'].dt.day_of_week==date)].shape[0])\n",
        "  crime_counts[name]=date_data\n",
        "\n",
        "#print(crime_counts)\n",
        "\n",
        "x = np.arange(len(years))  # the label locations\n",
        "width = 0.13  # the width of the bars\n",
        "multiplier = 0\n",
        "\n",
        "fig, ax = plt.subplots(layout='constrained')\n",
        "\n",
        "for name, measurement in crime_counts.items():\n",
        "    offset = width * multiplier\n",
        "    rects = ax.bar(x + offset, measurement, width, label=name)\n",
        "    ax.bar_label(rects, padding=3)\n",
        "    multiplier += 1\n",
        "\n",
        "# Add some text for labels, title and custom x-axis tick labels, etc.\n",
        "ax.set_ylabel('Crime Records')\n",
        "ax.set_title('Crime Records for each day of the week by year')\n",
        "ax.set_xticks(x + width, years)\n",
        "ax.legend(loc='upper left', ncols=7)\n",
        "ax.set_ylim(0,4000)\n",
        "fig.set_figwidth(14)\n",
        "fig.set_figheight(5)\n",
        "plt.show()\n"
      ],
      "metadata": {
        "colab": {
          "base_uri": "https://localhost:8080/"
        },
        "id": "XewpzablniKc",
        "outputId": "abeb59b7-b393-4f57-ecd3-3631dd7a6591"
      },
      "execution_count": null,
      "outputs": [
        {
          "output_type": "display_data",
          "data": {
            "text/plain": [
              "<Figure size 1400x500 with 1 Axes>"
            ],
            "image/png": "[encoded data removed]"
          },
          "metadata": {}
        }
      ]
    },
    {
      "cell_type": "markdown",
      "source": [
        "Seems like all of the graphs have a slight drop in crime on Friday and Saturday before spiking again on Sunday."
      ],
      "metadata": {
        "id": "rHDWaVneocLw"
      }
    },
    {
      "cell_type": "markdown",
      "source": [
        "###CITY, ZIP and the EXTRA columns\n",
        "\n",
        "Cleaning up the city names and zip codes. Sometimes the city name is repeated in the zip and the zip is in EXTRA_1. Sometimes there is a city in EXTRA_1 and a zip in EXTRA_2.\n",
        "\n",
        "All the zips will need to be integers before being combined with the city in a string. This will be so that the city/zip matches the SITE_CITYZIP in the PCPAO_SalesDATA."
      ],
      "metadata": {
        "id": "Rg7e1WPd7bEv"
      }
    },
    {
      "cell_type": "code",
      "source": [
        "crime_data.info()"
      ],
      "metadata": {
        "colab": {
          "base_uri": "https://localhost:8080/"
        },
        "id": "EyIZDQlMYhcl",
        "outputId": "c93281ab-2a6d-4dcd-972d-64c32453b0fa"
      },
      "execution_count": null,
      "outputs": [
        {
          "output_type": "stream",
          "name": "stdout",
          "text": [
            "<class 'pandas.core.frame.DataFrame'>\n",
            "RangeIndex: 186026 entries, 0 to 186025\n",
            "Data columns (total 12 columns):\n",
            " #   Column              Non-Null Count   Dtype         \n",
            "---  ------              --------------   -----         \n",
            " 0   AGENCY_ID           186026 non-null  object        \n",
            " 1   REPORT_DATE         186026 non-null  datetime64[ns]\n",
            " 2   OFFENSE_START_TIME  175315 non-null  object        \n",
            " 3   REPORT_KEY          186026 non-null  object        \n",
            " 4   REPORT_CODE         186026 non-null  object        \n",
            " 5   CATEGORY            186026 non-null  category      \n",
            " 6   BLOCK_ADDRESS       170583 non-null  object        \n",
            " 7   CITY                185657 non-null  object        \n",
            " 8   ZIP                 178494 non-null  object        \n",
            " 9   EXTRA_1             327 non-null     object        \n",
            " 10  EXTRA_2             80 non-null      object        \n",
            " 11  EXTRA_3             1 non-null       float64       \n",
            "dtypes: category(1), datetime64[ns](1), float64(1), object(9)\n",
            "memory usage: 15.8+ MB\n"
          ]
        }
      ]
    },
    {
      "cell_type": "markdown",
      "source": [
        "The CITY and ZIP columns will be best used as string columns for now.\n",
        "I will strip the columns of whitespace to make them easier to compare(hopefully).\n",
        "\n",
        "EXTRA_1 and EXTRA_2 need the same treatment.\n",
        "\n",
        "I don't want to convert np.nan into 'nan' so, I will filter to only focus on not-na values."
      ],
      "metadata": {
        "id": "z80aw99X5tH5"
      }
    },
    {
      "cell_type": "code",
      "source": [
        "#Some of the CITY column values have whitespace.\n",
        "#Converting all of the non-NaN values in EXTRA_1 & EXTRA_2 columns to strings and stripping of whitespace as well\n",
        "crime_data['CITY']=crime_data[crime_data['CITY'].notna()]['CITY'].astype(str).str.strip()\n",
        "crime_data['ZIP']=crime_data[crime_data['ZIP'].notna()]['ZIP'].astype(str).str.strip()\n",
        "crime_data['EXTRA_1']=crime_data[crime_data['EXTRA_1'].notna()]['EXTRA_1'].astype(str).str.strip()\n",
        "crime_data['EXTRA_2']=crime_data[crime_data['EXTRA_2'].notna()]['EXTRA_2'].astype(str).str.strip()"
      ],
      "metadata": {
        "id": "fiuhrX6-S3if"
      },
      "execution_count": null,
      "outputs": []
    },
    {
      "cell_type": "code",
      "source": [
        "crime_data.info()"
      ],
      "metadata": {
        "colab": {
          "base_uri": "https://localhost:8080/"
        },
        "id": "tTP16DFIpbjI",
        "outputId": "23b99937-d89c-4e99-82c7-19c3c9d8f1f2"
      },
      "execution_count": null,
      "outputs": [
        {
          "output_type": "stream",
          "name": "stdout",
          "text": [
            "<class 'pandas.core.frame.DataFrame'>\n",
            "RangeIndex: 186026 entries, 0 to 186025\n",
            "Data columns (total 12 columns):\n",
            " #   Column              Non-Null Count   Dtype         \n",
            "---  ------              --------------   -----         \n",
            " 0   AGENCY_ID           186026 non-null  object        \n",
            " 1   REPORT_DATE         186026 non-null  datetime64[ns]\n",
            " 2   OFFENSE_START_TIME  175315 non-null  object        \n",
            " 3   REPORT_KEY          186026 non-null  object        \n",
            " 4   REPORT_CODE         186026 non-null  object        \n",
            " 5   CATEGORY            186026 non-null  category      \n",
            " 6   BLOCK_ADDRESS       170583 non-null  object        \n",
            " 7   CITY                185657 non-null  object        \n",
            " 8   ZIP                 178494 non-null  object        \n",
            " 9   EXTRA_1             327 non-null     object        \n",
            " 10  EXTRA_2             80 non-null      object        \n",
            " 11  EXTRA_3             1 non-null       float64       \n",
            "dtypes: category(1), datetime64[ns](1), float64(1), object(9)\n",
            "memory usage: 15.8+ MB\n"
          ]
        }
      ]
    },
    {
      "cell_type": "markdown",
      "source": [
        "###Going to start by examining/fixing the one row that has a value in EXTRA_3"
      ],
      "metadata": {
        "id": "WzDq17oGpUgL"
      }
    },
    {
      "cell_type": "code",
      "source": [
        "crime_data[crime_data['EXTRA_3'].notna()]"
      ],
      "metadata": {
        "colab": {
          "base_uri": "https://localhost:8080/"
        },
        "id": "vO4c3g30pzrY",
        "outputId": "509eb87f-f0de-4cbc-8f91-d0f65d2b501e"
      },
      "execution_count": null,
      "outputs": [
        {
          "output_type": "execute_result",
          "data": {
            "text/plain": [
              "      AGENCY_ID REPORT_DATE OFFENSE_START_TIME  REPORT_KEY REPORT_CODE  \\\n",
              "76784   Sheriff  2020-03-24           21:30:00  so20-92195          PT   \n",
              "\n",
              "          CATEGORY                  BLOCK_ADDRESS     CITY       ZIP EXTRA_1  \\\n",
              "76784  THEFT-PETIT  8300 Block of BAYOU BOARDWALK  APT 801  SEMINOLE           \n",
              "\n",
              "           EXTRA_2  EXTRA_3  \n",
              "76784  PINELLAS SO  33777.0  "
            ],
            "text/html": [
              "\n",
              "  <div id=\"df-b0631cc8-fc5b-4adb-8516-f708aeeea482\" class=\"colab-df-container\">\n",
              "    <div>\n",
              "<style scoped>\n",
              "    .dataframe tbody tr th:only-of-type {\n",
              "        vertical-align: middle;\n",
              "    }\n",
              "\n",
              "    .dataframe tbody tr th {\n",
              "        vertical-align: top;\n",
              "    }\n",
              "\n",
              "    .dataframe thead th {\n",
              "        text-align: right;\n",
              "    }\n",
              "</style>\n",
              "<table border=\"1\" class=\"dataframe\">\n",
              "  <thead>\n",
              "    <tr style=\"text-align: right;\">\n",
              "      <th></th>\n",
              "      <th>AGENCY_ID</th>\n",
              "      <th>REPORT_DATE</th>\n",
              "      <th>OFFENSE_START_TIME</th>\n",
              "      <th>REPORT_KEY</th>\n",
              "      <th>REPORT_CODE</th>\n",
              "      <th>CATEGORY</th>\n",
              "      <th>BLOCK_ADDRESS</th>\n",
              "      <th>CITY</th>\n",
              "      <th>ZIP</th>\n",
              "      <th>EXTRA_1</th>\n",
              "      <th>EXTRA_2</th>\n",
              "      <th>EXTRA_3</th>\n",
              "    </tr>\n",
              "  </thead>\n",
              "  <tbody>\n",
              "    <tr>\n",
              "      <th>76784</th>\n",
              "      <td>Sheriff</td>\n",
              "      <td>2020-03-24</td>\n",
              "      <td>21:30:00</td>\n",
              "      <td>so20-92195</td>\n",
              "      <td>PT</td>\n",
              "      <td>THEFT-PETIT</td>\n",
              "      <td>8300 Block of BAYOU BOARDWALK</td>\n",
              "      <td>APT 801</td>\n",
              "      <td>SEMINOLE</td>\n",
              "      <td></td>\n",
              "      <td>PINELLAS SO</td>\n",
              "      <td>33777.0</td>\n",
              "    </tr>\n",
              "  </tbody>\n",
              "</table>\n",
              "</div>\n",
              "    <div class=\"colab-df-buttons\">\n",
              "\n",
              "  <div class=\"colab-df-container\">\n",
              "    <button class=\"colab-df-convert\" onclick=\"convertToInteractive('df-b0631cc8-fc5b-4adb-8516-f708aeeea482')\"\n",
              "            title=\"Convert this dataframe to an interactive table.\"\n",
              "            style=\"display:none;\">\n",
              "\n",
              "  <svg xmlns=\"http://www.w3.org/2000/svg\" height=\"24px\" viewBox=\"0 -960 960 960\">\n",
              "    <path d=\"M120-120v-720h720v720H120Zm60-500h600v-160H180v160Zm220 220h160v-160H400v160Zm0 220h160v-160H400v160ZM180-400h160v-160H180v160Zm440 0h160v-160H620v160ZM180-180h160v-160H180v160Zm440 0h160v-160H620v160Z\"/>\n",
              "  </svg>\n",
              "    </button>\n",
              "\n",
              "  <style>\n",
              "    .colab-df-container {\n",
              "      display:flex;\n",
              "      gap: 12px;\n",
              "    }\n",
              "\n",
              "    .colab-df-convert {\n",
              "      background-color: #E8F0FE;\n",
              "      border: none;\n",
              "      border-radius: 50%;\n",
              "      cursor: pointer;\n",
              "      display: none;\n",
              "      fill: #1967D2;\n",
              "      height: 32px;\n",
              "      padding: 0 0 0 0;\n",
              "      width: 32px;\n",
              "    }\n",
              "\n",
              "    .colab-df-convert:hover {\n",
              "      background-color: #E2EBFA;\n",
              "      box-shadow: 0px 1px 2px rgba(60, 64, 67, 0.3), 0px 1px 3px 1px rgba(60, 64, 67, 0.15);\n",
              "      fill: #174EA6;\n",
              "    }\n",
              "\n",
              "    .colab-df-buttons div {\n",
              "      margin-bottom: 4px;\n",
              "    }\n",
              "\n",
              "    [theme=dark] .colab-df-convert {\n",
              "      background-color: #3B4455;\n",
              "      fill: #D2E3FC;\n",
              "    }\n",
              "\n",
              "    [theme=dark] .colab-df-convert:hover {\n",
              "      background-color: #434B5C;\n",
              "      box-shadow: 0px 1px 3px 1px rgba(0, 0, 0, 0.15);\n",
              "      filter: drop-shadow(0px 1px 2px rgba(0, 0, 0, 0.3));\n",
              "      fill: #FFFFFF;\n",
              "    }\n",
              "  </style>\n",
              "\n",
              "    <script>\n",
              "      const buttonEl =\n",
              "        document.querySelector('#df-b0631cc8-fc5b-4adb-8516-f708aeeea482 button.colab-df-convert');\n",
              "      buttonEl.style.display =\n",
              "        google.colab.kernel.accessAllowed ? 'block' : 'none';\n",
              "\n",
              "      async function convertToInteractive(key) {\n",
              "        const element = document.querySelector('#df-b0631cc8-fc5b-4adb-8516-f708aeeea482');\n",
              "        const dataTable =\n",
              "          await google.colab.kernel.invokeFunction('convertToInteractive',\n",
              "                                                    [key], {});\n",
              "        if (!dataTable) return;\n",
              "\n",
              "        const docLinkHtml = 'Like what you see? Visit the ' +\n",
              "          '<a target=\"_blank\" href=https://colab.research.google.com/notebooks/data_table.ipynb>data table notebook</a>'\n",
              "          + ' to learn more about interactive tables.';\n",
              "        element.innerHTML = '';\n",
              "        dataTable['output_type'] = 'display_data';\n",
              "        await google.colab.output.renderOutput(dataTable, element);\n",
              "        const docLink = document.createElement('div');\n",
              "        docLink.innerHTML = docLinkHtml;\n",
              "        element.appendChild(docLink);\n",
              "      }\n",
              "    </script>\n",
              "  </div>\n",
              "\n",
              "\n",
              "    </div>\n",
              "  </div>\n"
            ],
            "application/vnd.google.colaboratory.intrinsic+json": {
              "type": "dataframe",
              "repr_error": "0"
            }
          },
          "metadata": {},
          "execution_count": 97
        }
      ]
    },
    {
      "cell_type": "markdown",
      "source": [
        "EXTRA_1 is null, EXTRA_2 is Pinellas SO(I think this means pinesllas sheriff's office), and EXTRA_3 is the zip code.\n",
        "CITY is the apartment number while ZIP is the CITY. I just need to adjust some of these.\n",
        "I will make the CITY=SEMINOLE and the ZIP=33777. I will make extra_1,extra_2, and extra_3 null.\n",
        "\n",
        "WHAT IS THAT OFFENSE_START_TIME ??? It has a date and military time. NOT what I expect to see there."
      ],
      "metadata": {
        "id": "9XGIq_Ndq6rS"
      }
    },
    {
      "cell_type": "code",
      "source": [
        "crime_data.iloc[76784,crime_data.columns.get_loc('ZIP')] = 33777\n",
        "crime_data.iloc[76784,crime_data.columns.get_loc('CITY')] = 'SEMINOLE'\n",
        "crime_data.iloc[76784,crime_data.columns.get_loc('EXTRA_1')] = np.nan\n",
        "crime_data.iloc[76784,crime_data.columns.get_loc('EXTRA_2')] = np.nan\n",
        "crime_data.iloc[76784,crime_data.columns.get_loc('EXTRA_3')] = np.nan\n",
        "crime_data.iloc[76784,:]"
      ],
      "metadata": {
        "colab": {
          "base_uri": "https://localhost:8080/"
        },
        "id": "kwnKfip0sQNF",
        "outputId": "458db9a0-a423-4cd3-85f2-bb10111e4087"
      },
      "execution_count": null,
      "outputs": [
        {
          "output_type": "execute_result",
          "data": {
            "text/plain": [
              "AGENCY_ID                                   Sheriff\n",
              "REPORT_DATE                     2020-03-24 00:00:00\n",
              "OFFENSE_START_TIME                         21:30:00\n",
              "REPORT_KEY                               so20-92195\n",
              "REPORT_CODE                                      PT\n",
              "CATEGORY                                THEFT-PETIT\n",
              "BLOCK_ADDRESS         8300 Block of BAYOU BOARDWALK\n",
              "CITY                                       SEMINOLE\n",
              "ZIP                                           33777\n",
              "EXTRA_1                                         NaN\n",
              "EXTRA_2                                         NaN\n",
              "EXTRA_3                                         NaN\n",
              "Name: 76784, dtype: object"
            ],
            "text/html": [
              "<div>\n",
              "<style scoped>\n",
              "    .dataframe tbody tr th:only-of-type {\n",
              "        vertical-align: middle;\n",
              "    }\n",
              "\n",
              "    .dataframe tbody tr th {\n",
              "        vertical-align: top;\n",
              "    }\n",
              "\n",
              "    .dataframe thead th {\n",
              "        text-align: right;\n",
              "    }\n",
              "</style>\n",
              "<table border=\"1\" class=\"dataframe\">\n",
              "  <thead>\n",
              "    <tr style=\"text-align: right;\">\n",
              "      <th></th>\n",
              "      <th>76784</th>\n",
              "    </tr>\n",
              "  </thead>\n",
              "  <tbody>\n",
              "    <tr>\n",
              "      <th>AGENCY_ID</th>\n",
              "      <td>Sheriff</td>\n",
              "    </tr>\n",
              "    <tr>\n",
              "      <th>REPORT_DATE</th>\n",
              "      <td>2020-03-24 00:00:00</td>\n",
              "    </tr>\n",
              "    <tr>\n",
              "      <th>OFFENSE_START_TIME</th>\n",
              "      <td>21:30:00</td>\n",
              "    </tr>\n",
              "    <tr>\n",
              "      <th>REPORT_KEY</th>\n",
              "      <td>so20-92195</td>\n",
              "    </tr>\n",
              "    <tr>\n",
              "      <th>REPORT_CODE</th>\n",
              "      <td>PT</td>\n",
              "    </tr>\n",
              "    <tr>\n",
              "      <th>CATEGORY</th>\n",
              "      <td>THEFT-PETIT</td>\n",
              "    </tr>\n",
              "    <tr>\n",
              "      <th>BLOCK_ADDRESS</th>\n",
              "      <td>8300 Block of BAYOU BOARDWALK</td>\n",
              "    </tr>\n",
              "    <tr>\n",
              "      <th>CITY</th>\n",
              "      <td>SEMINOLE</td>\n",
              "    </tr>\n",
              "    <tr>\n",
              "      <th>ZIP</th>\n",
              "      <td>33777</td>\n",
              "    </tr>\n",
              "    <tr>\n",
              "      <th>EXTRA_1</th>\n",
              "      <td>NaN</td>\n",
              "    </tr>\n",
              "    <tr>\n",
              "      <th>EXTRA_2</th>\n",
              "      <td>NaN</td>\n",
              "    </tr>\n",
              "    <tr>\n",
              "      <th>EXTRA_3</th>\n",
              "      <td>NaN</td>\n",
              "    </tr>\n",
              "  </tbody>\n",
              "</table>\n",
              "</div><br><label><b>dtype:</b> object</label>"
            ]
          },
          "metadata": {},
          "execution_count": 98
        }
      ]
    },
    {
      "cell_type": "code",
      "source": [
        "crime_data.info()"
      ],
      "metadata": {
        "colab": {
          "base_uri": "https://localhost:8080/"
        },
        "id": "6GU3ZOJStTJ8",
        "outputId": "1252ebba-b73b-4dce-912b-6780d1f01633"
      },
      "execution_count": null,
      "outputs": [
        {
          "output_type": "stream",
          "name": "stdout",
          "text": [
            "<class 'pandas.core.frame.DataFrame'>\n",
            "RangeIndex: 186026 entries, 0 to 186025\n",
            "Data columns (total 12 columns):\n",
            " #   Column              Non-Null Count   Dtype         \n",
            "---  ------              --------------   -----         \n",
            " 0   AGENCY_ID           186026 non-null  object        \n",
            " 1   REPORT_DATE         186026 non-null  datetime64[ns]\n",
            " 2   OFFENSE_START_TIME  175315 non-null  object        \n",
            " 3   REPORT_KEY          186026 non-null  object        \n",
            " 4   REPORT_CODE         186026 non-null  object        \n",
            " 5   CATEGORY            186026 non-null  category      \n",
            " 6   BLOCK_ADDRESS       170583 non-null  object        \n",
            " 7   CITY                185657 non-null  object        \n",
            " 8   ZIP                 178494 non-null  object        \n",
            " 9   EXTRA_1             326 non-null     object        \n",
            " 10  EXTRA_2             79 non-null      object        \n",
            " 11  EXTRA_3             0 non-null       float64       \n",
            "dtypes: category(1), datetime64[ns](1), float64(1), object(9)\n",
            "memory usage: 15.8+ MB\n"
          ]
        }
      ]
    },
    {
      "cell_type": "markdown",
      "source": [
        "EXTRA_3 is now all null. Perfect to drop and then inspect rows with non-null EXTRA_2 columns.\n"
      ],
      "metadata": {
        "id": "r41TBAyktfjL"
      }
    },
    {
      "cell_type": "markdown",
      "source": [
        "###Working on columns with non-null EXTRA_2"
      ],
      "metadata": {
        "id": "Msd5bLxV2ncX"
      }
    },
    {
      "cell_type": "code",
      "source": [
        "crime_data.info()"
      ],
      "metadata": {
        "colab": {
          "base_uri": "https://localhost:8080/"
        },
        "id": "qMKMjaP8tQwf",
        "outputId": "c74e40d8-c9cb-43a3-c4a9-b2659a9acec8"
      },
      "execution_count": null,
      "outputs": [
        {
          "output_type": "stream",
          "name": "stdout",
          "text": [
            "<class 'pandas.core.frame.DataFrame'>\n",
            "RangeIndex: 186026 entries, 0 to 186025\n",
            "Data columns (total 12 columns):\n",
            " #   Column              Non-Null Count   Dtype         \n",
            "---  ------              --------------   -----         \n",
            " 0   AGENCY_ID           186026 non-null  object        \n",
            " 1   REPORT_DATE         186026 non-null  datetime64[ns]\n",
            " 2   OFFENSE_START_TIME  175315 non-null  object        \n",
            " 3   REPORT_KEY          186026 non-null  object        \n",
            " 4   REPORT_CODE         186026 non-null  object        \n",
            " 5   CATEGORY            186026 non-null  category      \n",
            " 6   BLOCK_ADDRESS       170583 non-null  object        \n",
            " 7   CITY                185657 non-null  object        \n",
            " 8   ZIP                 178494 non-null  object        \n",
            " 9   EXTRA_1             326 non-null     object        \n",
            " 10  EXTRA_2             79 non-null      object        \n",
            " 11  EXTRA_3             0 non-null       float64       \n",
            "dtypes: category(1), datetime64[ns](1), float64(1), object(9)\n",
            "memory usage: 15.8+ MB\n"
          ]
        }
      ]
    },
    {
      "cell_type": "code",
      "source": [
        "crime_data.drop(['EXTRA_3'],axis=1,inplace=True)"
      ],
      "metadata": {
        "collapsed": true,
        "id": "iEivU2XottfH"
      },
      "execution_count": null,
      "outputs": []
    },
    {
      "cell_type": "markdown",
      "source": [
        "####Cleaning process.\n",
        "* Examine the first value that is non-na in the EXTRA_2 column\n",
        "* Identify a feature to select on that gets the first value(not index value)\n",
        "* Target the feature to see what other records come up.\n",
        "* If all the records targeted have the same problem, fix the problem in the #Make Changes cell\n",
        "* If all the records don't have the same problem, narrow the target some more.\n",
        "* Record all changes that are done in the #Make Changes cell in the #Record Changes Here Cell\n",
        "* Repeat process with EXTRA_1 column"
      ],
      "metadata": {
        "id": "uAdGw7HpKRzm"
      }
    },
    {
      "cell_type": "code",
      "source": [
        "crime_data[crime_data['EXTRA_1'].notna()]"
      ],
      "metadata": {
        "colab": {
          "base_uri": "https://localhost:8080/"
        },
        "id": "r11IBx7ftwjt",
        "outputId": "11f8b751-74cd-4621-8b26-55e50b6add91"
      },
      "execution_count": null,
      "outputs": [
        {
          "output_type": "execute_result",
          "data": {
            "text/plain": [
              "                AGENCY_ID REPORT_DATE OFFENSE_START_TIME   REPORT_KEY  \\\n",
              "373               Sheriff  2024-05-16           17:30:00  SO24-150505   \n",
              "609     Tarpon Springs PD  2024-05-28           12:16:00   TS24-16609   \n",
              "1384              Sheriff  2024-06-22           21:37:00  SO24-192824   \n",
              "1680              Sheriff  2024-06-22           21:37:00  SO24-192824   \n",
              "2269    Tarpon Springs PD  2024-03-10           10:29:00    TS24-7817   \n",
              "...                   ...         ...                ...          ...   \n",
              "176693           Largo PD  2016-05-11                NaT     16005134   \n",
              "176849           Largo PD  2016-05-11           03:30:00     16005134   \n",
              "177774           Largo PD  2016-04-28                NaT     16004669   \n",
              "177776           Largo PD  2016-04-28                NaT     16004697   \n",
              "178381           Largo PD  2016-04-27                NaT     16004658   \n",
              "\n",
              "       REPORT_CODE            CATEGORY                 BLOCK_ADDRESS  \\\n",
              "373            CMF   VANDAL/CRIM MISCH           500 Block of ALT 19   \n",
              "609           LSAP    TRAFFIC ACCIDENT         ALT 19 & E TARPON AVE   \n",
              "1384            PT         THEFT-PETIT           700 Block of ALT 19   \n",
              "1680            PT         THEFT-PETIT           700 Block of ALT 19   \n",
              "2269          LSAP    TRAFFIC ACCIDENT           ALT 19 & MERES BLVD   \n",
              "...            ...                 ...                           ...   \n",
              "176693        0690         THEFT-PETIT                           NaN   \n",
              "176849        0690         THEFT-PETIT  1900 Block of BROOKSTONE WAY   \n",
              "177774        0520  BURGLARY-STRUCTURE                           NaN   \n",
              "177776        0520  BURGLARY-STRUCTURE                           NaN   \n",
              "178381        0510  BURGLARY-STRUCTURE                           NaN   \n",
              "\n",
              "                  CITY             ZIP         EXTRA_1  EXTRA_2  \n",
              "373     UNINCORPORATED     PINELLAS SO         34698.0      NaN  \n",
              "609     TARPON SPRINGS  TARPON SPRINGS         34689.0      NaN  \n",
              "1384       PALM HARBOR         34683.0     PINELLAS SO  34683.0  \n",
              "1680       PALM HARBOR         34683.0     PINELLAS SO  34683.0  \n",
              "2269    TARPON SPRINGS           346.0  TARPON SPRINGS  34689.0  \n",
              "...                ...             ...             ...      ...  \n",
              "176693      CLEARWATER             NaN         33760.0      NaN  \n",
              "176849      CLEARWATER             NaN         33760.0      NaN  \n",
              "177774      CLEARWATER             NaN         33764.0      NaN  \n",
              "177776      CLEARWATER             NaN         33756.0      NaN  \n",
              "178381      CLEARWATER             NaN         33764.0      NaN  \n",
              "\n",
              "[326 rows x 11 columns]"
            ],
            "text/html": [
              "\n",
              "  <div id=\"df-f3b394e5-a365-4d6d-8663-2830a2ddaf92\" class=\"colab-df-container\">\n",
              "    <div>\n",
              "<style scoped>\n",
              "    .dataframe tbody tr th:only-of-type {\n",
              "        vertical-align: middle;\n",
              "    }\n",
              "\n",
              "    .dataframe tbody tr th {\n",
              "        vertical-align: top;\n",
              "    }\n",
              "\n",
              "    .dataframe thead th {\n",
              "        text-align: right;\n",
              "    }\n",
              "</style>\n",
              "<table border=\"1\" class=\"dataframe\">\n",
              "  <thead>\n",
              "    <tr style=\"text-align: right;\">\n",
              "      <th></th>\n",
              "      <th>AGENCY_ID</th>\n",
              "      <th>REPORT_DATE</th>\n",
              "      <th>OFFENSE_START_TIME</th>\n",
              "      <th>REPORT_KEY</th>\n",
              "      <th>REPORT_CODE</th>\n",
              "      <th>CATEGORY</th>\n",
              "      <th>BLOCK_ADDRESS</th>\n",
              "      <th>CITY</th>\n",
              "      <th>ZIP</th>\n",
              "      <th>EXTRA_1</th>\n",
              "      <th>EXTRA_2</th>\n",
              "    </tr>\n",
              "  </thead>\n",
              "  <tbody>\n",
              "    <tr>\n",
              "      <th>373</th>\n",
              "      <td>Sheriff</td>\n",
              "      <td>2024-05-16</td>\n",
              "      <td>17:30:00</td>\n",
              "      <td>SO24-150505</td>\n",
              "      <td>CMF</td>\n",
              "      <td>VANDAL/CRIM MISCH</td>\n",
              "      <td>500 Block of ALT 19</td>\n",
              "      <td>UNINCORPORATED</td>\n",
              "      <td>PINELLAS SO</td>\n",
              "      <td>34698.0</td>\n",
              "      <td>NaN</td>\n",
              "    </tr>\n",
              "    <tr>\n",
              "      <th>609</th>\n",
              "      <td>Tarpon Springs PD</td>\n",
              "      <td>2024-05-28</td>\n",
              "      <td>12:16:00</td>\n",
              "      <td>TS24-16609</td>\n",
              "      <td>LSAP</td>\n",
              "      <td>TRAFFIC ACCIDENT</td>\n",
              "      <td>ALT 19 &amp; E TARPON AVE</td>\n",
              "      <td>TARPON SPRINGS</td>\n",
              "      <td>TARPON SPRINGS</td>\n",
              "      <td>34689.0</td>\n",
              "      <td>NaN</td>\n",
              "    </tr>\n",
              "    <tr>\n",
              "      <th>1384</th>\n",
              "      <td>Sheriff</td>\n",
              "      <td>2024-06-22</td>\n",
              "      <td>21:37:00</td>\n",
              "      <td>SO24-192824</td>\n",
              "      <td>PT</td>\n",
              "      <td>THEFT-PETIT</td>\n",
              "      <td>700 Block of ALT 19</td>\n",
              "      <td>PALM HARBOR</td>\n",
              "      <td>34683.0</td>\n",
              "      <td>PINELLAS SO</td>\n",
              "      <td>34683.0</td>\n",
              "    </tr>\n",
              "    <tr>\n",
              "      <th>1680</th>\n",
              "      <td>Sheriff</td>\n",
              "      <td>2024-06-22</td>\n",
              "      <td>21:37:00</td>\n",
              "      <td>SO24-192824</td>\n",
              "      <td>PT</td>\n",
              "      <td>THEFT-PETIT</td>\n",
              "      <td>700 Block of ALT 19</td>\n",
              "      <td>PALM HARBOR</td>\n",
              "      <td>34683.0</td>\n",
              "      <td>PINELLAS SO</td>\n",
              "      <td>34683.0</td>\n",
              "    </tr>\n",
              "    <tr>\n",
              "      <th>2269</th>\n",
              "      <td>Tarpon Springs PD</td>\n",
              "      <td>2024-03-10</td>\n",
              "      <td>10:29:00</td>\n",
              "      <td>TS24-7817</td>\n",
              "      <td>LSAP</td>\n",
              "      <td>TRAFFIC ACCIDENT</td>\n",
              "      <td>ALT 19 &amp; MERES BLVD</td>\n",
              "      <td>TARPON SPRINGS</td>\n",
              "      <td>346.0</td>\n",
              "      <td>TARPON SPRINGS</td>\n",
              "      <td>34689.0</td>\n",
              "    </tr>\n",
              "    <tr>\n",
              "      <th>...</th>\n",
              "      <td>...</td>\n",
              "      <td>...</td>\n",
              "      <td>...</td>\n",
              "      <td>...</td>\n",
              "      <td>...</td>\n",
              "      <td>...</td>\n",
              "      <td>...</td>\n",
              "      <td>...</td>\n",
              "      <td>...</td>\n",
              "      <td>...</td>\n",
              "      <td>...</td>\n",
              "    </tr>\n",
              "    <tr>\n",
              "      <th>176693</th>\n",
              "      <td>Largo PD</td>\n",
              "      <td>2016-05-11</td>\n",
              "      <td>NaT</td>\n",
              "      <td>16005134</td>\n",
              "      <td>0690</td>\n",
              "      <td>THEFT-PETIT</td>\n",
              "      <td>NaN</td>\n",
              "      <td>CLEARWATER</td>\n",
              "      <td>NaN</td>\n",
              "      <td>33760.0</td>\n",
              "      <td>NaN</td>\n",
              "    </tr>\n",
              "    <tr>\n",
              "      <th>176849</th>\n",
              "      <td>Largo PD</td>\n",
              "      <td>2016-05-11</td>\n",
              "      <td>03:30:00</td>\n",
              "      <td>16005134</td>\n",
              "      <td>0690</td>\n",
              "      <td>THEFT-PETIT</td>\n",
              "      <td>1900 Block of BROOKSTONE WAY</td>\n",
              "      <td>CLEARWATER</td>\n",
              "      <td>NaN</td>\n",
              "      <td>33760.0</td>\n",
              "      <td>NaN</td>\n",
              "    </tr>\n",
              "    <tr>\n",
              "      <th>177774</th>\n",
              "      <td>Largo PD</td>\n",
              "      <td>2016-04-28</td>\n",
              "      <td>NaT</td>\n",
              "      <td>16004669</td>\n",
              "      <td>0520</td>\n",
              "      <td>BURGLARY-STRUCTURE</td>\n",
              "      <td>NaN</td>\n",
              "      <td>CLEARWATER</td>\n",
              "      <td>NaN</td>\n",
              "      <td>33764.0</td>\n",
              "      <td>NaN</td>\n",
              "    </tr>\n",
              "    <tr>\n",
              "      <th>177776</th>\n",
              "      <td>Largo PD</td>\n",
              "      <td>2016-04-28</td>\n",
              "      <td>NaT</td>\n",
              "      <td>16004697</td>\n",
              "      <td>0520</td>\n",
              "      <td>BURGLARY-STRUCTURE</td>\n",
              "      <td>NaN</td>\n",
              "      <td>CLEARWATER</td>\n",
              "      <td>NaN</td>\n",
              "      <td>33756.0</td>\n",
              "      <td>NaN</td>\n",
              "    </tr>\n",
              "    <tr>\n",
              "      <th>178381</th>\n",
              "      <td>Largo PD</td>\n",
              "      <td>2016-04-27</td>\n",
              "      <td>NaT</td>\n",
              "      <td>16004658</td>\n",
              "      <td>0510</td>\n",
              "      <td>BURGLARY-STRUCTURE</td>\n",
              "      <td>NaN</td>\n",
              "      <td>CLEARWATER</td>\n",
              "      <td>NaN</td>\n",
              "      <td>33764.0</td>\n",
              "      <td>NaN</td>\n",
              "    </tr>\n",
              "  </tbody>\n",
              "</table>\n",
              "<p>326 rows × 11 columns</p>\n",
              "</div>\n",
              "    <div class=\"colab-df-buttons\">\n",
              "\n",
              "  <div class=\"colab-df-container\">\n",
              "    <button class=\"colab-df-convert\" onclick=\"convertToInteractive('df-f3b394e5-a365-4d6d-8663-2830a2ddaf92')\"\n",
              "            title=\"Convert this dataframe to an interactive table.\"\n",
              "            style=\"display:none;\">\n",
              "\n",
              "  <svg xmlns=\"http://www.w3.org/2000/svg\" height=\"24px\" viewBox=\"0 -960 960 960\">\n",
              "    <path d=\"M120-120v-720h720v720H120Zm60-500h600v-160H180v160Zm220 220h160v-160H400v160Zm0 220h160v-160H400v160ZM180-400h160v-160H180v160Zm440 0h160v-160H620v160ZM180-180h160v-160H180v160Zm440 0h160v-160H620v160Z\"/>\n",
              "  </svg>\n",
              "    </button>\n",
              "\n",
              "  <style>\n",
              "    .colab-df-container {\n",
              "      display:flex;\n",
              "      gap: 12px;\n",
              "    }\n",
              "\n",
              "    .colab-df-convert {\n",
              "      background-color: #E8F0FE;\n",
              "      border: none;\n",
              "      border-radius: 50%;\n",
              "      cursor: pointer;\n",
              "      display: none;\n",
              "      fill: #1967D2;\n",
              "      height: 32px;\n",
              "      padding: 0 0 0 0;\n",
              "      width: 32px;\n",
              "    }\n",
              "\n",
              "    .colab-df-convert:hover {\n",
              "      background-color: #E2EBFA;\n",
              "      box-shadow: 0px 1px 2px rgba(60, 64, 67, 0.3), 0px 1px 3px 1px rgba(60, 64, 67, 0.15);\n",
              "      fill: #174EA6;\n",
              "    }\n",
              "\n",
              "    .colab-df-buttons div {\n",
              "      margin-bottom: 4px;\n",
              "    }\n",
              "\n",
              "    [theme=dark] .colab-df-convert {\n",
              "      background-color: #3B4455;\n",
              "      fill: #D2E3FC;\n",
              "    }\n",
              "\n",
              "    [theme=dark] .colab-df-convert:hover {\n",
              "      background-color: #434B5C;\n",
              "      box-shadow: 0px 1px 3px 1px rgba(0, 0, 0, 0.15);\n",
              "      filter: drop-shadow(0px 1px 2px rgba(0, 0, 0, 0.3));\n",
              "      fill: #FFFFFF;\n",
              "    }\n",
              "  </style>\n",
              "\n",
              "    <script>\n",
              "      const buttonEl =\n",
              "        document.querySelector('#df-f3b394e5-a365-4d6d-8663-2830a2ddaf92 button.colab-df-convert');\n",
              "      buttonEl.style.display =\n",
              "        google.colab.kernel.accessAllowed ? 'block' : 'none';\n",
              "\n",
              "      async function convertToInteractive(key) {\n",
              "        const element = document.querySelector('#df-f3b394e5-a365-4d6d-8663-2830a2ddaf92');\n",
              "        const dataTable =\n",
              "          await google.colab.kernel.invokeFunction('convertToInteractive',\n",
              "                                                    [key], {});\n",
              "        if (!dataTable) return;\n",
              "\n",
              "        const docLinkHtml = 'Like what you see? Visit the ' +\n",
              "          '<a target=\"_blank\" href=https://colab.research.google.com/notebooks/data_table.ipynb>data table notebook</a>'\n",
              "          + ' to learn more about interactive tables.';\n",
              "        element.innerHTML = '';\n",
              "        dataTable['output_type'] = 'display_data';\n",
              "        await google.colab.output.renderOutput(dataTable, element);\n",
              "        const docLink = document.createElement('div');\n",
              "        docLink.innerHTML = docLinkHtml;\n",
              "        element.appendChild(docLink);\n",
              "      }\n",
              "    </script>\n",
              "  </div>\n",
              "\n",
              "\n",
              "<div id=\"df-005ded7e-6970-4477-80af-cbbe5dd92b58\">\n",
              "  <button class=\"colab-df-quickchart\" onclick=\"quickchart('df-005ded7e-6970-4477-80af-cbbe5dd92b58')\"\n",
              "            title=\"Suggest charts\"\n",
              "            style=\"display:none;\">\n",
              "\n",
              "<svg xmlns=\"http://www.w3.org/2000/svg\" height=\"24px\"viewBox=\"0 0 24 24\"\n",
              "     width=\"24px\">\n",
              "    <g>\n",
              "        <path d=\"M19 3H5c-1.1 0-2 .9-2 2v14c0 1.1.9 2 2 2h14c1.1 0 2-.9 2-2V5c0-1.1-.9-2-2-2zM9 17H7v-7h2v7zm4 0h-2V7h2v10zm4 0h-2v-4h2v4z\"/>\n",
              "    </g>\n",
              "</svg>\n",
              "  </button>\n",
              "\n",
              "<style>\n",
              "  .colab-df-quickchart {\n",
              "      --bg-color: #E8F0FE;\n",
              "      --fill-color: #1967D2;\n",
              "      --hover-bg-color: #E2EBFA;\n",
              "      --hover-fill-color: #174EA6;\n",
              "      --disabled-fill-color: #AAA;\n",
              "      --disabled-bg-color: #DDD;\n",
              "  }\n",
              "\n",
              "  [theme=dark] .colab-df-quickchart {\n",
              "      --bg-color: #3B4455;\n",
              "      --fill-color: #D2E3FC;\n",
              "      --hover-bg-color: #434B5C;\n",
              "      --hover-fill-color: #FFFFFF;\n",
              "      --disabled-bg-color: #3B4455;\n",
              "      --disabled-fill-color: #666;\n",
              "  }\n",
              "\n",
              "  .colab-df-quickchart {\n",
              "    background-color: var(--bg-color);\n",
              "    border: none;\n",
              "    border-radius: 50%;\n",
              "    cursor: pointer;\n",
              "    display: none;\n",
              "    fill: var(--fill-color);\n",
              "    height: 32px;\n",
              "    padding: 0;\n",
              "    width: 32px;\n",
              "  }\n",
              "\n",
              "  .colab-df-quickchart:hover {\n",
              "    background-color: var(--hover-bg-color);\n",
              "    box-shadow: 0 1px 2px rgba(60, 64, 67, 0.3), 0 1px 3px 1px rgba(60, 64, 67, 0.15);\n",
              "    fill: var(--button-hover-fill-color);\n",
              "  }\n",
              "\n",
              "  .colab-df-quickchart-complete:disabled,\n",
              "  .colab-df-quickchart-complete:disabled:hover {\n",
              "    background-color: var(--disabled-bg-color);\n",
              "    fill: var(--disabled-fill-color);\n",
              "    box-shadow: none;\n",
              "  }\n",
              "\n",
              "  .colab-df-spinner {\n",
              "    border: 2px solid var(--fill-color);\n",
              "    border-color: transparent;\n",
              "    border-bottom-color: var(--fill-color);\n",
              "    animation:\n",
              "      spin 1s steps(1) infinite;\n",
              "  }\n",
              "\n",
              "  @keyframes spin {\n",
              "    0% {\n",
              "      border-color: transparent;\n",
              "      border-bottom-color: var(--fill-color);\n",
              "      border-left-color: var(--fill-color);\n",
              "    }\n",
              "    20% {\n",
              "      border-color: transparent;\n",
              "      border-left-color: var(--fill-color);\n",
              "      border-top-color: var(--fill-color);\n",
              "    }\n",
              "    30% {\n",
              "      border-color: transparent;\n",
              "      border-left-color: var(--fill-color);\n",
              "      border-top-color: var(--fill-color);\n",
              "      border-right-color: var(--fill-color);\n",
              "    }\n",
              "    40% {\n",
              "      border-color: transparent;\n",
              "      border-right-color: var(--fill-color);\n",
              "      border-top-color: var(--fill-color);\n",
              "    }\n",
              "    60% {\n",
              "      border-color: transparent;\n",
              "      border-right-color: var(--fill-color);\n",
              "    }\n",
              "    80% {\n",
              "      border-color: transparent;\n",
              "      border-right-color: var(--fill-color);\n",
              "      border-bottom-color: var(--fill-color);\n",
              "    }\n",
              "    90% {\n",
              "      border-color: transparent;\n",
              "      border-bottom-color: var(--fill-color);\n",
              "    }\n",
              "  }\n",
              "</style>\n",
              "\n",
              "  <script>\n",
              "    async function quickchart(key) {\n",
              "      const quickchartButtonEl =\n",
              "        document.querySelector('#' + key + ' button');\n",
              "      quickchartButtonEl.disabled = true;  // To prevent multiple clicks.\n",
              "      quickchartButtonEl.classList.add('colab-df-spinner');\n",
              "      try {\n",
              "        const charts = await google.colab.kernel.invokeFunction(\n",
              "            'suggestCharts', [key], {});\n",
              "      } catch (error) {\n",
              "        console.error('Error during call to suggestCharts:', error);\n",
              "      }\n",
              "      quickchartButtonEl.classList.remove('colab-df-spinner');\n",
              "      quickchartButtonEl.classList.add('colab-df-quickchart-complete');\n",
              "    }\n",
              "    (() => {\n",
              "      let quickchartButtonEl =\n",
              "        document.querySelector('#df-005ded7e-6970-4477-80af-cbbe5dd92b58 button');\n",
              "      quickchartButtonEl.style.display =\n",
              "        google.colab.kernel.accessAllowed ? 'block' : 'none';\n",
              "    })();\n",
              "  </script>\n",
              "</div>\n",
              "\n",
              "    </div>\n",
              "  </div>\n"
            ],
            "application/vnd.google.colaboratory.intrinsic+json": {
              "type": "dataframe",
              "summary": "{\n  \"name\": \"crime_data[crime_data['EXTRA_1']\",\n  \"rows\": 326,\n  \"fields\": [\n    {\n      \"column\": \"AGENCY_ID\",\n      \"properties\": {\n        \"dtype\": \"category\",\n        \"num_unique_values\": 6,\n        \"samples\": [\n          \"Sheriff\",\n          \"Tarpon Springs PD\",\n          \"Largo PD\"\n        ],\n        \"semantic_type\": \"\",\n        \"description\": \"\"\n      }\n    },\n    {\n      \"column\": \"REPORT_DATE\",\n      \"properties\": {\n        \"dtype\": \"date\",\n        \"min\": \"2016-04-27 00:00:00\",\n        \"max\": \"2024-07-06 00:00:00\",\n        \"num_unique_values\": 266,\n        \"samples\": [\n          \"2019-05-14 00:00:00\",\n          \"2021-06-13 00:00:00\",\n          \"2020-09-16 00:00:00\"\n        ],\n        \"semantic_type\": \"\",\n        \"description\": \"\"\n      }\n    },\n    {\n      \"column\": \"OFFENSE_START_TIME\",\n      \"properties\": {\n        \"dtype\": \"string\",\n        \"num_unique_values\": 176,\n        \"samples\": [\n          \"17:39:00\",\n          \"08:29:00\",\n          \"19:21:00\"\n        ],\n        \"semantic_type\": \"\",\n        \"description\": \"\"\n      }\n    },\n    {\n      \"column\": \"REPORT_KEY\",\n      \"properties\": {\n        \"dtype\": \"string\",\n        \"num_unique_values\": 291,\n        \"samples\": [\n          \"SO22-163107\",\n          \"17012945\",\n          \"SO23-64588\"\n        ],\n        \"semantic_type\": \"\",\n        \"description\": \"\"\n      }\n    },\n    {\n      \"column\": \"REPORT_CODE\",\n      \"properties\": {\n        \"dtype\": \"category\",\n        \"num_unique_values\": 50,\n        \"samples\": [\n          \"PTS\",\n          \"1550\",\n          \"PTTB\"\n        ],\n        \"semantic_type\": \"\",\n        \"description\": \"\"\n      }\n    },\n    {\n      \"column\": \"CATEGORY\",\n      \"properties\": {\n        \"dtype\": \"category\",\n        \"num_unique_values\": 21,\n        \"samples\": [\n          \"VANDAL/CRIM MISCH\",\n          \"BURGLARY-STRUCTURE\",\n          \"MISSING PERSON\"\n        ],\n        \"semantic_type\": \"\",\n        \"description\": \"\"\n      }\n    },\n    {\n      \"column\": \"BLOCK_ADDRESS\",\n      \"properties\": {\n        \"dtype\": \"category\",\n        \"num_unique_values\": 109,\n        \"samples\": [\n          \"400 Block of THANINGTON CLOSE\",\n          \"ALT 19 & TERRACE RD\",\n          \"2700 Block of VIA CIPRIANI\"\n        ],\n        \"semantic_type\": \"\",\n        \"description\": \"\"\n      }\n    },\n    {\n      \"column\": \"CITY\",\n      \"properties\": {\n        \"dtype\": \"category\",\n        \"num_unique_values\": 26,\n        \"samples\": [\n          \"LARGO\",\n          \"APT A\",\n          \"UNINCORPORATED\"\n        ],\n        \"semantic_type\": \"\",\n        \"description\": \"\"\n      }\n    },\n    {\n      \"column\": \"ZIP\",\n      \"properties\": {\n        \"dtype\": \"category\",\n        \"num_unique_values\": 32,\n        \"samples\": [\n          \"3\",\n          \"GULFPORT\",\n          \"34\"\n        ],\n        \"semantic_type\": \"\",\n        \"description\": \"\"\n      }\n    },\n    {\n      \"column\": \"EXTRA_1\",\n      \"properties\": {\n        \"dtype\": \"category\",\n        \"num_unique_values\": 40,\n        \"samples\": [\n          \"33755.0\",\n          \"33707.0\",\n          \"33761.0\"\n        ],\n        \"semantic_type\": \"\",\n        \"description\": \"\"\n      }\n    },\n    {\n      \"column\": \"EXTRA_2\",\n      \"properties\": {\n        \"dtype\": \"category\",\n        \"num_unique_values\": 11,\n        \"samples\": [\n          \"33764.0\",\n          \"34683.0\",\n          \"33708.0\"\n        ],\n        \"semantic_type\": \"\",\n        \"description\": \"\"\n      }\n    }\n  ]\n}"
            }
          },
          "metadata": {},
          "execution_count": 102
        }
      ]
    },
    {
      "cell_type": "markdown",
      "source": [
        "I am going to have to tailor some of these fixes. I will make all the fixes in indiviual codes. I will then copy the fixing codes into a designated cell that can be run when going through the notebook."
      ],
      "metadata": {
        "id": "PUnoy4bl1R7K"
      }
    },
    {
      "cell_type": "code",
      "source": [
        "#See what is being targeted here\n",
        "#for example:\n",
        "crime_data[crime_data['EXTRA_1']=='33765']"
      ],
      "metadata": {
        "colab": {
          "base_uri": "https://localhost:8080/"
        },
        "id": "aW2-Kmm55M0V",
        "outputId": "11c8140d-80c5-46a4-e386-7a9d020ef178"
      },
      "execution_count": null,
      "outputs": [
        {
          "output_type": "execute_result",
          "data": {
            "text/plain": [
              "           AGENCY_ID REPORT_DATE OFFENSE_START_TIME  REPORT_KEY REPORT_CODE  \\\n",
              "73880  Clearwater PD  2020-05-15                NaT  CW20-71031        LSAP   \n",
              "\n",
              "               CATEGORY                 BLOCK_ADDRESS        CITY         ZIP  \\\n",
              "73880  TRAFFIC ACCIDENT  GULF TO BAY BLVD & BYPASS DR  CLEARWATER  CLEARWATER   \n",
              "\n",
              "      EXTRA_1 EXTRA_2  \n",
              "73880   33765     NaN  "
            ],
            "text/html": [
              "\n",
              "  <div id=\"df-653a824c-396e-4be4-8e42-a1b85d7e90ef\" class=\"colab-df-container\">\n",
              "    <div>\n",
              "<style scoped>\n",
              "    .dataframe tbody tr th:only-of-type {\n",
              "        vertical-align: middle;\n",
              "    }\n",
              "\n",
              "    .dataframe tbody tr th {\n",
              "        vertical-align: top;\n",
              "    }\n",
              "\n",
              "    .dataframe thead th {\n",
              "        text-align: right;\n",
              "    }\n",
              "</style>\n",
              "<table border=\"1\" class=\"dataframe\">\n",
              "  <thead>\n",
              "    <tr style=\"text-align: right;\">\n",
              "      <th></th>\n",
              "      <th>AGENCY_ID</th>\n",
              "      <th>REPORT_DATE</th>\n",
              "      <th>OFFENSE_START_TIME</th>\n",
              "      <th>REPORT_KEY</th>\n",
              "      <th>REPORT_CODE</th>\n",
              "      <th>CATEGORY</th>\n",
              "      <th>BLOCK_ADDRESS</th>\n",
              "      <th>CITY</th>\n",
              "      <th>ZIP</th>\n",
              "      <th>EXTRA_1</th>\n",
              "      <th>EXTRA_2</th>\n",
              "    </tr>\n",
              "  </thead>\n",
              "  <tbody>\n",
              "    <tr>\n",
              "      <th>73880</th>\n",
              "      <td>Clearwater PD</td>\n",
              "      <td>2020-05-15</td>\n",
              "      <td>NaT</td>\n",
              "      <td>CW20-71031</td>\n",
              "      <td>LSAP</td>\n",
              "      <td>TRAFFIC ACCIDENT</td>\n",
              "      <td>GULF TO BAY BLVD &amp; BYPASS DR</td>\n",
              "      <td>CLEARWATER</td>\n",
              "      <td>CLEARWATER</td>\n",
              "      <td>33765</td>\n",
              "      <td>NaN</td>\n",
              "    </tr>\n",
              "  </tbody>\n",
              "</table>\n",
              "</div>\n",
              "    <div class=\"colab-df-buttons\">\n",
              "\n",
              "  <div class=\"colab-df-container\">\n",
              "    <button class=\"colab-df-convert\" onclick=\"convertToInteractive('df-653a824c-396e-4be4-8e42-a1b85d7e90ef')\"\n",
              "            title=\"Convert this dataframe to an interactive table.\"\n",
              "            style=\"display:none;\">\n",
              "\n",
              "  <svg xmlns=\"http://www.w3.org/2000/svg\" height=\"24px\" viewBox=\"0 -960 960 960\">\n",
              "    <path d=\"M120-120v-720h720v720H120Zm60-500h600v-160H180v160Zm220 220h160v-160H400v160Zm0 220h160v-160H400v160ZM180-400h160v-160H180v160Zm440 0h160v-160H620v160ZM180-180h160v-160H180v160Zm440 0h160v-160H620v160Z\"/>\n",
              "  </svg>\n",
              "    </button>\n",
              "\n",
              "  <style>\n",
              "    .colab-df-container {\n",
              "      display:flex;\n",
              "      gap: 12px;\n",
              "    }\n",
              "\n",
              "    .colab-df-convert {\n",
              "      background-color: #E8F0FE;\n",
              "      border: none;\n",
              "      border-radius: 50%;\n",
              "      cursor: pointer;\n",
              "      display: none;\n",
              "      fill: #1967D2;\n",
              "      height: 32px;\n",
              "      padding: 0 0 0 0;\n",
              "      width: 32px;\n",
              "    }\n",
              "\n",
              "    .colab-df-convert:hover {\n",
              "      background-color: #E2EBFA;\n",
              "      box-shadow: 0px 1px 2px rgba(60, 64, 67, 0.3), 0px 1px 3px 1px rgba(60, 64, 67, 0.15);\n",
              "      fill: #174EA6;\n",
              "    }\n",
              "\n",
              "    .colab-df-buttons div {\n",
              "      margin-bottom: 4px;\n",
              "    }\n",
              "\n",
              "    [theme=dark] .colab-df-convert {\n",
              "      background-color: #3B4455;\n",
              "      fill: #D2E3FC;\n",
              "    }\n",
              "\n",
              "    [theme=dark] .colab-df-convert:hover {\n",
              "      background-color: #434B5C;\n",
              "      box-shadow: 0px 1px 3px 1px rgba(0, 0, 0, 0.15);\n",
              "      filter: drop-shadow(0px 1px 2px rgba(0, 0, 0, 0.3));\n",
              "      fill: #FFFFFF;\n",
              "    }\n",
              "  </style>\n",
              "\n",
              "    <script>\n",
              "      const buttonEl =\n",
              "        document.querySelector('#df-653a824c-396e-4be4-8e42-a1b85d7e90ef button.colab-df-convert');\n",
              "      buttonEl.style.display =\n",
              "        google.colab.kernel.accessAllowed ? 'block' : 'none';\n",
              "\n",
              "      async function convertToInteractive(key) {\n",
              "        const element = document.querySelector('#df-653a824c-396e-4be4-8e42-a1b85d7e90ef');\n",
              "        const dataTable =\n",
              "          await google.colab.kernel.invokeFunction('convertToInteractive',\n",
              "                                                    [key], {});\n",
              "        if (!dataTable) return;\n",
              "\n",
              "        const docLinkHtml = 'Like what you see? Visit the ' +\n",
              "          '<a target=\"_blank\" href=https://colab.research.google.com/notebooks/data_table.ipynb>data table notebook</a>'\n",
              "          + ' to learn more about interactive tables.';\n",
              "        element.innerHTML = '';\n",
              "        dataTable['output_type'] = 'display_data';\n",
              "        await google.colab.output.renderOutput(dataTable, element);\n",
              "        const docLink = document.createElement('div');\n",
              "        docLink.innerHTML = docLinkHtml;\n",
              "        element.appendChild(docLink);\n",
              "      }\n",
              "    </script>\n",
              "  </div>\n",
              "\n",
              "\n",
              "    </div>\n",
              "  </div>\n"
            ],
            "application/vnd.google.colaboratory.intrinsic+json": {
              "type": "dataframe",
              "repr_error": "0"
            }
          },
          "metadata": {},
          "execution_count": 103
        }
      ]
    },
    {
      "cell_type": "code",
      "source": [
        "#make changes here\n",
        "#The record here has '33765' in EXTRA_1.\n",
        "#CITY will stay CLEARWATER\n",
        "#ZIPs need to be fixed from CLEARWATER to 33765\n",
        "temp_index = crime_data[crime_data['EXTRA_1']=='33765'].index\n",
        "crime_data.loc[temp_index,'ZIP']='33765'\n",
        "crime_data.loc[temp_index,'CITY']='CLEARWATER'\n",
        "crime_data.loc[temp_index,'EXTRA_1']=np.nan\n",
        "crime_data.loc[temp_index,'EXTRA_2']=np.nan\n"
      ],
      "metadata": {
        "id": "20CMmEUc3Lc6"
      },
      "execution_count": null,
      "outputs": []
    },
    {
      "cell_type": "markdown",
      "source": [
        "####EXTRA_2 fixes\n",
        "\n",
        "Running this will run a set of data cleaning to a make the EXTRA_2 column all null values. Other values like CITY, ZIP, and EXTRA_1 will be cleaned some as well.\n",
        "\n",
        "**Only valid for data from JAN 1st, 2020 to JULY 22nd, 2024.**\n",
        "\n",
        "**When data prior to 2020 is included, this will need to be fixed up again**"
      ],
      "metadata": {
        "id": "wtxSwaO7161k"
      }
    },
    {
      "cell_type": "code",
      "source": [
        "#Record the changes here.\n",
        "#If the CITY column and EXTRA_1 column match, then the EXTRA_1 column can be set to np.nan\n",
        "temp_index = crime_data[crime_data['CITY']==crime_data['EXTRA_1']]\n",
        "crime_data.loc[temp_index.index,'EXTRA_1']=np.nan\n",
        "\n",
        "#If ZIP matches EXTRA_2, then the extra_2 can be np.nan\n",
        "temp_index = crime_data[crime_data['EXTRA_2']==crime_data['ZIP']].index\n",
        "crime_data.loc[temp_index,'EXTRA_2']=np.nan\n",
        "\n",
        "#Fixing zip codes and clearing extra_2 in Tarpon Springs\n",
        "temp_index = crime_data[crime_data['EXTRA_2']=='34689.0'].index\n",
        "crime_data.loc[temp_index,'ZIP']='34689'\n",
        "crime_data.loc[temp_index,'EXTRA_1']=np.nan\n",
        "crime_data.loc[temp_index,'EXTRA_2']=np.nan\n",
        "\n",
        "#Dunedin locations with EXTRA_2=34698.0 have correct city, zip.\n",
        "#EXTRA values are cleared out.\n",
        "temp_index = crime_data[crime_data['EXTRA_2']=='34698.0'].index\n",
        "crime_data.loc[temp_index,'ZIP']='34698'\n",
        "crime_data.loc[temp_index,'CITY']='DUNEDIN'\n",
        "crime_data.loc[temp_index,'EXTRA_1']=np.nan\n",
        "crime_data.loc[temp_index,'EXTRA_2']=np.nan\n",
        "\n",
        "#CROSSING OF COURTNEY CAMPBELL CSWY\n",
        "temp_index = crime_data[crime_data['BLOCK_ADDRESS']=='COURTNEY CAMPBELL CSWY'].index\n",
        "crime_data.loc[temp_index,'ZIP']='33759'\n",
        "crime_data.loc[temp_index,'EXTRA_1']=np.nan\n",
        "crime_data.loc[temp_index,'EXTRA_2']=np.nan\n",
        "\n",
        "#This set has UNINCORPORATED and PALM HARBOR for CITY values\n",
        "#The ZIP 34683 matches EXTRA_2. Need to clearout the EXTRA columns\n",
        "temp_index = crime_data[(crime_data['ZIP']=='34683')&(crime_data['EXTRA_2']=='34683.0')].index\n",
        "crime_data.loc[temp_index,'EXTRA_1']=np.nan\n",
        "crime_data.loc[temp_index,'EXTRA_2']=np.nan\n",
        "\n",
        "#This location needed ZIP added from EXTRA_2\n",
        "#Need to clearout the EXTRA columns\n",
        "temp_index = crime_data[crime_data['EXTRA_2']=='33773.0'].index\n",
        "crime_data.loc[temp_index,'ZIP']='33773'\n",
        "crime_data.loc[temp_index,'EXTRA_1']=np.nan\n",
        "crime_data.loc[temp_index,'EXTRA_2']=np.nan\n",
        "\n",
        "#CITY and ZIP look fine\n",
        "#Need to clearout the EXTRA columns\n",
        "temp_index = crime_data[crime_data['EXTRA_2']=='33764.0'].index\n",
        "crime_data.loc[temp_index,'ZIP']='33764'\n",
        "crime_data.loc[temp_index,'EXTRA_1']=np.nan\n",
        "crime_data.loc[temp_index,'EXTRA_2']=np.nan\n",
        "\n",
        "#BLOCK_ADDRESS, CITY, ZIP all agree\n",
        "#Clearing EXTRAs\n",
        "temp_index = crime_data[crime_data['EXTRA_2']=='33767.0'].index\n",
        "crime_data.loc[temp_index,'EXTRA_1']=np.nan\n",
        "crime_data.loc[temp_index,'EXTRA_2']=np.nan\n",
        "\n",
        "#This set of data had ZIPs in the EXTRA columns and was mixing CITY names\n",
        "#CITY name TIERRA VERDE instead of ST PETERSBURG\n",
        "temp_index = crime_data[crime_data['EXTRA_2']=='33715.0'].index\n",
        "crime_data.loc[temp_index,'ZIP']='33715'\n",
        "crime_data.loc[temp_index,'CITY']='TIERRA VERDE'\n",
        "crime_data.loc[temp_index,'EXTRA_1']=np.nan\n",
        "crime_data.loc[temp_index,'EXTRA_2']=np.nan\n",
        "\n",
        "#This BLOCK ADDRESS gives a ST PETERSBURG city\n",
        "#and 33707 ZIP value.\n",
        "temp_index = crime_data[crime_data['EXTRA_2']=='33707.0'].index\n",
        "crime_data.loc[temp_index,'ZIP']='33707'\n",
        "crime_data.loc[temp_index,'CITY']='ST PETERSBURG'\n",
        "crime_data.loc[temp_index,'EXTRA_1']=np.nan\n",
        "crime_data.loc[temp_index,'EXTRA_2']=np.nan\n",
        "\n",
        "#This temp_index focused on TARPON SPRINGS\n",
        "#The addresses straddle the line between Tarpon Springs and Palm Harbor\n",
        "#Going to go with Tarpon Springs as the CITY and ZIP already match address-wise\n",
        "#ZIP needed fixing on one record. EXTRAs needed clearing\n",
        "temp_index = crime_data[(crime_data['EXTRA_2']=='34683.0')&(crime_data['CITY']=='TARPON SPRINGS')].index\n",
        "crime_data.loc[temp_index,'ZIP']='34689'\n",
        "crime_data.loc[temp_index,'EXTRA_1']=np.nan\n",
        "crime_data.loc[temp_index,'EXTRA_2']=np.nan\n",
        "\n",
        "#Two Madeira Beach records were missing ZIP and had them in EXTRA_2\n",
        "temp_index = crime_data[crime_data['EXTRA_2']=='33708.0'].index\n",
        "crime_data.loc[temp_index,'ZIP']='33708'\n",
        "crime_data.loc[temp_index,'EXTRA_1']=np.nan\n",
        "crime_data.loc[temp_index,'EXTRA_2']=np.nan\n",
        "\n",
        "#Treasure Island BLOCK_ADDRESS, CITY and ZIP line up\n",
        "#Clear the EXTRAs\n",
        "temp_index = crime_data[crime_data['EXTRA_2']=='33706.0'].index\n",
        "crime_data.loc[temp_index,'EXTRA_1']=np.nan\n",
        "crime_data.loc[temp_index,'EXTRA_2']=np.nan\n",
        "\n",
        "#This record has CLEARWATER BEACH as block_address\n",
        "#CLEARWATER as CITY and AVENUE as ZIP\n",
        "#Treating this as being on CLEARWATER BEACH\n",
        "temp_index = crime_data[crime_data['EXTRA_2']=='33759.0'].index\n",
        "crime_data.loc[temp_index,'ZIP']='33767'\n",
        "crime_data.loc[temp_index,'CITY']='CLEARWATER BEACH'\n",
        "crime_data.loc[temp_index,'EXTRA_1']=np.nan\n",
        "crime_data.loc[temp_index,'EXTRA_2']=np.nan\n",
        "\n",
        "#This UNINCORPORATED record would have PALM HARBOR as the CITY\n",
        "#Then the ZIP in EXTRA_2 would make sense\n",
        "temp_index = crime_data[(crime_data['EXTRA_2']=='34683.0')&(crime_data['CITY']=='UNINCORPORATED')].index\n",
        "crime_data.loc[temp_index,'ZIP']='34683'\n",
        "crime_data.loc[temp_index,'CITY']='PALM HARBOR'\n",
        "crime_data.loc[temp_index,'EXTRA_1']=np.nan\n",
        "crime_data.loc[temp_index,'EXTRA_2']=np.nan\n",
        "\n",
        "\n",
        "crime_data.drop(['EXTRA_2'],axis=1,inplace=True)"
      ],
      "metadata": {
        "id": "03rkGUNO0sDo"
      },
      "execution_count": null,
      "outputs": []
    },
    {
      "cell_type": "markdown",
      "source": [
        "####EXTRA_1 Fixes\n",
        "After all of the EXTRA_2 column is NaN,\n",
        " work to make all the EXTRA_1 column NaN"
      ],
      "metadata": {
        "id": "JWni9Ld6L3db"
      }
    },
    {
      "cell_type": "code",
      "source": [
        "#Recording fixes for EXTRA_1 Here\n",
        "\n",
        "#The records here all have the ZIP in EXTRA_1\n",
        "#Almost every single ZIP and CITY is DUNEDIN\n",
        "#Then a couple are UNINCORPORATED and PINELLAS SO\n",
        "temp_index = crime_data[crime_data['EXTRA_1']=='34698.0'].index\n",
        "crime_data.loc[temp_index,'ZIP']='34698'\n",
        "crime_data.loc[temp_index,'CITY']='DUNEDIN'\n",
        "crime_data.loc[temp_index,'EXTRA_1']=np.nan\n",
        "crime_data.loc[temp_index,'EXTRA_2']=np.nan\n",
        "\n",
        "#The records here all have the ZIP in EXTRA_1\n",
        "#Almost every single CITY and ZIP is TARPON SPRINGS\n",
        "#Then a couple are TARPON SPRINGS and PINELLAS SO\n",
        "temp_index = crime_data[crime_data['EXTRA_1']=='34689.0'].index\n",
        "crime_data.loc[temp_index,'ZIP']='34689'\n",
        "crime_data.loc[temp_index,'CITY']='TARPON SPRINGS'\n",
        "crime_data.loc[temp_index,'EXTRA_1']=np.nan\n",
        "crime_data.loc[temp_index,'EXTRA_2']=np.nan\n",
        "\n",
        "#The records here all have PINELLAS SO in EXTRA_1\n",
        "#Almost every single CITY is PALM HARBOR\n",
        "#A couple CITY values are UNINCORPORATED, which will get replaced by PALM HARBOR\n",
        "#ZIPs need to be fixed to not have '.0'\n",
        "temp_index = crime_data[crime_data['EXTRA_1']=='PINELLAS SO'].index\n",
        "crime_data.loc[temp_index,'ZIP']='34683'\n",
        "crime_data.loc[temp_index,'CITY']='PALM HARBOR'\n",
        "crime_data.loc[temp_index,'EXTRA_1']=np.nan\n",
        "crime_data.loc[temp_index,'EXTRA_2']=np.nan\n",
        "\n",
        "#The records here all have '33764.0' in EXTRA_1\n",
        "#Every single CITY is CLEARWATER\n",
        "#ZIPs need to be fixed from CLEARWATER to 33764\n",
        "temp_index = crime_data[crime_data['EXTRA_1']=='33764.0'].index\n",
        "crime_data.loc[temp_index,'ZIP']='33764'\n",
        "crime_data.loc[temp_index,'CITY']='CLEARWATER'\n",
        "crime_data.loc[temp_index,'EXTRA_1']=np.nan\n",
        "crime_data.loc[temp_index,'EXTRA_2']=np.nan\n",
        "\n",
        "#The records here all have '34689' in EXTRA_1\n",
        "#Every single CITY is TARPON SPRINGS\n",
        "#ZIPs need to be fixed from TARPON SPRINGS to 34689\n",
        "temp_index = crime_data[crime_data['EXTRA_1']=='34689'].index\n",
        "crime_data.loc[temp_index,'ZIP']='34689'\n",
        "crime_data.loc[temp_index,'CITY']='TARPON SPRINGS'\n",
        "crime_data.loc[temp_index,'EXTRA_1']=np.nan\n",
        "crime_data.loc[temp_index,'EXTRA_2']=np.nan\n",
        "\n",
        "#The records here all have '33715.0' in EXTRA_1\n",
        "#Every single CITY is ST PETERSBURG\n",
        "#ZIPs need to be fixed from ST PETERSBURG to 33715\n",
        "temp_index = crime_data[crime_data['EXTRA_1']=='33715.0'].index\n",
        "crime_data.loc[temp_index,'ZIP']='33715'\n",
        "crime_data.loc[temp_index,'CITY']='ST PETERSBURG'\n",
        "crime_data.loc[temp_index,'EXTRA_1']=np.nan\n",
        "crime_data.loc[temp_index,'EXTRA_2']=np.nan\n",
        "\n",
        "#The records here all have '33708.0' in EXTRA_1\n",
        "#CITY needs to be fixed from MADEIRA to MADEIRA BEACH\n",
        "#ZIPs need to be fixed from MADEIRA BEACH to 33708\n",
        "temp_index = crime_data[crime_data['EXTRA_1']=='33708.0'].index\n",
        "crime_data.loc[temp_index,'ZIP']='33708'\n",
        "crime_data.loc[temp_index,'CITY']='MADEIRA BEACH'\n",
        "crime_data.loc[temp_index,'EXTRA_1']=np.nan\n",
        "crime_data.loc[temp_index,'EXTRA_2']=np.nan\n",
        "\n",
        "#The records here all have '34683.0' in EXTRA_1\n",
        "#CITY needs to be fixed from UNINCORPORATED to PALM HARBOR\n",
        "#ZIPs need to be fixed from PINELLAS SO to 34683\n",
        "temp_index = crime_data[crime_data['EXTRA_1']=='34683.0'].index\n",
        "crime_data.loc[temp_index,'ZIP']='34683'\n",
        "crime_data.loc[temp_index,'CITY']='PALM HARBOR'\n",
        "crime_data.loc[temp_index,'EXTRA_1']=np.nan\n",
        "crime_data.loc[temp_index,'EXTRA_2']=np.nan\n",
        "\n",
        "#The records here all have '34677.0' in EXTRA_1\n",
        "#CITY needs to be fixed from FL to OLDSMAR\n",
        "#ZIPs need to be fixed from OLDSMAR to 34677\n",
        "temp_index = crime_data[crime_data['EXTRA_1']=='34677.0'].index\n",
        "crime_data.loc[temp_index,'ZIP']='34677'\n",
        "crime_data.loc[temp_index,'CITY']='OLDSMAR'\n",
        "crime_data.loc[temp_index,'EXTRA_1']=np.nan\n",
        "crime_data.loc[temp_index,'EXTRA_2']=np.nan\n",
        "\n",
        "#The records here all have '34698' in EXTRA_1\n",
        "#A CITY record needs to be fixed from UNINCORPORATED to DUNEDIN\n",
        "#ZIPs need to be fixed from DUNEDIN to 34698\n",
        "temp_index = crime_data[crime_data['EXTRA_1']=='34698'].index\n",
        "crime_data.loc[temp_index,'ZIP']='34698'\n",
        "crime_data.loc[temp_index,'CITY']='DUNEDIN'\n",
        "crime_data.loc[temp_index,'EXTRA_1']=np.nan\n",
        "crime_data.loc[temp_index,'EXTRA_2']=np.nan\n",
        "\n",
        "#The records here all have '33715' in EXTRA_1\n",
        "#ZIPs need to be fixed from ST PETERSBURG to 33715\n",
        "temp_index = crime_data[(crime_data['EXTRA_1']=='33715')&(crime_data['CITY']=='ST PETERSBURG')].index\n",
        "crime_data.loc[temp_index,'ZIP']='33715'\n",
        "crime_data.loc[temp_index,'CITY']='ST PETERSBURG'\n",
        "crime_data.loc[temp_index,'EXTRA_1']=np.nan\n",
        "crime_data.loc[temp_index,'EXTRA_2']=np.nan\n",
        "\n",
        "#The records here all have '34683' in EXTRA_1\n",
        "#CITY is UNINCORPORATED. Will change to PALM HARBOR\n",
        "#ZIPs need to be fixed from PINELLAS SO to 34683\n",
        "temp_index = crime_data[crime_data['EXTRA_1']=='34683'].index\n",
        "crime_data.loc[temp_index,'ZIP']='34683'\n",
        "crime_data.loc[temp_index,'CITY']='PALM HARBOR'\n",
        "crime_data.loc[temp_index,'EXTRA_1']=np.nan\n",
        "crime_data.loc[temp_index,'EXTRA_2']=np.nan\n",
        "\n",
        "#The records here all have '33715' in EXTRA_1\n",
        "#CITY is UNIN. Will change to TIERRA VERDE\n",
        "#ZIPs need to be fixed from PINELLAS SO to 33715\n",
        "temp_index = crime_data[crime_data['EXTRA_1']=='33715'].index\n",
        "crime_data.loc[temp_index,'ZIP']='33715'\n",
        "crime_data.loc[temp_index,'CITY']='TIERRA VERDE'\n",
        "crime_data.loc[temp_index,'EXTRA_1']=np.nan\n",
        "crime_data.loc[temp_index,'EXTRA_2']=np.nan\n",
        "\n",
        "#The records here all have '33761.0' in EXTRA_1\n",
        "#CITY is CLEARWATER\n",
        "#ZIPs need to be fixed from CLEARWATER to 33761\n",
        "temp_index = crime_data[crime_data['EXTRA_1']=='33761.0'].index\n",
        "crime_data.loc[temp_index,'ZIP']='33761'\n",
        "crime_data.loc[temp_index,'CITY']='CLEARWATER'\n",
        "crime_data.loc[temp_index,'EXTRA_1']=np.nan\n",
        "crime_data.loc[temp_index,'EXTRA_2']=np.nan\n",
        "\n",
        "#The records here all have '33707.0' in EXTRA_1\n",
        "#CITY is blank. Will fix to GULFPORT\n",
        "#ZIPs need to be fixed from GULFPORT to 33707\n",
        "temp_index = crime_data[(crime_data['EXTRA_1']=='33707.0')&(crime_data['ZIP']=='GULFPORT')].index\n",
        "crime_data.loc[temp_index,'ZIP']='33707'\n",
        "crime_data.loc[temp_index,'CITY']='GULFPORT'\n",
        "crime_data.loc[temp_index,'EXTRA_1']=np.nan\n",
        "crime_data.loc[temp_index,'EXTRA_2']=np.nan\n",
        "\n",
        "#The records here all have '33707.0' in EXTRA_1\n",
        "#CITY is SOUTH PASADENA\n",
        "#ZIPs need to be fixed from SOUTH PASADENA to 33707\n",
        "temp_index = crime_data[(crime_data['EXTRA_1']=='33707.0')&(crime_data['ZIP']=='SOUTH PASADENA')].index\n",
        "crime_data.loc[temp_index,'ZIP']='33707'\n",
        "crime_data.loc[temp_index,'CITY']='SOUTH PASADENA'\n",
        "crime_data.loc[temp_index,'EXTRA_1']=np.nan\n",
        "crime_data.loc[temp_index,'EXTRA_2']=np.nan\n",
        "\n",
        "#The records here all have '33756' in EXTRA_1\n",
        "#CITYs need to be fixed from FL to CLEARWATER\n",
        "#ZIPs need to be fixed from CLEARWATER to 33756\n",
        "temp_index = crime_data[crime_data['EXTRA_1']=='33756'].index\n",
        "crime_data.loc[temp_index,'ZIP']='33756'\n",
        "crime_data.loc[temp_index,'CITY']='CLEARWATER'\n",
        "crime_data.loc[temp_index,'EXTRA_1']=np.nan\n",
        "crime_data.loc[temp_index,'EXTRA_2']=np.nan\n",
        "\n",
        "#The records here all have '33755.0' in EXTRA_1\n",
        "#CITY is CLEARWATER\n",
        "#ZIPs need to be fixed from CLEARWATER to 33755\n",
        "temp_index = crime_data[crime_data['EXTRA_1']=='33755.0'].index\n",
        "crime_data.loc[temp_index,'ZIP']='33755'\n",
        "crime_data.loc[temp_index,'CITY']='CLEARWATER'\n",
        "crime_data.loc[temp_index,'EXTRA_1']=np.nan\n",
        "crime_data.loc[temp_index,'EXTRA_2']=np.nan\n",
        "\n",
        "#The records here all have '33710.0' in EXTRA_1\n",
        "#CITY is ST PETERSBURG\n",
        "#ZIPs need to be fixed from ST PETERSBURG to 33710\n",
        "temp_index = crime_data[crime_data['EXTRA_1']=='33710.0'].index\n",
        "crime_data.loc[temp_index,'ZIP']='33710'\n",
        "crime_data.loc[temp_index,'CITY']='ST PETERSBURG'\n",
        "crime_data.loc[temp_index,'EXTRA_1']=np.nan\n",
        "crime_data.loc[temp_index,'EXTRA_2']=np.nan\n",
        "\n",
        "#The records here all have '33763.0' in EXTRA_1\n",
        "#CITY needs to be fixed from blank to CLEARWATER\n",
        "#ZIPs need to be fixed from CLEARWATER to 33763\n",
        "temp_index = crime_data[crime_data['EXTRA_1']=='33763.0'].index\n",
        "crime_data.loc[temp_index,'ZIP']='33763'\n",
        "crime_data.loc[temp_index,'CITY']='CLEARWATER'\n",
        "crime_data.loc[temp_index,'EXTRA_1']=np.nan\n",
        "crime_data.loc[temp_index,'EXTRA_2']=np.nan\n",
        "\n",
        "#The records here all have '33707' in EXTRA_1 & SOUTH PASADENA in ZIP\n",
        "#CITY is SOUTH PASADENA\n",
        "#ZIPs need to be fixed from SOUTH PASADENA to 33707\n",
        "temp_index = crime_data[(crime_data['EXTRA_1']=='33707')&(crime_data['ZIP']=='SOUTH PASADENA')].index\n",
        "crime_data.loc[temp_index,'ZIP']='33707'\n",
        "crime_data.loc[temp_index,'CITY']='SOUTH PASADENA'\n",
        "crime_data.loc[temp_index,'EXTRA_1']=np.nan\n",
        "crime_data.loc[temp_index,'EXTRA_2']=np.nan\n",
        "\n",
        "#The records here all have '33706.0' in EXTRA_1\n",
        "#CITY needs to be fixed from 100 BLK 107TH AVE to TREASURE ISLAND\n",
        "#ZIPs need to be fixed from TREASURE ISLAND to 33706\n",
        "temp_index = crime_data[crime_data['EXTRA_1']=='33706.0'].index\n",
        "crime_data.loc[temp_index,'ZIP']='33706'\n",
        "crime_data.loc[temp_index,'CITY']='TREASURE ISLAND'\n",
        "crime_data.loc[temp_index,'EXTRA_1']=np.nan\n",
        "crime_data.loc[temp_index,'EXTRA_2']=np.nan\n",
        "\n",
        "#The two records here all have '33755' in EXTRA_1.\n",
        "#CITY will stay DUNEDIN\n",
        "#ZIPs need to be fixed from CLEARWATER and DUNEDIN to 33755\n",
        "temp_index = crime_data[crime_data['EXTRA_1']=='33755'].index\n",
        "crime_data.loc[temp_index,'ZIP']='33755'\n",
        "crime_data.loc[temp_index,'CITY']='DUNEDIN'\n",
        "crime_data.loc[temp_index,'EXTRA_1']=np.nan\n",
        "crime_data.loc[temp_index,'EXTRA_2']=np.nan\n",
        "\n",
        "#The two records here all have '33764' in EXTRA_1.\n",
        "#CITY will stay CLEARWATER\n",
        "#ZIPs need to be fixed from CLEARWATER to 33764\n",
        "temp_index = crime_data[crime_data['EXTRA_1']=='33764'].index\n",
        "crime_data.loc[temp_index,'ZIP']='33764'\n",
        "crime_data.loc[temp_index,'CITY']='CLEARWATER'\n",
        "crime_data.loc[temp_index,'EXTRA_1']=np.nan\n",
        "crime_data.loc[temp_index,'EXTRA_2']=np.nan\n",
        "\n",
        "#The two records here all have '33707' in EXTRA_1.\n",
        "#CITY needs to be fixed from blank to GULFPORT\n",
        "#ZIPs need to be fixed from GULFPORT to 33707\n",
        "temp_index = crime_data[crime_data['EXTRA_1']=='33707'].index\n",
        "crime_data.loc[temp_index,'ZIP']='33707'\n",
        "crime_data.loc[temp_index,'CITY']='GULFPORT'\n",
        "crime_data.loc[temp_index,'EXTRA_1']=np.nan\n",
        "crime_data.loc[temp_index,'EXTRA_2']=np.nan\n",
        "\n",
        "#The record here has '33765' in EXTRA_1.\n",
        "#CITY will stay CLEARWATER\n",
        "#ZIPs need to be fixed from CLEARWATER to 33765\n",
        "temp_index = crime_data[crime_data['EXTRA_1']=='33765'].index\n",
        "crime_data.loc[temp_index,'ZIP']='33765'\n",
        "crime_data.loc[temp_index,'CITY']='CLEARWATER'\n",
        "crime_data.loc[temp_index,'EXTRA_1']=np.nan\n",
        "crime_data.loc[temp_index,'EXTRA_2']=np.nan\n",
        "\n",
        "crime_data.drop(['EXTRA_1'],axis=1,inplace=True)\n"
      ],
      "metadata": {
        "id": "UgpPX0wfL2XA"
      },
      "execution_count": null,
      "outputs": []
    },
    {
      "cell_type": "markdown",
      "source": [
        "#4. Exporting Data"
      ],
      "metadata": {
        "id": "AyfXeiJD1ZZ7"
      }
    },
    {
      "cell_type": "markdown",
      "source": [
        "Here I will export the cleaned data for the PCPAO_SalesDATA and for sales16 into their own csv files."
      ],
      "metadata": {
        "id": "_ncrk02v1iPT"
      }
    },
    {
      "cell_type": "code",
      "source": [
        "PCPAO_SalesDATA.to_csv('/content/drive/MyDrive/Data Science Course/Capstone Work/Cleaned_Data/PCPAO_SalesDATA_cleaned.csv',index=False)\n"
      ],
      "metadata": {
        "id": "sOSAZ8X53kA3"
      },
      "execution_count": 96,
      "outputs": []
    },
    {
      "cell_type": "code",
      "source": [
        "sales16.to_csv('/content/drive/MyDrive/Data Science Course/Capstone Work/Cleaned_Data/sales16_cleaned.csv',index=False)"
      ],
      "metadata": {
        "id": "_mBOMSpj3tvc"
      },
      "execution_count": 97,
      "outputs": []
    }
  ]
}